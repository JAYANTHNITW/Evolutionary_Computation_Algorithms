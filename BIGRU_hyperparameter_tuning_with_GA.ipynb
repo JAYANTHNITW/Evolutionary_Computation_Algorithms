{
  "nbformat": 4,
  "nbformat_minor": 0,
  "metadata": {
    "colab": {
      "provenance": [],
      "authorship_tag": "ABX9TyP4vGiiqT58Z7yeCVNcRta9",
      "include_colab_link": true
    },
    "kernelspec": {
      "name": "python3",
      "display_name": "Python 3"
    },
    "language_info": {
      "name": "python"
    }
  },
  "cells": [
    {
      "cell_type": "markdown",
      "metadata": {
        "id": "view-in-github",
        "colab_type": "text"
      },
      "source": [
        "<a href=\"https://colab.research.google.com/github/JAYANTHNITW/Evolutionary_Computation_Algorithms/blob/main/BIGRU_hyperparameter_tuning_with_GA.ipynb\" target=\"_parent\"><img src=\"https://colab.research.google.com/assets/colab-badge.svg\" alt=\"Open In Colab\"/></a>"
      ]
    },
    {
      "cell_type": "code",
      "execution_count": 1,
      "metadata": {
        "id": "Unz4KT0Kmfow"
      },
      "outputs": [],
      "source": [
        "import numpy as np\n",
        "import pandas as pd\n",
        "from tensorflow import keras"
      ]
    },
    {
      "cell_type": "code",
      "source": [
        "df = pd.read_csv(\"/content/Dataset-Multitask1.csv\")"
      ],
      "metadata": {
        "id": "ZztgGc9ImqZJ"
      },
      "execution_count": 2,
      "outputs": []
    },
    {
      "cell_type": "code",
      "source": [
        "df.head()"
      ],
      "metadata": {
        "colab": {
          "base_uri": "https://localhost:8080/",
          "height": 206
        },
        "id": "lE_cJXz4nIhc",
        "outputId": "1fdbd76b-c24e-4a33-9df8-dc8b33621ed2"
      },
      "execution_count": 3,
      "outputs": [
        {
          "output_type": "execute_result",
          "data": {
            "text/plain": [
              "   Unnamed: 0                                               Text  Sarcasm  \\\n",
              "0           0  Peer-reviewed article that systematically deco...        0   \n",
              "1           1  Dealing with stress for children and youth liv...        0   \n",
              "2           2  Pandemic living is stressful for everyone, eve...        0   \n",
              "3           3  Stress leave, tears and insomnia: Greater Vict...        0   \n",
              "4           4  Stress leave, tears and insomnia: Greater Vict...        0   \n",
              "\n",
              "   Stress  \n",
              "0       1  \n",
              "1       1  \n",
              "2       1  \n",
              "3       1  \n",
              "4       1  "
            ],
            "text/html": [
              "\n",
              "  <div id=\"df-b7704425-243a-4419-8590-b90e5656ec50\" class=\"colab-df-container\">\n",
              "    <div>\n",
              "<style scoped>\n",
              "    .dataframe tbody tr th:only-of-type {\n",
              "        vertical-align: middle;\n",
              "    }\n",
              "\n",
              "    .dataframe tbody tr th {\n",
              "        vertical-align: top;\n",
              "    }\n",
              "\n",
              "    .dataframe thead th {\n",
              "        text-align: right;\n",
              "    }\n",
              "</style>\n",
              "<table border=\"1\" class=\"dataframe\">\n",
              "  <thead>\n",
              "    <tr style=\"text-align: right;\">\n",
              "      <th></th>\n",
              "      <th>Unnamed: 0</th>\n",
              "      <th>Text</th>\n",
              "      <th>Sarcasm</th>\n",
              "      <th>Stress</th>\n",
              "    </tr>\n",
              "  </thead>\n",
              "  <tbody>\n",
              "    <tr>\n",
              "      <th>0</th>\n",
              "      <td>0</td>\n",
              "      <td>Peer-reviewed article that systematically deco...</td>\n",
              "      <td>0</td>\n",
              "      <td>1</td>\n",
              "    </tr>\n",
              "    <tr>\n",
              "      <th>1</th>\n",
              "      <td>1</td>\n",
              "      <td>Dealing with stress for children and youth liv...</td>\n",
              "      <td>0</td>\n",
              "      <td>1</td>\n",
              "    </tr>\n",
              "    <tr>\n",
              "      <th>2</th>\n",
              "      <td>2</td>\n",
              "      <td>Pandemic living is stressful for everyone, eve...</td>\n",
              "      <td>0</td>\n",
              "      <td>1</td>\n",
              "    </tr>\n",
              "    <tr>\n",
              "      <th>3</th>\n",
              "      <td>3</td>\n",
              "      <td>Stress leave, tears and insomnia: Greater Vict...</td>\n",
              "      <td>0</td>\n",
              "      <td>1</td>\n",
              "    </tr>\n",
              "    <tr>\n",
              "      <th>4</th>\n",
              "      <td>4</td>\n",
              "      <td>Stress leave, tears and insomnia: Greater Vict...</td>\n",
              "      <td>0</td>\n",
              "      <td>1</td>\n",
              "    </tr>\n",
              "  </tbody>\n",
              "</table>\n",
              "</div>\n",
              "    <div class=\"colab-df-buttons\">\n",
              "\n",
              "  <div class=\"colab-df-container\">\n",
              "    <button class=\"colab-df-convert\" onclick=\"convertToInteractive('df-b7704425-243a-4419-8590-b90e5656ec50')\"\n",
              "            title=\"Convert this dataframe to an interactive table.\"\n",
              "            style=\"display:none;\">\n",
              "\n",
              "  <svg xmlns=\"http://www.w3.org/2000/svg\" height=\"24px\" viewBox=\"0 -960 960 960\">\n",
              "    <path d=\"M120-120v-720h720v720H120Zm60-500h600v-160H180v160Zm220 220h160v-160H400v160Zm0 220h160v-160H400v160ZM180-400h160v-160H180v160Zm440 0h160v-160H620v160ZM180-180h160v-160H180v160Zm440 0h160v-160H620v160Z\"/>\n",
              "  </svg>\n",
              "    </button>\n",
              "\n",
              "  <style>\n",
              "    .colab-df-container {\n",
              "      display:flex;\n",
              "      gap: 12px;\n",
              "    }\n",
              "\n",
              "    .colab-df-convert {\n",
              "      background-color: #E8F0FE;\n",
              "      border: none;\n",
              "      border-radius: 50%;\n",
              "      cursor: pointer;\n",
              "      display: none;\n",
              "      fill: #1967D2;\n",
              "      height: 32px;\n",
              "      padding: 0 0 0 0;\n",
              "      width: 32px;\n",
              "    }\n",
              "\n",
              "    .colab-df-convert:hover {\n",
              "      background-color: #E2EBFA;\n",
              "      box-shadow: 0px 1px 2px rgba(60, 64, 67, 0.3), 0px 1px 3px 1px rgba(60, 64, 67, 0.15);\n",
              "      fill: #174EA6;\n",
              "    }\n",
              "\n",
              "    .colab-df-buttons div {\n",
              "      margin-bottom: 4px;\n",
              "    }\n",
              "\n",
              "    [theme=dark] .colab-df-convert {\n",
              "      background-color: #3B4455;\n",
              "      fill: #D2E3FC;\n",
              "    }\n",
              "\n",
              "    [theme=dark] .colab-df-convert:hover {\n",
              "      background-color: #434B5C;\n",
              "      box-shadow: 0px 1px 3px 1px rgba(0, 0, 0, 0.15);\n",
              "      filter: drop-shadow(0px 1px 2px rgba(0, 0, 0, 0.3));\n",
              "      fill: #FFFFFF;\n",
              "    }\n",
              "  </style>\n",
              "\n",
              "    <script>\n",
              "      const buttonEl =\n",
              "        document.querySelector('#df-b7704425-243a-4419-8590-b90e5656ec50 button.colab-df-convert');\n",
              "      buttonEl.style.display =\n",
              "        google.colab.kernel.accessAllowed ? 'block' : 'none';\n",
              "\n",
              "      async function convertToInteractive(key) {\n",
              "        const element = document.querySelector('#df-b7704425-243a-4419-8590-b90e5656ec50');\n",
              "        const dataTable =\n",
              "          await google.colab.kernel.invokeFunction('convertToInteractive',\n",
              "                                                    [key], {});\n",
              "        if (!dataTable) return;\n",
              "\n",
              "        const docLinkHtml = 'Like what you see? Visit the ' +\n",
              "          '<a target=\"_blank\" href=https://colab.research.google.com/notebooks/data_table.ipynb>data table notebook</a>'\n",
              "          + ' to learn more about interactive tables.';\n",
              "        element.innerHTML = '';\n",
              "        dataTable['output_type'] = 'display_data';\n",
              "        await google.colab.output.renderOutput(dataTable, element);\n",
              "        const docLink = document.createElement('div');\n",
              "        docLink.innerHTML = docLinkHtml;\n",
              "        element.appendChild(docLink);\n",
              "      }\n",
              "    </script>\n",
              "  </div>\n",
              "\n",
              "\n",
              "<div id=\"df-2f4e13be-c80c-4bbb-b6eb-eba195c500c0\">\n",
              "  <button class=\"colab-df-quickchart\" onclick=\"quickchart('df-2f4e13be-c80c-4bbb-b6eb-eba195c500c0')\"\n",
              "            title=\"Suggest charts\"\n",
              "            style=\"display:none;\">\n",
              "\n",
              "<svg xmlns=\"http://www.w3.org/2000/svg\" height=\"24px\"viewBox=\"0 0 24 24\"\n",
              "     width=\"24px\">\n",
              "    <g>\n",
              "        <path d=\"M19 3H5c-1.1 0-2 .9-2 2v14c0 1.1.9 2 2 2h14c1.1 0 2-.9 2-2V5c0-1.1-.9-2-2-2zM9 17H7v-7h2v7zm4 0h-2V7h2v10zm4 0h-2v-4h2v4z\"/>\n",
              "    </g>\n",
              "</svg>\n",
              "  </button>\n",
              "\n",
              "<style>\n",
              "  .colab-df-quickchart {\n",
              "      --bg-color: #E8F0FE;\n",
              "      --fill-color: #1967D2;\n",
              "      --hover-bg-color: #E2EBFA;\n",
              "      --hover-fill-color: #174EA6;\n",
              "      --disabled-fill-color: #AAA;\n",
              "      --disabled-bg-color: #DDD;\n",
              "  }\n",
              "\n",
              "  [theme=dark] .colab-df-quickchart {\n",
              "      --bg-color: #3B4455;\n",
              "      --fill-color: #D2E3FC;\n",
              "      --hover-bg-color: #434B5C;\n",
              "      --hover-fill-color: #FFFFFF;\n",
              "      --disabled-bg-color: #3B4455;\n",
              "      --disabled-fill-color: #666;\n",
              "  }\n",
              "\n",
              "  .colab-df-quickchart {\n",
              "    background-color: var(--bg-color);\n",
              "    border: none;\n",
              "    border-radius: 50%;\n",
              "    cursor: pointer;\n",
              "    display: none;\n",
              "    fill: var(--fill-color);\n",
              "    height: 32px;\n",
              "    padding: 0;\n",
              "    width: 32px;\n",
              "  }\n",
              "\n",
              "  .colab-df-quickchart:hover {\n",
              "    background-color: var(--hover-bg-color);\n",
              "    box-shadow: 0 1px 2px rgba(60, 64, 67, 0.3), 0 1px 3px 1px rgba(60, 64, 67, 0.15);\n",
              "    fill: var(--button-hover-fill-color);\n",
              "  }\n",
              "\n",
              "  .colab-df-quickchart-complete:disabled,\n",
              "  .colab-df-quickchart-complete:disabled:hover {\n",
              "    background-color: var(--disabled-bg-color);\n",
              "    fill: var(--disabled-fill-color);\n",
              "    box-shadow: none;\n",
              "  }\n",
              "\n",
              "  .colab-df-spinner {\n",
              "    border: 2px solid var(--fill-color);\n",
              "    border-color: transparent;\n",
              "    border-bottom-color: var(--fill-color);\n",
              "    animation:\n",
              "      spin 1s steps(1) infinite;\n",
              "  }\n",
              "\n",
              "  @keyframes spin {\n",
              "    0% {\n",
              "      border-color: transparent;\n",
              "      border-bottom-color: var(--fill-color);\n",
              "      border-left-color: var(--fill-color);\n",
              "    }\n",
              "    20% {\n",
              "      border-color: transparent;\n",
              "      border-left-color: var(--fill-color);\n",
              "      border-top-color: var(--fill-color);\n",
              "    }\n",
              "    30% {\n",
              "      border-color: transparent;\n",
              "      border-left-color: var(--fill-color);\n",
              "      border-top-color: var(--fill-color);\n",
              "      border-right-color: var(--fill-color);\n",
              "    }\n",
              "    40% {\n",
              "      border-color: transparent;\n",
              "      border-right-color: var(--fill-color);\n",
              "      border-top-color: var(--fill-color);\n",
              "    }\n",
              "    60% {\n",
              "      border-color: transparent;\n",
              "      border-right-color: var(--fill-color);\n",
              "    }\n",
              "    80% {\n",
              "      border-color: transparent;\n",
              "      border-right-color: var(--fill-color);\n",
              "      border-bottom-color: var(--fill-color);\n",
              "    }\n",
              "    90% {\n",
              "      border-color: transparent;\n",
              "      border-bottom-color: var(--fill-color);\n",
              "    }\n",
              "  }\n",
              "</style>\n",
              "\n",
              "  <script>\n",
              "    async function quickchart(key) {\n",
              "      const quickchartButtonEl =\n",
              "        document.querySelector('#' + key + ' button');\n",
              "      quickchartButtonEl.disabled = true;  // To prevent multiple clicks.\n",
              "      quickchartButtonEl.classList.add('colab-df-spinner');\n",
              "      try {\n",
              "        const charts = await google.colab.kernel.invokeFunction(\n",
              "            'suggestCharts', [key], {});\n",
              "      } catch (error) {\n",
              "        console.error('Error during call to suggestCharts:', error);\n",
              "      }\n",
              "      quickchartButtonEl.classList.remove('colab-df-spinner');\n",
              "      quickchartButtonEl.classList.add('colab-df-quickchart-complete');\n",
              "    }\n",
              "    (() => {\n",
              "      let quickchartButtonEl =\n",
              "        document.querySelector('#df-2f4e13be-c80c-4bbb-b6eb-eba195c500c0 button');\n",
              "      quickchartButtonEl.style.display =\n",
              "        google.colab.kernel.accessAllowed ? 'block' : 'none';\n",
              "    })();\n",
              "  </script>\n",
              "</div>\n",
              "\n",
              "    </div>\n",
              "  </div>\n"
            ]
          },
          "metadata": {},
          "execution_count": 3
        }
      ]
    },
    {
      "cell_type": "code",
      "source": [
        "df.shape"
      ],
      "metadata": {
        "colab": {
          "base_uri": "https://localhost:8080/"
        },
        "id": "TFcqrKN6nKyo",
        "outputId": "fb96b9dd-beff-4f4e-b920-c16e2ba625b7"
      },
      "execution_count": 4,
      "outputs": [
        {
          "output_type": "execute_result",
          "data": {
            "text/plain": [
              "(7289, 4)"
            ]
          },
          "metadata": {},
          "execution_count": 4
        }
      ]
    },
    {
      "cell_type": "code",
      "source": [
        "df = df.drop('Unnamed: 0',axis=1)"
      ],
      "metadata": {
        "id": "dVXFMiHwnNkc"
      },
      "execution_count": 5,
      "outputs": []
    },
    {
      "cell_type": "code",
      "source": [
        "df.info()"
      ],
      "metadata": {
        "colab": {
          "base_uri": "https://localhost:8080/"
        },
        "id": "NE2a8CytnaGg",
        "outputId": "f3d3be4b-d3ab-42a1-9d4a-e255b81284f3"
      },
      "execution_count": 6,
      "outputs": [
        {
          "output_type": "stream",
          "name": "stdout",
          "text": [
            "<class 'pandas.core.frame.DataFrame'>\n",
            "RangeIndex: 7289 entries, 0 to 7288\n",
            "Data columns (total 3 columns):\n",
            " #   Column   Non-Null Count  Dtype \n",
            "---  ------   --------------  ----- \n",
            " 0   Text     7289 non-null   object\n",
            " 1   Sarcasm  7289 non-null   int64 \n",
            " 2   Stress   7289 non-null   int64 \n",
            "dtypes: int64(2), object(1)\n",
            "memory usage: 171.0+ KB\n"
          ]
        }
      ]
    },
    {
      "cell_type": "markdown",
      "source": [
        "Tokenization"
      ],
      "metadata": {
        "id": "7iNF0iewnccl"
      }
    },
    {
      "cell_type": "code",
      "source": [
        "from keras.preprocessing.text import Tokenizer\n",
        "tokenizer = Tokenizer()\n",
        "tokenizer.fit_on_texts(df['Text'])"
      ],
      "metadata": {
        "id": "oRJODmkFoplY"
      },
      "execution_count": 8,
      "outputs": []
    },
    {
      "cell_type": "code",
      "source": [
        "x = tokenizer.texts_to_sequences(df['Text'])"
      ],
      "metadata": {
        "id": "eRcV2uLIpdSf"
      },
      "execution_count": 10,
      "outputs": []
    },
    {
      "cell_type": "code",
      "source": [
        "vocabulary = tokenizer.word_index\n",
        "print(len(tokenizer.word_index))"
      ],
      "metadata": {
        "colab": {
          "base_uri": "https://localhost:8080/"
        },
        "id": "yshhQhFbpnrJ",
        "outputId": "91ce182a-9f6d-460d-f1c4-b57bead17151"
      },
      "execution_count": 28,
      "outputs": [
        {
          "output_type": "stream",
          "name": "stdout",
          "text": [
            "6972\n"
          ]
        }
      ]
    },
    {
      "cell_type": "code",
      "source": [
        "from keras.utils import pad_sequences\n",
        "maxlen=25\n",
        "x_paded = pad_sequences(x,maxlen=25,padding='post')"
      ],
      "metadata": {
        "id": "hEMwAArwqYPQ"
      },
      "execution_count": 13,
      "outputs": []
    },
    {
      "cell_type": "code",
      "source": [
        "import gensim\n",
        "!wget nlp.stanford.edu/data/glove.6B.zip"
      ],
      "metadata": {
        "colab": {
          "base_uri": "https://localhost:8080/"
        },
        "id": "v37WmP1nrtm9",
        "outputId": "d1e452d3-25f9-43d0-c9f8-037e79bd6939"
      },
      "execution_count": 14,
      "outputs": [
        {
          "output_type": "stream",
          "name": "stdout",
          "text": [
            "--2023-12-17 12:11:33--  http://nlp.stanford.edu/data/glove.6B.zip\n",
            "Resolving nlp.stanford.edu (nlp.stanford.edu)... 171.64.67.140\n",
            "Connecting to nlp.stanford.edu (nlp.stanford.edu)|171.64.67.140|:80... connected.\n",
            "HTTP request sent, awaiting response... 302 Found\n",
            "Location: https://nlp.stanford.edu/data/glove.6B.zip [following]\n",
            "--2023-12-17 12:11:33--  https://nlp.stanford.edu/data/glove.6B.zip\n",
            "Connecting to nlp.stanford.edu (nlp.stanford.edu)|171.64.67.140|:443... connected.\n",
            "HTTP request sent, awaiting response... 301 Moved Permanently\n",
            "Location: https://downloads.cs.stanford.edu/nlp/data/glove.6B.zip [following]\n",
            "--2023-12-17 12:11:33--  https://downloads.cs.stanford.edu/nlp/data/glove.6B.zip\n",
            "Resolving downloads.cs.stanford.edu (downloads.cs.stanford.edu)... 171.64.64.22\n",
            "Connecting to downloads.cs.stanford.edu (downloads.cs.stanford.edu)|171.64.64.22|:443... connected.\n",
            "HTTP request sent, awaiting response... 200 OK\n",
            "Length: 862182613 (822M) [application/zip]\n",
            "Saving to: ‘glove.6B.zip’\n",
            "\n",
            "glove.6B.zip        100%[===================>] 822.24M  5.01MB/s    in 2m 38s  \n",
            "\n",
            "2023-12-17 12:14:12 (5.19 MB/s) - ‘glove.6B.zip’ saved [862182613/862182613]\n",
            "\n"
          ]
        }
      ]
    },
    {
      "cell_type": "code",
      "source": [
        "!unzip glove*.zip"
      ],
      "metadata": {
        "colab": {
          "base_uri": "https://localhost:8080/"
        },
        "id": "TLxC2A5msFwQ",
        "outputId": "b38101c3-49cb-4c55-c180-fb1d68b18f46"
      },
      "execution_count": 15,
      "outputs": [
        {
          "output_type": "stream",
          "name": "stdout",
          "text": [
            "Archive:  glove.6B.zip\n",
            "  inflating: glove.6B.50d.txt        \n",
            "  inflating: glove.6B.100d.txt       \n",
            "  inflating: glove.6B.200d.txt       \n",
            "  inflating: glove.6B.300d.txt       \n"
          ]
        }
      ]
    },
    {
      "cell_type": "code",
      "source": [
        "from gensim.scripts.glove2word2vec import glove2word2vec"
      ],
      "metadata": {
        "id": "FBoUNCXmsfX6"
      },
      "execution_count": 22,
      "outputs": []
    },
    {
      "cell_type": "code",
      "source": [
        "glove_input_file = \"glove.6B.100d.txt\""
      ],
      "metadata": {
        "id": "a77Nl9n_tCbN"
      },
      "execution_count": 17,
      "outputs": []
    },
    {
      "cell_type": "code",
      "source": [
        "glove_output_file = \"word2vec.txt\""
      ],
      "metadata": {
        "id": "qH1xKOwKtKuQ"
      },
      "execution_count": 18,
      "outputs": []
    },
    {
      "cell_type": "code",
      "source": [
        "glove2word2vec(glove_input_file,glove_output_file)"
      ],
      "metadata": {
        "colab": {
          "base_uri": "https://localhost:8080/"
        },
        "id": "OMd9ggirtNkM",
        "outputId": "0a05ab91-7bdd-4dda-821e-fed11036db36"
      },
      "execution_count": 23,
      "outputs": [
        {
          "output_type": "stream",
          "name": "stderr",
          "text": [
            "<ipython-input-23-13f14740c424>:1: DeprecationWarning: Call to deprecated `glove2word2vec` (KeyedVectors.load_word2vec_format(.., binary=False, no_header=True) loads GLoVE text vectors.).\n",
            "  glove2word2vec(glove_input_file,glove_output_file)\n"
          ]
        },
        {
          "output_type": "execute_result",
          "data": {
            "text/plain": [
              "(400000, 100)"
            ]
          },
          "metadata": {},
          "execution_count": 23
        }
      ]
    },
    {
      "cell_type": "code",
      "source": [
        "y1 = df['Sarcasm']\n",
        "y2 = df['Stress']"
      ],
      "metadata": {
        "id": "YzMkBp8ltnrb"
      },
      "execution_count": 25,
      "outputs": []
    },
    {
      "cell_type": "code",
      "source": [
        "from sklearn.model_selection import train_test_split\n",
        "x_train, x_val, y_train_task1, y_val_task1, y_train_task2, y_val_task2 = train_test_split(\n",
        "    x_paded, y1, y2, test_size=0.2, random_state=42)"
      ],
      "metadata": {
        "id": "OxB7DN-axuGg"
      },
      "execution_count": 26,
      "outputs": []
    },
    {
      "cell_type": "code",
      "source": [
        "print(f\"x_train shape {x_train.shape}\")\n",
        "print(f\"x_val shape {x_val.shape}\")\n",
        "print(f\"y_train_task1 shape {y_train_task1.shape}\")\n",
        "print(f\"y_train_task2 shape {y_train_task2.shape}\")\n",
        "print(f\"y_val_task1 shape {y_val_task1.shape}\")\n",
        "print(f\"y_val_task2 shape {y_val_task2.shape}\")"
      ],
      "metadata": {
        "colab": {
          "base_uri": "https://localhost:8080/"
        },
        "id": "jvwtV5JGydqf",
        "outputId": "be13333e-70a7-4fe9-dc94-18a192706254"
      },
      "execution_count": 27,
      "outputs": [
        {
          "output_type": "stream",
          "name": "stdout",
          "text": [
            "x_train shape (5831, 25)\n",
            "x_val shape (1458, 25)\n",
            "y_train_task1 shape (5831,)\n",
            "y_train_task2 shape (5831,)\n",
            "y_val_task1 shape (1458,)\n",
            "y_val_task2 shape (1458,)\n"
          ]
        }
      ]
    },
    {
      "cell_type": "code",
      "source": [
        "print(vocabulary)"
      ],
      "metadata": {
        "colab": {
          "base_uri": "https://localhost:8080/"
        },
        "id": "1rszfW2N1GU2",
        "outputId": "e4210381-694b-4a3a-c0df-caa076dbe5cf"
      },
      "execution_count": 29,
      "outputs": [
        {
          "output_type": "stream",
          "name": "stdout",
          "text": [
            "{'co': 1, 'https': 2, 't': 3, 'the': 4, 'covid': 5, '19': 6, 'to': 7, 'stress': 8, 'of': 9, 'and': 10, 'a': 11, 'in': 12, 'for': 13, 'are': 14, 'is': 15, 'with': 16, 'on': 17, 'as': 18, 'pandemic': 19, 'you': 20, 'health': 21, 'has': 22, 'relax': 23, 'at': 24, 'that': 25, 'during': 26, 'this': 27, 'have': 28, 'be': 29, 'we': 30, 'can': 31, 'it': 32, 'people': 33, 'from': 34, 'mental': 35, 'anxiety': 36, 'i': 37, 'by': 38, 'but': 39, 'our': 40, 'not': 41, 'more': 42, 'how': 43, 'their': 44, 'been': 45, 'your': 46, 'new': 47, 'amp': 48, 'about': 49, 'help': 50, 'many': 51, 'vaccine': 52, 'against': 53, 'an': 54, 'if': 55, 'some': 56, 'us': 57, 'time': 58, 'due': 59, 'teachers': 60, 'all': 61, 'need': 62, 'up': 63, 'take': 64, '…': 65, 'my': 66, 'kids': 67, 'year': 68, 'public': 69, 'or': 70, 'will': 71, 'one': 72, 'what': 73, 'than': 74, 'via': 75, 'were': 76, 'seems': 77, 'doctors': 78, 'rising': 79, 'so': 80, 'after': 81, 'get': 82, 'increased': 83, 'out': 84, 'levels': 85, 'who': 86, 'covid19': 87, 'off': 88, 'number': 89, 'they': 90, 'high': 91, 'being': 92, 'edge': 93, 'students': 94, \"what's\": 95, 'workers': 96, 'was': 97, 'grabbing': 98, '“adult': 99, 'beverages”': 100, 'your…': 101, 'coping': 102, '2': 103, 'care': 104, 'research': 105, 'restrictions': 106, 'do': 107, 'no': 108, 'trials': 109, 'vaccinate': 110, 'here': 111, 'ramp': 112, 'now': 113, 'patients': 114, 'feeling': 115, 'had': 116, 'because': 117, 'there': 118, 'measures': 119, 'grief': 120, 'work': 121, 'why': 122, 'news': 123, 'feel': 124, 'school': 125, 'depression': 126, 'well': 127, 'say': 128, 'already': 129, 'poor': 130, 'cases': 131, 'officials': 132, 'support': 133, 'like': 134, 'first': 135, 'cope': 136, 'day': 137, 'part': 138, 'test': 139, 'social': 140, 'lockdown': 141, 'parents': 142, 'past': 143, 'a…': 144, 'manage': 145, 'even': 146, 'home': 147, 'life': 148, 'hit': 149, 'quality': 150, 'today': 151, 'important': 152, 'online': 153, 'over': 154, 'isolation': 155, 'survey': 156, 'pfizer': 157, 'when': 158, 'just': 159, 'you’re': 160, 'leaving': 161, 'related': 162, 'face': 163, 'use': 164, 'then': 165, 'children': 166, 'dr': 167, 'severe': 168, 'struggling': 169, 'u': 170, 'those': 171, 'editors': 172, 'disorder': 173, 's': 174, 'the…': 175, 'know': 176, 'colleges': 177, 'responsibilities': 178, 'financial': 179, 'may': 180, 'journal': 181, 'md': 182, 'still': 183, 'set': 184, 'dealing': 185, 'nurse': 186, 'americans': 187, 'way': 188, 'speak': 189, 'tips': 190, 'could': 191, 'crisis': 192, 'since': 193, 'challenges': 194, 'deaths': 195, 'under': 196, 'before': 197, 'rally': 198, \"don't\": 199, 'these': 200, 'its': 201, 'rates': 202, 'make': 203, '1': 204, 'responsible': 205, 'daily': 206, 'most': 207, 'infection': 208, 'also': 209, 'caused': 210, 'other': 211, 'free': 212, 'learn': 213, 'coronavirus': 214, 'next': 215, 'to…': 216, 'return': 217, 'profession': 218, '—': 219, 'yourself': 220, 'it’s': 221, 'join': 222, 'deal': 223, '2021': 224, 'found': 225, '3': 226, 'only': 227, 'working': 228, \"it's\": 229, 'study': 230, 'me': 231, 'back': 232, 'student': 233, 'going': 234, 'says': 235, 'experience': 236, 'canada': 237, 'burnout': 238, 'while': 239, 'level': 240, 'much': 241, 'want': 242, 'across': 243, 'good': 244, 'lot': 245, 'million': 246, 'healthcare': 247, 'continue': 248, 'forced': 249, 'outbreak': 250, 'long': 251, 'disease': 252, 'down': 253, 'biontech': 254, 'recognize': 255, 'should': 256, 'impact': 257, 'any': 258, 'posttraumatic': 259, 'too': 260, 'rules': 261, 'where': 262, '2020': 263, 'importance': 264, 'see': 265, 'which': 266, 'job': 267, 'am': 268, 'medical': 269, 'he': 270, 'got': 271, 'fauci': 272, 'low': 273, 'among': 274, 'black': 275, 'asked': 276, 'loss': 277, 'quit': 278, 'call': 279, 'travel': 280, 'vaccinations': 281, 't…': 282, 'business': 283, 'month': 284, 'management': 285, 'great': 286, 'go': 287, 'said': 288, 'world': 289, 'opioid': 290, 'pay': 291, 'frontline': 292, 'sure': 293, 'staff': 294, 'emotional': 295, 'child': 296, 'possible': 297, 'traumatic': 298, 'available': 299, 'yet': 300, 'reduce': 301, 'friday': 302, 'top': 303, 'created': 304, 'ways': 305, 's…': 306, 'heart': 307, 'symptoms': 308, 'experts': 309, 'less': 310, 'months': 311, 'ever': 312, 'did': 313, 'experiencing': 314, 'continues': 315, 'article': 316, 'stressful': 317, 'worry': 318, 'check': 319, 'employees': 320, 'system': 321, 'leadership': 322, 'businesses': 323, 'please': 324, 'loved': 325, 'warn': 326, 'often': 327, 'would': 328, 'executives': 329, 'looks': 330, 'psychological': 331, 'living': 332, 'everyone': 333, 'something': 334, 'especially': 335, 'find': 336, 'taking': 337, 'effects': 338, 'epidemic': 339, 'situation': 340, 'navy': 341, 'requirements': 342, 'voxdotcom': 343, 'impacts': 344, \"i'm\": 345, 'wellbeing': 346, 'think': 347, 'inc': 348, 'resilience': 349, 'leave': 350, 'them': 351, 'caring': 352, 'point': 353, 'science': 354, '5': 355, '12': 356, 'post': 357, 'guide': 358, 'personal': 359, 'expected': 360, 'hair': 361, 'gov': 362, 'healthy': 363, 'let': 364, 'women': 365, 'associated': 366, '4': 367, 'o…': 368, 'soon': 369, 'wednesday': 370, 'nearly': 371, 'wsj': 372, 'strain': 373, 'caregivers': 374, 'risk': 375, 'state': 376, 'vaccines': 377, 'e…': 378, 'allow': 379, 'cdc': 380, 'expects': 381, 'feb': 382, 'reaching': 383, 'stay': 384, 'read': 385, 'economic': 386, 'made': 387, 'february': 388, 'nurses': 389, 'lower': 390, 'two': 391, 'food': 392, 'tears': 393, 'fear': 394, 'finance': 395, 'update': 396, 'co…': 397, 'group': 398, 'causing': 399, 'difficult': 400, 'cnn': 401, 'issues': 402, 'cancer': 403, 'place': 404, 'suffering': 405, 'se': 406, 'ontario': 407, 'prevent': 408, 'lessons…': 409, 'brought': 410, 'consciousness': 411, 'positive': 412, 'recover': 413, 'apps': 414, 'parts': 415, 'pm': 416, 'causes': 417, 'reasons': 418, 'physical': 419, 'every': 420, 'very': 421, \"that's\": 422, 'issue': 423, 'released': 424, 'crews': 425, '100': 426, 'ok': 427, 'sea': 428, 'better': 429, 'felt': 430, 'community': 431, 'stressed': 432, 'states': 433, 'immune': 434, 'toll': 435, 'into': 436, 'put': 437, 'according': 438, 'greater': 439, 'ago': 440, 'education': 441, 'worth': 442, 'result': 443, 'second': 444, 'vaccination': 445, 'normal': 446, 'last': 447, 'getting': 448, 'government': 449, 'insomnia': 450, 'victoria': 451, \"you're\": 452, 'basic': 453, 'things': 454, 'both': 455, 'hard': 456, 'enough': 457, 'we’re': 458, 'trying': 459, 'virus': 460, 'increase': 461, 'his': 462, \"doesn't\": 463, 'keep': 464, 'd…': 465, 'impacted': 466, 'pre': 467, 'eclipsed': 468, 'hasn’t': 469, 'abated': 470, 'as…': 471, \"'summer\": 472, \"play'\": 473, 'english': 474, 'pupils': 475, 'loneliness': 476, 'from…': 477, 'through': 478, 'current': 479, 'i…': 480, 'cause': 481, 'we…': 482, 'half': 483, 'series': 484, 'oxidative': 485, 'psychology': 486, 'h…': 487, 'residents': 488, 'spring': 489, 'regulator': 490, 'knowing': 491, 'pretty': 492, 'expert': 493, '19…': 494, 'making': 495, 'likely': 496, 'happy': 497, 'jobs': 498, 'wave': 499, 'self': 500, 'pandemic…': 501, 'strategies': 502, 'covid…': 503, 'myself': 504, 'despite': 505, 'throughout': 506, 'managing': 507, 'almost': 508, 'stress…': 509, 'helpful': 510, 'mindfulness': 511, 'covi…': 512, 'webinar': 513, 'such': 514, 'able': 515, 'focus': 516, 'hold': 517, 'and…': 518, 'ready': 519, 'further': 520, 'others': 521, 'days': 522, 'vaccinated': 523, 'w…': 524, \"we're\": 525, 'mentalhealth': 526, 'text': 527, 'youth': 528, 'increasing': 529, 'higher': 530, 'trauma': 531, 'suggests': 532, 'uncertainty': 533, 'd': 534, 'fighting': 535, 'by…': 536, 'substance': 537, 'spread': 538, 'same': 539, 'offli…': 540, 'th…': 541, 'case': 542, 'times': 543, 'm': 544, 'putting': 545, 'relieve': 546, 'sleep': 547, 'registration': 548, 'meaningful': 549, 'resurgence': 550, 'facing': 551, 'begin': 552, 'older': 553, 'her': 554, 'c…': 555, 'unnecessary': 556, 'exposure': 557, 'pcr': 558, 'nature': 559, 'american': 560, 'week': 561, '19\\xa0measures': 562, 'huge': 563, 'start': 564, 'few': 565, 'really': 566, 'changed': 567, 'pain': 568, 'global': 569, 'event': 570, 'single': 571, 'excessive': 572, 'around': 573, 'family': 574, '24': 575, 'emts': 576, 'lives': 577, 'tests': 578, '30': 579, 'report': 580, 'far': 581, 'b…': 582, 'findings': 583, 'weekend': 584, 'rise': 585, 'fatigue': 586, 'led': 587, 'adults': 588, 'improve': 589, 'used': 590, 'effect': 591, 'common': 592, 'register': 593, 'families': 594, 'centers': 595, '12th': 596, 'talk': 597, 'full': 598, 'lesson': 599, 'afraid': 600, 'systems': 601, 'country': 602, 'shoul…': 603, 'advice': 604, 'try': 605, 'miss': 606, 'flu': 607, 'schooling': 608, 'guidelines': 609, '1…': 610, 'including': 611, 'pushing': 612, 'therapy': 613, 'thank': 614, 'unprecedented': 615, 'hear': 616, 'real': 617, 'principals': 618, 'another': 619, 'virtual': 620, 'variable': 621, 'models': 622, 'spreading': 623, 'she': 624, 'lead': 625, 'national': 626, '“it’s': 627, 'exams': 628, 'october': 629, 'preparing': 630, 'exhaustion': 631, 'mask': 632, 'own': 633, 'different': 634, 'numbers': 635, 'secondary': 636, 'significant': 637, 'communities': 638, 'su…': 639, 'watch': 640, 'worse': 641, 'chronic': 642, 'resources': 643, 'banks': 644, 'shows': 645, 'drop': 646, 'peer': 647, 'zoom': 648, 'st…': 649, 'aren’t': 650, 'foundations': 651, '10': 652, 'does': 653, 'everything': 654, 'general': 655, 'line': 656, \"can't\": 657, 'icymi': 658, 'doses': 659, 'battle': 660, 'reduced': 661, 'yesterday': 662, 'don’t': 663, 'brings': 664, 'area': 665, 'extra': 666, 'small': 667, 'doing': 668, 'critical': 669, 'demand': 670, 'recent': 671, 'official': 672, 'entire': 673, 'guidance': 674, 'canadians': 675, 'class': 676, 'amid': 677, 'death': 678, 'totally': 679, 'called': 680, 'pregnancy': 681, 'hope': 682, 'early': 683, 'ind': 684, 'ra': 685, 'yes': 686, 'tomorrow': 687, 'process': 688, 'bring': 689, 'leaders': 690, 'steps': 691, 'diagnosis': 692, 'offer': 693, 'evidence': 694, 'interesting': 695, 'experienced': 696, 'shares': 697, 'reminder': 698, '19”': 699, 'tough': 700, 'tools': 701, 'makes': 702, 'gathering': 703, 'of…': 704, 'economy': 705, 'relaxed': 706, 'jim': 707, 'decision': 708, 'viruses': 709, 'helping': 710, 'rate': 711, 'reported': 712, 'media': 713, 'i’m': 714, 'safe': 715, 'testing': 716, 'italian': 717, 'must': 718, 'calls': 719, 'talking': 720, 'scheeringa': 721, 'brink': 722, 'without': 723, 'published': 724, 'paper': 725, 'p…': 726, 'ptsd': 727, 'cov…': 728, '15': 729, 'human': 730, 'might': 731, 'build': 732, 'industry': 733, 'worried': 734, 'limit': 735, 'activity': 736, 'fi': 737, 'independent': 738, 'matric': 739, 'canadian': 740, 'std': 741, '10th': 742, \"i've\": 743, 'term': 744, 'undue': 745, 'becau…': 746, 'tuesday': 747, 'sees': 748, 'south': 749, 'sit': 750, 'anthony': 751, 'spanish': 752, 'regions': 753, 'understanding': 754, 'emergency': 755, 'looking': 756, 'needed': 757, 'panic': 758, 'main': 759, 'dose': 760, 're…': 761, 'director': 762, 'right': 763, 'with…': 764, 'sa…': 765, 'bank': 766, 'discover': 767, 'share': 768, 'prevention': 769, 'an…': 770, 'problems': 771, 'iie': 772, 'stigma': 773, 'affect': 774, 'access': 775, 'yoga': 776, 'urges': 777, 'per': 778, 'told': 779, 'dropping': 780, 'r…': 781, '7': 782, 'morning': 783, 'left': 784, 'induced': 785, 'away': 786, 'recently': 787, 'fall': 788, 'payments': 789, 'endured': 790, 'young': 791, 'men': 792, 'learning': 793, 'goes': 794, 'distributed': 795, 'north': 796, 'carolina': 797, 'exacerbated': 798, 'end': 799, 'review': 800, 'county': 801, 'college': 802, '“the': 803, 'suicide': 804, 'lack': 805, 'deep': 806, 'can’t': 807, 'step': 808, 'tip': 809, 'having': 810, 'proven': 811, 'cbc': 812, 'andy': 813, 'beshear': 814, 'kentucky': 815, 'progress': 816, 'save': 817, 'spain': 818, 'breaking': 819, 'following': 820, 'alcohol': 821, 'until': 822, 'friend': 823, 'add': 824, 'this…': 825, 'ongoing': 826, 'shown': 827, 'celebrate': 828, 'beginning': 829, 'thought': 830, 'remember': 831, 'topped': 832, 'randcorporation': 833, 'finds': 834, 'parenting': 835, '000': 836, 'digital': 837, 'anxious': 838, 'announced': 839, 'potential': 840, 'nursing': 841, 'e': 842, 'came': 843, 'f…': 844, 'president': 845, '21': 846, 'practitioners': 847, 'dat…': 848, 'paramedics': 849, 'service': 850, 'receiving': 851, 'given': 852, 'program': 853, 'helped': 854, 'include': 855, 'third': 856, 'rather': 857, 'owners': 858, 'seen': 859, '–': 860, 'break': 861, 'resilient': 862, 'unemployment': 863, 'problem': 864, '“i': 865, 'inside': 866, 'contact': 867, 'assess': 868, 'hours': 869, 'gap': 870, 'episode': 871, 'quarantine': 872, 'growth': 873, '‘managing': 874, '19’': 875, 'psychotherapist': 876, 'chat': 877, 're': 878, 'minister': 879, 'results': 880, 'change': 881, 'open': 882, 'turning': 883, '”': 884, 'ideas': 885, 'big': 886, 'endure': 887, 'alone': 888, 'est': 889, 'wearing': 890, 'influenza': 891, 'partner': 892, 'violence': 893, 'aware': 894, 'paranoia': 895, 'topic': 896, 'mind': 897, 'reach': 898, 'vitamin': 899, 'you…': 900, 'pressure': 901, 'w': 902, 'march': 903, 'wi…': 904, 'hardship': 905, 'abuse': 906, 'maintaining': 907, '800': 908, 'nasal': 909, 'spray': 910, 'app…': 911, 'non': 912, 'conditions': 913, 'concern': 914, 'guardian': 915, 'bars': 916, 'understand': 917, 'rollout': 918, 'remote': 919, 'alerts': 920, 'received': 921, 'hong': 922, 'kong': 923, 'midnight': 924, \"'tapering\": 925, \"off'\": 926, 'plummet': 927, 'africa': 928, 'infectious': 929, 'elpaisinenglish': 930, 'diabetes': 931, 'fitness…': 932, 'between': 933, '26th': 934, \"there's\": 935, \"i'll\": 936, 'thursday': 937, \"'it\": 938, \"it'\": 939, \"york's\": 940, 'hospital': 941, 'ca…': 942, 'aaas': 943, 'continued': 944, 'gt': 945, 'ages': 946, 'productivity': 947, 'federal': 948, 'music': 949, 'gestion': 950, 'sanitaire': 951, 'vaccins': 952, 'arn': 953, \"l'analyse\": 954, 'youtube': 955, 'training': 956, 'workplace': 957, 'city': 958, 'reporting': 959, 'supporting': 960, 'suggest': 961, 'center': 962, 'factors': 963, 'come': 964, 'schools': 965, 'leading': 966, 'ireland': 967, 'adding': 968, 'struggle': 969, 'roll': 970, 'handling': 971, 'outcomes': 972, 'bay': 973, 'disruption': 974, 'uncertain': 975, 'psychtoday': 976, 'discussion': 977, 'developed': 978, 'need…': 979, '8': 980, 'trial': 981, 'individuals': 982, 'v…': 983, 'stop': 984, 'again': 985, 'thanks': 986, 'currently': 987, 'study…': 988, 'launched': 989, 'po…': 990, 'is…': 991, 'link': 992, 'clear': 993, 'emphasis': 994, 'prioritizing': 995, 'suffered': 996, 'development': 997, 'significantly': 998, 'ab…': 999, 'body': 1000, 'cortisol': 1001, 'grooming': 1002, 'glossary': 1003, 'asks': 1004, 'hormone': 1005, 'puts…': 1006, 'extended': 1007, 'cells': 1008, \"aren't\": 1009, 'du…': 1010, 'seeing': 1011, 'health…': 1012, 'safety': 1013, 'diseases': 1014, 'professionals': 1015, 'local': 1016, 'programme': 1017, 'wow': 1018, 'completely': 1019, \"here's\": 1020, 'jama': 1021, 'reason': 1022, 'together': 1023, 'live': 1024, 'reducing': 1025, 'jamapsych': 1026, 'decrease': 1027, 'affected': 1028, 'u…': 1029, '02': 1030, 'snapchat': 1031, 'bread': 1032, 'overwhelmed': 1033, 'centre': 1034, 'ha': 1035, 'appointment': 1036, '22': 1037, 'services': 1038, 'on…': 1039, 'et': 1040, 'era': 1041, 'affects': 1042, 'brain': 1043, '44': 1044, \"we'll\": 1045, 'cannot': 1046, '200': 1047, 'insights': 1048, 'fit': 1049, 'uk': 1050, 'treatment': 1051, 'p': 1052, 'inflammation': 1053, 'data': 1054, 'masks': 1055, 'stories': 1056, 'outside': 1057, 'obesity': 1058, 'role': 1059, 'thing': 1060, 'relief': 1061, 'three': 1062, 'him': 1063, 'concerns': 1064, 'comfort': 1065, 'couple': 1066, 'in…': 1067, 'club': 1068, 'presenting': 1069, '☏': 1070, 'racism': 1071, 'psychiatry': 1072, 'departments': 1073, 'response': 1074, 'drug': 1075, 'jamanetwork': 1076, 'fight': 1077, 'poll': 1078, 'he…': 1079, 'm…': 1080, 'variants': 1081, 'vigilance': 1082, 'special': 1083, 'blog': 1084, 'sense': 1085, 'type': 1086, 'ones': 1087, '26': 1088, 'weekly': 1089, 'l…': 1090, 'prepared': 1091, \"today's\": 1092, 'dear': 1093, 'excited': 1094, 'helps': 1095, 'holding': 1096, 'ask': 1097, \"children's\": 1098, 'wellness': 1099, 'simply': 1100, 'fact': 1101, 'designed': 1102, 'humble': 1103, 'that’s': 1104, 'whole': 1105, 'mo…': 1106, 'ease': 1107, 'story': 1108, 'weeks': 1109, 'negative': 1110, 'baking': 1111, 'began': 1112, 'look': 1113, 'attend': 1114, 'tested': 1115, 'mayor': 1116, 'upgrades': 1117, 'banking': 1118, 'sector': 1119, 'stable': 1120, 'rest': 1121, 'give': 1122, 'always': 1123, 'serious': 1124, 'biggest': 1125, '9': 1126, 'started': 1127, 'sign': 1128, 'interviewed': 1129, 'follows': 1130, 'saying': 1131, 'existing': 1132, 'worked': 1133, 'actually': 1134, 'winter': 1135, 'easing': 1136, 'enjoy': 1137, 'luxury': 1138, 'whether': 1139, 'fri': 1140, 'various': 1141, 'poses': 1142, 'nice': 1143, 'coming': 1144, 'order': 1145, 'get…': 1146, 'added': 1147, 'weather': 1148, 'later': 1149, 'chalked': 1150, 'breast': 1151, 'behavioral': 1152, 'burden': 1153, 'exacerbating': 1154, 'schedules': 1155, 'monday': 1156, 'persistent': 1157, 'navigate': 1158, 'othe…': 1159, 'product': 1160, 'believe': 1161, 'oxygen': 1162, 'forward': 1163, 'based': 1164, 'situations': 1165, 'balance': 1166, 'strong': 1167, '\\xa0': 1168, 'additional': 1169, 'thi…': 1170, 'debt': 1171, 'sports': 1172, 'reveal': 1173, 'pub': 1174, \"'ferocious\": 1175, \"stress'\": 1176, 'take…': 1177, 'therefore': 1178, 'mam': 1179, 'offline': 1180, \"let's\": 1181, 'folks': 1182, 'parental': 1183, 'at…': 1184, 'avoid': 1185, 'immunity': 1186, 'december': 1187, 'cardiovascular': 1188, 'twice': 1189, 'contract': 1190, 'forms': 1191, 'beca…': 1192, 'plans': 1193, 'philippines': 1194, 'forbes': 1195, 'countries': 1196, 'guard': 1197, 'booked…': 1198, 'ljf8oxfmpl': 1199, 'fans': 1200, 'hylton': 1201, 'ross': 1202, 'tour': 1203, 'vehicle': 1204, 'compliant': 1205, 'world…': 1206, 'disease…': 1207, 'boris': 1208, 'region': 1209, 'infections': 1210, 'hand': 1211, 'heath': 1212, 'divided': 1213, 'passports': 1214, '1pm': 1215, '12pm': 1216, 'cst': 1217, 'shawnajolee': 1218, 'presents': 1219, 'copingwithcovid': 1220, 'beli…': 1221, 'whereas': 1222, 'york': 1223, 'technicians': 1224, 'fun': 1225, 'stre…': 1226, 'workfromhome': 1227, 'intimate': 1228, 'yakima': 1229, 'praise': 1230, 'efforts': 1231, 'metrics': 1232, 'commitment': 1233, 'culture': 1234, 'dementia': 1235, 'volunteers': 1236, 'jasonschreier': 1237, 'byob': 1238, 'forum': 1239, '“dealing': 1240, 'click…': 1241, 'little': 1242, 'losses': 1243, 'staying': 1244, 'ceo': 1245, 'means': 1246, 'covid‐19': 1247, 'studies': 1248, 'course': 1249, 'practices…': 1250, 'here’s': 1251, 'effort': 1252, '•': 1253, 'major': 1254, 'power': 1255, 'remains': 1256, 'reading': 1257, 'someone': 1258, 'aim': 1259, 'lines': 1260, 'mr': 1261, 'it’': 1262, 'pain…': 1263, 'predictors': 1264, 'occurring': 1265, 'tired': 1266, 'dry': 1267, 'firefighters': 1268, 'sleeves': 1269, 'there’…': 1270, 'circle': 1271, 'era…': 1272, 'dominated': 1273, 'jpubecon': 1274, 'seanhannity': 1275, 'hardest': 1276, 'shared': 1277, \"they've\": 1278, 'governor': 1279, 'crushing': 1280, 'cumulative': 1281, 'nylah': 1282, 'burton': 1283, 'san': 1284, 'hello': 1285, 'meeting': 1286, 'ku': 1287, 'starts': 1288, '“causing': 1289, 'typical': 1290, 'unlike': 1291, 'several': 1292, 'writing': 1293, 'annual': 1294, 'how…': 1295, 'failing': 1296, 'security': 1297, 'practice': 1298, 'includes': 1299, 'exercising': 1300, '7pm': 1301, 'society': 1302, 'cross': 1303, 'sectional': 1304, '57': 1305, 'invited': 1306, 'ill': 1307, 'season': 1308, 'stresses': 1309, 'video': 1310, 'be…': 1311, 'source': 1312, '6': 1313, 'providers': 1314, 'questions': 1315, 'con…': 1316, 'irish': 1317, 'worries': 1318, 'driven': 1319, 'plan': 1320, 'starting': 1321, 'briefing': 1322, 'there’s': 1323, 'water': 1324, '31234': 1325, 'osf': 1326, 'io': 1327, 'question': 1328, 'request': 1329, 'secretary': 1330, 'criticized': 1331, 'timemanagement': 1332, '23': 1333, 'money': 1334, 'perhaps': 1335, 'supports': 1336, 'age': 1337, 'italy': 1338, 'australians': 1339, 'imagine': 1340, 'promo': 1341, 'menral': 1342, 'ridethewave': 1343, 'nowplaying': 1344, 'offers': 1345, 'thread': 1346, '50': 1347, 'fully': 1348, 'las…': 1349, '4heulnujlz': 1350, 'supply': 1351, 'squirt': 1352, 'team': 1353, 'spent': 1354, 'evening': 1355, 'sir': 1356, 'receive': 1357, 'routines': 1358, 'senior': 1359, 'or…': 1360, \"we've\": 1361, 'sessions': 1362, 'socio': 1363, 'incredible': 1364, 'chung': 1365, 'celebrity': 1366, 'nmhsd': 1367, 'a\\xa0mental': 1368, 'mexicans': 1369, 'address': 1370, 'percent': 1371, 'alcoholic': 1372, 'near': 1373, 'recovering': 1374, 'nadir': 1375, 'funding': 1376, 'lea…': 1377, 'laura': 1378, 'website': 1379, 'control': 1380, '40': 1381, '13': 1382, 'explore': 1383, 'j': 1384, 'clarity': 1385, 'skyrocketed': 1386, 'expect': 1387, 'more…': 1388, 'distress': 1389, '💚': 1390, 'chaos': 1391, 'surveys': 1392, 'included': 1393, 'institute': 1394, 'jan': 1395, 'stres…': 1396, 'enables': 1397, 'repair': 1398, 'psychologists': 1399, 'are…': 1400, 'interactive': 1401, 'session': 1402, 'deficiency': 1403, 'antioxidants': 1404, 'comparative': 1405, 'alleviate': 1406, 'studying': 1407, 'amount': 1408, 'parent': 1409, 'died': 1410, 'pandemie': 1411, 'skala': 1412, 'cpss': 1413, 'project': 1414, 'headaches': 1415, 'history': 1416, 'isolated': 1417, 'childhood': 1418, 'participate': 1419, 'corona': 1420, \"you'll\": 1421, 'commit': 1422, 'authorities': 1423, 'moment': 1424, 'bad': 1425, 'bill': 1426, 'presentation': 1427, 'providing': 1428, 'novel': 1429, 'manageable': 1430, 'population': 1431, 'information': 1432, 'some…': 1433, 'habits': 1434, 'anyone': 1435, 'consistent': 1436, 'bro': 1437, 'discussing': 1438, 'responsibility': 1439, '8th': 1440, 'hypnosis': 1441, 'understandable': 1442, 'advis…': 1443, 'environmental': 1444, 'deserts': 1445, 'excellent': 1446, 'lost': 1447, 'workout': 1448, 'sad': 1449, 'best': 1450, 'america': 1451, 'done': 1452, 'network': 1453, 'reopen': 1454, 'style': 1455, 'videos': 1456, 'employee': 1457, 'physicians': 1458, 'scotland': 1459, \"won't\": 1460, 'awareness': 1461, 'rel…': 1462, 'inequality': 1463, 'headline': 1464, '🎉': 1465, 'patient': 1466, 'placed': 1467, 'cou…': 1468, 'united': 1469, 'relie…': 1470, 'minimizing': 1471, 'uif9zscpxb': 1472, 'arrived': 1473, 'previously': 1474, 'caregiver': 1475, 'mothers': 1476, 'proud': 1477, 'doesn’t': 1478, 'connected': 1479, 'socially': 1480, 'calm': 1481, 'girls': 1482, 'depression…': 1483, '500': 1484, 'success': 1485, 'held': 1486, 'certainly': 1487, 'borisjohnson': 1488, '“pandemic': 1489, 'phase': 1490, 'drinking': 1491, 'become': 1492, 'kristi': 1493, 'rodriguez': 1494, 'nationwide®': 1495, 'retirement': 1496, 'ove…': 1497, 'ball': 1498, 'light': 1499, 'tunnel': 1500, 'vol…': 1501, 'doubt': 1502, 'years': 1503, 'friends': 1504, 'resiliency': 1505, 'privacy': 1506, \"i'd\": 1507, 'short': 1508, 'feels': 1509, 'retraction': 1510, 'missing': 1511, 'albeit': 1512, 'desolation': 1513, 'acceptable…': 1514, 'negatively': 1515, 'uptick': 1516, 'di…': 1517, 'mitochondrial': 1518, 'seriously': 1519, 'aces': 1520, 'caused…': 1521, 'truth': 1522, 'successful': 1523, 'lhelmstherapy': 1524, 'middle': 1525, 'glass': 1526, 'threatens': 1527, 'raise': 1528, 'points': 1529, 'scientific': 1530, 'shifts': 1531, 'financ…': 1532, 'foxnews': 1533, 'sitting': 1534, 'str…': 1535, 'ch…': 1536, 'phillyinquirer': 1537, 'never': 1538, 'homes': 1539, 'distribute': 1540, 'faculty': 1541, '👨\\u200d⚕️👩\\u200d⚕️': 1542, 'bereavement': 1543, 'takes': 1544, 'fu…': 1545, '“a': 1546, 'view': 1547, 'covid19…': 1548, 'overcome': 1549, 'fertility': 1550, 'fy22': 1551, 'inflexion': 1552, 'considering': 1553, 'tied': 1554, 'covidー19': 1555, 'babies': 1556, 'toddlers': 1557, 'resource': 1558, 'insurance': 1559, 'lowers': 1560, '11': 1561, 'hospitals': 1562, 'complicated': 1563, 'for…': 1564, 'particularly': 1565, 'pande…': 1566, 'ppe': 1567, '70': 1568, 'apart': 1569, 'leaning': 1570, 'ho…': 1571, 'anti': 1572, 'recovered': 1573, 'priority': 1574, 'needs': 1575, 'survivors': 1576, 'mor…': 1577, 'everyday': 1578, 'activities': 1579, 'risks': 1580, 'drink': 1581, 'stronger': 1582, 'introduce': 1583, 'latest': 1584, 'variant': 1585, 'fda': 1586, 'melbourne': 1587, 'usa': 1588, 'classes': 1589, 'salary': 1590, 'law': 1591, 'enforcement': 1592, 'texas': 1593, 'tweet': 1594, 'offices': 1595, 'saw': 1596, 'exe…': 1597, 'date': 1598, 'identify': 1599, 'ne…': 1600, 'ce3pwblhlv': 1601, 'pattern': 1602, 'anx…': 1603, 'fail': 1604, 'forcing': 1605, 'hea…': 1606, '“if': 1607, 'internet': 1608, 'true': 1609, 'harm': 1610, 'coma': 1611, '42': 1612, 'that…': 1613, 'pa…': 1614, 'dont': 1615, 'proved': 1616, 'stern': 1617, 'idph': 1618, 'heavier': 1619, 'disproportionate': 1620, 'ra…': 1621, \"chamber's\": 1622, 'offer…': 1623, 'challenging': 1624, 'patty': 1625, 'integrating': 1626, 'conference': 1627, 'creating': 1628, 'plenty': 1629, 'testandrest': 1630, 'package': 1631, 'combining': 1632, 'saliva': 1633, 'overnight': 1634, 'accommod…': 1635, 'p17y6agnas': 1636, 'brains': 1637, 'email': 1638, 'reacts': 1639, 'differently': 1640, 'angry': 1641, 'overwhelmed…': 1642, '☎️': 1643, '662': 1644, '🤳': 1645, '717': 1646, '216': 1647, '0905': 1648, '💻': 1649, 'elon': 1650, 'musk': 1651, 'tesla': 1652, 'sonia': 1653, 'syngal': 1654, 'unable': 1655, 'thru': 1656, 'taken': 1657, '“when': 1658, 'double': 1659, 'whammy…': 1660, 'fueli…': 1661, 'stressor': 1662, '273': 1663, '8255': 1664, 'seem': 1665, 'variety': 1666, 'symptom': 1667, 'de': 1668, 'features': 1669, 'demands': 1670, 'can…': 1671, 'limits': 1672, 'powerful': 1673, 'survival': 1674, 'regular': 1675, 'internship': 1676, 'overwhelming': 1677, 'upon': 1678, 'piece': 1679, 'terrifying': 1680, 'stayhome': 1681, 'lockdowns': 1682, 'coaches': 1683, 'n…': 1684, '18': 1685, 'closure': 1686, 'offering': 1687, 'anubha1812': 1688, 'masters': 1689, '“we': 1690, 'cancel': 1691, 'cbse': 1692, 'nt': 1693, 'gud': 1694, 'ur': 1695, 'alot': 1696, 'buffering': 1697, 'probably': 1698, 'protection': 1699, 'signals': 1700, 'trained': 1701, 'staff…': 1702, 'australia': 1703, 'aiydenbugg': 1704, 'olivialiive': 1705, 'briandecesare': 1706, 'nepswirldabeard': 1707, 'ppl': 1708, 'arrival': 1709, 'image': 1710, 'trainees': 1711, 'anger': 1712, 'old': 1713, 'lock': 1714, 'remotely': 1715, 'ud6i87nmud': 1716, 'staysafe': 1717, 'remotework': 1718, 'work…': 1719, 'wide': 1720, 'pr…': 1721, '3r8hnnucgh': 1722, 'worst': 1723, 'hey': 1724, '4funjpvnje': 1725, 'wait': 1726, 'fakenews': 1727, 'bethany': 1728, 'write': 1729, 'mq2axyx1ou': 1730, 'ho': 1731, 'acting': 1732, 'delayed': 1733, 'four': 1734, 'thre…': 1735, 'foreign': 1736, 'remain': 1737, 'protecting': 1738, 'shingles': 1739, 'kaizerchiefs': 1740, 'lovely': 1741, 'football': 1742, 'written': 1743, 'imo': 1744, 'painful': 1745, 'maybe': 1746, 'function': 1747, 'shit': 1748, 'thinking': 1749, 'creates': 1750, 'along': 1751, 'vis': 1752, 'hind': 1753, 'wear': 1754, 'attention': 1755, 'incentive': 1756, 'wondering': 1757, 'answer': 1758, 'fearmongering': 1759, 'xlvrk6yxxx': 1760, 'became': 1761, '41': 1762, 'strategy': 1763, 'statistics': 1764, 'divorce': 1765, 'however': 1766, 'k9ujrnkpvt': 1767, 'effects…': 1768, 'move': 1769, 'west': 1770, 'interview': 1771, 'relaxing': 1772, 'swimming': 1773, '6sffpcwf3l': 1774, 'recharge': 1775, '🇪🇸': 1776, '🔹': 1777, 'greatly': 1778, 'teens': 1779, 'justice’s': 1780, 'games…': 1781, 'holiday': 1782, 'surge': 1783, 'britain': 1784, 'restr…': 1785, 'movie': 1786, 'indoor': 1787, 'rela…': 1788, 'queue': 1789, 'follow': 1790, 'screen': 1791, '‘fully': 1792, 'info': 1793, 'administration': 1794, 'their…': 1795, 'wrong': 1796, 'bbc': 1797, 'ultra': 1798, 'trump': 1799, 'suriya': 1800, 'patent': 1801, 'hip': 1802, 'hai': 1803, '20': 1804, 'gov…': 1805, 'bowed': 1806, 'pressure…': 1807, 'madrid': 1808, 'navarre': 1809, '19\\xa0restrictions': 1810, 'part…': 1811, 'thier40': 1812, 'maintained': 1813, 'waiting': 1814, 'senator': 1815, 'bong': 1816, 'villa': 1817, 'jr': 1818, 'backed': 1819, 'modified': 1820, 'q…': 1821, 'frankfort': 1822, 'ky': 1823, 'kt': 1824, 'wh…': 1825, 'declining': 1826, 'pandem…': 1827, '🙏': 1828, 'teacher': 1829, '82': 1830, 'assessments': 1831, 'prevalence': 1832, 'longer': 1833, 'heightened': 1834, 'npr': 1835, 'each': 1836, 'least': 1837, 'techniques': 1838, 'phone': 1839, 'family…': 1840, '17': 1841, 'substances': 1842, \"you've\": 1843, 'house': 1844, 'factor': 1845, 'threat': 1846, 'kimberly': 1847, 'guess': 1848, 'vacci…': 1849, '‘zoom': 1850, 'fatigue’': 1851, 'al': 1852, 'k': 1853, 'alert': 1854, 'upcoming': 1855, 'recap': 1856, 'relax…': 1857, 'dying': 1858, 'justice': 1859, 'ea…': 1860, 'metro': 1861, 'manila': 1862, 'perspective': 1863, 'planning': 1864, 'habit': 1865, 'sources': 1866, '“covid': 1867, \"wouldn't\": 1868, 'relies': 1869, 'strength': 1870, 'suppo…': 1871, 'partners': 1872, '“abc': 1873, 'sleep”': 1874, 'mp3': 1875, 'pack': 1876, 'code': 1877, 'enter': 1878, 'sleep50': 1879, 'checkout': 1880, 'they’re': 1881, 'onset': 1882, 'care…': 1883, 'lessons': 1884, 'ma': 1885, 'do…': 1886, 'idea': 1887, 'eat': 1888, 'midst': 1889, 'surveyed': 1890, 'vaccinating': 1891, '83': 1892, 'my…': 1893, 'debate': 1894, 'covidvaccine': 1895, 'works': 1896, 'aimed': 1897, 'prenatal': 1898, 'disorders': 1899, 'sadness': 1900, 'sometimes': 1901, 'field': 1902, 'space': 1903, 'c': 1904, 'regarding': 1905, 'reflect': 1906, 'site': 1907, 'easier': 1908, 'g…': 1909, 'welcome': 1910, 'cumberland': 1911, 'surface': 1912, 'reviewed': 1913, 'systematically': 1914, 'deconstructs': 1915, 'zoomfatigue': 1916, 'concludes': 1917, 'aojysltf9y': 1918, 'involve': 1919, 'ibqwcgh1aa': 1920, 'who’ve': 1921, 'stayed': 1922, '5ccqb74rph': 1923, 'g548cefd5z': 1924, 'muai3cz9o5': 1925, 'ofpnoyensa': 1926, 'tbvgo5ssf6': 1927, 'p45rtpgp9r': 1928, 'cjuf9yjewj': 1929, 'o2jnf6khnm': 1930, 'utoj083b6y': 1931, 'blurred': 1932, 'tune': 1933, 'rowbq3qyoz': 1934, 'andrewholnessjm': 1935, 'listening': 1936, 'pure…': 1937, 'ciskvbasxp': 1938, 'google…': 1939, 'pixxftnzg0': 1940, 'businesse…': 1941, 'hyofmglm71': 1942, 'duri…': 1943, 'uoxuzkuled': 1944, 'sh20llzgsq': 1945, 'budget': 1946, 'addressing…': 1947, 'xfx88bwlkl': 1948, 'xiwvxwixuj': 1949, 'wzfjri69il': 1950, '‘4': 1951, '8fteanigwg': 1952, 'pdxacustudio': 1953, 'jso7rsl1nn': 1954, '1fxuvlu4ay': 1955, '3ok4t2adur': 1956, '45gsy5n0bb': 1957, 'predyctors': 1958, 'preprints': 1959, 'docx': 1960, 'dzdmvvxzx8': 1961, '7g2rrg3vwk': 1962, 'energy': 1963, 'huffpost': 1964, 'generally': 1965, 'lc8ibjggx6': 1966, 'hbwc1jafit': 1967, '5yb7dokxtw': 1968, 'ayfftbiegz': 1969, 'evidencing': 1970, 'detrimental': 1971, 'europe': 1972, 'mksrkjafxl…': 1973, '2t6hkdtdgs': 1974, '6ex2taanss': 1975, 'overexploitation': 1976, 'pollution': 1977, 'and\\xa0climate': 1978, 'change\\xa0have': 1979, 'lmics': 1980, 'additio…': 1981, '52cajiaynt': 1982, 'mbuyisenindlozi': 1983, 'use…': 1984, 'mgrjsuo2fw': 1985, 'azanias': 1986, 'enca': 1987, '17wndx8w9o': 1988, 'jlenyqvwhi': 1989, 'b4yqv3cfuy': 1990, 'rkc9kerilc': 1991, '08': 1992, '9ry5ilduzx': 1993, 'schwartz': 1994, 'im8sygsh7z': 1995, 'twhglsdibs': 1996, 'mqpvn': 1997, 'v6hnrulime': 1998, 'students…': 1999, 'z2rnbp4ifn': 2000, 'bpdcusd5nc': 2001, 'mtkfahwg3s': 2002, 'break…': 2003, 'xzh5qmowbq': 2004, 'raised': 2005, 'pertinent': 2006, 'fggkmso3n7': 2007, 'there’s…': 2008, 'q36xmhptmi': 2009, 'laterality': 2010, '2zgz0j27ug': 2011, 'hrytweet': 2012, 'reasonable': 2013, 'interrupted': 2014, \"everybody's\": 2015, '9ztduhrz8q': 2016, 'blackwolfarmor1': 2017, 'destressing': 2018, 'chants': 2019, 'wiped': 2020, 'bleeding': 2021, 'heartless': 2022, 'bitch…': 2023, 'ptihtqk19f': 2024, 'xzbumfbsnk': 2025, 'cabinet': 2026, 'karlo': 2027, 'nograles': 2028, 'defended': 2029, 'tiktok': 2030, 'cishd0fies': 2031, 'k1z0ogqejy': 2032, 'cnsgacjsy1': 2033, 'aushcindia': 2034, 'lodgement': 2035, 'discrimination': 2036, '2018…': 2037, 'gjiqq2wkng': 2038, '🙏3': 2039, 'secrets': 2040, 'stress👍': 2041, '🤸our': 2042, 'corona…': 2043, 'vehvluftzl': 2044, 'commute': 2045, 'smmbns4puc': 2046, 'qualityoflife': 2047, '8kbz3wx7bq': 2048, 'althoug…': 2049, 'ch7wfh1syt': 2050, 'cohabitation': 2051, 'economi…': 2052, 'wfrfl4wfy0': 2053, 'laqdkjegou': 2054, 'lepuulfpjp': 2055, 'for\\xa0malaysians': 2056, 'iicqvpmggn': 2057, 'coverage': 2058, 'kdoj80iw3r': 2059, '4sxh2aqde1': 2060, 'mjyk0puqng': 2061, 'allykirtley': 2062, 'struck': 2063, 'qlbtidebmu': 2064, '1st': 2065, 'mil…': 2066, 'syvuelf67h': 2067, 'ndis': 2068, 'welcomed': 2069, 'withdrawn': 2070, 'notice': 2071, 'unacceptable': 2072, 'surpri…': 2073, 'z6hza5ormn': 2074, 'nu4rku4pl4': 2075, 'psychosocial': 2076, 'coping\\xa0framework': 2077, '7itigv6ttp': 2078, 'expecting': 2079, '4orqerdgmo': 2080, 'marketwatch': 2081, 'tdzzvlf25h': 2082, 'bfenc1djpo': 2083, 'buhayric': 2084, 'ktbenner': 2085, 'tishjames': 2086, 'chan…': 2087, '3tdgqo13qz': 2088, 'denials': 2089, 'flare': 2090, 'bc': 2091, 'nu…': 2092, 'h8tatn0aqb': 2093, 'cutllq8idv': 2094, 'congenitalheartdisease': 2095, 'to♥️care': 2096, '38': 2097, 'delays': 2098, 'scheduled': 2099, 'cqmvwjnmfu': 2100, 'anahuyir18': 2101, 'qq9r3kko1h': 2102, \"'zoom\": 2103, \"fatigue'\": 2104, 'futurity': 2105, 'inm0mixmfe': 2106, 'francisco': 2107, 'baked': 2108, 'sourdough': 2109, 'san…': 2110, 'hymjxohzzu': 2111, 'babgjgujrc': 2112, 'elevate': 2113, 'consider': 2114, '➡️': 2115, 'qokv9a9cmu': 2116, 'utilization': 2117, 'grandparenting': 2118, 'technology…': 2119, 'lpkls1gc3p': 2120, 'therealmorrison': 2121, 'john': 2122, 'animals': 2123, 'shelters': 2124, 'rma2rdg0mb': 2125, 'chungha': 2126, 'xee1r4rw9l': 2127, 'frissons': 2128, 'doorbell': 2129, 'rings': 2130, 'sheer': 2131, 'fjx1fuywag': 2132, 'smm0ymebi3': 2133, 'lots': 2134, 'kindergarten': 2135, 'cskojdcls2': 2136, 'quick': 2137, 'c8igy8prxd': 2138, 'qvmtngyma6': 2139, 'joined': 2140, 'cfyx3jzxv9': 2141, 'liberal': 2142, 'politics': 2143, 'taint': 2144, 'quali…': 2145, '3dopwc3wcr': 2146, 'breakingku': 2147, 'professors': 2148, 'participation': 2149, 'tod…': 2150, 'akkqgdvoch': 2151, 'tsevgdlquf': 2152, 'profe': 2153, 'ornelas': 2154, 'panel': 2155, 'audience': 2156, 'memb…': 2157, 'ljllo4q8my': 2158, 'qocgz7wmcd': 2159, '3…': 2160, 'nintcph1zq': 2161, 'authorized': 2162, 'serious…': 2163, '09ufnrtem1': 2164, 'addition': 2165, 'inflammatory': 2166, 'syndrome': 2167, 'hq0oqn3ydv': 2168, 'iflscience': 2169, 'mine': 2170, 'hospitalised': 2171, 'sev…': 2172, 'qbsnt60mrs': 2173, 'supp…': 2174, 'wbxq42gl0h': 2175, 'yawning': 2176, 'reports': 2177, 'predict': 2178, 'symptom…': 2179, 'ek6umaxfu4': 2180, 'rvfvw1sce4': 2181, 'season”…': 2182, 'am4ayc1gop': 2183, '2200': 2184, 'moderna': 2185, 'recruiting': 2186, '3000': 2187, 'astrazeneca': 2188, 'beginnin…': 2189, 'dag3wpgc0w': 2190, 'antigen': 2191, 'michigan': 2192, 'quickly': 2193, 'outstripping': 2194, 'lqjql8xopk': 2195, 'brea…': 2196, 'l1nkvyxpld': 2197, \"'2020\": 2198, 'l45qspbcdr': 2199, 'em8f6dxn3s': 2200, 'rabidcrabs': 2201, 'blames': 2202, 'overhaul': 2203, 'rework': 2204, 'inev…': 2205, 'dzztukoguc': 2206, '3ucyjdiudz': 2207, 'stanford': 2208, '“radiologists': 2209, 'oncologists': 2210, 'internists': 2211, 'obviate': 2212, 'unnec…': 2213, 'y7ljhn9quf': 2214, 'psw': 2215, 'per…': 2216, 'hbp6bsnkv5': 2217, 'range': 2218, 'wb2zi6iico': 2219, 'ncsfgopwm3': 2220, 'manipulators': 2221, 'blame': 2222, 'thats': 2223, 'easy': 2224, 'cop': 2225, 'claim': 2226, 'suddenly': 2227, 'n6psa6kqw6': 2228, 'steal': 2229, 'er': 2230, 'ukr1mxt7mz': 2231, '7j4uo5hgz7': 2232, \"bioware's\": 2233, 'christian': 2234, 'dailey': 2235, 'blamed': 2236, 'cancelation': 2237, 'everyth…': 2238, 'djk0e2v9wr': 2239, 'g6cos6cpvb': 2240, 'doc': 2241, 'dangerous': 2242, 'terms': 2243, 'ttnl8j4vkx': 2244, 'running': 2245, 'sound': 2246, 'familiar': 2247, 'qgenda': 2248, 'organization': 2249, 'xp47v8kv5q': 2250, 'sheikhmakun': 2251, 'khda': 2252, 'appreciate': 2253, 'gesture': 2254, 'giving': 2255, 'passes': 2256, 'dpr': 2257, 'teach…': 2258, 'i8dervcqgt': 2259, 'outages': 2260, 'wmpgkvyhpg': 2261, 'rak5r9mec2': 2262, 'laughing': 2263, 'ea': 2264, 'note': 2265, 'memo': 2266, 'bioware': 2267, '5ekbhspsxf': 2268, 'reserve': 2269, 'payment': 2270, 'crashes': 2271, '💰': 2272, 'disabled': 2273, 'dole': 2274, 'have…': 2275, 'nubd49k135': 2276, 'v8hx1h1s3z': 2277, 'nhs': 2278, 'lies': 2279, 'key': 2280, 'therapist': 2281, 'finding': 2282, 'se…': 2283, 'battling': 2284, 'routine': 2285, 'showed': 2286, 'respondents': 2287, 'noon': 2288, 'employers': 2289, 'globe': 2290, 'condition': 2291, 'hang': 2292, 'articles': 2293, 'period': 2294, 'disrupted': 2295, 'toronto': 2296, 'paul': 2297, 'sugar': 2298, 'addressing': 2299, 'color': 2300, 'prote…': 2301, 'computer': 2302, 'layers': 2303, 'cultural': 2304, 'consuming': 2305, 'forget': 2306, 'thousands': 2307, 'future': 2308, 'man': 2309, 'signs': 2310, 'tragedy': 2311, 'teach': 2312, 'us…': 2313, 'becoming': 2314, 'workload': 2315, 'rituals': 2316, 'brother': 2317, 'happened': 2318, 'increases': 2319, 'today…': 2320, 'emotions': 2321, '11am': 2322, 'hub': 2323, 'interaction': 2324, 'responders': 2325, '24th': 2326, 'tactics': 2327, 'experiences': 2328, 'yo…': 2329, 'acute': 2330, 'apa': 2331, 'down…': 2332, 'political': 2333, 'citizens': 2334, 'protect': 2335, 'b': 2336, 'resulted': 2337, 'measures…': 2338, 'doctor': 2339, 'affecting': 2340, 'news…': 2341, 'lately': 2342, 'prior': 2343, 'game': 2344, 'international': 2345, 'continuing': 2346, 'regulations': 2347, 'changing': 2348, '5asy7mvt6h': 2349, 'astonishing': 2350, 'widoalywu4': 2351, 'faced': 2352, '2h5lgsxfsn': 2353, 'bout': 2354, 'catholic': 2355, 'ii': 2356, 'eligible': 2357, 'tgajbd2epw': 2358, 'opposition': 2359, 'ervj2feymc': 2360, 'virtuallycochrane': 2361, 'cochraneireland': 2362, 'evidsynirl': 2363, 'gys8wzflqa': 2364, 'suggestions': 2365, 'focu…': 2366, 'fw1znuwmko': 2367, 'downturn': 2368, 'apply': 2369, 'wutwp8pbep': 2370, 'aswchfx9sm': 2371, 'poland': 2372, 'tiiqk4mp4b': 2373, 'ib4zgsaxc1…': 2374, 'pnvmbngshw': 2375, 'lc0wektive': 2376, '🎶': 2377, '5plzi7x14v': 2378, 'moag0glfm1': 2379, 'forever': 2380, 'meantime': 2381, 'effectively': 2382, 'ft3e7w7axc': 2383, '2nd': 2384, 'shots': 2385, \"they'll\": 2386, 'immunized': 2387, 'happening': 2388, 'happe…': 2389, 'gqvpu0p61z': 2390, 'gnekcohywv': 2391, 'nx008whle6': 2392, 'witnessed': 2393, 'cisos': 2394, 'tabling': 2395, 'requirement': 2396, 'firulqkzbc': 2397, 'compared': 2398, 'similar': 2399, 'gave': 2400, 'birth': 2401, 'delivering': 2402, 'jucertwdik': 2403, 'maya': 2404, 'exacer…': 2405, '9vzq6yke0c': 2406, 'albertans': 2407, 'loved…': 2408, 'pyqpige8x7': 2409, 'fix': 2410, 'znfvwelbo1': 2411, 'alive': 2412, 'connecting': 2413, 'kenyan': 2414, 'safari': 2415, '😌': 2416, '“you': 2417, 'live…': 2418, '2i8p9oqil3': 2419, 'wa4w3ck3q0': 2420, 'zmnc2rd8wx': 2421, 'kob4': 2422, 'emo…': 2423, 'epivqmvz3t': 2424, 'eb9pqgcevt': 2425, '5p9o9wbeuc': 2426, 'pennmedicine': 2427, 'managed': 2428, 'th': 2429, 'ca': 2430, 'dekzdhfjcs': 2431, 'seeking': 2432, '78': 2433, 'zia7zmtqb7': 2434, 'heights': 2435, 'hiking…': 2436, 'euo1hsqipu': 2437, 'vernice': 2438, 'richards': 2439, 'performance': 2440, 'specialist': 2441, 'believes': 2442, 'b0jrm6actf': 2443, 'gbv': 2444, 'transport': 2445, 'nee': 2446, 'fok': 2447, '10eng71xet': 2448, 'medicating': 2449, 'g2sofzdwhb': 2450, 'marker': 2451, 'throughout…': 2452, 'jui3ckdxrx': 2453, 'also…': 2454, '74iubn2uzk': 2455, 'week’s': 2456, 'organizational': 2457, 'river': 2458, 'meyer': 2459, 'tdik6nlogg': 2460, 'lofc97gsi5': 2461, 'gxlftftcxb': 2462, 'emotional…': 2463, 'g4trt7xdt7': 2464, 'yr8hdjvrsx': 2465, 'kim': 2466, 'pcjttngd3c': 2467, 'recoveri…': 2468, 'eeb6hgrr8x': 2469, 'pkuygqejyt': 2470, 'delighted': 2471, 'nih': 2472, 'vtl9yaji8d': 2473, 'phillips': 2474, 'ensuring': 2475, 'physical…': 2476, 'fj55cxvq0r': 2477, 'fee…': 2478, 'nuwyby3biv': 2479, 'section': 2480, 'book': 2481, '“how’s': 2482, 'head”': 2483, 'afloat': 2484, 'smpzticpuy': 2485, 'chplbjeddg': 2486, '“as': 2487, 'p7rwxuokxq': 2488, 'wtw42cairq': 2489, '8wnu2edxs3': 2490, 'overlooked': 2491, 'farmers': 2492, 'ranchers': 2493, 'sypztmgvjv': 2494, 'z9wqbx1kb6': 2495, 'shadow': 2496, 'dn04gwfthe': 2497, 'conducted': 2498, 'uwgrn4sh1h': 2499, 'moments': 2500, 'gpammeaday': 2501, 'drericball': 2502, 'martinajelley': 2503, 'drdevikab': 2504, 'gain': 2505, 'deeper': 2506, 'dduul8t5pm': 2507, 'financially': 2508, 'focused': 2509, 'americans’': 2510, 'outlooks': 2511, 'drasti…': 2512, 's2yjfivxn7': 2513, 'children—and': 2514, 'particular—have': 2515, '8nf5nat60x': 2516, \"osuwexmed's\": 2517, 'motion': 2518, 'kelsey': 2519, 'black…': 2520, '24lhggmh0i': 2521, 'york’s': 2522, 'jta6oopxmv': 2523, '77ajlkmdil': 2524, 'concur': 2525, 'kswik6lzuw': 2526, 'e3xxblined': 2527, 'weighs': 2528, \"caregivers'\": 2529, 'merck': 2530, 'kgaa': 2531, 'carers': 2532, 'bee…': 2533, 'te954bmcin': 2534, 'recognised': 2535, 'phenotypes': 2536, 'myocardial': 2537, 'injury': 2538, 'occur': 2539, 'sever…': 2540, 'xv9dgaud1i': 2541, 'ny2ghsy4zm': 2542, 'midweek': 2543, 'selfcare': 2544, 'distanced': 2545, 'wo…': 2546, '8aurilikck': 2547, 'nationalcouncil': 2548, 'subject': 2549, '3p11yldv3z': 2550, '19😷': 2551, 'alo…': 2552, '0ttsuoei6t': 2553, 'announce': 2554, 'footsteps': 2555, 'girl': 2556, 'imnuiek603': 2557, 'huntington': 2558, 'finances': 2559, 'driver': 2560, 'midwesterners': 2561, 'qpx4vwmkeq': 2562, 'aqiv9azdwn': 2563, 'lifetime': 2564, 'eocguowzvi': 2565, '6xadykesyk': 2566, 'human’s': 2567, 'au9p7ffxem': 2568, 'standing': 2569, 'midwives': 2570, 'bknxleink9': 2571, '66': 2572, 'efficacy': 2573, 'speed': 2574, 'tth0gbuuc0': 2575, 'm8wgqhm8sh': 2576, 'maharashtra': 2577, 'disturb…': 2578, 'fvtbknjtub': 2579, 'dead': 2580, 'sight': 2581, 'no…': 2582, 'q5l4bqf8dm': 2583, 'kids’…': 2584, 'bibmfzdpd7': 2585, 'improves': 2586, \"user's\": 2587, 'strengthened': 2588, 'perform': 2589, 'mv8t409eyt': 2590, 'scor': 2591, 'hails': 2592, 'profits': 2593, 'plunge': 2594, 'kessler': 2595, \"'very…\": 2596, 'dzzcfqthh2': 2597, 'tonight': 2598, 'caregivers…': 2599, 'bc5egbzidk': 2600, 'qejeibebto': 2601, 'priid4w2bg': 2602, 'e5huby3ujs': 2603, 'chaired': 2604, 'dmkoraput': 2605, 'nov': 2606, 'n2l33tryai': 2607, '3cr4z18kwa': 2608, 'disabilitybenefits': 2609, 'claims': 2610, 'ey8qvbwtlv': 2611, 'oneself': 2612, 'enduring': 2613, 'unpredictabi…': 2614, 'rfccqoy6sr': 2615, 'weathernut27': 2616, 'speculation': 2617, 'defeated': 2618, 'oxe3lublwh': 2619, 'beyond': 2620, '3b6znu4isd': 2621, 'sess…': 2622, 'fuhz33l0i2': 2623, 'hospitalizations': 2624, 'promedica': 2625, 'brian': 2626, 'kaminsk…': 2627, 'aseuus9agp': 2628, 'shefflenk': 2629, 'blythie7': 2630, 'dodonantwich': 2631, 'nadhimzahawi': 2632, 'iaindale': 2633, 'lbc': 2634, 'docto…': 2635, 'mktffe8tug': 2636, 'mak…': 2637, 'zbueznmysl': 2638, '8pxkdrdxar': 2639, 'ivohmpikan': 2640, 'zi1ivhxqor': 2641, 'i2azlhpvsr': 2642, 'might’ve': 2643, '”…': 2644, 'dfjioqhqey': 2645, 'flotus': 2646, 'pardon': 2647, 'ignorance': 2648, 'nttzenvdck': 2649, 'contribute': 2650, 'stable…': 2651, '0yci4eij6x': 2652, 'british': 2653, 'echocardiography': 2654, 'toe': 2655, 'echo': 2656, 'cardiology': 2657, 'quln8efhs2': 2658, 'growing': 2659, 'choosing': 2660, 'dependent': 2661, 'alcoh…': 2662, 'oz0fxzufr0': 2663, 'qykjzdlu4a': 2664, '7cbuf9zm0j': 2665, 'eliminating': 2666, 'late': 2667, 'wa': 2668, 'fewer': 2669, 'hig…': 2670, '2zu4ipwcg5': 2671, 'cs12fwgrtp': 2672, 'stability': 2673, \"'work'\": 2674, 'ni0iomyyse': 2675, 'wguhz9zicv': 2676, 'pzjptq4tii': 2677, 'lmbsogyj8l': 2678, 'uvxdvvsywv': 2679, 'jalhflm7bq': 2680, 'thenanaaba': 2681, 'getting…': 2682, 'puhpiu7a7o': 2683, 'adequate': 2684, 'res…': 2685, 'c8tks9jzet': 2686, 'alleviating': 2687, 'adhering': 2688, 'public…': 2689, 'ruzkhrqgca': 2690, 'playfirstuk': 2691, 'warned': 2692, 'mk7tegbo0s': 2693, 'haven’t': 2694, 'learnings': 2695, 'le…': 2696, '891o5ueyof': 2697, 'stressed…': 2698, 'f8dfyfrypv': 2699, '10xecoza’s': 2700, '“ceo': 2701, 'crisis”': 2702, 'craigcarolan': 2703, 'owner': 2704, '2bmx7jwg2u': 2705, 'regularly': 2706, 'video…': 2707, 'bcirmptmjk': 2708, 'pwhfplxwsn': 2709, 'kktpulcwgh': 2710, 'china–a': 2711, 'cross‐sectional': 2712, 'yt99sax3m4': 2713, 'mskyre8ezk': 2714, 'forter’s': 2715, '‘appreciation': 2716, 'sundays’': 2717, 'rbmeariwiw': 2718, 'pfjwyk2brq': 2719, 'urf2v1nfzo': 2720, 'j0xbsngjp6': 2721, 'nicholasferroni': 2722, 'daughters': 2723, 'suff…': 2724, 'envivyoe4u': 2725, 'vega': 2726, 'brand': 2727, 'stude…': 2728, 'cyvqvflbq2': 2729, 'pwoa6w2r46…': 2730, 'qzhskrqz2w': 2731, 'aylq3gvebc': 2732, 'run': 2733, 'happens': 2734, 'nothi…': 2735, 'klgutk5epe': 2736, 'expressoshow': 2737, 'nespresso': 2738, 'spoil': 2739, 'enzl0cgcc2': 2740, 'gotten': 2741, '14': 2742, '3b9cmohr9u': 2743, 'recording': 2744, 'engagement': 2745, 'gadgets…': 2746, '9yxz4j6ald': 2747, 'reached': 2748, 'when…': 2749, 'zj9px176nd': 2750, 'smidge': 2751, 'afternoon': 2752, 'camden': 2753, 'greeted': 2754, 'h8ape1jp7i': 2755, 'jcouzin': 2756, 'newsfromscience…': 2757, 'viuunrzbl2': 2758, '9f0fr4642b': 2759, 'repevans33': 2760, 'videogames': 2761, 'truly': 2762, 'inspired': 2763, 'uglier': 2764, 'videoga…': 2765, 'wwbei23fe6': 2766, '0xktmljnjh': 2767, 'zjv5wb3e4a': 2768, 'essaypay': 2769, 'rtept': 2770, 'interpvscanon…': 2771, '7oxryarxrl': 2772, 'frustrate': 2773, 'hampton': 2774, 'ro…': 2775, 'tlcqo3occn': 2776, 'canadainindia': 2777, 'applied': 2778, 'trv': 2779, 'reunification': 2780, 'i740w4vscd': 2781, 'astra…': 2782, '8yskvxtaib': 2783, 'hubei': 2784, 'pediatric': 2785, '19\\xa0p…': 2786, 'eaehc2tb4g': 2787, '20210223': 2788, 'cp': 2789, 'meqfeg8f4v': 2790, 'skjbtmb7hs': 2791, 'one1ud1tjt': 2792, '543vrt3g1f': 2793, '01': 2794, 'makani': 2795, 'lmhgmmwnyu': 2796, 'healt…': 2797, '3uq2fj6io2': 2798, 'marianneeporter': 2799, 'kanelabul': 2800, 'resonated': 2801, '0aqztycv6n': 2802, 'joeholdencbs3': 2803, 'cbsphilly': 2804, 'load': 2805, 'respec…': 2806, 'tx8kcf1yad': 2807, 'curious': 2808, 'absvvayhk1': 2809, 'childr…': 2810, 'aevoupxynx': 2811, 'citynews': 2812, 'wxkuijdlxg…': 2813, 'gmvzzbxixl': 2814, 'seven': 2815, 'quality…': 2816, 'xwu5xgjscf': 2817, '0lvtklpnea': 2818, 'z8j7ahdmla…': 2819, 'meyycennfd': 2820, 'nypost': 2821, 'markers': 2822, 'sperm': 2823, 'ct0am4ngaf': 2824, 'jc6erz1ynb': 2825, 'tech': 2826, 'regulators': 2827, 'ffsgnh8rjl': 2828, 'multi': 2829, 'billion': 2830, 'dollar': 2831, 'antidepressants': 2832, 'tr…': 2833, 'sh7czweda8': 2834, 'semester': 2835, 'truthfully': 2836, 'r0lsvffuo3': 2837, 'vphboci9uz': 2838, 'surprised': 2839, 'foods': 2840, 'osgjsrmsyo': 2841, 'axyw1uanlr': 2842, 'psychiatrist': 2843, 'describes': 2844, 'jhd5d1t5hd': 2845, 'succ…': 2846, 'zuprhzbygm': 2847, 'hundreds': 2848, 'span': 2849, 'awvpiulvak': 2850, '“due': 2851, 'bjszb9lql6': 2852, 'resilienc…': 2853, 'srxkd8ejtz': 2854, 'psychologymonth': 2855, \"psychologists'\": 2856, 'contributions': 2857, 'instance': 2858, 'leslie': 2859, 'roos': 2860, 'lzuvz8l3rp': 2861, 'eye': 2862, 'ukyzqb22dc': 2863, 'righ…': 2864, '2rq8kqzplv': 2865, 'xb9jmrjtd8': 2866, 'sedentary': 2867, 'advise': 2868, 'resear…': 2869, 'zci9q8rmct': 2870, 'da94u119rw': 2871, 'ziegsgzsl4': 2872, 'nzjrzaagk4': 2873, 'rashmi2008': 2874, 'hopefull…': 2875, 'gc298j4p7c': 2876, 'piling': 2877, 'bkza1lbu9z': 2878, 'implications': 2879, 'dysfunction': 2880, 'therapeutic': 2881, '6zkyf1mqez': 2882, 'ar…': 2883, 'z9a2lgbiij': 2884, 'consequential': 2885, 'vzegjlfxpa': 2886, 'scientists': 2887, 'them…': 2888, 'ibtk7juzjw': 2889, 'fructose': 2890, 'seheult': 2891, 'fin…': 2892, 'yilltnsn61': 2893, '528ibmjur0': 2894, 'columbiauniversity': 2895, 'conseq…': 2896, 'f5qtvbp3bb': 2897, 'turkish': 2898, 'p6ufyqd3v3': 2899, 'bbcbreakfast': 2900, 'gcse': 2901, 'ass…': 2902, 'bfklrbuuqd': 2903, 'wq9ea5xfkl': 2904, 'escalation': 2905, 'adverse': 2906, 'experience…': 2907, 'ace…': 2908, 'big…': 2909, '9s4mryspnw': 2910, '🚨': 2911, 'deadline': 2912, 'fbr': 2913, 'registrations': 2914, 'ofa': 2915, 'agricorp': 2916, 'extending': 2917, '2021…': 2918, 'hizgmamlq2': 2919, 'utoledo': 2920, 'cal': 2921, 'facul…': 2922, 'yfhdg1gbno': 2923, 'theagenda': 2924, 'spaikin': 2925, 'jm': 2926, 'mcgrath': 2927, \"to's\": 2928, 'cities…': 2929, 'n07wz6a03t': 2930, 'pmdqvc9jfj': 2931, 'alright': 2932, 'catch': 2933, 'fut7xp5gde': 2934, 'jordan': 2935, 'gopleader': 2936, 'dumb': 2937, 'fxc9c3u7lz': 2938, 'yogdzalixz': 2939, 'list': 2940, 'lz6t8oaikf': 2941, 'element': 2942, 'kdrsgn0joi': 2943, 'walls': 2944, 'pzhrsql4ye': 2945, 'pursue': 2946, 'inducing': 2947, 'given…': 2948, 'uohyi9vzyn': 2949, 'wine': 2950, 'xtwjjfunfa': 2951, 'nieh8at4eb': 2952, '250': 2953, '“those': 2954, 'prevented': 2955, 'nob2lzkwna': 2956, '4sfgx5hlqn': 2957, '1mtwwlnfit': 2958, 'search': 2959, 'click': 2960, 'bio': 2961, 'decj9truv3': 2962, 'ianqcercf2': 2963, 'maternal': 2964, 'infant': 2965, 'paths': 2966, 'isola…': 2967, '1lgjr3u32s': 2968, 'rzicktpc1n': 2969, 'critically': 2970, 'riwxtujv1e': 2971, 'gfct3xduxn': 2972, 'adolescent…': 2973, '83k3uesvsk': 2974, \"doctors'\": 2975, 'buckle': 2976, 'qbswoo0idg': 2977, 'fierce': 2978, 'healthc…': 2979, 'iooodsxfsu': 2980, 'm0ajyuystu': 2981, 'w2gghbshlc': 2982, 'jcrcpqrkau': 2983, 'sat': 2984, 'score': 2985, 'vk8qykenpn': 2986, 'front': 2987, 'well…': 2988, 'uymhcsxurx': 2989, 'normsworld': 2990, 'facedrivehealth': 2991, 'ihccwmnnhm': 2992, 'trace…': 2993, '6ylufgvb7j': 2994, 'shelter': 2995, 'mandates': 2996, 'domestic': 2997, 'viol…': 2998, 'qumyjadkmj': 2999, 'congrats': 3000, 'odom': 3001, 'forren': 3002, 'aorn': 3003, 'perioperative': 3004, 'zzt6tjf81u': 3005, '4ifgonmelx': 3006, 'smpotatoes': 3007, 'pkanagaratnam': 3008, 'caitlynnpeetz14': 3009, 'posted': 3010, '“there': 3011, 'suspect': 3012, 'apuqktv5jq': 3013, 'siege…': 3014, 'vgzodc36c6': 3015, 'frontlineprofessionals': 3016, 'ozujl5auxb': 3017, 'stripped': 3018, 'employed': 3019, 'bzcj9qs6sy': 3020, 'nobody': 3021, 'ikmw7hgp4q': 3022, 'hldtlqk6qn': 3023, 'mshxg4svzq': 3024, 'iamartin': 3025, 'exhibiting': 3026, 'classic': 3027, 'fellows': 3028, 'ignoring…': 3029, 'zhi5foiy72': 3030, 'mental…': 3031, 'sinlbfsgmk': 3032, 'eq53fgknq6': 3033, 'hf7bjizaa7': 3034, 'yqbmazshlj': 3035, 'intensifies': 3036, 'yxp3kay2hd': 3037, 'counties': 3038, 'greenspace': 3039, 'slower': 3040, 'density': 3041, '4asxxhn2ev': 3042, 'respect': 3043, '1bkcifr3lp': 3044, \"who's\": 3045, 'union': 3046, 'chgkx3zt8h': 3047, 'spectrum': 3048, '“collectively': 3049, 'teouix92qb': 3050, 'p2zvy13mxl': 3051, 'turkishstudentslivesmatter…': 3052, 'pzs9e5vzma': 3053, 'ju9zt9f1q5': 3054, 'live🎙👨\\u200d🚒🔥': 3055, '037': 3056, 'eddie': 3057, 'williams': 3058, 'journey': 3059, 'paramedic': 3060, 'ussjcjesmb': 3061, 'percentage': 3062, 'experiencin…': 3063, 'm9o6yzocwy': 3064, 'wbi6r4fn3g': 3065, 'phillyhealthsci': 3066, 'uo': 3067, 'ctn': 3068, 'woes': 3069, 'recipe': 3070, 'trouble': 3071, '9chud1c3ki': 3072, 'agy9vzwwkj': 3073, 'considered': 3074, 'redistributing': 3075, 'amermedicalassn': 3076, '1bou7ba828': 3077, 'du4whdgyol': 3078, 'fgymetwvpi': 3079, 'gl6ryjxhyl': 3080, 'handle': 3081, 'snowbirds': 3082, 'upset': 3083, 'clh99mcapp': 3084, 'contstantly': 3085, 'content': 3086, 'g': 3087, \"patients'\": 3088, 'coro…': 3089, 'latzdghcfo': 3090, 'multigenerational': 3091, 'pjgrhpala5': 3092, 'lfxhhvesel': 3093, 'izyvm67sva': 3094, 'diego': 3095, 'council': 3096, 'agreed': 3097, '92': 3098, 'rent': 3099, 'tenants': 3100, 'exper…': 3101, 'vglfq4liel': 3102, 'closer': 3103, '💜': 3104, '5vrt215kaw': 3105, 'cvpywult9q': 3106, 'paycheck': 3107, 'eviction': 3108, 'foreclosure': 3109, 'instability': 3110, 'dates': 3111, 'btz3ujhz5n': 3112, 'preferences': 3113, 'compliance': 3114, 'ehv5aonbcy': 3115, 'susceptibility': 3116, 'vshddwdm3z': 3117, 'stay…': 3118, 'm0oudyoyhi': 3119, 'diana45251': 3120, 'woomygoomy': 3121, 'lucky': 3122, 'didn’t': 3123, 'projects': 3124, 'fl72urb5wa': 3125, 'mast': 3126, 'cytokine': 3127, 'storm': 3128, 'neuroinflammation': 3129, 'kempuraj': 3130, 'selvakumar': 3131, 'ahmed': 3132, 'et…': 3133, 'wwc47lc0qx': 3134, 'nothing': 3135, 'farmer’s': 3136, 'com…': 3137, 'su8sydfes3': 3138, 'georgia': 3139, 'incorporate': 3140, 'informed': 3141, 'practices': 3142, 'literacy…': 3143, 'xdsjn0kfsg': 3144, 'relatively': 3145, 'wwisyxqkc1': 3146, 'swnjdnfrrj': 3147, 'n2bzra0vlm': 3148, 'establishing': 3149, 'schedul…': 3150, 'gvez8gu4xv': 3151, 'overcoming': 3152, 'situation…': 3153, 'mvvq0riooy': 3154, 'executive': 3155, 'ywi4jfxe76': 3156, 'ots4wg26sj': 3157, 'experien…': 3158, 'nd4lu3tqx9': 3159, 'escalated': 3160, 'bernmelnyk': 3161, 'j46c7ylufx': 3162, 'vox': 3163, 'swypqta2oo': 3164, '31': 3165, 'reserves': 3166, 'assistance': 3167, 'ds5iaokvob': 3168, '9e2hlijqf3': 3169, 'phew': 3170, 'bit': 3171, 'b0rurtahls': 3172, 'qffadysxe9': 3173, 'turn': 3174, 'ycmxkalxzi': 3175, 'yxv5e7apfz': 3176, 'bread”': 3177, '4jemnd052d': 3178, 'pand…': 3179, 'nfwflbypkk': 3180, 'dept': 3181, 'organizing': 3182, 'issue…': 3183, 'onhjkkhxr2': 3184, 'shut': 3185, 'downs': 3186, 'fr…': 3187, '8geq96mbly': 3188, 'feature': 3189, 'ncc': 3190, 'cnc': 3191, '🌳now': 3192, 'sp…': 3193, 'wbvy8ap65y': 3194, 'skills': 3195, '30p…': 3196, 'w2jz23fnf3': 3197, 'fren1': 3198, 'fren2': 3199, 'yikes': 3200, 'yuh': 3201, 'nah': 3202, 'ozbqkidcyi': 3203, 'peterborough': 3204, 'accepting': 3205, '9ha3xyufkz': 3206, 'traumas': 3207, 'firsthand': 3208, 'as3u3zip7g': 3209, 'academic': 3210, 'hib5lncvsd': 3211, 'vtrxiq1n9d': 3212, 'lxuqwksrae': 3213, 'yefjbcb16k': 3214, 'equation': 3215, 'feelings…': 3216, 'h7y5g44p06': 3217, 'dignity': 3218, 'graders': 3219, '“coping': 3220, 'student…': 3221, '3osrv9t6xx': 3222, 'oku5t7arzt': 3223, 'tbelifettj': 3224, 'male': 3225, 'testes': 3226, 'ace2': 3227, 'receptor': 3228, 'sars': 3229, 'cov': 3230, 'inf…': 3231, 'xa7ghmvvan': 3232, 'jeuwjgtdpy…': 3233, 'xbq5ypyelo': 3234, 'jeppeboys': 3235, 't3lfanqgbc': 3236, 'talked': 3237, 'j7wns7o5g4': 3238, 'qswnqakffv': 3239, 'tbsaahwajo': 3240, 'skynewsniall': 3241, 'bd9wvupnul': 3242, 'yadbc9kfzh': 3243, '1ouqkpnlb7': 3244, 'motivation': 3245, 'hypnotherapyworks…': 3246, 'crhy5ywc6b': 3247, '7uhvts9tro': 3248, 'drive': 3249, 'hrqohbikdx': 3250, 'admins': 3251, '49': 3252, 'a8yi9matel': 3253, 'bear': 3254, 'suffer…': 3255, 'u69qiryuxp': 3256, 'covid2020': 3257, 'businessnews…': 3258, 'mj210td4hw': 3259, 'maherjane': 3260, 'bigbaddoctor': 3261, 'happen': 3262, 'predicted': 3263, 'yrs': 3264, 'b4': 3265, \"'…\": 3266, 'g6jfazrhmq': 3267, 'qualtrics': 3268, 'healthca…': 3269, 'kvbszlvt3w': 3270, 'egzauxpcdb': 3271, 'fmunyaxxbb': 3272, 'f7s9m5m0nn': 3273, 'h9nzm3tdvj': 3274, 'updat…': 3275, 'mvcqxcfwmd': 3276, 'crop': 3277, 'farmers’': 3278, 'dfxsfzlbjh': 3279, 'foodsystems': 3280, 'kenya…': 3281, '4m4mbfdokj': 3282, 'dcexaminer': 3283, 'rjl60buyur': 3284, 'wuhan': 3285, 'correlation': 3286, 'cs2e2k3n4x': 3287, 'japan': 3288, 'appoints': 3289, 'curb': 3290, 'suicides': 3291, 'reminds': 3292, 'fmcygn8sk3': 3293, 'indicate': 3294, 'connectivity': 3295, 'x7vsd8oksx': 3296, 'achieving': 3297, 'collaborative': 3298, 'through…': 3299, '4ja5mkxceq': 3300, 'indra': 3301, 'o5attlgjos': 3302, '148yxow7de': 3303, 'thedailyshow': 3304, 'michaelkosta': 3305, 'bexy2juf3m': 3306, 'mums': 3307, 'dads': 3308, 'pvl03fmiut': 3309, 'feelings': 3310, 'examination': 3311, '2013': 3312, 'pass': 3313, 'elevated': 3314, 'throug…': 3315, 'kids’': 3316, 'survivor': 3317, 'crisis…': 3318, 'ems': 3319, 'pregnant': 3320, 'i’ve': 3321, 'careg…': 3322, 'sales': 3323, 'changes': 3324, 'methods': 3325, 'da…': 3326, 'ph…': 3327, 'relationships': 3328, 'fire': 3329, 'sh…': 3330, 'pressures': 3331, 'topics': 3332, 'disproportionately': 3333, 'moving': 3334, 'assessing': 3335, 'we’ve': 3336, 'generation': 3337, 'declined': 3338, 'overdoses': 3339, 'pause': 3340, 'provide': 3341, 'aroun…': 3342, 'ibd': 3343, 'eating': 3344, 'develop': 3345, 'foo…': 3346, 'amplifying': 3347, 'leger': 3348, 'cdcdirector': 3349, 'personnel': 3350, 'only…': 3351, 'begins': 3352, 'sleeping': 3353, 'r': 3354, 'workshop': 3355, 'attack': 3356, 'let’s': 3357, 'relieving': 3358, 'highlights': 3359, 'nchd': 3360, 'menstrual': 3361, 'damn': 3362, 'previous': 3363, 'epidemics': 3364, 'create': 3365, 'relationship': 3366, 'adds': 3367, 'assist': 3368, 'im…': 3369, 'qattsqkgao': 3370, 'creativity': 3371, 'fdvvlcn2uo': 3372, 'vh32e7ucbe': 3373, 'dtguectxyh': 3374, 'futuritynews': 3375, \"america's\": 3376, 'reused': 3377, 'canceled': 3378, 'pto': 3379, 'shifts…': 3380, 'nctmidi6g4': 3381, 'thing\\u200a': 3382, '88lfueayqj': 3383, 'unhealthy': 3384, 'dv668phodr': 3385, 'phm9j6a3g4': 3386, 'priesterspr': 3387, 'crrja5': 3388, 'cocacola': 3389, 'claremlopez': 3390, 'mtgreenee': 3391, 'realdrgina': 3392, 'kristyswansonxo': 3393, 'sexcounseling': 3394, 'drmartyfox…': 3395, 'btqvdnmkp5': 3396, 'ec': 3397, 'xzq5osvyfz': 3398, 'slow': 3399, 'heard': 3400, 'mean': 3401, 'central': 3402, 'isn’t': 3403, 'trends': 3404, 'tim…': 3405, 'act': 3406, 'highest': 3407, 'show': 3408, 'cold': 3409, 'classroom': 3410, 'vac…': 3411, 'cut': 3412, 'identified': 3413, 'va…': 3414, 'iit': 3415, 'structure': 3416, 'hoff…': 3417, 'country’s': 3418, 'excuse': 3419, 'spend': 3420, 'rejuvenate': 3421, 'wa…': 3422, 'mypgrw2flh': 3423, 'corner': 3424, 'infection…': 3425, 'side': 3426, 'urge': 3427, 'mess': 3428, 'areas': 3429, 'five': 3430, 'creative': 3431, 'definitely': 3432, '6nzojex4w5': 3433, 'treating': 3434, 'xtlbgrywfr': 3435, 'ds3z6bnvnp': 3436, 'n8hztdckul': 3437, '9kwg4flryg': 3438, '07': 3439, 'ijldmsqjei': 3440, 'trenado': 3441, 'carlos': 3442, 'mauricio': 3443, 'gy6f7hipcc': 3444, 'jk9ko8jcab': 3445, 'kcpqm': 3446, 'iwvo3hkui4': 3447, 'respiratory…': 3448, 'mfzvznmp6s': 3449, '36fi2wgwqz': 3450, 'var…': 3451, '2ec4v8jv2j': 3452, '📣stress': 3453, 'manifest': 3454, '190vjqto2t': 3455, 'kenya': 3456, 'evidently': 3457, 'kenya’s': 3458, 'barely': 3459, 'countless': 3460, 'appeals': 3461, 'flooded': 3462, 'ljt2brafug': 3463, 'ymvlenkpyx': 3464, 'mla': 3465, 'sudhakar': 3466, 'bcz': 3467, 'wneus9lddc': 3468, 'foi20t6m1x': 3469, 'under\\xa0extreme\\xa0stress': 3470, 'dzutag2y2e': 3471, 'ashishkjha': 3472, 'rkwadhera': 3473, 'discussed': 3474, 'relating': 3475, 'pn2rb69pm2': 3476, 'doge': 3477, '💉': 3478, 'indiafightscorona': 3479, 'covid19vaccinated…': 3480, '8cs7gzuuv9': 3481, 'iheartedmonton': 3482, 'sgioijxuiw': 3483, 'javn9k1tmw': 3484, 'k6axldqu42': 3485, 'googlenews': 3486, 'vulnerable': 3487, 'catching': 3488, 'u6z8bphfxr': 3489, 'b7gog3mmdn': 3490, '3yhx8g4tcs': 3491, 'ted': 3492, 'bender': 3493, 'unitypoint': 3494, 'contributed': 3495, 'rfjwn4gm8w': 3496, '4tbkpg4zii': 3497, 'perceived': 3498, 'china': 3499, '2hybshbsoc': 3500, 'kbhsxvutnk': 3501, 'uclckxtewf': 3502, 'fallout': 3503, 'barrier': 3504, 'garan3y8xp': 3505, '“…': 3506, 'fmvlz3stkp': 3507, 'twitchejnave': 3508, 'mrfishteh3rd': 3509, 'mlbtheshow': 3510, 'neweracap': 3511, 'aswell': 3512, 'conc…': 3513, 'ao1eaow8tw': 3514, 'lvl80d5ivv': 3515, 'puts': 3516, 'uceqacyi1v': 3517, 'night’s': 3518, 'uvcaiadhdw': 3519, 'ejn1o5y9oo': 3520, 'lgbtqia': 3521, 'gay': 3522, 'bisexual': 3523, 'disproportion…': 3524, 'yeohalr6q2': 3525, '69': 3526, 'events': 3527, 'again…': 3528, 'btyo78komv': 3529, 'y1qo5zjseu': 3530, 'promise': 3531, 'ambitious': 3532, 'enlightening': 3533, 'opt': 3534, 'rail': 3535, 'h1knhp6kky': 3536, \"'remarkably\": 3537, \"resilient'\": 3538, 'kuywtmtxto': 3539, 'allies…': 3540, 'ckps82xwlg': 3541, 'profound': 3542, 'collective': 3543, 'v2uzxdorlh': 3544, 'xjmjopnvbc': 3545, 'sickkidsnews…': 3546, '5yf94y63gy': 3547, 'sho': 3548, 'rk5drw6bwq': 3549, '9f6u3stxvm': 3550, 'subscribers': 3551, 'meghan': 3552, 'masten': 3553, 'h6ee9iibzg': 3554, 'qav0tbowom': 3555, 'monday’s': 3556, 'marketwatchers': 3557, 'pros…': 3558, 'gwdwe3zg0v': 3559, 'ridiculous': 3560, 'waste': 3561, 'ton': 3562, 'absolutely…': 3563, 'dplfddi0wd': 3564, 'justinneramirez': 3565, 'gen': 3566, 'migrant': 3567, 'net': 3568, 'chronically': 3569, 'rrqr3gppvn': 3570, 's75txmkdt2': 3571, 'jnq4lpcwrf': 3572, 'wq7dbz7z9u': 3573, 'i0at8mhmeq': 3574, '‘the': 3575, 'there’': 3576, 'frustrations': 3577, 'joys': 3578, 'xmnya2dnhr': 3579, 'r7enxwyxqt': 3580, 'oznon8qpm4': 3581, 'pr1rmobxap': 3582, 'twbbpawprx': 3583, 'izvmvki68b': 3584, 'midstate': 3585, 'hires': 3586, '8gu1ahx5pu': 3587, 'o6uuasf3jf': 3588, 'pressu…': 3589, 'gxq91pjwxz': 3590, 'prese…': 3591, '41knt5gqtn': 3592, 'it’s…': 3593, 'bej4dpdibo': 3594, 'dupagehd': 3595, 'und…': 3596, 'wnnplinhrl': 3597, 'nbcchicago': 3598, '80vakabjwh': 3599, 'zxnrmahh5l': 3600, 'govpritzker': 3601, 'hgoxpv5urc': 3602, 'qqzk34ku7o': 3603, 'showing': 3604, 'feqb6ana1m': 3605, 'eatlocalgrown': 3606, 'feed': 3607, 'dw1fl4m1hc': 3608, 'vjqlxz2xm7': 3609, 'o5rqefg8c6': 3610, 'z6apsx3snh': 3611, 'p3jcskrdce': 3612, 'cak6em1ley': 3613, 'svmfctcc7g': 3614, 'cbgopi1taq': 3615, 'q3pecji3qm': 3616, '0dzyt5d4yv': 3617, 'adopt': 3618, 'empathic': 3619, 'approach': 3620, 'decisions': 3621, '7xozt1gw4b': 3622, '19\\xa0hit': 3623, '6uzlnagoi6': 3624, '“what': 3625, 'anecdotally': 3626, 'worsening': 3627, '6e7wp1nos0': 3628, '7rkusck7ss': 3629, 'commonality': 3630, 'discomfort': 3631, 'recognized': 3632, 'established': 3633, 'cbd…': 3634, 'q4esoplauq': 3635, 'bleyrezw0s': 3636, 'tobacco': 3637, 'decreasing': 3638, 'fmf7ixjahn': 3639, 'help…': 3640, 'xivepbxqb1': 3641, 'jobseeker': 3642, 'hopefully': 3643, 'av': 3644, 'm7l4fynvri': 3645, '4ugqr4avyv': 3646, 'sgrrvzddaa': 3647, 'concerning': 3648, 'psw…': 3649, 'kpxby2eac6': 3650, 'fv3dhrsuod': 3651, 'rapid': 3652, 'turnaround': 3653, 'communication': 3654, 'protocol': 3655, 'gtvrzgaa0b': 3656, '230': 3657, 'cheese': 3658, '180': 3659, 'beef': 3660, 'kfc': 3661, 'ramen': 3662, '152usd': 3663, '160': 3664, 'cup': 3665, 'soup': 3666, 'bun': 3667, 'cpho1sfgv0': 3668, 'secret': 3669, 'amplified': 3670, 'calming': 3671, 'ixiospfjbm': 3672, \"'family\": 3673, \"lockdown'\": 3674, 'deals': 3675, 'tot…': 3676, 'sinptdcqx4': 3677, 'centred': 3678, 'radicals': 3679, 'reactive': 3680, 'species': 3681, 'excess': 3682, 'metabolism': 3683, 'result…': 3684, 'otkm8bn87a': 3685, \"ukdcp's\": 3686, 'sharing': 3687, 'thesis': 3688, 'gwkeryefjm': 3689, 'people…': 3690, '1pzedyulra': 3691, '5essxctaok': 3692, 'downplay': 3693, 'disasters': 3694, 'cons…': 3695, 'y9pjhxturk': 3696, 'albama': 3697, 'aat': 3698, 's7ppk2ciwz': 3699, 'jj': 3700, 'drfessel': 3701, 'integral': 3702, 'china’s': 3703, 'proto…': 3704, '5yirboy1bm': 3705, 'ibm9kaxrqh': 3706, 'dxvtpjx2wc': 3707, 'zjdusmwcxp': 3708, 'travelers': 3709, '2swbo3twss': 3710, 'confinement': 3711, 'heighten': 3712, 'cannabis': 3713, 'inte…': 3714, 'r3xlbbn4ph': 3715, 'clemsonuniv': 3716, 'campus': 3717, 'det…': 3718, 'h2ruvvwudv': 3719, 'hijacked': 3720, 'senatorlucio': 3721, 'highlighting': 3722, '7dzscfsht6': 3723, '0lrskdziao': 3724, 'liver': 3725, 'vw39gdtbhh': 3726, 'stress—': 3727, 'aspects': 3728, 'vaccine…': 3729, '9wlxepqu1u': 3730, 'suppor…': 3731, '4mmsfvyflz': 3732, 'cwbvkrozcs': 3733, 'i1kbr9unat': 3734, 'researcher': 3735, 'specialty': 3736, 'grea…': 3737, 'hff6tpvxhd': 3738, 'j0guwlxg0h': 3739, 'psychedelic': 3740, 'micro': 3741, 'dosing': 3742, 'hbzxyauey8': 3743, 'luyylyzy7y': 3744, 'azjonsqajh': 3745, 'robertalai': 3746, 'behavior': 3747, 'sociopath': 3748, 'pzalr9bhud': 3749, 'worker…': 3750, 'eglrkvdcev': 3751, 'you’ll': 3752, 'bye': 3753, 'wcyo2vhrfv': 3754, 'yydpc5wznu': 3755, 'gv0yvwtoah': 3756, 'quaranteam': 3757, 'lbqa8yoewk': 3758, 'rental': 3759, 'housing': 3760, 'initiative': 3761, 'propertyindustry': 3762, 'ad…': 3763, 'ogb5k6zcds': 3764, '9udmx2wq68': 3765, '“being': 3766, 'moritsugu': 3767, '“attempting': 3768, 'survive': 3769, 'our…': 3770, 'bijiimcugs': 3771, 'spglobalratings': 3772, 'fundamentals': 3773, 'preparedness': 3774, 'shield': 3775, 'smxyqn4an7': 3776, 'mgradskzub': 3777, 'produced': 3778, 'jokes': 3779, 'laugh': 3780, 'dramatic': 3781, '5ixgoqkmzu': 3782, '5anognnjw1': 3783, '12sr4usp44': 3784, 'srdjct9nm0': 3785, 'abajzcdccq': 3786, 'xaefjxaw1t': 3787, 'lnlfggehch': 3788, 'lifeline': 3789, 'jb707dskfr': 3790, 'inbox': 3791, 'uncle': 3792, '3nvgq8zwin': 3793, 'feedback': 3794, 'agree': 3795, 'observation': 3796, 'sadly': 3797, 'majority': 3798, 'tanzanians': 3799, 'ha…': 3800, 'yeaqlifhol': 3801, 'losing': 3802, 'frying': 3803, 'pan': 3804, 'vrlbitvujm': 3805, 'clinics': 3806, 'deemed': 3807, 'essential': 3808, 'closed': 3809, 'few…': 3810, 'ajpumlpr3k': 3811, 'bingo': 3812, 'card': 3813, 'anxiety”': 3814, 'kcxgew4tsl': 3815, 'dgjmlus3uz': 3816, '82ki3hjhf5': 3817, 'ngyrxat4th': 3818, 'common…': 3819, '5uiizubbnf': 3820, 'sltrib': 3821, 'featured': 3822, 'shoreline': 3823, 'junior': 3824, 'davisschools': 3825, 'wor…': 3826, 'dtoawtqoka': 3827, 'pandemicstress': 3828, 'w6mx7odwrw': 3829, 'wcky0ompmz': 3830, 'robin': 3831, 'nandy': 3832, 'unicef': 3833, 'shotatlife': 3834, 'hearing': 3835, 'jlin7': 3836, 'znvp88qoka': 3837, 'diabetic': 3838, 'naomi': 3839, 'booi': 3840, '2sgsljell0': 3841, '0wcdngtghd': 3842, 'uwrq': 3843, 'sokal': 3844, 'lesley': 3845, 'eblie': 3846, 'trudel': 3847, 'uwinnipeg': 3848, 'te…': 3849, 'pjx7ordbrq': 3850, 'illinois': 3851, 'call4calm': 3852, '8k793k5vc8': 3853, 'czbsi42jkp': 3854, 'what…': 3855, '470gkie9wb': 3856, 'j4f4nxb4m1': 3857, 'tops': 3858, 'teachers’': 3859, 'quitting': 3860, 'lure': 3861, 'gnd2h95nir': 3862, 'trading’s': 3863, 'counsellors': 3864, 'cover': 3865, 'such…': 3866, 'lu6jbe03hw': 3867, 'hstnt': 3868, 'elevation': 3869, 'admission': 3870, 'predictor': 3871, 'pneumonitis': 3872, 'ac…': 3873, '9jvve8pfrf': 3874, 'fwrzandaea': 3875, 'phenomenon': 3876, 'heads': 3877, 'frustrating': 3878, 'byproduct': 3879, 'immense…': 3880, 'lei438wk6g': 3881, 'learn…': 3882, 'kbkwkfe00w': 3883, 'increase…': 3884, 'mamvf3chgv': 3885, 'mmmau9yqoy': 3886, 'challenge': 3887, 'firms': 3888, 'situati…': 3889, 'xd0tsnspso': 3890, 'connelldr': 3891, 'cheynejoness': 3892, 'hoytekrystal': 3893, 'preeclampsia': 3894, '‘failed’': 3895, 'demonstrating…': 3896, '8mch3vrljx': 3897, 'latinx': 3898, 'sexual': 3899, 'minority': 3900, 'intersection': 3901, 'gpaq6vpkpu': 3902, 'plech2phag': 3903, 'desnjnb7dr': 3904, 'its…': 3905, 'epuu8nqkjv': 3906, 'dylanggee': 3907, 'andreaf': 3908, 'fields': 3909, 'yay': 3910, 'emilybreilly': 3911, 'compassion…': 3912, 's0ccels2p9': 3913, '3hhwxidvkr': 3914, 'stressmanagement': 3915, 'g4xzktelkt': 3916, 'fair': 3917, 'classes…': 3918, 'r31bmkayn0': 3919, 'twitter': 3920, '“feeling': 3921, 'n7xowpm6dv': 3922, 'participants': 3923, 'sex': 3924, 'life…': 3925, 'loouq15dwv': 3926, 'informative': 3927, 'webinars': 3928, 'es': 3929, 'track': 3930, 'interviewi…': 3931, 'wu5tmk22ao': 3932, 'qojrzejqeu': 3933, 'vi4csyfrgp': 3934, 'ezb5hgvavb': 3935, 'decreased': 3936, \"teens'\": 3937, 'sen…': 3938, 'v8ps3hsari': 3939, 'administered': 3940, 'dx': 3941, 'pra…': 3942, 'pivmtar2jc': 3943, 'cyril': 3944, 'ramaphosa': 3945, 'downscaled': 3946, 'armed': 3947, 'forces': 3948, 'parade': 3949, 'castle': 3950, 'ghl6dktgbb': 3951, 'emily3lytle': 3952, 'baywd3ljks': 3953, 'alike': 3954, 'check…': 3955, 'iosuwjuceq': 3956, 'alabama': 3957, 'renews': 3958, 'xouwfutju8': 3959, '180jdauapx': 3960, 'those…': 3961, 'kacdzrx0vf': 3962, 'k5rynkgixj': 3963, '“coronavirus': 3964, 'worsen': 3965, 'postpartumdepression': 3966, 'providers…': 3967, '3ubumc7yqf': 3968, 'xmb21zsiyq': 3969, 'qsulmed2hy': 3970, 'wqizwfzrdm': 3971, 'ajkemwihhl': 3972, '7nxsngwhbs': 3973, 'vital': 3974, 'editorial': 3975, 'disagree': 3976, \"author's\": 3977, 'conclusion': 3978, 'tha…': 3979, 'lahssnkjmj': 3980, 'ybldp2ei92': 3981, 'k8s0ufbapx': 3982, 'staysafe…': 3983, 'x8mysgoqz0': 3984, 'me9la5kc9s': 3985, '⭐️new': 3986, 'alert⭐️': 3987, 'tcybbmxug7': 3988, 'columbus': 3989, 'pqjme1nkf5': 3990, 'cairnsmundell': 3991, 'kraveuk2': 3992, 'awkwardadawitch': 3993, 'skynews': 3994, 'beerandpub': 3995, 'fgehtqnqyf': 3996, 'mmmmnn': 3997, 'stretch': 3998, 'muireannkirby': 3999, 'defence': 4000, 'mechanism': 4001, 'guilty…': 4002, 'ld4cb4ej7w': 4003, 'wjxt': 4004, 'news4jax': 4005, 'ybmv6pqwpb': 4006, 'phauhchkdq': 4007, 'matters': 4008, 'aynrand': 4009, 'ksbhhij5sp': 4010, '4p1o1t9tzi': 4011, 'dropping…': 4012, 'glwjuloft4': 4013, 'revealing': 4014, 'cracks': 4015, 'jolwvcfkmy': 4016, 'excl': 4017, 'knife': 4018, 'crime': 4019, 'streets': 4020, 'youngsters': 4021, '“have…': 4022, 'dxfq0r13s7': 4023, 'hkpplexlxq': 4024, 'unreasonable': 4025, 'olds': 4026, 'conte…': 4027, 'ceu5pcqzap': 4028, 'combined': 4029, 'itself': 4030, 'cre…': 4031, 'wdckj7zuvl': 4032, 'znneooaz5w': 4033, 'mirror': 4034, 'yt4galxjgp': 4035, '6ugdamhjcr': 4036, 'wellb…': 4037, 'rbwclcyihf': 4038, 'p5atfukgor': 4039, 'consumers': 4040, 'underwent': 4041, 'lender': 4042, 'bt6huw6zfe': 4043, 'crknwtlzso': 4044, 'n1vqjf4cp7': 4045, '⬇️': 4046, 'here…': 4047, 'ln2tud3fdf': 4048, 'varshaegaikwad': 4049, 'will…': 4050, 'gled0ckibe': 4051, 'transfer': 4052, 'wealth': 4053, 'covering': 4054, 'a38mqrysau': 4055, 'yl12zpy5fw': 4056, 'exists': 4057, 'private': 4058, 'sectors': 4059, 'l6i5aexcpo': 4060, 'o5jlsngqpj': 4061, 'cbd': 4062, 'oil': 4063, \"reader's\": 4064, 'digest': 4065, 'yba0troapu': 4066, 'gtbank': 4067, 'branches': 4068, 'ubcgfcyuju': 4069, 'carpeteachem': 4070, 'comm31': 4071, 'ehelj1jvoi': 4072, '60': 4073, 'basis': 4074, 'njdshmvdxc': 4075, 'qvmtnghbiy': 4076, '27': 4077, 'credit': 4078, 'performing': 4079, 'assets': 4080, 'equyvczqvz': 4081, 'narendramodi': 4082, 'sticki…': 4083, 'ytrxil55so': 4084, 'drrpnishank': 4085, 'stickin…': 4086, 'hw6grtmvma': 4087, 'safeouts': 4088, 'msxptmp4gv': 4089, '9chifiyfrl': 4090, 'gajyuaco0a': 4091, 'qespfoitxw': 4092, 'iloyuemkmc': 4093, 'nzk6uczcb9': 4094, 'reliance': 4095, 'dj5w2pvaxj': 4096, 'candlab': 4097, 'em': 4098, 'cohodes': 4099, 'xhvclm2t0n': 4100, 'california': 4101, 'los': 4102, 'angeles': 4103, 'recommendations': 4104, 'leve…': 4105, 'blyovcvtst': 4106, 'crisis—eclipsed': 4107, '19—is': 4108, 'surg…': 4109, '6z6wbs4wlw': 4110, 'smoking': 4111, 'vaping': 4112, 'activ…': 4113, 'lkghfwjnux': 4114, 'oneangrydino': 4115, 'odyssey': 4116, 'year…': 4117, 'esyqgycp1y': 4118, 'outspoken': 4119, 'australias': 4120, 'viris': 4121, 'muc…': 4122, 'zgz0a0wfc4': 4123, 'gawkdn84bx': 4124, 'exist': 4125, 'vacuum': 4126, 'force': 4127, 'leaves': 4128, 'susc…': 4129, 'wr4qkg6axy': 4130, 'dg2lofzkki': 4131, 'unrest': 4132, 'systemic': 4133, 'jahhills': 4134, 'joy': 4135, 'fulfillment': 4136, 'tremendously': 4137, 'deleterious': 4138, 'orz8jy5arr': 4139, 'slvo2iqnn1': 4140, '195': 4141, '138': 4142, '71': 4143, 'indicated': 4144, 'wvogut3gla': 4145, 'hackinggavin': 4146, 'tracing': 4147, 'gdpr': 4148, 'regimes\\xa0': 4149, 'bqs0m60wup': 4150, 'gzti17rwak': 4151, 'mxhpnvploa': 4152, 'f6n4wfqfpz': 4153, 'jillian': 4154, 'bull': 4155, 'transitioning': 4156, 'uncertaintie…': 4157, 'q3iluona8m': 4158, 'unfortunately': 4159, 'uncertaint…': 4160, 'bauoozvafx': 4161, 'noncsxmz5c': 4162, 'cov4xgmq02': 4163, 'ogy80x51jv': 4164, 'turbotax': 4165, 'colleague': 4166, 'r84mgoblue': 4167, 'gho6p5pbsr': 4168, 'emotion': 4169, 'coac…': 4170, 'tixbslnjgl': 4171, 'uipw6tbctq': 4172, \"'beard\": 4173, \"alopecia'\": 4174, 'celtic': 4175, 'fuukclsx95': 4176, '3rgybp50qb': 4177, 'surrounding': 4178, 'wit…': 4179, 'qo2swlobne': 4180, 'maskers': 4181, 'protesters': 4182, 'pls': 4183, 'marches': 4184, 'demonstrations': 4185, 'revolve': 4186, '35l1dqvh3g': 4187, 'gad1jazojo': 4188, 'eg4fybh5dc': 4189, 'i0a5udelkp': 4190, 'pts': 4191, 'inflammat…': 4192, 'ctsija3bso': 4193, 'tricks': 4194, \"get'm\": 4195, 'seminar': 4196, 'supplement': 4197, 'baths': 4198, '79jbpnprxh': 4199, 'hvgshnxgzj': 4200, '4uppw5rnfa': 4201, 'overdiagnosed': 4202, \"'posttraumatic\": 4203, 'afte…': 4204, '09im0efjz6': 4205, 'yxisddi5zj': 4206, \"'possible'\": 4207, '2022': 4208, 'cnn…': 4209, '1ewbyxrkgk': 4210, 'relapse': 4211, 'individual': 4212, 'sig…': 4213, 'aih8rdguqz': 4214, 'gop': 4215, 'cease': 4216, 'desist': 4217, 'kill': 4218, 'tx': 4219, 'teac…': 4220, 'ycsqasuqnn': 4221, 'vl3lwuuyf1': 4222, 'mrdtafc': 4223, 'arsenal': 4224, 'aftvmedia': 4225, 'jogging': 4226, 'lose': 4227, 'committed': 4228, 'runs': 4229, '63svfrudp1': 4230, 'hyperbolic': 4231, 'n1kbpa9vi4': 4232, 'constant': 4233, 'presented': 4234, 'cf1jewa1qm': 4235, 'storm3329': 4236, 'rancidginger': 4237, 'realizing': 4238, \"didn't\": 4239, 'fgamxyxjiq': 4240, 'complications': 4241, 'after…': 4242, 'hygves3v4y': 4243, 'xjzadohe5d': 4244, 'bandyxlee1': 4245, 'debriefings': 4246, 'healthworkers': 4247, 'burn': 4248, 'cqbrqt4jza': 4249, \"'this\": 4250, \"day'\": 4251, 'nears': 4252, 'weary': 4253, 'heartbreak': 4254, 'zhzyemqfym': 4255, 'qbm6no8ucn': 4256, 'pharmacy': 4257, 'ben…': 4258, '7xyuglzcec': 4259, 'listen': 4260, 'coach': 4261, 'christine': 4262, 'franklyn': 4263, 'useful': 4264, '🎙…': 4265, 'rgviscjx7p': 4266, 'pension': 4267, 'ability': 4268, 'maintain': 4269, 'solvency': 4270, 'marke…': 4271, 'tg0t0ffkan': 4272, 'prescription': 4273, 'meds': 4274, 'thr…': 4275, 'qhbxzqwiix': 4276, 'supplementation': 4277, '“low': 4278, 'status…': 4279, '1rgnk2znyq': 4280, 'sobriety': 4281, 'challenge…': 4282, 'wivfi2yu3c': 4283, 'maryland': 4284, 'battled': 4285, 'dy1gdfqep1': 4286, 'updates': 4287, 'oo4rzkwr9u': 4288, 'organization…': 4289, 'ax467vlty3': 4290, 'prompting': 4291, 'existential': 4292, 'ljux4tgdhf': 4293, 'end…': 4294, 'hexmgcixnp': 4295, 'xkso1obqth': 4296, 'ihbcnml4o6': 4297, '7suswhrbg8': 4298, 'radiology': 4299, 'weathering': 4300, 'colleagues': 4301, 'ot…': 4302, 'pj8vv25tz2': 4303, '🟢': 4304, 'preparedness…': 4305, 'lgicyehudx': 4306, 'anxiousness': 4307, 'tryzjzwuct': 4308, 'y1qtvseez6': 4309, 'stuh3579': 4310, 'philmartinuk': 4311, 'purplevisits': 4312, 'prisoners': 4313, 'locked': 4314, 'behind': 4315, 'doors': 4316, 'fo…': 4317, 'lhaqwkhqbh': 4318, 'repjayapal': 4319, 'canceling': 4320, 'road': 4321, 'path': 4322, 'xnfuk4ikma': 4323, 'oa9nleamct': 4324, 'hospicewhispers': 4325, 'resilience…': 4326, '9czgceh1sa': 4327, 'i42qvcmbcv': 4328, \"cigna's\": 4329, 'manag…': 4330, 'pj6uljn4tv': 4331, 'hairloss': 4332, 'w2f0ewxoh8': 4333, 'u2ejvam4sp': 4334, 'combination': 4335, \"'unfortunate\": 4336, \"modeling'\": 4337, 'spawned': 4338, 'obus1gtsqd': 4339, '8e2yqqapkv': 4340, 'smh': 4341, 'vaccina…': 4342, 'l7nahtlu96': 4343, 'weakens': 4344, 'damage': 4345, 'distancing…': 4346, 'anipapjovv': 4347, 'togetherness': 4348, 'reck…': 4349, '4jwhmhrqcr': 4350, 'introduced…': 4351, 'dihpmwo7va': 4352, '35fxemriij': 4353, 'sharply': 4354, 'criti…': 4355, 'pgztox0txd': 4356, 'busy': 4357, 'man…': 4358, 're9upft6xh': 4359, 'crucial': 4360, 'ssw': 4361, 'lgbtq': 4362, 'individually': 4363, 'achieve…': 4364, 'uscjqng2rg': 4365, 'ffs': 4366, 'tmn9hsqsyl': 4367, 'sunday': 4368, 'shall': 4369, 'posting': 4370, 'widely': 4371, 'qgxmrhqlaf': 4372, 'prevents': 4373, 'increa…': 4374, '6tmn9xe8lk': 4375, 'rbkc’s': 4376, 'concer…': 4377, 'afzf33rwfw': 4378, 'corbieres999': 4379, 'expansivethink1': 4380, 'clarkemicah': 4381, 'ryanbourne': 4382, 'knew': 4383, 'dropp…': 4384, 'peaoeg8qha': 4385, 'bthjnpkuwv': 4386, 'jvxgdz93l9': 4387, 'undergo': 4388, '👇🏿': 4389, 'amrefcovid19responseke…': 4390, 'xv2drl88fe': 4391, 'cjsnowdon': 4392, 'odd': 4393, 'closing': 4394, 'gyms': 4395, 'tjbu4bbd1n': 4396, 'covid19vaccine': 4397, 'q4ylowkpy6': 4398, 'simologa': 4399, '😭😭😭💔💔💔': 4400, 'heartbreaks': 4401, 'failures': 4402, 'disap…': 4403, 'cfbditiy1c': 4404, 'emilynclark': 4405, 'courtneyellis': 4406, 'revdarylellis': 4407, '37': 4408, 'deleted': 4409, 'uvitz9psu9': 4410, 'missed': 4411, 'child…': 4412, '7bzqgyfdep': 4413, 'tracer': 4414, 'quite': 4415, 'pleased': 4416, 'deal…': 4417, 'upgzxho8u1': 4418, 'ypid6h1kze': 4419, 'av8aysprce': 4420, 'twitskeptic': 4421, 'oceantags': 4422, 'scienceshared': 4423, 'angrybklynmom': 4424, '“heightened': 4425, 'schoo…': 4426, 'fm1piggkna': 4427, 'sv3hrylad9': 4428, 'fdrrisqjdc': 4429, 'millions': 4430, 'discovered': 4431, 'rediscovered': 4432, 'fcllvuhsrn': 4433, 'szovnyrqgr': 4434, 'em203dimaria': 4435, 'alyssa': 4436, 'map': 4437, 'related…': 4438, '5ixddixzqp': 4439, 'vilkue3b0b': 4440, 'meganranney': 4441, 'exactly': 4442, 'incident…': 4443, 'lmbalc5w3l': 4444, 'yphf8pceif': 4445, 'mandyc': 4446, 'moore': 4447, 'relying': 4448, 'accomplish': 4449, 'tasks': 4450, 'try…': 4451, 'bdnnkvxdb1': 4452, 'arizona': 4453, 'confidential': 4454, 'healthcare…': 4455, 'siziatgawy': 4456, 'upsetting': 4457, 'stomach': 4458, 'umichmedicine': 4459, 'ulasjgogtb': 4460, 'y3swgj8km3': 4461, 'uumasilnlu': 4462, 'autism': 4463, 'debunked': 4464, 'clowns': 4465, 'read…': 4466, 'xqt0hgz9wi': 4467, 'falsely': 4468, 'claimed': 4469, 'uxbfccc6nb': 4470, 'reduction': 4471, 'ujxmcjaqhj': 4472, 'exvhxdxoob': 4473, 'pbv56m8sc6': 4474, 'k8bqihhskx': 4475, \"nature's\": 4476, 'dietary': 4477, 'ipw9ulxnms': 4478, 'impactors': 4479, 'cacking': 4480, 'z569odupgn': 4481, 'encompasses': 4482, 'train': 4483, 'amwa55bdxz': 4484, 'torn': 4485, 'addressed': 4486, 'rpdfjh9nrl': 4487, 'spozino': 4488, 'rea': 4489, 'lokela': 4490, 'lumella': 4491, 'monyetla': 4492, 'oa': 4493, 'tšeha': 4494, 'o': 4495, 'fete': 4496, 'ntate': 4497, 'vzvgi1yvhr': 4498, 'cwo': 4499, 'aca': 4500, 'ny': 4501, '4am1npz1jn': 4502, 'gj6yhkhsub': 4503, 'riknzimqqw': 4504, 'm1roof4sd2': 4505, 'fast': 4506, 'cuairfhlfc': 4507, 'luc9eq7wyd': 4508, 'ta…': 4509, 'pr1vzi3gmv': 4510, 'ajvqtww777': 4511, 'onlinefirst': 4512, 'heading': 4513, 'vax': 4514, 'aemxpr2vr7': 4515, 'titdaefkwj': 4516, 'breath': 4517, 'markchangizi': 4518, 'dafeid…': 4519, 'hx6j82lylj': 4520, 'rage': 4521, 'epxd83tgfm': 4522, 'geographic': 4523, 'nationalgeographic…': 4524, 'jgic4h3i0i': 4525, 'difficulties': 4526, 'chains': 4527, 'hunger': 4528, '5hycjd4txy': 4529, 'gf5vl0wfzv': 4530, 'yp8cof4i2m': 4531, 'worrisome': 4532, '1ifpburs2d': 4533, 'nb15xtw4xa': 4534, 'rafteseth': 4535, 'denver': 4536, 'bumped…': 4537, 'crychkcnb7': 4538, 'cfavq74bng': 4539, 'ghble92ztn': 4540, 'dlyvgbveyv': 4541, '8feam8fd9f': 4542, 'conquer': 4543, 'exam': 4544, 'warrior': 4545, 'celebrat…': 4546, 'fllyvv3zd2': 4547, 'infographic': 4548, '6ri3yisdlg': 4549, 'medicine': 4550, 'sciences': 4551, 'conversation': 4552, 'daniel': 4553, 'z': 4554, 'lie…': 4555, 'pocw2yf9wj': 4556, 'pprnowobe2': 4557, 'dzhwwkkabo': 4558, 'eobioegtzh': 4559, 'fnfgi9gon7': 4560, 'researchers': 4561, 'appears': 4562, 'triggered': 4563, 'partially': 4564, 'outbreaks': 4565, 'oft…': 4566, 'wmn2aocpu8': 4567, 'lmgmcmzfux': 4568, 'vaxfinder': 4569, 'failed': 4570, \"massdph's\": 4571, 'statement': 4572, 'dlbzpfq9uw': 4573, 'listing': 4574, 'k7q9vdrde0': 4575, 'txd3cqdgfe': 4576, 'zqz27mmbju': 4577, 'knlcvif81y': 4578, 'ipsos': 4579, 'qsz6wekana': 4580, 'conside…': 4581, 'pcdvu3b9y6': 4582, 'cert': 4583, 'imh9lhz128': 4584, 'ccqiryi5is': 4585, 'wwgxpiu215': 4586, 'tsneiujnxo': 4587, 'vtbuixraf1': 4588, 'treat': 4589, 'career': 4590, 'unforeseen': 4591, 'espec…': 4592, 'hcv4x1adxd': 4593, 'cyfh8nyvy8': 4594, 'gqdhwdf5fc': 4595, 'promotion': 4596, 'welfare': 4597, 'coiysrrwbk': 4598, 'gulf': 4599, 'coast': 4600, 'pleasant': 4601, 'surprise': 4602, 'chlnhxagbi': 4603, 'vf2tqmxyij': 4604, 'dave': 4605, 'herring': 4606, 'november': 4607, 'urging': 4608, 'ways…': 4609, 'ippny5duym': 4610, 'hearthealth': 4611, 'hugging': 4612, 'releases': 4613, 'oxytocin': 4614, 'tool': 4615, 'improving': 4616, 'ay3chjligz': 4617, 'mangkuk': 4618, 'heat': 4619, 'evacuated': 4620, 'degrees': 4621, 'fri…': 4622, '5jfnyapw2s': 4623, 'bw': 4624, '3akmjtxeio': 4625, 'ou1avgpeic': 4626, 'irl': 4627, 'profgayecunnane…': 4628, 'bv8afdt52j': 4629, 'arynews': 4630, 'cnl0oxxqjt': 4631, 'bmdawzkzkj': 4632, 'ptnrfvapov': 4633, 'et8p0ggtfu': 4634, 'lunch': 4635, '´；ω；': 4636, 'ummmm': 4637, 'qj7zic2wib': 4638, 'glutathione': 4639, '7xpvbmnxob': 4640, 'xbxdtlptgm': 4641, 'serious\\xa0covid': 4642, 'raxivmbqky': 4643, 'wont': 4644, 'ov…': 4645, 'p6boptukor': 4646, 'gross': 4647, 'destabilization': 4648, 'nigerian': 4649, 'fput4wbwoh': 4650, 'extraordinary': 4651, 'teams': 4652, 'ktfxxvj6g4': 4653, 'fs8twgrs8n': 4654, 'kills': 4655, 'rational': 4656, 'loneline…': 4657, 'ozalnucv6c': 4658, 'sufficient': 4659, 'incite': 4660, 'impediments': 4661, 'bouts': 4662, 'deb…': 4663, 'umia9qq0ez': 4664, 'drbrianhiggins': 4665, 'lucindasireland': 4666, 'locum': 4667, 'took': 4668, 'tg': 4669, 'xttblbex1i': 4670, '3an9zn3emp': 4671, 'utz3nhnoyi': 4672, 'surgeons': 4673, 'requested': 4674, 'pertient': 4675, 'x9vhnk74tt': 4676, 'denying': 4677, 'specifically': 4678, 'addit…': 4679, 'd4coazpksg': 4680, 'zfumvuowjy': 4681, 'petroldieselpricehike': 4682, 'arvindkejriwal': 4683, 'jai': 4684, 'kejriwal': 4685, 'jee': 4686, 'kindly': 4687, 'del…': 4688, 'fe2dopii2p': 4689, 'direct': 4690, 'indirect': 4691, 'qrlqauuhfy': 4692, 'seeds': 4693, 'fake': 4694, 'sow': 4695, 'seriousness': 4696, 'posed': 4697, 'concern…': 4698, 'xoypj209wz': 4699, 'mom': 4700, 'scaring': 4701, 'lungs': 4702, 'surgery': 4703, 'illness': 4704, '6e30pcnf4l': 4705, 'neurofeedback': 4706, 'optimizes': 4707, 'validating': 4708, 'delinquent': 4709, 'frequency': 4710, 'bands': 4711, 'ojjjkduf5i': 4712, 'frail': 4713, 'commo…': 4714, 'psgkrcsxwq': 4715, '20210219': 4716, 'lindsay': 4717, '3fug2ipkcr': 4718, 'glpwa1m3ye': 4719, 'mid': 4720, 'perceiving': 4721, 'csetbvdzvh': 4722, 'tarjqlg7z2': 4723, 'climate': 4724, 'policies': 4725, 'consequences': 4726, 'person…': 4727, 'vzbaetqjbv': 4728, 'bkdgs6c7nr': 4729, 'inactivity…': 4730, 'xzjymvxac2': 4731, '7rtsj9k8hv': 4732, '“two': 4733, 't9bdgjmvf2': 4734, 'meant': 4735, 'rjnuffsurx': 4736, 'proving': 4737, 'separation': 4738, 'kwrhy1bpwb': 4739, 'nyslabor': 4740, 'resigned': 4741, 'position': 4742, 'lc1616g0yv': 4743, 'walls…': 4744, 'yan7fjkryg': 4745, 'xtina269': 4746, 'hybrid': 4747, 'teaching': 4748, 'bringing': 4749, 'rega…': 4750, 'l2x2ectb9c': 4751, 'acjabbehb7': 4752, 'rachellavin': 4753, 'economists': 4754, 'mark': 4755, 'carney': 4756, 'boe': 4757, 'red…': 4758, 'oin4qpoicv': 4759, 'idtot': 4760, 'minute': 4761, 'pricks': 4762, 'ousted': 4763, 'govt': 4764, 'dabiegz5h5': 4765, 'consciously': 4766, 'tried': 4767, 'checking': 4768, 'charts': 4769, 'quarantine…': 4770, 'o8sj0knosn': 4771, 'uswhtskvpp': 4772, 'kwch12': 4773, 'former': 4774, 'ks': 4775, 'sen': 4776, 'bob': 4777, \"dole's\": 4778, 'lung': 4779, 'david…': 4780, 'pg48lltbch': 4781, 'initial': 4782, 'kiggqpu7gn': 4783, 'collegeofphys…': 4784, 'tbzfnebvj2': 4785, '53': 4786, 'relat…': 4787, 'ao2vffmsqw': 4788, 'coincided': 4789, 'spike': 4790, 'periods': 4791, 'worr…': 4792, 'qyjdyzju6p': 4793, 'credible': 4794, 'packaging': 4795, 'transmis…': 4796, '1707n9rjlh': 4797, 'flourish': 4798, 'wyda2ayic1': 4799, 'calstate': 4800, 'josephicastro': 4801, 'overworked': 4802, 'janitors': 4803, 'gardeners': 4804, 'cooks': 4805, '7lqvuyozf8': 4806, 'hampered': 4807, 'rdnvu2xm22': 4808, 'slhyfjx9pr': 4809, '“some': 4810, 'sort': 4811, 'golem': 4812, 'creature': 4813, '—…': 4814, 'rkwzeftqjg': 4815, 'j5ieyxuszz': 4816, \"wasn't\": 4817, 'keeping': 4818, 'thankful': 4819, 'fi…': 4820, 'hc2hbg9uhu': 4821, 'i9vkvjntri': 4822, 'r8ejcfqukq': 4823, '2nmvmbfhbd': 4824, 'b4tnxlvlgp': 4825, 'uho8oz7uqh': 4826, '03yuegjw9e': 4827, '1vkha8cxoh': 4828, 'breaths': 4829, 'chhbzh0k5u': 4830, 'xd2fkufkte': 4831, 'cohesive': 4832, 'professional': 4833, 'ff': 4834, 'fg': 4835, 'communications': 4836, 'addition…': 4837, 'hjz2nzo91d': 4838, 'solution': 4839, 'marriage': 4840, 'helper': 4841, 'hol…': 4842, 'ztxx4e4vdh': 4843, 'spoken': 4844, 'dozens': 4845, 'obligation': 4846, 'passion': 4847, 'job…': 4848, '6zlu10gbb3': 4849, 'triggering': 4850, 'neatl…': 4851, 'eegzpgnsaz': 4852, 'fhsho9we97': 4853, 'rc1mduzr9e': 4854, 'sgfnwhdmpe': 4855, 'as8cccxpq7': 4856, 'policy': 4857, 'messaging': 4858, 'ireland’s': 4859, 'examine': 4860, 'stick': 4861, \"you'd\": 4862, 'members': 4863, 'supported': 4864, 'natural': 4865, 'mainstream': 4866, 'narrative': 4867, 'early…': 4868, 'plenary': 4869, 'record': 4870, 'details': 4871, 'enjoyment': 4872, 'teer': 4873, 'oflatest': 4874, 'figures…': 4875, 'kxbesyndf1': 4876, 'edmnangagwa': 4877, 'urged': 4878, 'covid19pandemic': 4879, 'ligh…': 4880, 'qcxd8avjic': 4881, 'tempting': 4882, '7qzbkrtsr9': 4883, 'robbienicol': 4884, 'nzalternative': 4885, 'profit': 4886, 'paten…': 4887, 'cpend4i35m': 4888, 'detected': 4889, 'inspected': 4890, 'accepted': 4891, 'injected': 4892, 'validated': 4893, 'wild': 4894, 'tunj4bybjp': 4895, 'colonoscopy': 4896, 'eh': 4897, 'wnct': 4898, 'covers': 4899, \"cooper's\": 4900, \"state's\": 4901, 'xmz9zoakrz': 4902, \"'fully\": 4903, 'jhb6z97hbw': 4904, 'enthusiasts': 4905, 'chance': 4906, 'instructional': 4907, 'reecbcrcep': 4908, '🇮🇹': 4909, 'roberto': 4910, 'speranza': 4911, '1zxldt8xcx': 4912, 'maggiemacpherso': 4913, 'kerrimpr': 4914, 'implies': 4915, 'unknowns': 4916, 'masking': 4917, 'eve…': 4918, 'srpcz5isf1': 4919, 'aragon': 4920, 'turned': 4921, 'ckevvbnmtx': 4922, 'by3u9qykjt': 4923, 'timely': 4924, 'disinfection': 4925, 'recom…': 4926, 'cvqba9ptax': 4927, '“it': 4928, 'interest': 4929, 'enthusiasm': 4930, 'pool': 4931, 'olspa4hwqs': 4932, 'ovoy4cnpos': 4933, 'beqs1t3jkm': 4934, 'cplf24euwz': 4935, 'xn58tpfumo': 4936, 'jagaraviles': 4937, 'mipumh': 4938, 'ciudades': 4939, 'vacías': 4940, 'por': 4941, 'el': 4942, 'lab': 4943, 'rtvees': 4944, '9wkjjyogtq': 4945, 'soundscape': 4946, 'ryehv68jjl': 4947, 'jsorc9xedd': 4948, 'ytexxhxcw4': 4949, 'ljq167blrt': 4950, 'zfpojyqclj': 4951, 'k5zqrjxms7': 4952, '‘we': 4953, 'outside’': 4954, 'oahu': 4955, 'tier': 4956, 'cas…': 4957, 'qtbyzaanpb': 4958, 'equraapl8u': 4959, 'ibgnlbvbuh': 4960, 'ru8c3cdwdp': 4961, 'hgosfa19pc': 4962, 'bookings': 4963, '600': 4964, 'lays': 4965, 'gradually': 4966, 'iftzq6nwss': 4967, 'beat': 4968, 'le3sa8ihjf': 4969, 'clezsaxai7': 4970, '0qtfzvovoe': 4971, 'jrtspgigbc': 4972, 'feet': 4973, 'rui4ty118d': 4974, 'q3skteapjn': 4975, 'quebec': 4976, 'ahead': 4977, 'canada…': 4978, 'fdyacpnbvb': 4979, 'cinemas': 4980, 'ice': 4981, 'rinks': 4982, 'pools': 4983, 'resume': 4984, 'operations': 4985, '4ew8zri8f6': 4986, 'decline': 4987, 'albuquerque': 4988, 'zge6dz8xrs': 4989, 'pkxuxyva7m': 4990, 'kclnbs9o7c': 4991, 'pifzbysik1': 4992, '‘full…': 4993, '7z0scbk1z1': 4994, 'svfd3xqudl': 4995, 'sputnikvaccine': 4996, 'sputnikv': 4997, 'svavz7p9ol': 4998, 'visit': 4999, 'cambrian': 5000, 'branch': 5001, 'scan': 5002, 'z0vjapvutv': 5003, 'prime': 5004, 'next…': 5005, 'gouqzhlbbb': 5006, 'nq7wu9klog': 5007, 'control…': 5008, 'atin8v4sev': 5009, \"biden's\": 5010, 'chief': 5011, 'advisor': 5012, 'foyy8fj5h9': 5013, 'reuters': 5014, 'elcwtpvnew': 5015, 'strict': 5016, 'tq3ysoonfk': 5017, 'dierksbentley’s': 5018, 'passengers': 5019, 'i5wftnl4c1': 5020, 'frustration': 5021, 'grows': 5022, 'seniors': 5023, \"ontario's\": 5024, 'c5d27akuox': 5025, 'ju…': 5026, 'oxpplvotyj': 5027, 'remembering': 5028, 'conflicted': 5029, \"uk's\": 5030, 'distancing': 5031, '8ia6t1vu9v': 5032, '’s': 5033, 'vaccines\\xa0': 5034, 'spx': 5035, 'building’s': 5036, 'entertainment': 5037, 'foot': 5038, 'members…': 5039, 'uixjvt3jgc': 5040, 'anlu6zr2tj': 5041, \"who've\": 5042, 'us’s': 5043, 'dsy7vkswfy': 5044, '😎': 5045, 'x3nipuam0s': 5046, 'clnmwy2hef': 5047, 'b98zhtl3mh': 5048, 'ogjnhl2z9y': 5049, '“state': 5050, 'governors': 5051, 'appear': 5052, 'forgetting': 5053, 'ezasehla7w': 5054, 'die': 5055, 'fantasizing': 5056, 'jzg5d86uih': 5057, 'tomorrow’s': 5058, 'finally': 5059, 'vlzzcgyiho': 5060, 'magdalenapleba2': 5061, 'rmit': 5062, \"'relax'\": 5063, 'ybehzfgbab': 5064, \"'good\": 5065, \"trend'\": 5066, 'visitor': 5067, 'roussin': 5068, 'bh4tynf2f7': 5069, 'achievement': 5070, '‘no': 5071, 'relax’': 5072, 'johnson': 5073, '🔴': 5074, '–\\xa0bbc': 5075, '5rzzvaeqzk': 5076, 'passed': 5077, '511': 5078, '8000': 5079, 'zvs6fndgmp': 5080, 'stored': 5081, 'duzs8twyvr': 5082, 'knitting': 5083, '101': 5084, 'awlofv3snu': 5085, 'governmentpreferpopulism': 5086, 'tory': 5087, \"scientist's\": 5088, '9kntv3ozsc': 5089, 'touched': 5090, 't7wbkcn9qr': 5091, 'murcia': 5092, 'nigerians': 5093, 'adherence': 5094, 'pharmaceutical': 5095, 'preventive': 5096, 'protocols': 5097, 'elishasauers': 5098, 'trend': 5099, \"virginia's\": 5100, 'fallen': 5101, 'holiday…': 5102, 'lpbx8w65ys': 5103, 'travelling': 5104, 'either': 5105, 'studies…': 5106, 'hyzxafpcls': 5107, 'rwonmaui': 5108, 'nytimes': 5109, 'concerned': 5110, '8udhjenx3f': 5111, 'offl': 5112, 'shocked': 5113, 'helth': 5114, \"professional's…\": 5115, 'v6aj4otwdw': 5116, 'w3lmvu0ald': 5117, 'writingbblunvrs': 5118, 'indoors': 5119, 'arrest': 5120, 'lnyix9ogib': 5121, 'heyits': 5122, 'bats': 5123, 'eto': 5124, 'kay': 5125, 'western': 5126, 'refusing': 5127, 'laws': 5128, '9znv3qyyfo': 5129, 'table': 5130, 'european': 5131, 'fqxoalqibz': 5132, 'shipments': 5133, 'qu…': 5134, 'uxlwg9253k': 5135, 'curbs': 5136, 'yjmprm8o7o': 5137, \"'optimistic\": 5138, \"approach'\": 5139, 'hailed': 5140, 'but…': 5141, '5wnerarhch': 5142, 'bxdjtqsik9': 5143, 'returned': 5144, 'co6sk8ieys': 5145, 'leaked': 5146, 'sly': 5147, 'enoughisenough': 5148, '6yqirzfth0': 5149, 'benefits': 5150, 'landscaping': 5151, 'gre…': 5152, 'ojstdnzmlq': 5153, 'wxlfb9an6b': 5154, 'lacewingphoto': 5155, 'father': 5156, 'instead': 5157, 'walk': 5158, 'qqgslkjc1t': 5159, 'msfi5w4z3l': 5160, 'fordlynxrs': 5161, '95': 5162, 'reportedly': 5163, 'herd': 5164, 'uyeondzzir': 5165, 'hooray': 5166, 'jersey': 5167, 'pearl': 5168, 'café': 5169, 'breakfast': 5170, 'tqfa5nrqoi': 5171, 'diamondandsilk': 5172, 'abt': 5173, 'flcs89rxtn': 5174, 'boss': 5175, 'tedros': 5176, 'ghebreyesus': 5177, 'tanzania': 5178, 'robust': 5179, 'action': 5180, 'remains…': 5181, 'fncprvmnck': 5182, 'faces': 5183, 'studio': 5184, 'phhouzsjos': 5185, 'seeks': 5186, 'store': 5187, 'temperatures': 5188, 'logistics': 5189, 'prvekci21n': 5190, 'ajoy713': 5191, \"they're\": 5192, 'll86mjobmy': 5193, 'word': 5194, 'carrying': 5195, 'gqo6i0majl': 5196, 'umairhassanoo01': 5197, 'jhoot': 5198, 'bol': 5199, 'raha': 5200, 'ye': 5201, 'concession': 5202, 'kaisay': 5203, 'mil': 5204, 'gaya': 5205, '7zfdm0cknp': 5206, 'right’no': 5207, '‘now': 5208, 'concu…': 5209, 'eqpttdriek': 5210, 'saturday': 5211, 'lift': 5212, 'orders': 5213, 'socialdistancing': 5214, 'measure…': 5215, 'g08h5uhpvw': 5216, 'specific': 5217, 'reference': 5218, 'premie…': 5219, 'io3ze45ptj': 5220, \"biontech's\": 5221, '1dbfhqahkm': 5222, 'slashdot': 5223, 'l6vx6hriwk': 5224, 'positivity': 5225, 'recommending': 5226, 'ptnkkfvkcd': 5227, 'grteykru2c': 5228, 'baxby': 5229, 'manor': 5230, 'whilst': 5231, 'yneavd2tgz': 5232, 'liverpool': 5233, 'win': 5234, 'klopp': 5235, 'hxl5aogilm': 5236, 'canary': 5237, 'island…': 5238, 'sooyp47sxj': 5239, 'seasonal': 5240, 'coronaviruse…': 5241, 'nslqzpbfjs': 5242, 'qi8jgxg41v': 5243, 'pegzsny6vw': 5244, 'adair': 5245, 'county’s': 5246, 'truman’s': 5247, 'precautions': 5248, 'bu9nci4no8': 5249, 'cnwmifawio': 5250, 'popping': 5251, 'essentials': 5252, 'shops': 5253, 'bcgiecewor': 5254, 'qdyvpmf8fi': 5255, 'pmoindia': 5256, 'cmofficeup': 5257, 'myogiadityanath': 5258, 'dmgbnagar': 5259, 'dm': 5260, 'ghaziabad': 5261, 'schools…': 5262, 'thmu1ntvc1': 5263, 'em6fmcxtry': 5264, 'vwntkl3ieo': 5265, 'gng6nvamkx': 5266, '6bwmlouilw': 5267, 'newsvideo': 5268, 'breakingnews': 5269, 'youtube…': 5270, 'hd8xb1yo5v': 5271, 'zxek0enird': 5272, 'f6uoac29u1': 5273, 'uuiwnmj09o': 5274, 'tennislive': 5275, 'allowed': 5276, 'australian': 5277, 'australia’s': 5278, 'lgwvhzqpdn': 5279, 'peril': 5280, '53uqrgdbjd': 5281, 'afrobasket': 5282, 'ssbfed': 5283, 'travelled': 5284, 'rwanda': 5285, 'september': 5286, 'fine': 5287, '1xp468ouui': 5288, 'uo2qzdt65y': 5289, 'vstur6lgra': 5290, 'unhxgajmqa': 5291, 'relaxation': 5292, 'lcwtdyqfoe': 5293, 'ivy6lsp0si': 5294, 'aboard': 5295, 'cmlferry': 5296, 'fisdf8ccyz': 5297, 'lvczutv3eg': 5298, 'falling': 5299, 'possibility': 5300, 'mont…': 5301, 'jsejjw08co': 5302, 'fell': 5303, 'chair': 5304, '“regulations”': 5305, 'kc': 5306, 'rest…': 5307, 'qibjgwim90': 5308, 'holly': 5309, 'reconsider': 5310, 'effective': 5311, 'preventi…': 5312, '8lpw5rcmrn': 5313, 'dvtq9jxn18': 5314, 'spotted': 5315, 'giant': 5316, 'cat': 5317, 'building': 5318, 'unisaled': 5319, 'bradley': 5320, 'a1vvnops4q': 5321, 'pgdds0oguo': 5322, 'learnt': 5323, 'drtinarae': 5324, 'fyczieubip': 5325, 'qiude85bhi': 5326, 'johndoss1': 5327, 'cfosee': 5328, 'fordnation': 5329, 'celliottability': 5330, 'sylviajonesmpp': 5331, 'dougie': 5332, 'buck': 5333, '🍺': 5334, 'timmies': 5335, 'ford': 5336, \"i've…\": 5337, 'ohjiaidsmm': 5338, 'perpetual': 5339, 'nmqtujzevp': 5340, 'spring\\xa0resurgence': 5341, 'jkntgjuscs': 5342, 'recommendation': 5343, 'quebec’s': 5344, 'province': 5345, 'restriction…': 5346, 'eqb1ggmmxu': 5347, 'qou4lcylkb': 5348, 'javedak70048620': 5349, 'kenworthy39': 5350, 'nwmwaypolice': 5351, 'chsuptleaper': 5352, 'haqueabs': 5353, 'thinbluephonel1': 5354, 'wyp': 5355, 'pcwillis': 5356, 'ceh135…': 5357, 'jzdy6mtxvl': 5358, 'store…': 5359, 'wheehzpiui': 5360, 'xe9nhtlilf': 5361, 'canaries': 5362, '9v2pqdwhwu': 5363, 'fortunemagazine': 5364, 'ultimately': 5365, 'temperature': 5366, 'fakqjcmc8g': 5367, 'zokmo1fgvs': 5368, 'matthancock': 5369, 'conservatives': 5370, 'criminal': 5371, 'handcock': 5372, 'showering': 5373, 'hyt5xi8vvg': 5374, '“': 5375, 'hovxj1eqfx': 5376, 'h1p2aw9ne5': 5377, 'z0irjrcwlx': 5378, 'cant': 5379, 'publichealth': 5380, 'weari…': 5381, '4kivy8sxce': 5382, 'rich': 5383, 'nation': 5384, 'banana': 5385, 'communist': 5386, 'republic': 5387, 'sucking': 5388, 'tit': 5389, 'p3v1mleze8': 5390, 'disappointed': 5391, 'fmwales': 5392, '‘stay': 5393, 'home’': 5394, 'uj2taphegj': 5395, 'virginia': 5396, 'restaurants': 5397, 'retail': 5398, 'sto…': 5399, '6qbkp0lcvi': 5400, 'g0iawncxku': 5401, 'cdnpoli': 5402, 'cdcgov': 5403, 'kkvv0nsfoj': 5404, 'pdjn5opghb': 5405, 'f9migx05c8': 5406, 'rome': 5407, 'burning': 5408, 'fiddling': 5409, 'leads': 5410, 'wto': 5411, 'ru…': 5412, 'laewp0x1la': 5413, 'provinces': 5414, 'sfmqevawzf': 5415, 'styling': 5416, 'design': 5417, 'dominate': 5418, 'upended': 5419, 'rnvugbqjuw': 5420, '🇧🇴': 5421, 'bolivia': 5422, 'cochabamba': 5423, '0tharj9fsx': 5424, 'board': 5425, 'flintshire': 5426, 'ob936qwnci': 5427, '0xkujtqij7': 5428, 'mix': 5429, '2ttynaekyj': 5430, 'piersmorgan': 5431, 'vaxxers': 5432, 'mutating': 5433, 'strains': 5434, 'ncq3zlpjia': 5435, 'income': 5436, 'xypjk0vek6': 5437, 'gsqkcrumcx': 5438, 'gaza': 5439, 'strip': 5440, '▪️iyad': 5441, 'buzum': 5442, 'spokesperson': 5443, \"palestine's\": 5444, 'interior': 5445, 'ministr…': 5446, 'pbi0nhyj9d': 5447, 'pigj7pmvee': 5448, 'hamilton': 5449, 'coppinger': 5450, 'hamilton…': 5451, 'rqjmkbe47j': 5452, '🙄': 5453, 'mtpol': 5454, 'mii2ef6bup': 5455, 'bangkok': 5456, \"administration's\": 5457, 'resumption': 5458, 'committee': 5459, 'decided': 5460, '0mjz4stjxd': 5461, 'rljhd8ruwh': 5462, 'depend': 5463, 'mjjhovqbxi': 5464, 'nearing': 5465, 'tearful': 5466, 'wvjag8ejoa': 5467, 'nationals': 5468, 'saturated': 5469, 'nats': 5470, 'manager': 5471, 'davey': 5472, 'martinez': 5473, 'tells': 5474, 'wnbosaobqd': 5475, 'shifted': 5476, 'transmission': 5477, 'ayev18poqh': 5478, 'chriscuomo': 5479, 'fredo': 5480, 'bud': 5481, 'cuomoliedpeopledied': 5482, 'cuomocoverup': 5483, 'lbdgkk53ec': 5484, 'dedicated': 5485, '2zodyu0eox': 5486, 'postpone': 5487, 'super…': 5488, '4cw37gkvfi': 5489, 'schedule': 5490, 'pick': 5491, '🚚': 5492, 'vuueod4mn7': 5493, '“i’ve': 5494, 'balanc…': 5495, 'y8odphjaoq': 5496, 'dude': 5497, 'telling': 5498, 'nose': 5499, 'c8fahemtud': 5500, 'ezurd4ytnx': 5501, 'sipho': 5502, '93': 5503, 'groove': 5504, 'player': 5505, 'broke': 5506, 'i7zn21jhkk': 5507, 'angellamuno': 5508, 'lunarossa': 5509, 'mate': 5510, 'nz': 5511, 'qui…': 5512, 'dk68owrofq': 5513, 'wearamask': 5514, '3j0ijapg4y': 5515, 'yahooindia': 5516, 'mayors': 5517, 'vote': 5518, 'mgcq': 5519, 'gcq': 5520, 'capital': 5521, 'xuhh5gexew': 5522, 'qkn1zxv6bn': 5523, 'bqwvzolw1q': 5524, 'prison': 5525, 'ygttz1iw9y': 5526, 'rdktjjj5ih': 5527, 'guy': 5528, 'yynpxlasas': 5529, 'brock': 5530, 'o’brien': 5531, 'artandwriting': 5532, 'visions': 5533, 'nominee': 5534, '5e6pfilrbd': 5535, '🤲': 5536, 'six': 5537, 'simple': 5538, 'o8fmtcwtyk': 5539, 'taoiseach': 5540, 'defends': 5541, 'accused': 5542, 'nwmcqfgjml': 5543, 'asiwajulerry': 5544, 'party': 5545, 'gwcc3cufm6': 5546, 'uozhzwpivt': 5547, 'vyse73bdqd': 5548, 'covidbc': 5549, 'far…': 5550, '5mtg70qhow': 5551, 'bullying': 5552, 'kerry': 5553, 'certificate': 5554, 'mostly': 5555, 'females': 5556, 'they…': 5557, 'u1vcgqfwth': 5558, 'during…': 5559, 'ofpvocqni3': 5560, '86j1v5igqf': 5561, 'nutrition': 5562, 'fractures': 5563, 'optimum': 5564, 'mdqbu3mzqt': 5565, 'xkgzrvtyp0': 5566, 'ujdnn3agsm': 5567, 'gu8xjl1bt9': 5568, 'zidld66bpu': 5569, \"hcardd's\": 5570, 'page': 5571, 'ttgocxnxrl': 5572, 'cabin': 5573, 'fever': 5574, 'storms': 5575, 'layer…': 5576, 'd5lxxxhhcr': 5577, 'onted': 5578, 'smho': 5579, 'smso': 5580, 'trips': 5581, 'f4q1qazlmw': 5582, 'zeypbsvxv1': 5583, 'report…': 5584, '“while': 5585, 'exercise': 5586, 'delhi': 5587, 'advanced': 5588, 'message': 5589, 'tries': 5590, 'bounce': 5591, 'tl8gejuwnt': 5592, 'xmusftjeyw': 5593, 'average': 5594, 'remained': 5595, 'sin…': 5596, 'm8rsbvqhrz': 5597, 'hviodkdowu': 5598, 'govabbott': 5599, 'highs…': 5600, '3sapj77yxi': 5601, 'yfm3zpq7ht': 5602, 'nabfqmyshp': 5603, 'mailonline': 5604, 'delroyrs': 5605, 'nojabnojob': 5606, \"'we\": 5607, \"shouldn't\": 5608, \"relax'\": 5609, 'dispute': 5610, 'yyyg8vo0dx': 5611, 'pitt': 5612, 'steven': 5613, 'scott': 5614, 'disruptive': 5615, 'ytayh4ett9': 5616, '‘keep': 5617, 'well’': 5618, 'campaign': 5619, 'promoting': 5620, 'takin…': 5621, 'dg8j3nmgtb': 5622, \"wednesday's\": 5623, 'hinted': 5624, 'announcement': 5625, '1mkxeactxu': 5626, 'hashfyre': 5627, 'thrice': 5628, 'invideo': 5629, 'p0': 5630, 'unaware': 5631, '3pme1bilqu': 5632, 'marobelakpm2': 5633, 'destination': 5634, 'zim': 5635, 'ntsikimazwai': 5636, 'meuf27zccc': 5637, 'representatives': 5638, 'deliberations': 5639, 'proposed': 5640, 'procurement': 5641, 'which…': 5642, '7nahqego6o': 5643, 'border': 5644, 'bringusbackaus': 5645, 'returntoaus': 5646, 'iknasgovsw': 5647, 'easyfitlives': 5648, 'deray': 5649, 'zero': 5650, 'problems…': 5651, '649fxehrcb': 5652, 'name': 5653, 'disinfectant': 5654, 'generator': 5655, 'diwa': 5656, '2500': 5657, 'pro…': 5658, 'y7tjvtkghw': 5659, 'planes': 5660, 'grounded': 5661, 'zmcnxnvhfn': 5662, 'sanjayjourno': 5663, 'meevkt': 5664, 'dancing': 5665, 'gone': 5666, 'pe…': 5667, 'kwfaolddfd': 5668, 'intensifying': 5669, '4lskydsrpj': 5670, 'holidays': 5671, 'person': 5672, 'delivery': 5673, 'like…': 5674, 'fergalbowers': 5675, 'comment': 5676, 'rights': 5677, 'equality': 5678, 'commission': 5679, 'kx0gdrrtkp': 5680, 'futurity…': 5681, 'id4elecrpp': 5682, 'charleehanna': 5683, 'deed': 5684, 'borne': 5685, 'accumulated': 5686, 'c2yrxyyt9q': 5687, 'aga…': 5688, '2qsfqwugap': 5689, 'pptprfyl2n': 5690, 'closures': 5691, 'diversion': 5692, 'program…': 5693, 'uvdbqay6qv': 5694, 'partnered': 5695, 'fau': 5696, 'pres…': 5697, 'bzoaafik4n': 5698, 'professions': 5699, 'responsibiliti…': 5700, '4dvbtjjevw': 5701, 'golf': 5702, 'clubs': 5703, 'nt82za9xbl': 5704, 'p8l3i5yxtk': 5705, 'neil': 5706, 'mcdonnell': 5707, 'isme': 5708, 'condone': 5709, 'actions': 5710, 'guideli…': 5711, '7dzb3qqu9l': 5712, 'openuniversity': 5713, 'contracts': 5714, 'nvi450wzai': 5715, 'newbo…': 5716, 'cntyqcaq3t': 5717, 'satisfaction': 5718, 'plummets': 5719, 'finan…': 5720, 'qs4gbfkciw': 5721, 'mexico': 5722, 'launches': 5723, 'counseling': 5724, 'hotline': 5725, 'counsel…': 5726, 'fdffmbjzlo': 5727, 'lecturer…': 5728, '1rtxma7bsj': 5729, 'y7tbjedjd9': 5730, 'cohort': 5731, 'programmes': 5732, 'uninorthants': 5733, 'learning…': 5734, 'k7znkeorm8': 5735, '65': 5736, '20…': 5737, 'vaxhldlueq': 5738, 'nationwide': 5739, 'stemming': 5740, '38djmcijp9': 5741, 'cdc’s': 5742, 'hoping': 5743, 'relieves': 5744, 'oo97pqmlqt': 5745, 'breaks': 5746, 'mu8nbbfiow': 5747, '63': 5748, '54': 5749, '47': 5750, 'qdpicfnslz': 5751, 'holmes': 5752, 'comes': 5753, 'caregiving': 5754, 'peace': 5755, 'occurrence': 5756, 's1vordixek': 5757, 'signal': 5758, 'oppo…': 5759, 'xhkjarehmi': 5760, 'random': 5761, 'acts': 5762, 'kindness': 5763, 'necessary': 5764, 'kind…': 5765, 'esby2ba8zp': 5766, 'mon…': 5767, '1vmnivwnrq': 5768, \"farmers'\": 5769, 'trade': 5770, 'wars': 5771, 'shined': 5772, 'bri…': 5773, 'e0nhxy9k5x': 5774, 'functional': 5775, 'gastrointestinal': 5776, '6rlbarp8lh': 5777, 'any2ohklku': 5778, 'n5t3zesd6u': 5779, 'hlbwnfdos6': 5780, 'calexicounified': 5781, 'dolowicedm': 5782, 'insight': 5783, 'ebook': 5784, 'gpb2siohqu': 5785, 'ieprlyitfb': 5786, 'drugs': 5787, 'they’ve': 5788, 'fro…': 5789, 'provider': 5790, 'extremely': 5791, 'grandma': 5792, 'possitive': 5793, 'hurting': 5794, 'adaa': 5795, 'drluanamarques': 5796, 'insig…': 5797, 'cost': 5798, 'guests': 5799, 'ensure': 5800, 'total': 5801, 'educa…': 5802, 'increasingly': 5803, 'estimated': 5804, '😢': 5805, 'overdose': 5806, 'nyc': 5807, 'psychotherapy': 5808, 'organized': 5809, 'kind': 5810, 'confirmed': 5811, 'imposed': 5812, 'iitdelhi': 5813, 'warning': 5814, 'organic': 5815, 'enormous': 5816, 'greatest': 5817, 'elderly': 5818, 'taking…': 5819, 'mild': 5820, 'illnesses': 5821, 'icu': 5822, 'festival': 5823, 'attributed': 5824, 'clinical': 5825, 'globally': 5826, 'transition': 5827, 'close': 5828, 'ther…': 5829, 'concerted': 5830, 'connect': 5831, 'arti…': 5832, 'alarming': 5833, 'isolat…': 5834, 'went': 5835, 'occupational': 5836, 'layer': 5837, 'absence': 5838, 'soars': 5839, 'exacerbates': 5840, 'uk’s': 5841, 'ppe…': 5842, 'delhi\\xa0study': 5843, 'miracles': 5844, 'djlxst7lor': 5845, 'government’s': 5846, '“firm': 5847, 'hope”': 5848, 'followin…': 5849, '3jku22kc0u': 5850, 'toddrharvey': 5851, 'technically': 5852, 'approved': 5853, 'prescribing': 5854, 'label': 5855, 'r5uuaiafo7': 5856, 'yiagflondm': 5857, 'oaeilh40ty': 5858, 'zaan4gbxzy': 5859, 'dominos': 5860, 'ywzzvwhubf': 5861, 'fox': 5862, \"news'\": 5863, \"veterans'\": 5864, '1qooxburj8': 5865, '85ghgwrfrx': 5866, 'majpd4pg0x': 5867, 'ilhhkkl3ej': 5868, 'uvtw35dwji': 5869, 'pq8v6t4bpz': 5870, 'zttok3ffik': 5871, 'wih7abcblv': 5872, 'go5madkl7a': 5873, 'p02ztv0s1l': 5874, 'taoiseach’s': 5875, 'defending': 5876, 'accu…': 5877, 'glnap30olp': 5878, 'dazeenho': 5879, 'processed': 5880, 'pace': 5881, 'htcjp6qcoy': 5882, '6p4ektt5sz': 5883, 'unique': 5884, 'anxiet…': 5885, 'vgxlbrlcwm': 5886, 'therealhoarse': 5887, 'trumpties': 5888, 'voice': 5889, 'sniffie': 5890, 'antics': 5891, 'ldheqbkjei': 5892, 'graduate': 5893, 'complete': 5894, 'coped': 5895, '1gbnjcnsxd': 5896, 'aggravated': 5897, 'compromised': 5898, 'explai…': 5899, 'y60ahswcqx': 5900, '7vbov64uak': 5901, 'stuck': 5902, 'y2x5x64lro': 5903, 'a3z97zkc6l': 5904, 'dimordlmtz': 5905, 'gr9kdat2uw': 5906, '‘i': 5907, 'hate': 5908, 'dark’': 5909, 'insecurity': 5910, 'untcczfane': 5911, 'dentists': 5912, 'bruxism': 5913, 'x06rr0k5ls': 5914, 'pxqhpzanw8': 5915, 'marcus': 5916, 'arnett': 5917, 'ksu': 5918, 'csdept': 5919, 'diffic…': 5920, 'zg2cunob7v': 5921, '🦠': 5922, 'placing': 5923, 'visiting': 5924, 'jkba24vcxk': 5925, 'w3opkrwsqg': 5926, '7m3korjimd': 5927, 'jj5l5aqyrk': 5928, '9ijdhrhv0b': 5929, '4ruye9wi2b': 5930, 'tanisha': 5931, 'nunn': 5932, 'gary': 5933, 'african': 5934, 'chamber': 5935, 'commerce': 5936, 'florida': 5937, 'fav8inpbzw': 5938, 'explicitly': 5939, 'relateable': 5940, 'abo…': 5941, '72vgvrszjr': 5942, 'imtq1dxcds': 5943, 'flg33htgnc': 5944, 'disaster': 5945, 'vfdbqkxpw8': 5946, 'c7hbembxxi': 5947, 'zfuqi0ofrd': 5948, 'eru1wq20bl': 5949, 'independentsage': 5950, 'eaquto0sri': 5951, 'added…': 5952, 'o5g07hj2lo': 5953, 'n4qraezyl8': 5954, 'ridfif6qvh': 5955, 'abajriquf5': 5956, 'pjzozeavec': 5957, 'cnjro1t86e': 5958, 'qyrqnyyfoy': 5959, 'pzqrr0gv63': 5960, 'xrqwge68x9': 5961, 'weakness': 5962, 'ungratefulness': 5963, 'i8aep2f3m2': 5964, 'npfxwjulb9': 5965, '7eanbthlyx': 5966, 'trjdk5llhn': 5967, 'yq3muqdfyq': 5968, 'qyt4zkcsc1': 5969, 'zwuxhscrqk': 5970, 'acp2aqsz2u': 5971, 'ecjba5mzu2': 5972, 'kd15vlcdas': 5973, 'ly0rhqrlxq': 5974, 'vbexsk5m3z': 5975, '0h1mehxuwb': 5976, '4s1oip8dnk': 5977, 'fn1b7ngoie': 5978, 'pa9cgliy88': 5979, '0wtgi0ogrp': 5980, 'uyamz9evfz': 5981, 'manage…': 5982, 'jwpiwdc4mb': 5983, 'izjc9ogk0j': 5984, 'cdo5m9sbnb': 5985, '59bzu8pep8': 5986, 'e4uaha2r7j': 5987, 'nyqluq3krb': 5988, 'wxgshdl5nv': 5989, 'l1vrstfcn5': 5990, 'reveals': 5991, 'units': 5992, 'turnover': 5993, '5pjkajwfeb': 5994, 'a82sstetlq': 5995, 'wq0t9pwiar': 5996, 'b4fntj4ljv': 5997, 'ucrzac3der': 5998, '4qj24zcj2x': 5999, 'ecqwlbxhpb': 6000, '4jqmjvolzr': 6001, '7y8bcwc9vo': 6002, 'bfgsejzo4q': 6003, 'dbbnutyr2h': 6004, 'e8pcpllrdx': 6005, 'ip4e360ukn': 6006, 'kfmnu0eibp': 6007, '3aotkvzcob': 6008, 'kimberly\\xa0holmes': 6009, '4ef2xsiyn0': 6010, 'aj2mjrw3jb': 6011, 'grueling': 6012, 'discouraging': 6013, 'exhausting': 6014, 'hg95axm7ll': 6015, 'apsjzeoclx': 6016, '669lgn18mo': 6017, '6axesbwyni': 6018, 'olmsqiz1n1': 6019, 'utmlthqx1b': 6020, 'uv4trsapkt': 6021, 'dszcqlozd7': 6022, 'z7opb4qc8r': 6023, 'gywte36kvr': 6024, '5rezvsjiwi': 6025, 'divpf86brv': 6026, 'pewzcrpzgv': 6027, 'issues…': 6028, 'uy4ge0wnvz': 6029, 'rz2zegibde': 6030, 'jidittu88p': 6031, 'ilk9ahkt6p': 6032, 'mhdo2ubnau': 6033, 'm0lmjflh2r': 6034, 'zpzsuaqpfh': 6035, 'kq7vsfdzqf': 6036, 'dpzf2k4eza': 6037, 'xnkxjuonfa': 6038, 'vvpvrhirwe': 6039, 'd3kkedbn7h': 6040, 'yjeasu3vvf': 6041, 'dg5quhs1a9': 6042, 'iwrmqxgfpy': 6043, 'gbpl8iaiol': 6044, 'hyfu7vodey': 6045, 'y54enopsxy': 6046, 'u0zsdsu0n0': 6047, 'f5re4vofyb': 6048, 'ahsjwh7orp': 6049, 'xdlzw7jqvl': 6050, 'ykdvpgkkic': 6051, 'wn9dyqalur': 6052, 'x4raasjsuq': 6053, 'sg1tkibqah': 6054, 'ld0op2few4': 6055, 'ti3uuyszkq': 6056, '7wh0vovpei': 6057, 'jjpzlatmvt': 6058, 'bcz6fup8bd': 6059, \"'ma\": 6060, \"she's\": 6061, 'not…': 6062, 'pfvwjwgxif': 6063, 'wcqcctvzjb': 6064, 'bhjhhw4cnj': 6065, 'ilwh3c666n': 6066, 'pcqdshkkwh': 6067, 'dmtjiyag4o': 6068, 'jhseyxocpr': 6069, 'iqmkv7deep': 6070, 'pfkhtmc0ph': 6071, '5f2msplsvg': 6072, 'rcjznljhmy': 6073, 'qcdcouq53i': 6074, 'fccare': 6075, 'rbuqxswg0x': 6076, 'kaab0jhi4k': 6077, 'intensified': 6078, 'spzqpmmgfm': 6079, 'f2dpbscozd': 6080, 'holmes…': 6081, 'mctos3afxr': 6082, 'ha8rwllxc9': 6083, 'uba': 6084, 'cards': 6085, 'rides': 6086, 'zewawwugzb': 6087, 'crises': 6088, 'dissidence': 6089, 'bei…': 6090, 'sy8xzerlmi': 6091, 'utuoakphdh': 6092, 'premieres': 6093, 'idiots': 6094, 'using': 6095, 'emergencies': 6096, 'april2020': 6097, '3fkfr1zjzo': 6098, 'rp2021': 6099, 'opening': 6100, 'minutes': 6101, 'disa…': 6102, 'k9oawrmw4w': 6103, 'fluctuate': 6104, 'others’': 6105, 'men…': 6106, 'qn38pzm6nz': 6107, 'yqqnkmgbpa': 6108, 'technology': 6109, 'advancements': 6110, 'strengthen': 6111, 'defenses': 6112, 'gxu1qhzqof': 6113, 'qcetn6ryd7': 6114, 'pharma': 6115, 'commercial': 6116, 'model': 6117, 'e6tpxmkttb': 6118, 'earlier': 6119, 'onboard': 6120, 'strive': 6121, 'enjoyable': 6122, 'ksvh9opg06': 6123, 'oxghwdstzf': 6124, 'jxqdmjrwrf': 6125, 'drgeu65tov': 6126, '21za3rrgf6': 6127, 'artb3yshay': 6128, 'gymm0lwqhv': 6129, 'mhs': 6130, 'vaoxsggbpu': 6131, 'rcgd0rc5lc': 6132, '45r0fmr1za': 6133, 's6g5ykssm0': 6134, 'uphx9hkmty': 6135, 'eghs': 6136, 'tallied': 6137, 'district': 6138, 'acc…': 6139, 'xdc2lvnd67': 6140, 'unsung': 6141, 'heroes': 6142, 'deserve': 6143, 'recognition': 6144, 'grateful': 6145, 'mrp2gydeip': 6146, 'lordhumphreys': 6147, 'tomdoorley': 6148, 'michealmartintd': 6149, 'disappointment': 6150, 'licenses': 6151, 'certifications': 6152, 'revoked': 6153, 'nurse…': 6154, 'gduqjdguaq': 6155, 'yi84fyghig': 6156, 'bulletin': 6157, 'loss…': 6158, 'ydupxvkg8t': 6159, 'rarely': 6160, 'physically': 6161, 'opportunity': 6162, 'anxiousl…': 6163, 'tvngqolu0e': 6164, 'tennalum': 6165, 'checkerboard': 6166, 'chats': 6167, 'wbj0v6u0nk': 6168, 'mmh5wmtwq3': 6169, '73fsu7rpf1': 6170, 'promising': 6171, 'challenged': 6172, \"workers'\": 6173, 'am…': 6174, 'jhrh2fqdhk': 6175, 'int…': 6176, 'qcgufqwano': 6177, 'bnf5gr34dt': 6178, 'viral': 6179, 'items': 6180, 'instrument': 6181, 'vira…': 6182, 'dkh2i4lvad': 6183, 'pbdpo4qvdo': 6184, 'xfpsmbjy7c': 6185, 'unit': 6186, 'labor': 6187, 'purgatory': 6188, 'hnrpjbf8zi': 6189, 'vit…': 6190, 'j9mbzruri3': 6191, 'dgrzejlznk': 6192, 'countermeasures': 6193, 'adversely': 6194, '7csf28hlfi': 6195, 'web': 6196, 'vmh1kzcge9': 6197, 'sgh32xstbe': 6198, 'pspx9znkp9': 6199, 'abgqmam1an': 6200, 'jp5nwiqeck': 6201, 'lowest': 6202, 'ugiassmgdn': 6203, 'kzt4bpclzj': 6204, 'fridayfact': 6205, 'active': 6206, 'minds': 6207, '89': 6208, 'mhxyqmx1vt': 6209, 'demonstrate': 6210, 'thorough': 6211, 'redu…': 6212, 'ojgvfpjh6s': 6213, 'killed': 6214, '544': 6215, 'ending': 6216, 'july': 6217, 'coinci…': 6218, 'gwnco113di': 6219, 'mc2': 6220, 'x': 6221, 'stupidity': 6222, 'furlough': 6223, 'ubi': 6224, 'lbinuqbpcv': 6225, 'z4favoebff': 6226, 'n9kjegzxwh': 6227, 'w4aqel7t9z': 6228, '68': 6229, 'financialprofessionals': 6230, 'eshejku98w': 6231, \"'what\": 6232, \"grief'\": 6233, '🤝': 6234, \"'collectively\": 6235, 'rdawvvh1mb': 6236, 'tetkke3nk5': 6237, 'xzhq1sbb1z': 6238, 'o4b5lu4ce7': 6239, 'harder': 6240, 'grapple': 6241, 'ambient': 6242, 'colle…': 6243, 'oiyepuny7v': 6244, 'ventilation': 6245, 'hcmmakxbxq': 6246, '09qaldb0t8': 6247, 'admitting': 6248, 'biden': 6249, 'g7': 6250, 'pledge': 6251, '4b': 6252, 'y2v81o2zem': 6253, '1awcdcbc4q': 6254, 'no4zhxyskf': 6255, 'universalcredit': 6256, 'sfojhszq0c': 6257, 'njmfn3tkfh': 6258, 'hzr2tzn7ln': 6259, 'ggxctrcvzv': 6260, 'c07lojh6gf': 6261, 'playing': 6262, 'turmoil': 6263, 'trigger': 6264, 'relaps…': 6265, 'v85hsdd0me': 6266, 'e9yyg3dgk7': 6267, 'discovery': 6268, 'no7a5uzseb': 6269, 'stages': 6270, 'frtufgq5dw': 6271, 'dsrdivn9mp': 6272, 'w3jzvf9nnw': 6273, 'contracting…': 6274, 'fxwa6qccgm': 6275, 'bb3ymbovaq': 6276, 'deirdreomahon14': 6277, 'scheryllalken…': 6278, 'fjtizblpv3': 6279, 'wrzq7li7vi': 6280, 'ndtv': 6281, 'anlgkr4a8q': 6282, 'g6c0r4ieii': 6283, 'pt…': 6284, 'txfhuttwhx': 6285, 'pscwy40nxb': 6286, '\\xa0the': 6287, 'lums': 6288, 'strat…': 6289, 'knyfttxgfl': 6290, 'overwhelmi…': 6291, 'hfc6dl2rol': 6292, '7uaol5z0dz': 6293, 'aims': 6294, 'suspected': 6295, 'address…': 6296, 'ulqpnh9gje': 6297, 'aoh0ew8awj': 6298, 'napqrkkovt': 6299, 'nordic': 6300, 'withstand': 6301, 'digitalization': 6302, 'capital…': 6303, 'pfzbarsvqd': 6304, 'lazjiynfkt': 6305, '8sgrtbitdk': 6306, 'dane': 6307, 'madison': 6308, 'mnnjxj6tac': 6309, 'enc32gnvvz': 6310, 'perilofafrica': 6311, 'meas…': 6312, 'cm7ydyucvr': 6313, 'vpptr0dtwg': 6314, 'nlupxd8mhs': 6315, 'mygpu05umk': 6316, '7hunocjdqq': 6317, 'hbnmkzlwrh': 6318, 'kxtqox0jzu': 6319, '7lwuqytfeg': 6320, 'outb…': 6321, 'uodjjpssr9': 6322, 'calicoheartsoul': 6323, 'trip': 6324, 'c9myakmjrd': 6325, 'tkpnnn3znv': 6326, 'westsidechulo': 6327, 'alvxxr': 6328, 'stopped': 6329, 'stressing': 6330, '“space': 6331, 'talk”': 6332, 'recognise': 6333, 'jscirwnzpx': 6334, 'practised': 6335, '0hfws2xnfp': 6336, 'phd': 6337, 'architecture': 6338, 'operating': 6339, 'alg…': 6340, 'uwsr95tqth': 6341, 'modifying': 6342, 'children’s': 6343, 'in\\xa0japan': 6344, 'rhvibmsasj': 6345, 'lucasbrowneyes': 6346, 'tmj': 6347, 'awful': 6348, 'q3fnocexco': 6349, 'itsalwayskimbee': 6350, 'now…': 6351, 'fplsifocvd': 6352, 'covidimpacts': 6353, 'thehonourablej1': 6354, 'woman': 6355, 'joufjoyx9v': 6356, 'fq7aqzfl1h': 6357, '‘covid': 6358, 'fraction': 6359, 'mortality’': 6360, 'incr…': 6361, '6h8ygev44h': 6362, 'awesome': 6363, \"pandemic's\": 6364, 'silver': 6365, 'linings': 6366, 'pub…': 6367, 'q3ehtm3qwq': 6368, 'oppyyoxxyc': 6369, 'wingspan': 6370, 'academy': 6371, 'prepares': 6372, 'soar': 6373, 'launch': 6374, 'freeptomaineradio': 6375, 'comthe…': 6376, 'pcmklpr5ht': 6377, 'asymmetric': 6378, 'female': 6379, 'testosterone…': 6380, 'gf9ltey1nw': 6381, 'xm36rwkef8': 6382, '1️⃣': 6383, '📆': 6384, 'wedne…': 6385, 'skk7clnooi': 6386, '“lower': 6387, 'depression”': 6388, 'the\\xa0covid': 6389, '19\\xa0outbr…': 6390, '3b73sd4uxb': 6391, 'u24vpshzfw': 6392, 'pantexans': 6393, 'cont…': 6394, 'sn3wbqeyff': 6395, 'privileged': 6396, 'generations': 6397, 'war': 6398, 'depre…': 6399, 'emfddkwu7x': 6400, 'q': 6401, 'necessari…': 6402, 'z4dwt5xswh': 6403, 'n3ofrv0cf6': 6404, 'qmok8jsn7s': 6405, 'determine': 6406, 'disturbances…': 6407, 'gcapudrsfr': 6408, 'moderately': 6409, '9dnz61u21f': 6410, 'whi…': 6411, 'vtxngzf63e': 6412, 'me…': 6413, 'axz4ymqwao': 6414, 'faring': 6415, 'hrdigitaltrends': 6416, 'chro…': 6417, 'rigs8ovokr': 6418, 'ebj8f9m1w8': 6419, 'isolatio…': 6420, 'izlcvixmpo': 6421, 'nightmares': 6422, 'wbi04j6v5u': 6423, 'dreams…': 6424, '1fyvcrgota': 6425, 'collection': 6426, 'candid': 6427, 'mixed': 6428, 'redeployed…': 6429, 'w2byrxnorv': 6430, '👯looking': 6431, '👯we': 6432, 'y…': 6433, '4wskdshqwk': 6434, 'happier': 6435, 'drlawrencegenen': 6436, 'qt7feu7psm': 6437, 'ypomember…': 6438, 'xjg3lluxve': 6439, 'rosalynn': 6440, 'carter': 6441, 'revealed': 6442, 'xn7rwnky2s': 6443, '“at': 6444, 'schuett': 6445, '“l…': 6446, 'vsuvytn7rp': 6447, 'confronted': 6448, '4sbuvsrcxh': 6449, 'l6m6ckdzfp': 6450, 'tnqxp3xtca…': 6451, 'bal4pzxma5': 6452, 'harmony': 6453, 'tunes': 6454, 'rec…': 6455, 'pk6wqaiasw': 6456, 'coronavi…': 6457, 'ktg33oy3at': 6458, '18th': 6459, 'tabernacle': 6460, '🔥nu': 6461, 'podcast': 6462, 'rodney': 6463, 'alford': 6464, 'khipukxvdv': 6465, 'scary': 6466, 'hometown': 6467, 'tb': 6468, 'cvofyc8dke': 6469, 'count': 6470, 'documented': 6471, 'surpass…': 6472, 'fqiozewr6a': 6473, 'ojvveyned7': 6474, 'fm8botw4q5': 6475, 'thro…': 6476, 'jgocghrxzp': 6477, 'cooped': 6478, 'apocalyptic': 6479, '“coup': 6480, 'ed”': 6481, 'impeachment': 6482, 'trial…': 6483, 'jzhfgkeueo': 6484, 'concrete': 6485, 'farm': 6486, 'eas…': 6487, 'j6fdx5ai1k': 6488, 'edxf1u81sd': 6489, '📣': 6490, 'gryphons': 6491, 'accordance': 6492, 'reduces': 6493, 'elev…': 6494, 'z3ch7hgmdp': 6495, 'newsflash': 6496, 'optimism': 6497, 'reigns': 6498, 'greenhouse': 6499, 'producers': 6500, 'thepacker': 6501, '62ro6rrt8v': 6502, 'repercussions': 6503, 'ppnhbmowul': 6504, 'weird': 6505, 'worrying': 6506, '😷…': 6507, 'u8ccafw8jc': 6508, 'childbirth': 6509, 's1okzoqp8f': 6510, 'rdqxa8wiov': 6511, 'lucashilgemann': 6512, 'qbrunsvold…': 6513, 'mkq7um2akp': 6514, 'it…': 6515, '1fhj7gtb31': 6516, '“posttraumatic': 6517, 'infection”': 6518, 'pgqpyia4zk': 6519, 'noorchashm': 6520, 'george3031301': 6521, 'rayarmat': 6522, 'drwoodcockfda': 6523, 'albertbourla': 6524, 'gerrishaftel…': 6525, 'mg7haakxc6': 6526, 'ngmitpix0m': 6527, 'b9jcrwdveh': 6528, 'certain…': 6529, 'vkmmdfoikh': 6530, 'qgz8d4c91v': 6531, 'validate': 6532, 'impose': 6533, \"childmindinst's\": 6534, 'dyr7yserrq': 6535, 'ultimate': 6536, 'organize': 6537, 'silicon': 6538, 'valley': 6539, 'innov…': 6540, '4lkv15a77s': 6541, 'desk': 6542, 'otherwise': 6543, 'police': 6544, 'officer': 6545, 'dies': 6546, 'alm…': 6547, 'w5xmrlf13j': 6548, 'picked': 6549, 'seemingly': 6550, 'hdhjv4x8ob': 6551, 'quarters': 6552, 'one’s': 6553, 'y2ccxxnz2k': 6554, 'rhode': 6555, 'island': 6556, 'combat': 6557, '7ajccjgi4f': 6558, 'fukzdrqyqg': 6559, 'voqv5gyvrv': 6560, 'ygsqqbfigz': 6561, '8n3uf59rq5': 6562, 'reinforced': 6563, 'team…': 6564, 'yubyiivfzn': 6565, 'bnxbvrbosr': 6566, 'sta…': 6567, 'm78vorrh3b': 6568, 'associa…': 6569, 'bcg8xxjgos': 6570, 'tz3gn9samm': 6571, 'practical': 6572, 'frjw4pzo0v': 6573, '0kd6xui9mx': 6574, 'calmly': 6575, 'ummnsmemq7': 6576, 'inactivity': 6577, 'explosive': 6578, 'ingredients': 6579, 'dakfo3u7mi': 6580, 'fb': 6581, 'cardiologist': 6582, 'tq9peaglcx': 6583, 'multitude': 6584, 'opinion': 6585, 'discusses': 6586, '1mnkk2ckvj': 6587, '7kqncvjwfx': 6588, '5cg3qz13uh': 6589, 'fromtheblog✍️': 6590, '💬': 6591, 'ourselves': 6592, 'phwbooj1wo': 6593, 'mother': 6594, 'newsletter': 6595, 'inaugural': 6596, 'lsx': 6597, 'fellow': 6598, 'melissasuzanneh': 6599, 'examines': 6600, \"children's…\": 6601, 'gfvneneasx': 6602, 'staggering': 6603, 'kzsdjt9nqp': 6604, 'strange': 6605, 'called…': 6606, 'dpntdw5esm': 6607, 'hobbies': 6608, '5m0vovilan': 6609, 'compounded': 6610, 'ama': 6611, 'spurred': 6612, 'movem…': 6613, 'sglysar9f9': 6614, 'anxieties': 6615, 'influence': 6616, 'kid…': 6617, '7hmz5lsmew': 6618, 'adopting…': 6619, 'soxmn4oq4j': 6620, 'mohmijjcqo': 6621, 'ccsacanada': 6622, 'q7tl12spxz': 6623, 'k0skw0pkzp': 6624, 'believed': 6625, 'meteorology': 6626, \"would've\": 6627, 'snowstorm': 6628, 'wowlea0kou': 6629, 'restart': 6630, 'o1fm1zhilz': 6631, 'ccsa': 6632, 'mhcc': 6633, 'reported…': 6634, 'b9g1gf1bok': 6635, 'worldatfive': 6636, '🌎': 6637, 'psychologist': 6638, 'jason': 6639, 'thompson': 6640, 'knows': 6641, 'struggled': 6642, 'ghvgyt6ilp': 6643, 'exhausted': 6644, 'krgahmud5h': 6645, 'produce': 6646, 'green': 6647, 'passport': 6648, 'promote': 6649, 'hz596zduiq': 6650, '2bxjz1t2it': 6651, 'looked': 6652, '5jmwzcljpo': 6653, 'uytfcegsqf': 6654, 'eynest7ylm': 6655, 'uamxobdu0o': 6656, 'textforhope': 6657, 'ualberta': 6658, 'eqwsd0u9xc': 6659, 'stood': 6660, 'room': 6661, 'walked': 6662, 'forgetfulness': 6663, 'inability': 6664, 'signif…': 6665, 'pb9xfqmifi': 6666, 'rockymntnmike': 6667, 'sorry': 6668, 'there…': 6669, 'hospitalized': 6670, 'ga': 6671, 'canno…': 6672, 'npwdwulr6i': 6673, 'scaffold': 6674, 'adjust': 6675, 'ufjbxumtqe': 6676, 'whshs9allh': 6677, 'z1iaiwerik': 6678, 'en…': 6679, 'ddfvgq9mg8': 6680, 'longtermcare': 6681, 'extreme': 6682, 'caregi…': 6683, 'v8pmwknxm4': 6684, 'darkest': 6685, 'britta': 6686, 'tiamammamia': 6687, 'byu': 6688, 'byunoc': 6689, 'caps': 6690, 'cxoa8xzrtc': 6691, 'eight': 6692, 'cite': 6693, 'seve…': 6694, '0z20q6fnja': 6695, 'time…': 6696, 'hdfwcfhk52': 6697, 'though': 6698, 'unknown': 6699, 'overall': 6700, 'wome…': 6701, 'eyfaqjgdmm': 6702, 'acted': 6703, 'gargantuan': 6704, 'accelerating': 6705, 'couples': 6706, 'alre…': 6707, '2269ybxkar': 6708, 'carry': 6709, 'require': 6710, 'preparation': 6711, 'pan…': 6712, '33yabvc0pa': 6713, 'bloxy': 6714, 'reliever': 6715, 'esq1rdjqjw': 6716, 'cnwwwbsydv': 6717, 'uzokjshzbj': 6718, 'drivers': 6719, 'shaping': 6720, 'test…': 6721, 'v4tcirjaly': 6722, '25': 6723, 'pounds': 6724, 'reajivrdvz': 6725, 'ifngrqdd2l': 6726, '19\\xa0lockdown': 6727, 'yfyagm64kr': 6728, 'who…': 6729, '05kz5qt5pw': 6730, 'internetxplore2': 6731, 'ntvuganda': 6732, 'traumatizing': 6733, 'jurr63f5cx': 6734, 'play': 6735, '26fmf2638r': 6736, 'vebt2ustpp': 6737, 'f3xgms6qwn': 6738, 'f8ituyl0oh': 6739, 'boost': 6740, 'everydayhealth': 6741, '1n8tigqdcs': 6742, 'exercises…': 6743, 'htx0u8i5b0': 6744, 'medeconomics': 6745, 'highlighted': 6746, 'depressio…': 6747, 'bprm8drc4h': 6748, '8mf99emcns': 6749, 'eap': 6750, 'companies': 6751, 'begun': 6752, 'desks': 6753, 'sent…': 6754, 'hsfb5qcxqp': 6755, 'trimester': 6756, 'abortion': 6757, 'procedures': 6758, 'temporary': 6759, 'ban': 6760, 'unnecessar…': 6761, '4xtdqcykcj': 6762, 'mindcharity': 6763, 'updated': 6764, 'pii20jmvej': 6765, 'subsc…': 6766, 'xvloiyj2xu': 6767, 'mis': 6768, 'usual': 6769, 'driving': 6770, 'chang…': 6771, 'nzalc9zcb4': 6772, 'breathlessness': 6773, 'degrading': 6774, 'cr…': 6775, 'tqvbzlio6w': 6776, 'contaminated': 6777, 'potent': 6778, 'synthetic': 6779, 'sspbzofnyy': 6780, 'd5d4e98ipr': 6781, 'odd1rwzlzx': 6782, 'axis': 6783, 'architects': 6784, 'workforce': 6785, 'smooth': 6786, 'lgng2jimis': 6787, 'byc42848la': 6788, 'gdodkraxcp': 6789, '1ljx19eums': 6790, 'bestm1vgrz': 6791, 'n7a6s7huwo': 6792, 'y3hjpouff2': 6793, 'coronavaccine': 6794, 'safetyfirst': 6795, 'maskup': 6796, 'costohub': 6797, 'vy8hixnryv': 6798, 'measles': 6799, 'nejm': 6800, 'bene…': 6801, '4ohsbk8llc': 6802, 'de…': 6803, 'q0ccjw34tr': 6804, 'dur…': 6805, 'fhutipb6dw': 6806, 'sunrise': 6807, 'cso': 6808, 'iom': 6809, 'iraq’s': 6810, 'sinjar': 6811, 'qadisiya': 6812, 'pff61vcsfw': 6813, 'hurrah': 6814, 'congratulations': 6815, 'xfn2dyqejc': 6816, 'fbl7wsvkl2': 6817, 'a\\xa0free': 6818, 'vfam9eca1m': 6819, 'suerfpolicynote': 6820, 'philosophy': 6821, 'prudential': 6822, 'vvdwfhbxpe': 6823, 'ppy9ti1u34': 6824, 'oxh70l7p9c': 6825, 'h8pg011tml': 6826, 'meng': 6827, 'zhang': 6828, 'huazhong': 6829, 'university': 6830, 'scien…': 6831, 'yuxx9dmrvh': 6832, '47oworfas0': 6833, '8nkn1skd3v': 6834, 'globalhealth': 6835, 'governance': 6836, 'taixadrwzw': 6837, '📢': 6838, '✅': 6839, 'thoughts': 6840, 'extra…': 6841, 'axoggq9ign': 6842, 'marvel': 6843, 'superheroes': 6844, '👨\\u200d⚕️👩\\u200d⚕️💙': 6845, 'wataq1bu5b': 6846, 'ebyepvyofq': 6847, 'india': 6848, 'x98ftr5niy': 6849, 'exclusive': 6850, 'd’s': 6851, 'benchmark': 6852, 'peers': 6853, 'colleague…': 6854, 'lzhejjnyzr': 6855, 'mkoajak5zw': 6856, 'mariellahunt': 6857, 'snacking': 6858, 'wthuyjkzcv': 6859, 'abrup…': 6860, 'ch826hhzol': 6861, 'pharmacists': 6862, 'sick': 6863, 'chemist': 6864, 'druggist': 6865, 'sbddsrw9xb': 6866, 'immense': 6867, 'matter': 6868, 'angle': 6869, 'm4nu2eji4g': 6870, 'dhvstrvx3x': 6871, 'news18': 6872, 'yog…': 6873, 'lrrmamlp4y': 6874, 'teenagers': 6875, \"'there's\": 6876, \"ptsd'…\": 6877, 'dvfflrnwjh': 6878, 'facts': 6879, 'trusted': 6880, 'abou…': 6881, '591dpwrzjr': 6882, 'lo…': 6883, 'rkj1nya6l4': 6884, 'b1mqydqmml': 6885, 'kenyans': 6886, '33096op2nn': 6887, 'sufferers': 6888, 'scroungers': 6889, 'humiliation': 6890, 'inhumanity': 6891, 'v2uzjh02mo': 6892, 'monotony': 6893, 'aqw6qrwxj9': 6894, '“in': 6895, 'bought': 6896, 'jet': 6897, 'praying': 6898, 'zizf25p2zr': 6899, 'newindianxpress': 6900, 'allisonpregler': 6901, 'episodes': 6902, 'fe…': 6903, 'ucn3jbrz3i': 6904, 'luckyshine45': 6905, 'games': 6906, 'sit…': 6907, 't0s7rklznt': 6908, 'gmb': 6909, 'thomas': 6910, 'cook': 6911, 'bust': 6912, 'rebooked': 6913, 'company': 6914, 'cancelled': 6915, 'cnaxbamlkd': 6916, 'downtown': 6917, 'holland': 6918, \"'girlfriends\": 6919, \"weekend'\": 6920, 'xhkp1p9upt': 6921, 'aust…': 6922, 'l58ixy3nh1': 6923, 'sakshi': 6924, 'raina3': 6925, 'hav': 6926, 'relentless': 6927, 'peak': 6928, 'mumbai': 6929, 'much…': 6930, 'nweauk0qij': 6931, 'folio': 6932, 'l8idx3pvg7': 6933, 'modrena': 6934, 'invis…': 6935, 'dpcdgulr6a': 6936, 'ancient': 6937, 'stoics': 6938, 'wjsullivan': 6939, 'fekixfznof': 6940, '3r9r6xiapi': 6941, 'حفاظت': 6942, 'از': 6943, 'کشورمان': 6944, 'د': 6945, 'مقابل': 6946, 'ویروس': 6947, 'کرونا': 6948, 'مسئولیت': 6949, 'ماست…': 6950, 'nuymalj1dc': 6951, 'vazcrqexr5': 6952, 'abcnews': 6953, 'moot': 6954, 'becomes': 6955, \"andrews'\": 6956, \"he's\": 6957, 'devel…': 6958, 'iilaedqrkw': 6959, 'columbiajournma': 6960, 'alum': 6961, 'dishashetty20': 6962, \"'18\": 6963, 'wrote': 6964, 'bccsbuqpry': 6965, 'dhwpuoimbg': 6966, 'ojshyp66gs': 6967, 'wgu3hjcgzj': 6968, 'advocates': 6969, 'tide': 6970, 'rep…': 6971, 'w4kfzxmvgk': 6972}\n"
          ]
        }
      ]
    },
    {
      "cell_type": "code",
      "source": [
        "from gensim.models import KeyedVectors\n",
        "\n",
        "glove_model = KeyedVectors.load_word2vec_format(glove_output_file, binary=False)\n",
        "\n",
        "vocab_size = len(vocabulary) + 1  # Add 1 for unknown words\n",
        "\n",
        "embedding_dim = 100  # Adjust the embedding dimension based on your GloVe model\n",
        "max_length = 25\n",
        "embedding_matrix = np.zeros((vocab_size, embedding_dim))\n",
        "\n",
        "for word, i in vocabulary.items():\n",
        "    if word in glove_model:\n",
        "        embedding_matrix[i] = glove_model[word]\n"
      ],
      "metadata": {
        "id": "cQmHZYL9yi5C"
      },
      "execution_count": 31,
      "outputs": []
    },
    {
      "cell_type": "code",
      "source": [
        "from keras.src.layers import Concatenate\n",
        "from keras.optimizers import Adam\n",
        "from keras.layers import Input,Embedding,Attention,Bidirectional,GlobalMaxPool1D,GRU,Dense\n",
        "from keras.models import Model\n",
        "sequence_len=25\n",
        "embedding_dim=100\n",
        "input_shape=(sequence_len,)\n",
        "input_layer = Input(shape=input_shape)\n",
        "embedding_layer = Embedding(vocab_size,embedding_dim,weights=[embedding_matrix],trainable=False)(input_layer)\n",
        "\n",
        "BiGRU_layer = Bidirectional(GRU(64,return_sequences=True))(embedding_layer)\n",
        "attention_layer = Attention()([BiGRU_layer,BiGRU_layer])\n",
        "concatenated_layer = Concatenate(axis=-1)([attention_layer,BiGRU_layer])\n",
        "gmp_layer = GlobalMaxPool1D()(concatenated_layer)\n",
        "\n",
        "dense_layer1 = Dense(64,activation='relu')(gmp_layer)\n",
        "dense_layer2 = Dense(64,activation='relu')(gmp_layer)\n",
        "\n",
        "output_sarcasm = Dense(1,activation='sigmoid',name='sarcasm')(dense_layer1)\n",
        "concatenated_for_stress = Concatenate(axis=-1)([dense_layer2,output_sarcasm])\n",
        "output_stress = Dense(1,activation='sigmoid',name='stress')(concatenated_for_stress)\n",
        "\n",
        "model = Model(inputs=input_layer,outputs=[output_sarcasm,output_stress])\n",
        "model.compile(loss='binary_crossentropy', optimizer=Adam(learning_rate=0.1), metrics=['accuracy'])\n",
        "model.summary()"
      ],
      "metadata": {
        "colab": {
          "base_uri": "https://localhost:8080/"
        },
        "id": "A5JZcyzc1T1o",
        "outputId": "8e69ea1a-1e0d-4bf6-ca3b-b0f9e4422c64"
      },
      "execution_count": 32,
      "outputs": [
        {
          "output_type": "stream",
          "name": "stdout",
          "text": [
            "Model: \"model\"\n",
            "__________________________________________________________________________________________________\n",
            " Layer (type)                Output Shape                 Param #   Connected to                  \n",
            "==================================================================================================\n",
            " input_1 (InputLayer)        [(None, 25)]                 0         []                            \n",
            "                                                                                                  \n",
            " embedding (Embedding)       (None, 25, 100)              697300    ['input_1[0][0]']             \n",
            "                                                                                                  \n",
            " bidirectional (Bidirection  (None, 25, 128)              63744     ['embedding[0][0]']           \n",
            " al)                                                                                              \n",
            "                                                                                                  \n",
            " attention (Attention)       (None, 25, 128)              0         ['bidirectional[0][0]',       \n",
            "                                                                     'bidirectional[0][0]']       \n",
            "                                                                                                  \n",
            " concatenate (Concatenate)   (None, 25, 256)              0         ['attention[0][0]',           \n",
            "                                                                     'bidirectional[0][0]']       \n",
            "                                                                                                  \n",
            " global_max_pooling1d (Glob  (None, 256)                  0         ['concatenate[0][0]']         \n",
            " alMaxPooling1D)                                                                                  \n",
            "                                                                                                  \n",
            " dense (Dense)               (None, 64)                   16448     ['global_max_pooling1d[0][0]']\n",
            "                                                                                                  \n",
            " sarcasm (Dense)             (None, 1)                    65        ['dense[0][0]']               \n",
            "                                                                                                  \n",
            " dense_1 (Dense)             (None, 64)                   16448     ['global_max_pooling1d[0][0]']\n",
            "                                                                                                  \n",
            " concatenate_1 (Concatenate  (None, 65)                   0         ['dense_1[0][0]',             \n",
            " )                                                                   'sarcasm[0][0]']             \n",
            "                                                                                                  \n",
            " stress (Dense)              (None, 1)                    66        ['concatenate_1[0][0]']       \n",
            "                                                                                                  \n",
            "==================================================================================================\n",
            "Total params: 794071 (3.03 MB)\n",
            "Trainable params: 96771 (378.01 KB)\n",
            "Non-trainable params: 697300 (2.66 MB)\n",
            "__________________________________________________________________________________________________\n"
          ]
        }
      ]
    },
    {
      "cell_type": "code",
      "source": [
        "model.fit(x_train,[y_train_task1,y_train_task2],validation_data=(x_val,[y_val_task1,y_val_task2]),epochs=15,batch_size=32)"
      ],
      "metadata": {
        "colab": {
          "base_uri": "https://localhost:8080/"
        },
        "id": "25qVMTj63Fo7",
        "outputId": "1b1c85d1-bd36-4a0d-d5c7-b8476f00b582"
      },
      "execution_count": 34,
      "outputs": [
        {
          "output_type": "stream",
          "name": "stdout",
          "text": [
            "Epoch 1/15\n",
            "183/183 [==============================] - 14s 40ms/step - loss: 0.9872 - sarcasm_loss: 0.4216 - stress_loss: 0.5656 - sarcasm_accuracy: 0.9329 - stress_accuracy: 0.8283 - val_loss: 0.5138 - val_sarcasm_loss: 0.1996 - val_stress_loss: 0.3142 - val_sarcasm_accuracy: 0.9472 - val_stress_accuracy: 0.8244\n",
            "Epoch 2/15\n",
            "183/183 [==============================] - 8s 41ms/step - loss: 0.4403 - sarcasm_loss: 0.2067 - stress_loss: 0.2337 - sarcasm_accuracy: 0.9451 - stress_accuracy: 0.9057 - val_loss: 0.3708 - val_sarcasm_loss: 0.2082 - val_stress_loss: 0.1627 - val_sarcasm_accuracy: 0.9472 - val_stress_accuracy: 0.9300\n",
            "Epoch 3/15\n",
            "183/183 [==============================] - 6s 32ms/step - loss: 0.4013 - sarcasm_loss: 0.2199 - stress_loss: 0.1815 - sarcasm_accuracy: 0.9408 - stress_accuracy: 0.9338 - val_loss: 0.4471 - val_sarcasm_loss: 0.2060 - val_stress_loss: 0.2411 - val_sarcasm_accuracy: 0.9472 - val_stress_accuracy: 0.9170\n",
            "Epoch 4/15\n",
            "183/183 [==============================] - 8s 44ms/step - loss: 0.4084 - sarcasm_loss: 0.2271 - stress_loss: 0.1813 - sarcasm_accuracy: 0.9425 - stress_accuracy: 0.9367 - val_loss: 0.3609 - val_sarcasm_loss: 0.2081 - val_stress_loss: 0.1529 - val_sarcasm_accuracy: 0.9472 - val_stress_accuracy: 0.9534\n",
            "Epoch 5/15\n",
            "183/183 [==============================] - 6s 33ms/step - loss: 0.3580 - sarcasm_loss: 0.2091 - stress_loss: 0.1489 - sarcasm_accuracy: 0.9451 - stress_accuracy: 0.9491 - val_loss: 0.4009 - val_sarcasm_loss: 0.2080 - val_stress_loss: 0.1930 - val_sarcasm_accuracy: 0.9472 - val_stress_accuracy: 0.9424\n",
            "Epoch 6/15\n",
            "183/183 [==============================] - 8s 42ms/step - loss: 0.3501 - sarcasm_loss: 0.2135 - stress_loss: 0.1366 - sarcasm_accuracy: 0.9451 - stress_accuracy: 0.9551 - val_loss: 0.4293 - val_sarcasm_loss: 0.2081 - val_stress_loss: 0.2213 - val_sarcasm_accuracy: 0.9472 - val_stress_accuracy: 0.9472\n",
            "Epoch 7/15\n",
            "183/183 [==============================] - 6s 32ms/step - loss: 0.3710 - sarcasm_loss: 0.2115 - stress_loss: 0.1595 - sarcasm_accuracy: 0.9451 - stress_accuracy: 0.9480 - val_loss: 0.3387 - val_sarcasm_loss: 0.2040 - val_stress_loss: 0.1348 - val_sarcasm_accuracy: 0.9472 - val_stress_accuracy: 0.9513\n",
            "Epoch 8/15\n",
            "183/183 [==============================] - 8s 41ms/step - loss: 0.3786 - sarcasm_loss: 0.2118 - stress_loss: 0.1669 - sarcasm_accuracy: 0.9451 - stress_accuracy: 0.9467 - val_loss: 0.3658 - val_sarcasm_loss: 0.2091 - val_stress_loss: 0.1567 - val_sarcasm_accuracy: 0.9472 - val_stress_accuracy: 0.9499\n",
            "Epoch 9/15\n",
            "183/183 [==============================] - 6s 31ms/step - loss: 0.3563 - sarcasm_loss: 0.2105 - stress_loss: 0.1457 - sarcasm_accuracy: 0.9451 - stress_accuracy: 0.9513 - val_loss: 0.3272 - val_sarcasm_loss: 0.2013 - val_stress_loss: 0.1259 - val_sarcasm_accuracy: 0.9472 - val_stress_accuracy: 0.9506\n",
            "Epoch 10/15\n",
            "183/183 [==============================] - 7s 41ms/step - loss: 0.3392 - sarcasm_loss: 0.2105 - stress_loss: 0.1287 - sarcasm_accuracy: 0.9451 - stress_accuracy: 0.9573 - val_loss: 0.3202 - val_sarcasm_loss: 0.2047 - val_stress_loss: 0.1155 - val_sarcasm_accuracy: 0.9472 - val_stress_accuracy: 0.9547\n",
            "Epoch 11/15\n",
            "183/183 [==============================] - 6s 32ms/step - loss: 0.3220 - sarcasm_loss: 0.2081 - stress_loss: 0.1140 - sarcasm_accuracy: 0.9451 - stress_accuracy: 0.9618 - val_loss: 0.3068 - val_sarcasm_loss: 0.2010 - val_stress_loss: 0.1058 - val_sarcasm_accuracy: 0.9472 - val_stress_accuracy: 0.9602\n",
            "Epoch 12/15\n",
            "183/183 [==============================] - 8s 43ms/step - loss: 0.3114 - sarcasm_loss: 0.2085 - stress_loss: 0.1029 - sarcasm_accuracy: 0.9451 - stress_accuracy: 0.9628 - val_loss: 0.3361 - val_sarcasm_loss: 0.2021 - val_stress_loss: 0.1339 - val_sarcasm_accuracy: 0.9472 - val_stress_accuracy: 0.9520\n",
            "Epoch 13/15\n",
            "183/183 [==============================] - 6s 32ms/step - loss: 0.3175 - sarcasm_loss: 0.2119 - stress_loss: 0.1056 - sarcasm_accuracy: 0.9451 - stress_accuracy: 0.9681 - val_loss: 0.2878 - val_sarcasm_loss: 0.2068 - val_stress_loss: 0.0810 - val_sarcasm_accuracy: 0.9472 - val_stress_accuracy: 0.9774\n",
            "Epoch 14/15\n",
            "183/183 [==============================] - 8s 43ms/step - loss: 0.3418 - sarcasm_loss: 0.2140 - stress_loss: 0.1278 - sarcasm_accuracy: 0.9451 - stress_accuracy: 0.9585 - val_loss: 0.5713 - val_sarcasm_loss: 0.2068 - val_stress_loss: 0.3645 - val_sarcasm_accuracy: 0.9472 - val_stress_accuracy: 0.9623\n",
            "Epoch 15/15\n",
            "183/183 [==============================] - 6s 33ms/step - loss: 0.3863 - sarcasm_loss: 0.2138 - stress_loss: 0.1726 - sarcasm_accuracy: 0.9451 - stress_accuracy: 0.9359 - val_loss: 0.3513 - val_sarcasm_loss: 0.2078 - val_stress_loss: 0.1435 - val_sarcasm_accuracy: 0.9472 - val_stress_accuracy: 0.9527\n"
          ]
        },
        {
          "output_type": "execute_result",
          "data": {
            "text/plain": [
              "<keras.src.callbacks.History at 0x7ac995c61f60>"
            ]
          },
          "metadata": {},
          "execution_count": 34
        }
      ]
    },
    {
      "cell_type": "code",
      "source": [
        "y_pred_task1,y_pred_task2 = model.predict(x_val)"
      ],
      "metadata": {
        "colab": {
          "base_uri": "https://localhost:8080/"
        },
        "id": "x_fU6b9x4GFi",
        "outputId": "4da7a6c9-596c-4457-d6c2-c60e8cb5fb0b"
      },
      "execution_count": 35,
      "outputs": [
        {
          "output_type": "stream",
          "name": "stdout",
          "text": [
            "46/46 [==============================] - 3s 10ms/step\n"
          ]
        }
      ]
    },
    {
      "cell_type": "code",
      "source": [
        "threshold=0.5\n",
        "y_pred_binary1 = np.where(y_pred_task1>=threshold ,1,0)\n",
        "y_pred_binary2 = np.where(y_pred_task2>=threshold ,1,0)\n",
        "print(y_pred_binary1)"
      ],
      "metadata": {
        "colab": {
          "base_uri": "https://localhost:8080/"
        },
        "id": "yeM4s7gW4y9k",
        "outputId": "87682d22-236f-47ff-a0a3-d28466f5f138"
      },
      "execution_count": 36,
      "outputs": [
        {
          "output_type": "stream",
          "name": "stdout",
          "text": [
            "[[0]\n",
            " [0]\n",
            " [0]\n",
            " ...\n",
            " [0]\n",
            " [0]\n",
            " [0]]\n"
          ]
        }
      ]
    },
    {
      "cell_type": "code",
      "source": [
        "from sklearn.metrics import f1_score\n",
        "f1_score_Sarcasm = f1_score(y_val_task1,y_pred_binary1)\n",
        "print(f1_score_Sarcasm)"
      ],
      "metadata": {
        "colab": {
          "base_uri": "https://localhost:8080/"
        },
        "id": "np94bLsn5KVK",
        "outputId": "1f236d57-78d1-4cf9-cfdf-8e58440732b8"
      },
      "execution_count": 37,
      "outputs": [
        {
          "output_type": "stream",
          "name": "stdout",
          "text": [
            "0.0\n"
          ]
        }
      ]
    },
    {
      "cell_type": "markdown",
      "source": [
        "## HyperParameter Tuning with GA's"
      ],
      "metadata": {
        "id": "q2mt0vIX5c3X"
      }
    },
    {
      "cell_type": "code",
      "source": [
        "def BIGRU_model(u,n1,n2,a1,a2,op,lr):\n",
        "  BiGRU_layer = Bidirectional(GRU(units=u,return_sequences=True))(embedding_layer)\n",
        "  attention_layer = Attention()([BiGRU_layer,BiGRU_layer])\n",
        "  concatenated_layer = Concatenate(axis=-1)([attention_layer,BiGRU_layer])\n",
        "  gmp_layer = GlobalMaxPool1D()(concatenated_layer)\n",
        "\n",
        "  dense_layer1 = Dense(units=n1,activation=a1)(gmp_layer)\n",
        "  dense_layer2 = Dense(units=n2,activation=a2)(gmp_layer)\n",
        "\n",
        "  output_sarcasm = Dense(1,activation='sigmoid',name='sarcasm')(dense_layer1)\n",
        "  concatenated_for_stress = Concatenate(axis=-1)([dense_layer2,output_sarcasm])\n",
        "  output_stress = Dense(1,activation='sigmoid',name='stress')(concatenated_for_stress)\n",
        "\n",
        "  model = Model(inputs=input_layer,outputs=[output_sarcasm,output_stress])\n",
        "  model.compile(loss='binary_crossentropy', optimizer=op, metrics=['accuracy'])\n",
        "  model.fit(x_train,[y_train_task1,y_train_task2],validation_data=(x_val,[y_val_task1,y_val_task2]),epochs=lr,batch_size=32)\n"
      ],
      "metadata": {
        "id": "2kxhGk7k6JLk"
      },
      "execution_count": 121,
      "outputs": []
    },
    {
      "cell_type": "code",
      "source": [
        "from random import choice,uniform\n",
        "from numpy.random import randint"
      ],
      "metadata": {
        "id": "r9Ibv7SF7RlA"
      },
      "execution_count": 38,
      "outputs": []
    },
    {
      "cell_type": "code",
      "source": [
        "def initialization():\n",
        "  parameters = {}\n",
        "  u = choice([32,64,16])\n",
        "  parameters[\"u\"] = u\n",
        "  n1 = choice([32,64,128])\n",
        "  parameters[\"n1\"]=n1\n",
        "  n2 = choice([32,64,128])\n",
        "  parameters[\"n2\"]=n2\n",
        "  a1 = choice([\"relu\", \"selu\", \"elu\"])\n",
        "  parameters[\"a1\"] = a1\n",
        "  a2 = choice([\"relu\", \"selu\", \"elu\"])\n",
        "  parameters[\"a2\"] = a2\n",
        "  op = choice([\"adamax\", \"adadelta\", \"adam\", \"adagrad\"])\n",
        "  parameters[\"op\"] = op\n",
        "  lr = randint(1,30)\n",
        "  parameters[\"lr\"] = lr\n",
        "  return parameters"
      ],
      "metadata": {
        "id": "qqdZiZWt81xb"
      },
      "execution_count": 122,
      "outputs": []
    },
    {
      "cell_type": "code",
      "source": [
        "  lr = round(uniform(0.02, 0.1),2)\n",
        "  parameters[\"lr\"] = lr"
      ],
      "metadata": {
        "id": "ZBUoNJRG4P0D"
      },
      "execution_count": null,
      "outputs": []
    },
    {
      "cell_type": "code",
      "source": [
        "def generate_population(n):\n",
        "  population = []\n",
        "  for i in range(n):\n",
        "    chromosome = initialization()\n",
        "    population.append(chromosome)\n",
        "  return population"
      ],
      "metadata": {
        "id": "HC_jXiXj-Q5l"
      },
      "execution_count": 123,
      "outputs": []
    },
    {
      "cell_type": "code",
      "source": [
        "from sklearn.metrics import accuracy_score\n"
      ],
      "metadata": {
        "id": "aNfOldUdMjVZ"
      },
      "execution_count": null,
      "outputs": []
    },
    {
      "cell_type": "code",
      "source": [
        "metric=model.evaluate(x_val,[y_val_task1,y_val_task2])\n",
        "metric[4]"
      ],
      "metadata": {
        "colab": {
          "base_uri": "https://localhost:8080/"
        },
        "id": "01w5jHmJMF-C",
        "outputId": "0bccc2dc-ff49-492d-e1bb-20ab9db4e7ad"
      },
      "execution_count": 69,
      "outputs": [
        {
          "output_type": "stream",
          "name": "stdout",
          "text": [
            "46/46 [==============================] - 1s 22ms/step - loss: 0.3513 - sarcasm_loss: 0.2078 - stress_loss: 0.1435 - sarcasm_accuracy: 0.9472 - stress_accuracy: 0.9527\n"
          ]
        },
        {
          "output_type": "execute_result",
          "data": {
            "text/plain": [
              "0.952674925327301"
            ]
          },
          "metadata": {},
          "execution_count": 69
        }
      ]
    },
    {
      "cell_type": "code",
      "source": [
        "BIGRU_model(64,16,34,'relu','relu','adam')"
      ],
      "metadata": {
        "colab": {
          "base_uri": "https://localhost:8080/",
          "height": 356
        },
        "id": "zCAE8HxB1uXt",
        "outputId": "ba5378f4-2ea2-4b19-a7cd-e6905a715701"
      },
      "execution_count": 118,
      "outputs": [
        {
          "output_type": "stream",
          "name": "stdout",
          "text": [
            "Epoch 1/15\n"
          ]
        },
        {
          "output_type": "error",
          "ename": "KeyboardInterrupt",
          "evalue": "ignored",
          "traceback": [
            "\u001b[0;31m---------------------------------------------------------------------------\u001b[0m",
            "\u001b[0;31mKeyboardInterrupt\u001b[0m                         Traceback (most recent call last)",
            "\u001b[0;32m<ipython-input-118-8a113942ac6e>\u001b[0m in \u001b[0;36m<cell line: 1>\u001b[0;34m()\u001b[0m\n\u001b[0;32m----> 1\u001b[0;31m \u001b[0mBIGRU_model\u001b[0m\u001b[0;34m(\u001b[0m\u001b[0;36m64\u001b[0m\u001b[0;34m,\u001b[0m\u001b[0;36m16\u001b[0m\u001b[0;34m,\u001b[0m\u001b[0;36m34\u001b[0m\u001b[0;34m,\u001b[0m\u001b[0;34m'relu'\u001b[0m\u001b[0;34m,\u001b[0m\u001b[0;34m'relu'\u001b[0m\u001b[0;34m,\u001b[0m\u001b[0;34m'adam'\u001b[0m\u001b[0;34m)\u001b[0m\u001b[0;34m\u001b[0m\u001b[0;34m\u001b[0m\u001b[0m\n\u001b[0m",
            "\u001b[0;32m<ipython-input-116-3a5d0fd6987b>\u001b[0m in \u001b[0;36mBIGRU_model\u001b[0;34m(u, n1, n2, a1, a2, op)\u001b[0m\n\u001b[1;32m     14\u001b[0m   \u001b[0mmodel\u001b[0m \u001b[0;34m=\u001b[0m \u001b[0mModel\u001b[0m\u001b[0;34m(\u001b[0m\u001b[0minputs\u001b[0m\u001b[0;34m=\u001b[0m\u001b[0minput_layer\u001b[0m\u001b[0;34m,\u001b[0m\u001b[0moutputs\u001b[0m\u001b[0;34m=\u001b[0m\u001b[0;34m[\u001b[0m\u001b[0moutput_sarcasm\u001b[0m\u001b[0;34m,\u001b[0m\u001b[0moutput_stress\u001b[0m\u001b[0;34m]\u001b[0m\u001b[0;34m)\u001b[0m\u001b[0;34m\u001b[0m\u001b[0;34m\u001b[0m\u001b[0m\n\u001b[1;32m     15\u001b[0m   \u001b[0mmodel\u001b[0m\u001b[0;34m.\u001b[0m\u001b[0mcompile\u001b[0m\u001b[0;34m(\u001b[0m\u001b[0mloss\u001b[0m\u001b[0;34m=\u001b[0m\u001b[0;34m'binary_crossentropy'\u001b[0m\u001b[0;34m,\u001b[0m \u001b[0moptimizer\u001b[0m\u001b[0;34m=\u001b[0m\u001b[0mop\u001b[0m\u001b[0;34m,\u001b[0m \u001b[0mmetrics\u001b[0m\u001b[0;34m=\u001b[0m\u001b[0;34m[\u001b[0m\u001b[0;34m'accuracy'\u001b[0m\u001b[0;34m]\u001b[0m\u001b[0;34m)\u001b[0m\u001b[0;34m\u001b[0m\u001b[0;34m\u001b[0m\u001b[0m\n\u001b[0;32m---> 16\u001b[0;31m   \u001b[0mmodel\u001b[0m\u001b[0;34m.\u001b[0m\u001b[0mfit\u001b[0m\u001b[0;34m(\u001b[0m\u001b[0mx_train\u001b[0m\u001b[0;34m,\u001b[0m\u001b[0;34m[\u001b[0m\u001b[0my_train_task1\u001b[0m\u001b[0;34m,\u001b[0m\u001b[0my_train_task2\u001b[0m\u001b[0;34m]\u001b[0m\u001b[0;34m,\u001b[0m\u001b[0mvalidation_data\u001b[0m\u001b[0;34m=\u001b[0m\u001b[0;34m(\u001b[0m\u001b[0mx_val\u001b[0m\u001b[0;34m,\u001b[0m\u001b[0;34m[\u001b[0m\u001b[0my_val_task1\u001b[0m\u001b[0;34m,\u001b[0m\u001b[0my_val_task2\u001b[0m\u001b[0;34m]\u001b[0m\u001b[0;34m)\u001b[0m\u001b[0;34m,\u001b[0m\u001b[0mepochs\u001b[0m\u001b[0;34m=\u001b[0m\u001b[0;36m15\u001b[0m\u001b[0;34m,\u001b[0m\u001b[0mbatch_size\u001b[0m\u001b[0;34m=\u001b[0m\u001b[0;36m32\u001b[0m\u001b[0;34m)\u001b[0m\u001b[0;34m\u001b[0m\u001b[0;34m\u001b[0m\u001b[0m\n\u001b[0m",
            "\u001b[0;32m/usr/local/lib/python3.10/dist-packages/keras/src/utils/traceback_utils.py\u001b[0m in \u001b[0;36merror_handler\u001b[0;34m(*args, **kwargs)\u001b[0m\n\u001b[1;32m     63\u001b[0m         \u001b[0mfiltered_tb\u001b[0m \u001b[0;34m=\u001b[0m \u001b[0;32mNone\u001b[0m\u001b[0;34m\u001b[0m\u001b[0;34m\u001b[0m\u001b[0m\n\u001b[1;32m     64\u001b[0m         \u001b[0;32mtry\u001b[0m\u001b[0;34m:\u001b[0m\u001b[0;34m\u001b[0m\u001b[0;34m\u001b[0m\u001b[0m\n\u001b[0;32m---> 65\u001b[0;31m             \u001b[0;32mreturn\u001b[0m \u001b[0mfn\u001b[0m\u001b[0;34m(\u001b[0m\u001b[0;34m*\u001b[0m\u001b[0margs\u001b[0m\u001b[0;34m,\u001b[0m \u001b[0;34m**\u001b[0m\u001b[0mkwargs\u001b[0m\u001b[0;34m)\u001b[0m\u001b[0;34m\u001b[0m\u001b[0;34m\u001b[0m\u001b[0m\n\u001b[0m\u001b[1;32m     66\u001b[0m         \u001b[0;32mexcept\u001b[0m \u001b[0mException\u001b[0m \u001b[0;32mas\u001b[0m \u001b[0me\u001b[0m\u001b[0;34m:\u001b[0m\u001b[0;34m\u001b[0m\u001b[0;34m\u001b[0m\u001b[0m\n\u001b[1;32m     67\u001b[0m             \u001b[0mfiltered_tb\u001b[0m \u001b[0;34m=\u001b[0m \u001b[0m_process_traceback_frames\u001b[0m\u001b[0;34m(\u001b[0m\u001b[0me\u001b[0m\u001b[0;34m.\u001b[0m\u001b[0m__traceback__\u001b[0m\u001b[0;34m)\u001b[0m\u001b[0;34m\u001b[0m\u001b[0;34m\u001b[0m\u001b[0m\n",
            "\u001b[0;32m/usr/local/lib/python3.10/dist-packages/keras/src/engine/training.py\u001b[0m in \u001b[0;36mfit\u001b[0;34m(self, x, y, batch_size, epochs, verbose, callbacks, validation_split, validation_data, shuffle, class_weight, sample_weight, initial_epoch, steps_per_epoch, validation_steps, validation_batch_size, validation_freq, max_queue_size, workers, use_multiprocessing)\u001b[0m\n\u001b[1;32m   1805\u001b[0m                         ):\n\u001b[1;32m   1806\u001b[0m                             \u001b[0mcallbacks\u001b[0m\u001b[0;34m.\u001b[0m\u001b[0mon_train_batch_begin\u001b[0m\u001b[0;34m(\u001b[0m\u001b[0mstep\u001b[0m\u001b[0;34m)\u001b[0m\u001b[0;34m\u001b[0m\u001b[0;34m\u001b[0m\u001b[0m\n\u001b[0;32m-> 1807\u001b[0;31m                             \u001b[0mtmp_logs\u001b[0m \u001b[0;34m=\u001b[0m \u001b[0mself\u001b[0m\u001b[0;34m.\u001b[0m\u001b[0mtrain_function\u001b[0m\u001b[0;34m(\u001b[0m\u001b[0miterator\u001b[0m\u001b[0;34m)\u001b[0m\u001b[0;34m\u001b[0m\u001b[0;34m\u001b[0m\u001b[0m\n\u001b[0m\u001b[1;32m   1808\u001b[0m                             \u001b[0;32mif\u001b[0m \u001b[0mdata_handler\u001b[0m\u001b[0;34m.\u001b[0m\u001b[0mshould_sync\u001b[0m\u001b[0;34m:\u001b[0m\u001b[0;34m\u001b[0m\u001b[0;34m\u001b[0m\u001b[0m\n\u001b[1;32m   1809\u001b[0m                                 \u001b[0mcontext\u001b[0m\u001b[0;34m.\u001b[0m\u001b[0masync_wait\u001b[0m\u001b[0;34m(\u001b[0m\u001b[0;34m)\u001b[0m\u001b[0;34m\u001b[0m\u001b[0;34m\u001b[0m\u001b[0m\n",
            "\u001b[0;32m/usr/local/lib/python3.10/dist-packages/tensorflow/python/util/traceback_utils.py\u001b[0m in \u001b[0;36merror_handler\u001b[0;34m(*args, **kwargs)\u001b[0m\n\u001b[1;32m    148\u001b[0m     \u001b[0mfiltered_tb\u001b[0m \u001b[0;34m=\u001b[0m \u001b[0;32mNone\u001b[0m\u001b[0;34m\u001b[0m\u001b[0;34m\u001b[0m\u001b[0m\n\u001b[1;32m    149\u001b[0m     \u001b[0;32mtry\u001b[0m\u001b[0;34m:\u001b[0m\u001b[0;34m\u001b[0m\u001b[0;34m\u001b[0m\u001b[0m\n\u001b[0;32m--> 150\u001b[0;31m       \u001b[0;32mreturn\u001b[0m \u001b[0mfn\u001b[0m\u001b[0;34m(\u001b[0m\u001b[0;34m*\u001b[0m\u001b[0margs\u001b[0m\u001b[0;34m,\u001b[0m \u001b[0;34m**\u001b[0m\u001b[0mkwargs\u001b[0m\u001b[0;34m)\u001b[0m\u001b[0;34m\u001b[0m\u001b[0;34m\u001b[0m\u001b[0m\n\u001b[0m\u001b[1;32m    151\u001b[0m     \u001b[0;32mexcept\u001b[0m \u001b[0mException\u001b[0m \u001b[0;32mas\u001b[0m \u001b[0me\u001b[0m\u001b[0;34m:\u001b[0m\u001b[0;34m\u001b[0m\u001b[0;34m\u001b[0m\u001b[0m\n\u001b[1;32m    152\u001b[0m       \u001b[0mfiltered_tb\u001b[0m \u001b[0;34m=\u001b[0m \u001b[0m_process_traceback_frames\u001b[0m\u001b[0;34m(\u001b[0m\u001b[0me\u001b[0m\u001b[0;34m.\u001b[0m\u001b[0m__traceback__\u001b[0m\u001b[0;34m)\u001b[0m\u001b[0;34m\u001b[0m\u001b[0;34m\u001b[0m\u001b[0m\n",
            "\u001b[0;32m/usr/local/lib/python3.10/dist-packages/tensorflow/python/eager/polymorphic_function/polymorphic_function.py\u001b[0m in \u001b[0;36m__call__\u001b[0;34m(self, *args, **kwds)\u001b[0m\n\u001b[1;32m    830\u001b[0m \u001b[0;34m\u001b[0m\u001b[0m\n\u001b[1;32m    831\u001b[0m       \u001b[0;32mwith\u001b[0m \u001b[0mOptionalXlaContext\u001b[0m\u001b[0;34m(\u001b[0m\u001b[0mself\u001b[0m\u001b[0;34m.\u001b[0m\u001b[0m_jit_compile\u001b[0m\u001b[0;34m)\u001b[0m\u001b[0;34m:\u001b[0m\u001b[0;34m\u001b[0m\u001b[0;34m\u001b[0m\u001b[0m\n\u001b[0;32m--> 832\u001b[0;31m         \u001b[0mresult\u001b[0m \u001b[0;34m=\u001b[0m \u001b[0mself\u001b[0m\u001b[0;34m.\u001b[0m\u001b[0m_call\u001b[0m\u001b[0;34m(\u001b[0m\u001b[0;34m*\u001b[0m\u001b[0margs\u001b[0m\u001b[0;34m,\u001b[0m \u001b[0;34m**\u001b[0m\u001b[0mkwds\u001b[0m\u001b[0;34m)\u001b[0m\u001b[0;34m\u001b[0m\u001b[0;34m\u001b[0m\u001b[0m\n\u001b[0m\u001b[1;32m    833\u001b[0m \u001b[0;34m\u001b[0m\u001b[0m\n\u001b[1;32m    834\u001b[0m       \u001b[0mnew_tracing_count\u001b[0m \u001b[0;34m=\u001b[0m \u001b[0mself\u001b[0m\u001b[0;34m.\u001b[0m\u001b[0mexperimental_get_tracing_count\u001b[0m\u001b[0;34m(\u001b[0m\u001b[0;34m)\u001b[0m\u001b[0;34m\u001b[0m\u001b[0;34m\u001b[0m\u001b[0m\n",
            "\u001b[0;32m/usr/local/lib/python3.10/dist-packages/tensorflow/python/eager/polymorphic_function/polymorphic_function.py\u001b[0m in \u001b[0;36m_call\u001b[0;34m(self, *args, **kwds)\u001b[0m\n\u001b[1;32m    903\u001b[0m         \u001b[0;31m# Lifting succeeded, so variables are initialized and we can run the\u001b[0m\u001b[0;34m\u001b[0m\u001b[0;34m\u001b[0m\u001b[0m\n\u001b[1;32m    904\u001b[0m         \u001b[0;31m# no_variable_creation function.\u001b[0m\u001b[0;34m\u001b[0m\u001b[0;34m\u001b[0m\u001b[0m\n\u001b[0;32m--> 905\u001b[0;31m         return tracing_compilation.call_function(\n\u001b[0m\u001b[1;32m    906\u001b[0m             \u001b[0margs\u001b[0m\u001b[0;34m,\u001b[0m \u001b[0mkwds\u001b[0m\u001b[0;34m,\u001b[0m \u001b[0mself\u001b[0m\u001b[0;34m.\u001b[0m\u001b[0m_no_variable_creation_config\u001b[0m\u001b[0;34m\u001b[0m\u001b[0;34m\u001b[0m\u001b[0m\n\u001b[1;32m    907\u001b[0m         )\n",
            "\u001b[0;32m/usr/local/lib/python3.10/dist-packages/tensorflow/python/eager/polymorphic_function/tracing_compilation.py\u001b[0m in \u001b[0;36mcall_function\u001b[0;34m(args, kwargs, tracing_options)\u001b[0m\n\u001b[1;32m    130\u001b[0m   \u001b[0margs\u001b[0m \u001b[0;34m=\u001b[0m \u001b[0margs\u001b[0m \u001b[0;32mif\u001b[0m \u001b[0margs\u001b[0m \u001b[0;32melse\u001b[0m \u001b[0;34m(\u001b[0m\u001b[0;34m)\u001b[0m\u001b[0;34m\u001b[0m\u001b[0;34m\u001b[0m\u001b[0m\n\u001b[1;32m    131\u001b[0m   \u001b[0mkwargs\u001b[0m \u001b[0;34m=\u001b[0m \u001b[0mkwargs\u001b[0m \u001b[0;32mif\u001b[0m \u001b[0mkwargs\u001b[0m \u001b[0;32melse\u001b[0m \u001b[0;34m{\u001b[0m\u001b[0;34m}\u001b[0m\u001b[0;34m\u001b[0m\u001b[0;34m\u001b[0m\u001b[0m\n\u001b[0;32m--> 132\u001b[0;31m   function = trace_function(\n\u001b[0m\u001b[1;32m    133\u001b[0m       \u001b[0margs\u001b[0m\u001b[0;34m=\u001b[0m\u001b[0margs\u001b[0m\u001b[0;34m,\u001b[0m \u001b[0mkwargs\u001b[0m\u001b[0;34m=\u001b[0m\u001b[0mkwargs\u001b[0m\u001b[0;34m,\u001b[0m \u001b[0mtracing_options\u001b[0m\u001b[0;34m=\u001b[0m\u001b[0mtracing_options\u001b[0m\u001b[0;34m\u001b[0m\u001b[0;34m\u001b[0m\u001b[0m\n\u001b[1;32m    134\u001b[0m   )\n",
            "\u001b[0;32m/usr/local/lib/python3.10/dist-packages/tensorflow/python/eager/polymorphic_function/tracing_compilation.py\u001b[0m in \u001b[0;36mtrace_function\u001b[0;34m(args, kwargs, tracing_options)\u001b[0m\n\u001b[1;32m    176\u001b[0m       \u001b[0mkwargs\u001b[0m \u001b[0;34m=\u001b[0m \u001b[0;34m{\u001b[0m\u001b[0;34m}\u001b[0m\u001b[0;34m\u001b[0m\u001b[0;34m\u001b[0m\u001b[0m\n\u001b[1;32m    177\u001b[0m \u001b[0;34m\u001b[0m\u001b[0m\n\u001b[0;32m--> 178\u001b[0;31m     concrete_function = _maybe_define_function(\n\u001b[0m\u001b[1;32m    179\u001b[0m         \u001b[0margs\u001b[0m\u001b[0;34m,\u001b[0m \u001b[0mkwargs\u001b[0m\u001b[0;34m,\u001b[0m \u001b[0mtracing_options\u001b[0m\u001b[0;34m\u001b[0m\u001b[0;34m\u001b[0m\u001b[0m\n\u001b[1;32m    180\u001b[0m     )\n",
            "\u001b[0;32m/usr/local/lib/python3.10/dist-packages/tensorflow/python/eager/polymorphic_function/tracing_compilation.py\u001b[0m in \u001b[0;36m_maybe_define_function\u001b[0;34m(args, kwargs, tracing_options)\u001b[0m\n\u001b[1;32m    281\u001b[0m         \u001b[0;32melse\u001b[0m\u001b[0;34m:\u001b[0m\u001b[0;34m\u001b[0m\u001b[0;34m\u001b[0m\u001b[0m\n\u001b[1;32m    282\u001b[0m           \u001b[0mtarget_func_type\u001b[0m \u001b[0;34m=\u001b[0m \u001b[0mlookup_func_type\u001b[0m\u001b[0;34m\u001b[0m\u001b[0;34m\u001b[0m\u001b[0m\n\u001b[0;32m--> 283\u001b[0;31m         concrete_function = _create_concrete_function(\n\u001b[0m\u001b[1;32m    284\u001b[0m             \u001b[0mtarget_func_type\u001b[0m\u001b[0;34m,\u001b[0m \u001b[0mlookup_func_context\u001b[0m\u001b[0;34m,\u001b[0m \u001b[0mfunc_graph\u001b[0m\u001b[0;34m,\u001b[0m \u001b[0mtracing_options\u001b[0m\u001b[0;34m\u001b[0m\u001b[0;34m\u001b[0m\u001b[0m\n\u001b[1;32m    285\u001b[0m         )\n",
            "\u001b[0;32m/usr/local/lib/python3.10/dist-packages/tensorflow/python/eager/polymorphic_function/tracing_compilation.py\u001b[0m in \u001b[0;36m_create_concrete_function\u001b[0;34m(function_type, type_context, func_graph, tracing_options)\u001b[0m\n\u001b[1;32m    308\u001b[0m       \u001b[0mattributes_lib\u001b[0m\u001b[0;34m.\u001b[0m\u001b[0mDISABLE_ACD\u001b[0m\u001b[0;34m,\u001b[0m \u001b[0;32mFalse\u001b[0m\u001b[0;34m\u001b[0m\u001b[0;34m\u001b[0m\u001b[0m\n\u001b[1;32m    309\u001b[0m   )\n\u001b[0;32m--> 310\u001b[0;31m   traced_func_graph = func_graph_module.func_graph_from_py_func(\n\u001b[0m\u001b[1;32m    311\u001b[0m       \u001b[0mtracing_options\u001b[0m\u001b[0;34m.\u001b[0m\u001b[0mname\u001b[0m\u001b[0;34m,\u001b[0m\u001b[0;34m\u001b[0m\u001b[0;34m\u001b[0m\u001b[0m\n\u001b[1;32m    312\u001b[0m       \u001b[0mtracing_options\u001b[0m\u001b[0;34m.\u001b[0m\u001b[0mpython_function\u001b[0m\u001b[0;34m,\u001b[0m\u001b[0;34m\u001b[0m\u001b[0;34m\u001b[0m\u001b[0m\n",
            "\u001b[0;32m/usr/local/lib/python3.10/dist-packages/tensorflow/python/framework/func_graph.py\u001b[0m in \u001b[0;36mfunc_graph_from_py_func\u001b[0;34m(name, python_func, args, kwargs, signature, func_graph, add_control_dependencies, arg_names, op_return_value, collections, capture_by_value, create_placeholders)\u001b[0m\n\u001b[1;32m   1057\u001b[0m \u001b[0;34m\u001b[0m\u001b[0m\n\u001b[1;32m   1058\u001b[0m     \u001b[0m_\u001b[0m\u001b[0;34m,\u001b[0m \u001b[0moriginal_func\u001b[0m \u001b[0;34m=\u001b[0m \u001b[0mtf_decorator\u001b[0m\u001b[0;34m.\u001b[0m\u001b[0munwrap\u001b[0m\u001b[0;34m(\u001b[0m\u001b[0mpython_func\u001b[0m\u001b[0;34m)\u001b[0m\u001b[0;34m\u001b[0m\u001b[0;34m\u001b[0m\u001b[0m\n\u001b[0;32m-> 1059\u001b[0;31m     \u001b[0mfunc_outputs\u001b[0m \u001b[0;34m=\u001b[0m \u001b[0mpython_func\u001b[0m\u001b[0;34m(\u001b[0m\u001b[0;34m*\u001b[0m\u001b[0mfunc_args\u001b[0m\u001b[0;34m,\u001b[0m \u001b[0;34m**\u001b[0m\u001b[0mfunc_kwargs\u001b[0m\u001b[0;34m)\u001b[0m\u001b[0;34m\u001b[0m\u001b[0;34m\u001b[0m\u001b[0m\n\u001b[0m\u001b[1;32m   1060\u001b[0m \u001b[0;34m\u001b[0m\u001b[0m\n\u001b[1;32m   1061\u001b[0m     \u001b[0;31m# invariant: `func_outputs` contains only Tensors, CompositeTensors,\u001b[0m\u001b[0;34m\u001b[0m\u001b[0;34m\u001b[0m\u001b[0m\n",
            "\u001b[0;32m/usr/local/lib/python3.10/dist-packages/tensorflow/python/eager/polymorphic_function/polymorphic_function.py\u001b[0m in \u001b[0;36mwrapped_fn\u001b[0;34m(*args, **kwds)\u001b[0m\n\u001b[1;32m    596\u001b[0m         \u001b[0;31m# the function a weak reference to itself to avoid a reference cycle.\u001b[0m\u001b[0;34m\u001b[0m\u001b[0;34m\u001b[0m\u001b[0m\n\u001b[1;32m    597\u001b[0m         \u001b[0;32mwith\u001b[0m \u001b[0mOptionalXlaContext\u001b[0m\u001b[0;34m(\u001b[0m\u001b[0mcompile_with_xla\u001b[0m\u001b[0;34m)\u001b[0m\u001b[0;34m:\u001b[0m\u001b[0;34m\u001b[0m\u001b[0;34m\u001b[0m\u001b[0m\n\u001b[0;32m--> 598\u001b[0;31m           \u001b[0mout\u001b[0m \u001b[0;34m=\u001b[0m \u001b[0mweak_wrapped_fn\u001b[0m\u001b[0;34m(\u001b[0m\u001b[0;34m)\u001b[0m\u001b[0;34m.\u001b[0m\u001b[0m__wrapped__\u001b[0m\u001b[0;34m(\u001b[0m\u001b[0;34m*\u001b[0m\u001b[0margs\u001b[0m\u001b[0;34m,\u001b[0m \u001b[0;34m**\u001b[0m\u001b[0mkwds\u001b[0m\u001b[0;34m)\u001b[0m\u001b[0;34m\u001b[0m\u001b[0;34m\u001b[0m\u001b[0m\n\u001b[0m\u001b[1;32m    599\u001b[0m         \u001b[0;32mreturn\u001b[0m \u001b[0mout\u001b[0m\u001b[0;34m\u001b[0m\u001b[0;34m\u001b[0m\u001b[0m\n\u001b[1;32m    600\u001b[0m \u001b[0;34m\u001b[0m\u001b[0m\n",
            "\u001b[0;32m/usr/local/lib/python3.10/dist-packages/tensorflow/python/eager/polymorphic_function/autograph_util.py\u001b[0m in \u001b[0;36mautograph_handler\u001b[0;34m(*args, **kwargs)\u001b[0m\n\u001b[1;32m     39\u001b[0m     \u001b[0;34m\"\"\"Calls a converted version of original_func.\"\"\"\u001b[0m\u001b[0;34m\u001b[0m\u001b[0;34m\u001b[0m\u001b[0m\n\u001b[1;32m     40\u001b[0m     \u001b[0;32mtry\u001b[0m\u001b[0;34m:\u001b[0m\u001b[0;34m\u001b[0m\u001b[0;34m\u001b[0m\u001b[0m\n\u001b[0;32m---> 41\u001b[0;31m       return api.converted_call(\n\u001b[0m\u001b[1;32m     42\u001b[0m           \u001b[0moriginal_func\u001b[0m\u001b[0;34m,\u001b[0m\u001b[0;34m\u001b[0m\u001b[0;34m\u001b[0m\u001b[0m\n\u001b[1;32m     43\u001b[0m           \u001b[0margs\u001b[0m\u001b[0;34m,\u001b[0m\u001b[0;34m\u001b[0m\u001b[0;34m\u001b[0m\u001b[0m\n",
            "\u001b[0;32m/usr/local/lib/python3.10/dist-packages/tensorflow/python/autograph/impl/api.py\u001b[0m in \u001b[0;36mconverted_call\u001b[0;34m(f, args, kwargs, caller_fn_scope, options)\u001b[0m\n\u001b[1;32m    437\u001b[0m     \u001b[0;32mtry\u001b[0m\u001b[0;34m:\u001b[0m\u001b[0;34m\u001b[0m\u001b[0;34m\u001b[0m\u001b[0m\n\u001b[1;32m    438\u001b[0m       \u001b[0;32mif\u001b[0m \u001b[0mkwargs\u001b[0m \u001b[0;32mis\u001b[0m \u001b[0;32mnot\u001b[0m \u001b[0;32mNone\u001b[0m\u001b[0;34m:\u001b[0m\u001b[0;34m\u001b[0m\u001b[0;34m\u001b[0m\u001b[0m\n\u001b[0;32m--> 439\u001b[0;31m         \u001b[0mresult\u001b[0m \u001b[0;34m=\u001b[0m \u001b[0mconverted_f\u001b[0m\u001b[0;34m(\u001b[0m\u001b[0;34m*\u001b[0m\u001b[0meffective_args\u001b[0m\u001b[0;34m,\u001b[0m \u001b[0;34m**\u001b[0m\u001b[0mkwargs\u001b[0m\u001b[0;34m)\u001b[0m\u001b[0;34m\u001b[0m\u001b[0;34m\u001b[0m\u001b[0m\n\u001b[0m\u001b[1;32m    440\u001b[0m       \u001b[0;32melse\u001b[0m\u001b[0;34m:\u001b[0m\u001b[0;34m\u001b[0m\u001b[0;34m\u001b[0m\u001b[0m\n\u001b[1;32m    441\u001b[0m         \u001b[0mresult\u001b[0m \u001b[0;34m=\u001b[0m \u001b[0mconverted_f\u001b[0m\u001b[0;34m(\u001b[0m\u001b[0;34m*\u001b[0m\u001b[0meffective_args\u001b[0m\u001b[0;34m)\u001b[0m\u001b[0;34m\u001b[0m\u001b[0;34m\u001b[0m\u001b[0m\n",
            "\u001b[0;32m/usr/local/lib/python3.10/dist-packages/keras/src/engine/training.py\u001b[0m in \u001b[0;36mtf__train_function\u001b[0;34m(iterator)\u001b[0m\n\u001b[1;32m     13\u001b[0m                 \u001b[0;32mtry\u001b[0m\u001b[0;34m:\u001b[0m\u001b[0;34m\u001b[0m\u001b[0;34m\u001b[0m\u001b[0m\n\u001b[1;32m     14\u001b[0m                     \u001b[0mdo_return\u001b[0m \u001b[0;34m=\u001b[0m \u001b[0;32mTrue\u001b[0m\u001b[0;34m\u001b[0m\u001b[0;34m\u001b[0m\u001b[0m\n\u001b[0;32m---> 15\u001b[0;31m                     \u001b[0mretval_\u001b[0m \u001b[0;34m=\u001b[0m \u001b[0mag__\u001b[0m\u001b[0;34m.\u001b[0m\u001b[0mconverted_call\u001b[0m\u001b[0;34m(\u001b[0m\u001b[0mag__\u001b[0m\u001b[0;34m.\u001b[0m\u001b[0mld\u001b[0m\u001b[0;34m(\u001b[0m\u001b[0mstep_function\u001b[0m\u001b[0;34m)\u001b[0m\u001b[0;34m,\u001b[0m \u001b[0;34m(\u001b[0m\u001b[0mag__\u001b[0m\u001b[0;34m.\u001b[0m\u001b[0mld\u001b[0m\u001b[0;34m(\u001b[0m\u001b[0mself\u001b[0m\u001b[0;34m)\u001b[0m\u001b[0;34m,\u001b[0m \u001b[0mag__\u001b[0m\u001b[0;34m.\u001b[0m\u001b[0mld\u001b[0m\u001b[0;34m(\u001b[0m\u001b[0miterator\u001b[0m\u001b[0;34m)\u001b[0m\u001b[0;34m)\u001b[0m\u001b[0;34m,\u001b[0m \u001b[0;32mNone\u001b[0m\u001b[0;34m,\u001b[0m \u001b[0mfscope\u001b[0m\u001b[0;34m)\u001b[0m\u001b[0;34m\u001b[0m\u001b[0;34m\u001b[0m\u001b[0m\n\u001b[0m\u001b[1;32m     16\u001b[0m                 \u001b[0;32mexcept\u001b[0m\u001b[0;34m:\u001b[0m\u001b[0;34m\u001b[0m\u001b[0;34m\u001b[0m\u001b[0m\n\u001b[1;32m     17\u001b[0m                     \u001b[0mdo_return\u001b[0m \u001b[0;34m=\u001b[0m \u001b[0;32mFalse\u001b[0m\u001b[0;34m\u001b[0m\u001b[0;34m\u001b[0m\u001b[0m\n",
            "\u001b[0;32m/usr/local/lib/python3.10/dist-packages/tensorflow/python/autograph/impl/api.py\u001b[0m in \u001b[0;36mconverted_call\u001b[0;34m(f, args, kwargs, caller_fn_scope, options)\u001b[0m\n\u001b[1;32m    329\u001b[0m   \u001b[0;32mif\u001b[0m \u001b[0mconversion\u001b[0m\u001b[0;34m.\u001b[0m\u001b[0mis_in_allowlist_cache\u001b[0m\u001b[0;34m(\u001b[0m\u001b[0mf\u001b[0m\u001b[0;34m,\u001b[0m \u001b[0moptions\u001b[0m\u001b[0;34m)\u001b[0m\u001b[0;34m:\u001b[0m\u001b[0;34m\u001b[0m\u001b[0;34m\u001b[0m\u001b[0m\n\u001b[1;32m    330\u001b[0m     \u001b[0mlogging\u001b[0m\u001b[0;34m.\u001b[0m\u001b[0mlog\u001b[0m\u001b[0;34m(\u001b[0m\u001b[0;36m2\u001b[0m\u001b[0;34m,\u001b[0m \u001b[0;34m'Allowlisted %s: from cache'\u001b[0m\u001b[0;34m,\u001b[0m \u001b[0mf\u001b[0m\u001b[0;34m)\u001b[0m\u001b[0;34m\u001b[0m\u001b[0;34m\u001b[0m\u001b[0m\n\u001b[0;32m--> 331\u001b[0;31m     \u001b[0;32mreturn\u001b[0m \u001b[0m_call_unconverted\u001b[0m\u001b[0;34m(\u001b[0m\u001b[0mf\u001b[0m\u001b[0;34m,\u001b[0m \u001b[0margs\u001b[0m\u001b[0;34m,\u001b[0m \u001b[0mkwargs\u001b[0m\u001b[0;34m,\u001b[0m \u001b[0moptions\u001b[0m\u001b[0;34m,\u001b[0m \u001b[0;32mFalse\u001b[0m\u001b[0;34m)\u001b[0m\u001b[0;34m\u001b[0m\u001b[0;34m\u001b[0m\u001b[0m\n\u001b[0m\u001b[1;32m    332\u001b[0m \u001b[0;34m\u001b[0m\u001b[0m\n\u001b[1;32m    333\u001b[0m   \u001b[0;32mif\u001b[0m \u001b[0mag_ctx\u001b[0m\u001b[0;34m.\u001b[0m\u001b[0mcontrol_status_ctx\u001b[0m\u001b[0;34m(\u001b[0m\u001b[0;34m)\u001b[0m\u001b[0;34m.\u001b[0m\u001b[0mstatus\u001b[0m \u001b[0;34m==\u001b[0m \u001b[0mag_ctx\u001b[0m\u001b[0;34m.\u001b[0m\u001b[0mStatus\u001b[0m\u001b[0;34m.\u001b[0m\u001b[0mDISABLED\u001b[0m\u001b[0;34m:\u001b[0m\u001b[0;34m\u001b[0m\u001b[0;34m\u001b[0m\u001b[0m\n",
            "\u001b[0;32m/usr/local/lib/python3.10/dist-packages/tensorflow/python/autograph/impl/api.py\u001b[0m in \u001b[0;36m_call_unconverted\u001b[0;34m(f, args, kwargs, options, update_cache)\u001b[0m\n\u001b[1;32m    458\u001b[0m   \u001b[0;32mif\u001b[0m \u001b[0mkwargs\u001b[0m \u001b[0;32mis\u001b[0m \u001b[0;32mnot\u001b[0m \u001b[0;32mNone\u001b[0m\u001b[0;34m:\u001b[0m\u001b[0;34m\u001b[0m\u001b[0;34m\u001b[0m\u001b[0m\n\u001b[1;32m    459\u001b[0m     \u001b[0;32mreturn\u001b[0m \u001b[0mf\u001b[0m\u001b[0;34m(\u001b[0m\u001b[0;34m*\u001b[0m\u001b[0margs\u001b[0m\u001b[0;34m,\u001b[0m \u001b[0;34m**\u001b[0m\u001b[0mkwargs\u001b[0m\u001b[0;34m)\u001b[0m\u001b[0;34m\u001b[0m\u001b[0;34m\u001b[0m\u001b[0m\n\u001b[0;32m--> 460\u001b[0;31m   \u001b[0;32mreturn\u001b[0m \u001b[0mf\u001b[0m\u001b[0;34m(\u001b[0m\u001b[0;34m*\u001b[0m\u001b[0margs\u001b[0m\u001b[0;34m)\u001b[0m\u001b[0;34m\u001b[0m\u001b[0;34m\u001b[0m\u001b[0m\n\u001b[0m\u001b[1;32m    461\u001b[0m \u001b[0;34m\u001b[0m\u001b[0m\n\u001b[1;32m    462\u001b[0m \u001b[0;34m\u001b[0m\u001b[0m\n",
            "\u001b[0;32m/usr/local/lib/python3.10/dist-packages/keras/src/engine/training.py\u001b[0m in \u001b[0;36mstep_function\u001b[0;34m(model, iterator)\u001b[0m\n\u001b[1;32m   1382\u001b[0m                 )\n\u001b[1;32m   1383\u001b[0m             \u001b[0mdata\u001b[0m \u001b[0;34m=\u001b[0m \u001b[0mnext\u001b[0m\u001b[0;34m(\u001b[0m\u001b[0miterator\u001b[0m\u001b[0;34m)\u001b[0m\u001b[0;34m\u001b[0m\u001b[0;34m\u001b[0m\u001b[0m\n\u001b[0;32m-> 1384\u001b[0;31m             \u001b[0moutputs\u001b[0m \u001b[0;34m=\u001b[0m \u001b[0mmodel\u001b[0m\u001b[0;34m.\u001b[0m\u001b[0mdistribute_strategy\u001b[0m\u001b[0;34m.\u001b[0m\u001b[0mrun\u001b[0m\u001b[0;34m(\u001b[0m\u001b[0mrun_step\u001b[0m\u001b[0;34m,\u001b[0m \u001b[0margs\u001b[0m\u001b[0;34m=\u001b[0m\u001b[0;34m(\u001b[0m\u001b[0mdata\u001b[0m\u001b[0;34m,\u001b[0m\u001b[0;34m)\u001b[0m\u001b[0;34m)\u001b[0m\u001b[0;34m\u001b[0m\u001b[0;34m\u001b[0m\u001b[0m\n\u001b[0m\u001b[1;32m   1385\u001b[0m             outputs = reduce_per_replica(\n\u001b[1;32m   1386\u001b[0m                 \u001b[0moutputs\u001b[0m\u001b[0;34m,\u001b[0m\u001b[0;34m\u001b[0m\u001b[0;34m\u001b[0m\u001b[0m\n",
            "\u001b[0;32m/usr/local/lib/python3.10/dist-packages/tensorflow/python/distribute/distribute_lib.py\u001b[0m in \u001b[0;36mrun\u001b[0;34m(***failed resolving arguments***)\u001b[0m\n\u001b[1;32m   1679\u001b[0m       fn = autograph.tf_convert(\n\u001b[1;32m   1680\u001b[0m           fn, autograph_ctx.control_status_ctx(), convert_by_default=False)\n\u001b[0;32m-> 1681\u001b[0;31m       \u001b[0;32mreturn\u001b[0m \u001b[0mself\u001b[0m\u001b[0;34m.\u001b[0m\u001b[0m_extended\u001b[0m\u001b[0;34m.\u001b[0m\u001b[0mcall_for_each_replica\u001b[0m\u001b[0;34m(\u001b[0m\u001b[0mfn\u001b[0m\u001b[0;34m,\u001b[0m \u001b[0margs\u001b[0m\u001b[0;34m=\u001b[0m\u001b[0margs\u001b[0m\u001b[0;34m,\u001b[0m \u001b[0mkwargs\u001b[0m\u001b[0;34m=\u001b[0m\u001b[0mkwargs\u001b[0m\u001b[0;34m)\u001b[0m\u001b[0;34m\u001b[0m\u001b[0;34m\u001b[0m\u001b[0m\n\u001b[0m\u001b[1;32m   1682\u001b[0m \u001b[0;34m\u001b[0m\u001b[0m\n\u001b[1;32m   1683\u001b[0m   \u001b[0;32mdef\u001b[0m \u001b[0mreduce\u001b[0m\u001b[0;34m(\u001b[0m\u001b[0mself\u001b[0m\u001b[0;34m,\u001b[0m \u001b[0mreduce_op\u001b[0m\u001b[0;34m,\u001b[0m \u001b[0mvalue\u001b[0m\u001b[0;34m,\u001b[0m \u001b[0maxis\u001b[0m\u001b[0;34m)\u001b[0m\u001b[0;34m:\u001b[0m\u001b[0;34m\u001b[0m\u001b[0;34m\u001b[0m\u001b[0m\n",
            "\u001b[0;32m/usr/local/lib/python3.10/dist-packages/tensorflow/python/distribute/distribute_lib.py\u001b[0m in \u001b[0;36mcall_for_each_replica\u001b[0;34m(self, fn, args, kwargs)\u001b[0m\n\u001b[1;32m   3269\u001b[0m       \u001b[0mkwargs\u001b[0m \u001b[0;34m=\u001b[0m \u001b[0;34m{\u001b[0m\u001b[0;34m}\u001b[0m\u001b[0;34m\u001b[0m\u001b[0;34m\u001b[0m\u001b[0m\n\u001b[1;32m   3270\u001b[0m     \u001b[0;32mwith\u001b[0m \u001b[0mself\u001b[0m\u001b[0;34m.\u001b[0m\u001b[0m_container_strategy\u001b[0m\u001b[0;34m(\u001b[0m\u001b[0;34m)\u001b[0m\u001b[0;34m.\u001b[0m\u001b[0mscope\u001b[0m\u001b[0;34m(\u001b[0m\u001b[0;34m)\u001b[0m\u001b[0;34m:\u001b[0m\u001b[0;34m\u001b[0m\u001b[0;34m\u001b[0m\u001b[0m\n\u001b[0;32m-> 3271\u001b[0;31m       \u001b[0;32mreturn\u001b[0m \u001b[0mself\u001b[0m\u001b[0;34m.\u001b[0m\u001b[0m_call_for_each_replica\u001b[0m\u001b[0;34m(\u001b[0m\u001b[0mfn\u001b[0m\u001b[0;34m,\u001b[0m \u001b[0margs\u001b[0m\u001b[0;34m,\u001b[0m \u001b[0mkwargs\u001b[0m\u001b[0;34m)\u001b[0m\u001b[0;34m\u001b[0m\u001b[0;34m\u001b[0m\u001b[0m\n\u001b[0m\u001b[1;32m   3272\u001b[0m \u001b[0;34m\u001b[0m\u001b[0m\n\u001b[1;32m   3273\u001b[0m   \u001b[0;32mdef\u001b[0m \u001b[0m_call_for_each_replica\u001b[0m\u001b[0;34m(\u001b[0m\u001b[0mself\u001b[0m\u001b[0;34m,\u001b[0m \u001b[0mfn\u001b[0m\u001b[0;34m,\u001b[0m \u001b[0margs\u001b[0m\u001b[0;34m,\u001b[0m \u001b[0mkwargs\u001b[0m\u001b[0;34m)\u001b[0m\u001b[0;34m:\u001b[0m\u001b[0;34m\u001b[0m\u001b[0;34m\u001b[0m\u001b[0m\n",
            "\u001b[0;32m/usr/local/lib/python3.10/dist-packages/tensorflow/python/distribute/distribute_lib.py\u001b[0m in \u001b[0;36m_call_for_each_replica\u001b[0;34m(self, fn, args, kwargs)\u001b[0m\n\u001b[1;32m   4067\u001b[0m   \u001b[0;32mdef\u001b[0m \u001b[0m_call_for_each_replica\u001b[0m\u001b[0;34m(\u001b[0m\u001b[0mself\u001b[0m\u001b[0;34m,\u001b[0m \u001b[0mfn\u001b[0m\u001b[0;34m,\u001b[0m \u001b[0margs\u001b[0m\u001b[0;34m,\u001b[0m \u001b[0mkwargs\u001b[0m\u001b[0;34m)\u001b[0m\u001b[0;34m:\u001b[0m\u001b[0;34m\u001b[0m\u001b[0;34m\u001b[0m\u001b[0m\n\u001b[1;32m   4068\u001b[0m     \u001b[0;32mwith\u001b[0m \u001b[0mReplicaContext\u001b[0m\u001b[0;34m(\u001b[0m\u001b[0mself\u001b[0m\u001b[0;34m.\u001b[0m\u001b[0m_container_strategy\u001b[0m\u001b[0;34m(\u001b[0m\u001b[0;34m)\u001b[0m\u001b[0;34m,\u001b[0m \u001b[0mreplica_id_in_sync_group\u001b[0m\u001b[0;34m=\u001b[0m\u001b[0;36m0\u001b[0m\u001b[0;34m)\u001b[0m\u001b[0;34m:\u001b[0m\u001b[0;34m\u001b[0m\u001b[0;34m\u001b[0m\u001b[0m\n\u001b[0;32m-> 4069\u001b[0;31m       \u001b[0;32mreturn\u001b[0m \u001b[0mfn\u001b[0m\u001b[0;34m(\u001b[0m\u001b[0;34m*\u001b[0m\u001b[0margs\u001b[0m\u001b[0;34m,\u001b[0m \u001b[0;34m**\u001b[0m\u001b[0mkwargs\u001b[0m\u001b[0;34m)\u001b[0m\u001b[0;34m\u001b[0m\u001b[0;34m\u001b[0m\u001b[0m\n\u001b[0m\u001b[1;32m   4070\u001b[0m \u001b[0;34m\u001b[0m\u001b[0m\n\u001b[1;32m   4071\u001b[0m   \u001b[0;32mdef\u001b[0m \u001b[0m_reduce_to\u001b[0m\u001b[0;34m(\u001b[0m\u001b[0mself\u001b[0m\u001b[0;34m,\u001b[0m \u001b[0mreduce_op\u001b[0m\u001b[0;34m,\u001b[0m \u001b[0mvalue\u001b[0m\u001b[0;34m,\u001b[0m \u001b[0mdestinations\u001b[0m\u001b[0;34m,\u001b[0m \u001b[0moptions\u001b[0m\u001b[0;34m)\u001b[0m\u001b[0;34m:\u001b[0m\u001b[0;34m\u001b[0m\u001b[0;34m\u001b[0m\u001b[0m\n",
            "\u001b[0;32m/usr/local/lib/python3.10/dist-packages/tensorflow/python/autograph/impl/api.py\u001b[0m in \u001b[0;36mwrapper\u001b[0;34m(*args, **kwargs)\u001b[0m\n\u001b[1;32m    688\u001b[0m       \u001b[0;32mtry\u001b[0m\u001b[0;34m:\u001b[0m\u001b[0;34m\u001b[0m\u001b[0;34m\u001b[0m\u001b[0m\n\u001b[1;32m    689\u001b[0m         \u001b[0;32mwith\u001b[0m \u001b[0mconversion_ctx\u001b[0m\u001b[0;34m:\u001b[0m\u001b[0;34m\u001b[0m\u001b[0;34m\u001b[0m\u001b[0m\n\u001b[0;32m--> 690\u001b[0;31m           \u001b[0;32mreturn\u001b[0m \u001b[0mconverted_call\u001b[0m\u001b[0;34m(\u001b[0m\u001b[0mf\u001b[0m\u001b[0;34m,\u001b[0m \u001b[0margs\u001b[0m\u001b[0;34m,\u001b[0m \u001b[0mkwargs\u001b[0m\u001b[0;34m,\u001b[0m \u001b[0moptions\u001b[0m\u001b[0;34m=\u001b[0m\u001b[0moptions\u001b[0m\u001b[0;34m)\u001b[0m\u001b[0;34m\u001b[0m\u001b[0;34m\u001b[0m\u001b[0m\n\u001b[0m\u001b[1;32m    691\u001b[0m       \u001b[0;32mexcept\u001b[0m \u001b[0mException\u001b[0m \u001b[0;32mas\u001b[0m \u001b[0me\u001b[0m\u001b[0;34m:\u001b[0m  \u001b[0;31m# pylint:disable=broad-except\u001b[0m\u001b[0;34m\u001b[0m\u001b[0;34m\u001b[0m\u001b[0m\n\u001b[1;32m    692\u001b[0m         \u001b[0;32mif\u001b[0m \u001b[0mhasattr\u001b[0m\u001b[0;34m(\u001b[0m\u001b[0me\u001b[0m\u001b[0;34m,\u001b[0m \u001b[0;34m'ag_error_metadata'\u001b[0m\u001b[0;34m)\u001b[0m\u001b[0;34m:\u001b[0m\u001b[0;34m\u001b[0m\u001b[0;34m\u001b[0m\u001b[0m\n",
            "\u001b[0;32m/usr/local/lib/python3.10/dist-packages/tensorflow/python/autograph/impl/api.py\u001b[0m in \u001b[0;36mconverted_call\u001b[0;34m(f, args, kwargs, caller_fn_scope, options)\u001b[0m\n\u001b[1;32m    375\u001b[0m \u001b[0;34m\u001b[0m\u001b[0m\n\u001b[1;32m    376\u001b[0m   \u001b[0;32mif\u001b[0m \u001b[0;32mnot\u001b[0m \u001b[0moptions\u001b[0m\u001b[0;34m.\u001b[0m\u001b[0muser_requested\u001b[0m \u001b[0;32mand\u001b[0m \u001b[0mconversion\u001b[0m\u001b[0;34m.\u001b[0m\u001b[0mis_allowlisted\u001b[0m\u001b[0;34m(\u001b[0m\u001b[0mf\u001b[0m\u001b[0;34m)\u001b[0m\u001b[0;34m:\u001b[0m\u001b[0;34m\u001b[0m\u001b[0;34m\u001b[0m\u001b[0m\n\u001b[0;32m--> 377\u001b[0;31m     \u001b[0;32mreturn\u001b[0m \u001b[0m_call_unconverted\u001b[0m\u001b[0;34m(\u001b[0m\u001b[0mf\u001b[0m\u001b[0;34m,\u001b[0m \u001b[0margs\u001b[0m\u001b[0;34m,\u001b[0m \u001b[0mkwargs\u001b[0m\u001b[0;34m,\u001b[0m \u001b[0moptions\u001b[0m\u001b[0;34m)\u001b[0m\u001b[0;34m\u001b[0m\u001b[0;34m\u001b[0m\u001b[0m\n\u001b[0m\u001b[1;32m    378\u001b[0m \u001b[0;34m\u001b[0m\u001b[0m\n\u001b[1;32m    379\u001b[0m   \u001b[0;31m# internal_convert_user_code is for example turned off when issuing a dynamic\u001b[0m\u001b[0;34m\u001b[0m\u001b[0;34m\u001b[0m\u001b[0m\n",
            "\u001b[0;32m/usr/local/lib/python3.10/dist-packages/tensorflow/python/autograph/impl/api.py\u001b[0m in \u001b[0;36m_call_unconverted\u001b[0;34m(f, args, kwargs, options, update_cache)\u001b[0m\n\u001b[1;32m    457\u001b[0m \u001b[0;34m\u001b[0m\u001b[0m\n\u001b[1;32m    458\u001b[0m   \u001b[0;32mif\u001b[0m \u001b[0mkwargs\u001b[0m \u001b[0;32mis\u001b[0m \u001b[0;32mnot\u001b[0m \u001b[0;32mNone\u001b[0m\u001b[0;34m:\u001b[0m\u001b[0;34m\u001b[0m\u001b[0;34m\u001b[0m\u001b[0m\n\u001b[0;32m--> 459\u001b[0;31m     \u001b[0;32mreturn\u001b[0m \u001b[0mf\u001b[0m\u001b[0;34m(\u001b[0m\u001b[0;34m*\u001b[0m\u001b[0margs\u001b[0m\u001b[0;34m,\u001b[0m \u001b[0;34m**\u001b[0m\u001b[0mkwargs\u001b[0m\u001b[0;34m)\u001b[0m\u001b[0;34m\u001b[0m\u001b[0;34m\u001b[0m\u001b[0m\n\u001b[0m\u001b[1;32m    460\u001b[0m   \u001b[0;32mreturn\u001b[0m \u001b[0mf\u001b[0m\u001b[0;34m(\u001b[0m\u001b[0;34m*\u001b[0m\u001b[0margs\u001b[0m\u001b[0;34m)\u001b[0m\u001b[0;34m\u001b[0m\u001b[0;34m\u001b[0m\u001b[0m\n\u001b[1;32m    461\u001b[0m \u001b[0;34m\u001b[0m\u001b[0m\n",
            "\u001b[0;32m/usr/local/lib/python3.10/dist-packages/keras/src/engine/training.py\u001b[0m in \u001b[0;36mrun_step\u001b[0;34m(data)\u001b[0m\n\u001b[1;32m   1371\u001b[0m \u001b[0;34m\u001b[0m\u001b[0m\n\u001b[1;32m   1372\u001b[0m             \u001b[0;32mdef\u001b[0m \u001b[0mrun_step\u001b[0m\u001b[0;34m(\u001b[0m\u001b[0mdata\u001b[0m\u001b[0;34m)\u001b[0m\u001b[0;34m:\u001b[0m\u001b[0;34m\u001b[0m\u001b[0;34m\u001b[0m\u001b[0m\n\u001b[0;32m-> 1373\u001b[0;31m                 \u001b[0moutputs\u001b[0m \u001b[0;34m=\u001b[0m \u001b[0mmodel\u001b[0m\u001b[0;34m.\u001b[0m\u001b[0mtrain_step\u001b[0m\u001b[0;34m(\u001b[0m\u001b[0mdata\u001b[0m\u001b[0;34m)\u001b[0m\u001b[0;34m\u001b[0m\u001b[0;34m\u001b[0m\u001b[0m\n\u001b[0m\u001b[1;32m   1374\u001b[0m                 \u001b[0;31m# Ensure counter is updated only if `train_step` succeeds.\u001b[0m\u001b[0;34m\u001b[0m\u001b[0;34m\u001b[0m\u001b[0m\n\u001b[1;32m   1375\u001b[0m                 \u001b[0;32mwith\u001b[0m \u001b[0mtf\u001b[0m\u001b[0;34m.\u001b[0m\u001b[0mcontrol_dependencies\u001b[0m\u001b[0;34m(\u001b[0m\u001b[0m_minimum_control_deps\u001b[0m\u001b[0;34m(\u001b[0m\u001b[0moutputs\u001b[0m\u001b[0;34m)\u001b[0m\u001b[0;34m)\u001b[0m\u001b[0;34m:\u001b[0m\u001b[0;34m\u001b[0m\u001b[0;34m\u001b[0m\u001b[0m\n",
            "\u001b[0;32m/usr/local/lib/python3.10/dist-packages/keras/src/engine/training.py\u001b[0m in \u001b[0;36mtrain_step\u001b[0;34m(self, data)\u001b[0m\n\u001b[1;32m   1152\u001b[0m         \u001b[0mself\u001b[0m\u001b[0;34m.\u001b[0m\u001b[0m_validate_target_and_loss\u001b[0m\u001b[0;34m(\u001b[0m\u001b[0my\u001b[0m\u001b[0;34m,\u001b[0m \u001b[0mloss\u001b[0m\u001b[0;34m)\u001b[0m\u001b[0;34m\u001b[0m\u001b[0;34m\u001b[0m\u001b[0m\n\u001b[1;32m   1153\u001b[0m         \u001b[0;31m# Run backwards pass.\u001b[0m\u001b[0;34m\u001b[0m\u001b[0;34m\u001b[0m\u001b[0m\n\u001b[0;32m-> 1154\u001b[0;31m         \u001b[0mself\u001b[0m\u001b[0;34m.\u001b[0m\u001b[0moptimizer\u001b[0m\u001b[0;34m.\u001b[0m\u001b[0mminimize\u001b[0m\u001b[0;34m(\u001b[0m\u001b[0mloss\u001b[0m\u001b[0;34m,\u001b[0m \u001b[0mself\u001b[0m\u001b[0;34m.\u001b[0m\u001b[0mtrainable_variables\u001b[0m\u001b[0;34m,\u001b[0m \u001b[0mtape\u001b[0m\u001b[0;34m=\u001b[0m\u001b[0mtape\u001b[0m\u001b[0;34m)\u001b[0m\u001b[0;34m\u001b[0m\u001b[0;34m\u001b[0m\u001b[0m\n\u001b[0m\u001b[1;32m   1155\u001b[0m         \u001b[0;32mreturn\u001b[0m \u001b[0mself\u001b[0m\u001b[0;34m.\u001b[0m\u001b[0mcompute_metrics\u001b[0m\u001b[0;34m(\u001b[0m\u001b[0mx\u001b[0m\u001b[0;34m,\u001b[0m \u001b[0my\u001b[0m\u001b[0;34m,\u001b[0m \u001b[0my_pred\u001b[0m\u001b[0;34m,\u001b[0m \u001b[0msample_weight\u001b[0m\u001b[0;34m)\u001b[0m\u001b[0;34m\u001b[0m\u001b[0;34m\u001b[0m\u001b[0m\n\u001b[1;32m   1156\u001b[0m \u001b[0;34m\u001b[0m\u001b[0m\n",
            "\u001b[0;32m/usr/local/lib/python3.10/dist-packages/keras/src/optimizers/optimizer.py\u001b[0m in \u001b[0;36mminimize\u001b[0;34m(self, loss, var_list, tape)\u001b[0m\n\u001b[1;32m    542\u001b[0m         \"\"\"\n\u001b[1;32m    543\u001b[0m         \u001b[0mgrads_and_vars\u001b[0m \u001b[0;34m=\u001b[0m \u001b[0mself\u001b[0m\u001b[0;34m.\u001b[0m\u001b[0mcompute_gradients\u001b[0m\u001b[0;34m(\u001b[0m\u001b[0mloss\u001b[0m\u001b[0;34m,\u001b[0m \u001b[0mvar_list\u001b[0m\u001b[0;34m,\u001b[0m \u001b[0mtape\u001b[0m\u001b[0;34m)\u001b[0m\u001b[0;34m\u001b[0m\u001b[0;34m\u001b[0m\u001b[0m\n\u001b[0;32m--> 544\u001b[0;31m         \u001b[0mself\u001b[0m\u001b[0;34m.\u001b[0m\u001b[0mapply_gradients\u001b[0m\u001b[0;34m(\u001b[0m\u001b[0mgrads_and_vars\u001b[0m\u001b[0;34m)\u001b[0m\u001b[0;34m\u001b[0m\u001b[0;34m\u001b[0m\u001b[0m\n\u001b[0m\u001b[1;32m    545\u001b[0m \u001b[0;34m\u001b[0m\u001b[0m\n\u001b[1;32m    546\u001b[0m     \u001b[0;32mdef\u001b[0m \u001b[0m_compute_current_learning_rate\u001b[0m\u001b[0;34m(\u001b[0m\u001b[0mself\u001b[0m\u001b[0;34m)\u001b[0m\u001b[0;34m:\u001b[0m\u001b[0;34m\u001b[0m\u001b[0;34m\u001b[0m\u001b[0m\n",
            "\u001b[0;32m/usr/local/lib/python3.10/dist-packages/keras/src/optimizers/optimizer.py\u001b[0m in \u001b[0;36mapply_gradients\u001b[0;34m(self, grads_and_vars, name, skip_gradients_aggregation, **kwargs)\u001b[0m\n\u001b[1;32m   1221\u001b[0m         \u001b[0;32mif\u001b[0m \u001b[0;32mnot\u001b[0m \u001b[0mskip_gradients_aggregation\u001b[0m \u001b[0;32mand\u001b[0m \u001b[0mexperimental_aggregate_gradients\u001b[0m\u001b[0;34m:\u001b[0m\u001b[0;34m\u001b[0m\u001b[0;34m\u001b[0m\u001b[0m\n\u001b[1;32m   1222\u001b[0m             \u001b[0mgrads_and_vars\u001b[0m \u001b[0;34m=\u001b[0m \u001b[0mself\u001b[0m\u001b[0;34m.\u001b[0m\u001b[0maggregate_gradients\u001b[0m\u001b[0;34m(\u001b[0m\u001b[0mgrads_and_vars\u001b[0m\u001b[0;34m)\u001b[0m\u001b[0;34m\u001b[0m\u001b[0;34m\u001b[0m\u001b[0m\n\u001b[0;32m-> 1223\u001b[0;31m         \u001b[0;32mreturn\u001b[0m \u001b[0msuper\u001b[0m\u001b[0;34m(\u001b[0m\u001b[0;34m)\u001b[0m\u001b[0;34m.\u001b[0m\u001b[0mapply_gradients\u001b[0m\u001b[0;34m(\u001b[0m\u001b[0mgrads_and_vars\u001b[0m\u001b[0;34m,\u001b[0m \u001b[0mname\u001b[0m\u001b[0;34m=\u001b[0m\u001b[0mname\u001b[0m\u001b[0;34m)\u001b[0m\u001b[0;34m\u001b[0m\u001b[0;34m\u001b[0m\u001b[0m\n\u001b[0m\u001b[1;32m   1224\u001b[0m \u001b[0;34m\u001b[0m\u001b[0m\n\u001b[1;32m   1225\u001b[0m     \u001b[0;32mdef\u001b[0m \u001b[0m_apply_weight_decay\u001b[0m\u001b[0;34m(\u001b[0m\u001b[0mself\u001b[0m\u001b[0;34m,\u001b[0m \u001b[0mvariables\u001b[0m\u001b[0;34m)\u001b[0m\u001b[0;34m:\u001b[0m\u001b[0;34m\u001b[0m\u001b[0;34m\u001b[0m\u001b[0m\n",
            "\u001b[0;32m/usr/local/lib/python3.10/dist-packages/keras/src/optimizers/optimizer.py\u001b[0m in \u001b[0;36mapply_gradients\u001b[0;34m(self, grads_and_vars, name)\u001b[0m\n\u001b[1;32m    650\u001b[0m             \u001b[0mself\u001b[0m\u001b[0;34m.\u001b[0m\u001b[0m_apply_weight_decay\u001b[0m\u001b[0;34m(\u001b[0m\u001b[0mtrainable_variables\u001b[0m\u001b[0;34m)\u001b[0m\u001b[0;34m\u001b[0m\u001b[0;34m\u001b[0m\u001b[0m\n\u001b[1;32m    651\u001b[0m             \u001b[0mgrads_and_vars\u001b[0m \u001b[0;34m=\u001b[0m \u001b[0mlist\u001b[0m\u001b[0;34m(\u001b[0m\u001b[0mzip\u001b[0m\u001b[0;34m(\u001b[0m\u001b[0mgrads\u001b[0m\u001b[0;34m,\u001b[0m \u001b[0mtrainable_variables\u001b[0m\u001b[0;34m)\u001b[0m\u001b[0;34m)\u001b[0m\u001b[0;34m\u001b[0m\u001b[0;34m\u001b[0m\u001b[0m\n\u001b[0;32m--> 652\u001b[0;31m             \u001b[0miteration\u001b[0m \u001b[0;34m=\u001b[0m \u001b[0mself\u001b[0m\u001b[0;34m.\u001b[0m\u001b[0m_internal_apply_gradients\u001b[0m\u001b[0;34m(\u001b[0m\u001b[0mgrads_and_vars\u001b[0m\u001b[0;34m)\u001b[0m\u001b[0;34m\u001b[0m\u001b[0;34m\u001b[0m\u001b[0m\n\u001b[0m\u001b[1;32m    653\u001b[0m \u001b[0;34m\u001b[0m\u001b[0m\n\u001b[1;32m    654\u001b[0m             \u001b[0;31m# Apply variable constraints after applying gradients.\u001b[0m\u001b[0;34m\u001b[0m\u001b[0;34m\u001b[0m\u001b[0m\n",
            "\u001b[0;32m/usr/local/lib/python3.10/dist-packages/keras/src/optimizers/optimizer.py\u001b[0m in \u001b[0;36m_internal_apply_gradients\u001b[0;34m(self, grads_and_vars)\u001b[0m\n\u001b[1;32m   1251\u001b[0m             \u001b[0;32mreturn\u001b[0m \u001b[0msuper\u001b[0m\u001b[0;34m(\u001b[0m\u001b[0;34m)\u001b[0m\u001b[0;34m.\u001b[0m\u001b[0m_internal_apply_gradients\u001b[0m\u001b[0;34m(\u001b[0m\u001b[0mgrads_and_vars\u001b[0m\u001b[0;34m)\u001b[0m\u001b[0;34m\u001b[0m\u001b[0;34m\u001b[0m\u001b[0m\n\u001b[1;32m   1252\u001b[0m \u001b[0;34m\u001b[0m\u001b[0m\n\u001b[0;32m-> 1253\u001b[0;31m         return tf.__internal__.distribute.interim.maybe_merge_call(\n\u001b[0m\u001b[1;32m   1254\u001b[0m             \u001b[0mself\u001b[0m\u001b[0;34m.\u001b[0m\u001b[0m_distributed_apply_gradients_fn\u001b[0m\u001b[0;34m,\u001b[0m\u001b[0;34m\u001b[0m\u001b[0;34m\u001b[0m\u001b[0m\n\u001b[1;32m   1255\u001b[0m             \u001b[0mself\u001b[0m\u001b[0;34m.\u001b[0m\u001b[0m_distribution_strategy\u001b[0m\u001b[0;34m,\u001b[0m\u001b[0;34m\u001b[0m\u001b[0;34m\u001b[0m\u001b[0m\n",
            "\u001b[0;32m/usr/local/lib/python3.10/dist-packages/tensorflow/python/distribute/merge_call_interim.py\u001b[0m in \u001b[0;36mmaybe_merge_call\u001b[0;34m(fn, strategy, *args, **kwargs)\u001b[0m\n\u001b[1;32m     49\u001b[0m   \"\"\"\n\u001b[1;32m     50\u001b[0m   \u001b[0;32mif\u001b[0m \u001b[0mstrategy_supports_no_merge_call\u001b[0m\u001b[0;34m(\u001b[0m\u001b[0;34m)\u001b[0m\u001b[0;34m:\u001b[0m\u001b[0;34m\u001b[0m\u001b[0;34m\u001b[0m\u001b[0m\n\u001b[0;32m---> 51\u001b[0;31m     \u001b[0;32mreturn\u001b[0m \u001b[0mfn\u001b[0m\u001b[0;34m(\u001b[0m\u001b[0mstrategy\u001b[0m\u001b[0;34m,\u001b[0m \u001b[0;34m*\u001b[0m\u001b[0margs\u001b[0m\u001b[0;34m,\u001b[0m \u001b[0;34m**\u001b[0m\u001b[0mkwargs\u001b[0m\u001b[0;34m)\u001b[0m\u001b[0;34m\u001b[0m\u001b[0;34m\u001b[0m\u001b[0m\n\u001b[0m\u001b[1;32m     52\u001b[0m   \u001b[0;32melse\u001b[0m\u001b[0;34m:\u001b[0m\u001b[0;34m\u001b[0m\u001b[0;34m\u001b[0m\u001b[0m\n\u001b[1;32m     53\u001b[0m     return distribute_lib.get_replica_context().merge_call(\n",
            "\u001b[0;32m/usr/local/lib/python3.10/dist-packages/keras/src/optimizers/optimizer.py\u001b[0m in \u001b[0;36m_distributed_apply_gradients_fn\u001b[0;34m(self, distribution, grads_and_vars, **kwargs)\u001b[0m\n\u001b[1;32m   1343\u001b[0m \u001b[0;34m\u001b[0m\u001b[0m\n\u001b[1;32m   1344\u001b[0m         \u001b[0;32mfor\u001b[0m \u001b[0mgrad\u001b[0m\u001b[0;34m,\u001b[0m \u001b[0mvar\u001b[0m \u001b[0;32min\u001b[0m \u001b[0mgrads_and_vars\u001b[0m\u001b[0;34m:\u001b[0m\u001b[0;34m\u001b[0m\u001b[0;34m\u001b[0m\u001b[0m\n\u001b[0;32m-> 1345\u001b[0;31m             distribution.extended.update(\n\u001b[0m\u001b[1;32m   1346\u001b[0m                 \u001b[0mvar\u001b[0m\u001b[0;34m,\u001b[0m \u001b[0mapply_grad_to_update_var\u001b[0m\u001b[0;34m,\u001b[0m \u001b[0margs\u001b[0m\u001b[0;34m=\u001b[0m\u001b[0;34m(\u001b[0m\u001b[0mgrad\u001b[0m\u001b[0;34m,\u001b[0m\u001b[0;34m)\u001b[0m\u001b[0;34m,\u001b[0m \u001b[0mgroup\u001b[0m\u001b[0;34m=\u001b[0m\u001b[0;32mFalse\u001b[0m\u001b[0;34m\u001b[0m\u001b[0;34m\u001b[0m\u001b[0m\n\u001b[1;32m   1347\u001b[0m             )\n",
            "\u001b[0;32m/usr/local/lib/python3.10/dist-packages/tensorflow/python/distribute/distribute_lib.py\u001b[0m in \u001b[0;36mupdate\u001b[0;34m(self, var, fn, args, kwargs, group)\u001b[0m\n\u001b[1;32m   3013\u001b[0m         \u001b[0;32mreturn\u001b[0m \u001b[0mself\u001b[0m\u001b[0;34m.\u001b[0m\u001b[0m_update\u001b[0m\u001b[0;34m(\u001b[0m\u001b[0mvar\u001b[0m\u001b[0;34m,\u001b[0m \u001b[0mfn\u001b[0m\u001b[0;34m,\u001b[0m \u001b[0margs\u001b[0m\u001b[0;34m,\u001b[0m \u001b[0mkwargs\u001b[0m\u001b[0;34m,\u001b[0m \u001b[0mgroup\u001b[0m\u001b[0;34m)\u001b[0m\u001b[0;34m\u001b[0m\u001b[0;34m\u001b[0m\u001b[0m\n\u001b[1;32m   3014\u001b[0m     \u001b[0;32melse\u001b[0m\u001b[0;34m:\u001b[0m\u001b[0;34m\u001b[0m\u001b[0;34m\u001b[0m\u001b[0m\n\u001b[0;32m-> 3015\u001b[0;31m       return self._replica_ctx_update(\n\u001b[0m\u001b[1;32m   3016\u001b[0m           var, fn, args=args, kwargs=kwargs, group=group)\n\u001b[1;32m   3017\u001b[0m \u001b[0;34m\u001b[0m\u001b[0m\n",
            "\u001b[0;32m/usr/local/lib/python3.10/dist-packages/tensorflow/python/distribute/distribute_lib.py\u001b[0m in \u001b[0;36m_replica_ctx_update\u001b[0;34m(self, var, fn, args, kwargs, group)\u001b[0m\n\u001b[1;32m   2892\u001b[0m       \u001b[0;32mreturn\u001b[0m \u001b[0mself\u001b[0m\u001b[0;34m.\u001b[0m\u001b[0mupdate\u001b[0m\u001b[0;34m(\u001b[0m\u001b[0mvar\u001b[0m\u001b[0;34m,\u001b[0m \u001b[0mfn\u001b[0m\u001b[0;34m,\u001b[0m \u001b[0mmerged_args\u001b[0m\u001b[0;34m,\u001b[0m \u001b[0mmerged_kwargs\u001b[0m\u001b[0;34m,\u001b[0m \u001b[0mgroup\u001b[0m\u001b[0;34m=\u001b[0m\u001b[0mgroup\u001b[0m\u001b[0;34m)\u001b[0m\u001b[0;34m\u001b[0m\u001b[0;34m\u001b[0m\u001b[0m\n\u001b[1;32m   2893\u001b[0m \u001b[0;34m\u001b[0m\u001b[0m\n\u001b[0;32m-> 2894\u001b[0;31m     \u001b[0;32mreturn\u001b[0m \u001b[0mreplica_context\u001b[0m\u001b[0;34m.\u001b[0m\u001b[0mmerge_call\u001b[0m\u001b[0;34m(\u001b[0m\u001b[0mmerge_fn\u001b[0m\u001b[0;34m,\u001b[0m \u001b[0margs\u001b[0m\u001b[0;34m=\u001b[0m\u001b[0margs\u001b[0m\u001b[0;34m,\u001b[0m \u001b[0mkwargs\u001b[0m\u001b[0;34m=\u001b[0m\u001b[0mkwargs\u001b[0m\u001b[0;34m)\u001b[0m\u001b[0;34m\u001b[0m\u001b[0;34m\u001b[0m\u001b[0m\n\u001b[0m\u001b[1;32m   2895\u001b[0m \u001b[0;34m\u001b[0m\u001b[0m\n\u001b[1;32m   2896\u001b[0m   \u001b[0;32mdef\u001b[0m \u001b[0m_gather_to\u001b[0m\u001b[0;34m(\u001b[0m\u001b[0mself\u001b[0m\u001b[0;34m,\u001b[0m \u001b[0mvalue\u001b[0m\u001b[0;34m,\u001b[0m \u001b[0mdestinations\u001b[0m\u001b[0;34m,\u001b[0m \u001b[0maxis\u001b[0m\u001b[0;34m,\u001b[0m \u001b[0moptions\u001b[0m\u001b[0;34m=\u001b[0m\u001b[0;32mNone\u001b[0m\u001b[0;34m)\u001b[0m\u001b[0;34m:\u001b[0m\u001b[0;34m\u001b[0m\u001b[0;34m\u001b[0m\u001b[0m\n",
            "\u001b[0;32m/usr/local/lib/python3.10/dist-packages/tensorflow/python/distribute/distribute_lib.py\u001b[0m in \u001b[0;36mmerge_call\u001b[0;34m(self, merge_fn, args, kwargs)\u001b[0m\n\u001b[1;32m   3484\u001b[0m     merge_fn = autograph.tf_convert(\n\u001b[1;32m   3485\u001b[0m         merge_fn, autograph_ctx.control_status_ctx(), convert_by_default=False)\n\u001b[0;32m-> 3486\u001b[0;31m     \u001b[0;32mreturn\u001b[0m \u001b[0mself\u001b[0m\u001b[0;34m.\u001b[0m\u001b[0m_merge_call\u001b[0m\u001b[0;34m(\u001b[0m\u001b[0mmerge_fn\u001b[0m\u001b[0;34m,\u001b[0m \u001b[0margs\u001b[0m\u001b[0;34m,\u001b[0m \u001b[0mkwargs\u001b[0m\u001b[0;34m)\u001b[0m\u001b[0;34m\u001b[0m\u001b[0;34m\u001b[0m\u001b[0m\n\u001b[0m\u001b[1;32m   3487\u001b[0m \u001b[0;34m\u001b[0m\u001b[0m\n\u001b[1;32m   3488\u001b[0m   \u001b[0;32mdef\u001b[0m \u001b[0m_merge_call\u001b[0m\u001b[0;34m(\u001b[0m\u001b[0mself\u001b[0m\u001b[0;34m,\u001b[0m \u001b[0mmerge_fn\u001b[0m\u001b[0;34m,\u001b[0m \u001b[0margs\u001b[0m\u001b[0;34m,\u001b[0m \u001b[0mkwargs\u001b[0m\u001b[0;34m)\u001b[0m\u001b[0;34m:\u001b[0m\u001b[0;34m\u001b[0m\u001b[0;34m\u001b[0m\u001b[0m\n",
            "\u001b[0;32m/usr/local/lib/python3.10/dist-packages/tensorflow/python/distribute/distribute_lib.py\u001b[0m in \u001b[0;36m_merge_call\u001b[0;34m(self, merge_fn, args, kwargs)\u001b[0m\n\u001b[1;32m   3491\u001b[0m         _CrossReplicaThreadMode(self._strategy))  # pylint: disable=protected-access\n\u001b[1;32m   3492\u001b[0m     \u001b[0;32mtry\u001b[0m\u001b[0;34m:\u001b[0m\u001b[0;34m\u001b[0m\u001b[0;34m\u001b[0m\u001b[0m\n\u001b[0;32m-> 3493\u001b[0;31m       \u001b[0;32mreturn\u001b[0m \u001b[0mmerge_fn\u001b[0m\u001b[0;34m(\u001b[0m\u001b[0mself\u001b[0m\u001b[0;34m.\u001b[0m\u001b[0m_strategy\u001b[0m\u001b[0;34m,\u001b[0m \u001b[0;34m*\u001b[0m\u001b[0margs\u001b[0m\u001b[0;34m,\u001b[0m \u001b[0;34m**\u001b[0m\u001b[0mkwargs\u001b[0m\u001b[0;34m)\u001b[0m\u001b[0;34m\u001b[0m\u001b[0;34m\u001b[0m\u001b[0m\n\u001b[0m\u001b[1;32m   3494\u001b[0m     \u001b[0;32mfinally\u001b[0m\u001b[0;34m:\u001b[0m\u001b[0;34m\u001b[0m\u001b[0;34m\u001b[0m\u001b[0m\n\u001b[1;32m   3495\u001b[0m       \u001b[0m_pop_per_thread_mode\u001b[0m\u001b[0;34m(\u001b[0m\u001b[0;34m)\u001b[0m\u001b[0;34m\u001b[0m\u001b[0;34m\u001b[0m\u001b[0m\n",
            "\u001b[0;32m/usr/local/lib/python3.10/dist-packages/tensorflow/python/autograph/impl/api.py\u001b[0m in \u001b[0;36mwrapper\u001b[0;34m(*args, **kwargs)\u001b[0m\n\u001b[1;32m    688\u001b[0m       \u001b[0;32mtry\u001b[0m\u001b[0;34m:\u001b[0m\u001b[0;34m\u001b[0m\u001b[0;34m\u001b[0m\u001b[0m\n\u001b[1;32m    689\u001b[0m         \u001b[0;32mwith\u001b[0m \u001b[0mconversion_ctx\u001b[0m\u001b[0;34m:\u001b[0m\u001b[0;34m\u001b[0m\u001b[0;34m\u001b[0m\u001b[0m\n\u001b[0;32m--> 690\u001b[0;31m           \u001b[0;32mreturn\u001b[0m \u001b[0mconverted_call\u001b[0m\u001b[0;34m(\u001b[0m\u001b[0mf\u001b[0m\u001b[0;34m,\u001b[0m \u001b[0margs\u001b[0m\u001b[0;34m,\u001b[0m \u001b[0mkwargs\u001b[0m\u001b[0;34m,\u001b[0m \u001b[0moptions\u001b[0m\u001b[0;34m=\u001b[0m\u001b[0moptions\u001b[0m\u001b[0;34m)\u001b[0m\u001b[0;34m\u001b[0m\u001b[0;34m\u001b[0m\u001b[0m\n\u001b[0m\u001b[1;32m    691\u001b[0m       \u001b[0;32mexcept\u001b[0m \u001b[0mException\u001b[0m \u001b[0;32mas\u001b[0m \u001b[0me\u001b[0m\u001b[0;34m:\u001b[0m  \u001b[0;31m# pylint:disable=broad-except\u001b[0m\u001b[0;34m\u001b[0m\u001b[0;34m\u001b[0m\u001b[0m\n\u001b[1;32m    692\u001b[0m         \u001b[0;32mif\u001b[0m \u001b[0mhasattr\u001b[0m\u001b[0;34m(\u001b[0m\u001b[0me\u001b[0m\u001b[0;34m,\u001b[0m \u001b[0;34m'ag_error_metadata'\u001b[0m\u001b[0;34m)\u001b[0m\u001b[0;34m:\u001b[0m\u001b[0;34m\u001b[0m\u001b[0;34m\u001b[0m\u001b[0m\n",
            "\u001b[0;32m/usr/local/lib/python3.10/dist-packages/tensorflow/python/autograph/impl/api.py\u001b[0m in \u001b[0;36mconverted_call\u001b[0;34m(f, args, kwargs, caller_fn_scope, options)\u001b[0m\n\u001b[1;32m    375\u001b[0m \u001b[0;34m\u001b[0m\u001b[0m\n\u001b[1;32m    376\u001b[0m   \u001b[0;32mif\u001b[0m \u001b[0;32mnot\u001b[0m \u001b[0moptions\u001b[0m\u001b[0;34m.\u001b[0m\u001b[0muser_requested\u001b[0m \u001b[0;32mand\u001b[0m \u001b[0mconversion\u001b[0m\u001b[0;34m.\u001b[0m\u001b[0mis_allowlisted\u001b[0m\u001b[0;34m(\u001b[0m\u001b[0mf\u001b[0m\u001b[0;34m)\u001b[0m\u001b[0;34m:\u001b[0m\u001b[0;34m\u001b[0m\u001b[0;34m\u001b[0m\u001b[0m\n\u001b[0;32m--> 377\u001b[0;31m     \u001b[0;32mreturn\u001b[0m \u001b[0m_call_unconverted\u001b[0m\u001b[0;34m(\u001b[0m\u001b[0mf\u001b[0m\u001b[0;34m,\u001b[0m \u001b[0margs\u001b[0m\u001b[0;34m,\u001b[0m \u001b[0mkwargs\u001b[0m\u001b[0;34m,\u001b[0m \u001b[0moptions\u001b[0m\u001b[0;34m)\u001b[0m\u001b[0;34m\u001b[0m\u001b[0;34m\u001b[0m\u001b[0m\n\u001b[0m\u001b[1;32m    378\u001b[0m \u001b[0;34m\u001b[0m\u001b[0m\n\u001b[1;32m    379\u001b[0m   \u001b[0;31m# internal_convert_user_code is for example turned off when issuing a dynamic\u001b[0m\u001b[0;34m\u001b[0m\u001b[0;34m\u001b[0m\u001b[0m\n",
            "\u001b[0;32m/usr/local/lib/python3.10/dist-packages/tensorflow/python/autograph/impl/api.py\u001b[0m in \u001b[0;36m_call_unconverted\u001b[0;34m(f, args, kwargs, options, update_cache)\u001b[0m\n\u001b[1;32m    457\u001b[0m \u001b[0;34m\u001b[0m\u001b[0m\n\u001b[1;32m    458\u001b[0m   \u001b[0;32mif\u001b[0m \u001b[0mkwargs\u001b[0m \u001b[0;32mis\u001b[0m \u001b[0;32mnot\u001b[0m \u001b[0;32mNone\u001b[0m\u001b[0;34m:\u001b[0m\u001b[0;34m\u001b[0m\u001b[0;34m\u001b[0m\u001b[0m\n\u001b[0;32m--> 459\u001b[0;31m     \u001b[0;32mreturn\u001b[0m \u001b[0mf\u001b[0m\u001b[0;34m(\u001b[0m\u001b[0;34m*\u001b[0m\u001b[0margs\u001b[0m\u001b[0;34m,\u001b[0m \u001b[0;34m**\u001b[0m\u001b[0mkwargs\u001b[0m\u001b[0;34m)\u001b[0m\u001b[0;34m\u001b[0m\u001b[0;34m\u001b[0m\u001b[0m\n\u001b[0m\u001b[1;32m    460\u001b[0m   \u001b[0;32mreturn\u001b[0m \u001b[0mf\u001b[0m\u001b[0;34m(\u001b[0m\u001b[0;34m*\u001b[0m\u001b[0margs\u001b[0m\u001b[0;34m)\u001b[0m\u001b[0;34m\u001b[0m\u001b[0;34m\u001b[0m\u001b[0m\n\u001b[1;32m    461\u001b[0m \u001b[0;34m\u001b[0m\u001b[0m\n",
            "\u001b[0;32m/usr/local/lib/python3.10/dist-packages/tensorflow/python/distribute/distribute_lib.py\u001b[0m in \u001b[0;36mmerge_fn\u001b[0;34m(_, *merged_args, **merged_kwargs)\u001b[0m\n\u001b[1;32m   2890\u001b[0m \u001b[0;34m\u001b[0m\u001b[0m\n\u001b[1;32m   2891\u001b[0m     \u001b[0;32mdef\u001b[0m \u001b[0mmerge_fn\u001b[0m\u001b[0;34m(\u001b[0m\u001b[0m_\u001b[0m\u001b[0;34m,\u001b[0m \u001b[0;34m*\u001b[0m\u001b[0mmerged_args\u001b[0m\u001b[0;34m,\u001b[0m \u001b[0;34m**\u001b[0m\u001b[0mmerged_kwargs\u001b[0m\u001b[0;34m)\u001b[0m\u001b[0;34m:\u001b[0m\u001b[0;34m\u001b[0m\u001b[0;34m\u001b[0m\u001b[0m\n\u001b[0;32m-> 2892\u001b[0;31m       \u001b[0;32mreturn\u001b[0m \u001b[0mself\u001b[0m\u001b[0;34m.\u001b[0m\u001b[0mupdate\u001b[0m\u001b[0;34m(\u001b[0m\u001b[0mvar\u001b[0m\u001b[0;34m,\u001b[0m \u001b[0mfn\u001b[0m\u001b[0;34m,\u001b[0m \u001b[0mmerged_args\u001b[0m\u001b[0;34m,\u001b[0m \u001b[0mmerged_kwargs\u001b[0m\u001b[0;34m,\u001b[0m \u001b[0mgroup\u001b[0m\u001b[0;34m=\u001b[0m\u001b[0mgroup\u001b[0m\u001b[0;34m)\u001b[0m\u001b[0;34m\u001b[0m\u001b[0;34m\u001b[0m\u001b[0m\n\u001b[0m\u001b[1;32m   2893\u001b[0m \u001b[0;34m\u001b[0m\u001b[0m\n\u001b[1;32m   2894\u001b[0m     \u001b[0;32mreturn\u001b[0m \u001b[0mreplica_context\u001b[0m\u001b[0;34m.\u001b[0m\u001b[0mmerge_call\u001b[0m\u001b[0;34m(\u001b[0m\u001b[0mmerge_fn\u001b[0m\u001b[0;34m,\u001b[0m \u001b[0margs\u001b[0m\u001b[0;34m=\u001b[0m\u001b[0margs\u001b[0m\u001b[0;34m,\u001b[0m \u001b[0mkwargs\u001b[0m\u001b[0;34m=\u001b[0m\u001b[0mkwargs\u001b[0m\u001b[0;34m)\u001b[0m\u001b[0;34m\u001b[0m\u001b[0;34m\u001b[0m\u001b[0m\n",
            "\u001b[0;32m/usr/local/lib/python3.10/dist-packages/tensorflow/python/distribute/distribute_lib.py\u001b[0m in \u001b[0;36mupdate\u001b[0;34m(self, var, fn, args, kwargs, group)\u001b[0m\n\u001b[1;32m   3011\u001b[0m           fn, autograph_ctx.control_status_ctx(), convert_by_default=False)\n\u001b[1;32m   3012\u001b[0m       \u001b[0;32mwith\u001b[0m \u001b[0mself\u001b[0m\u001b[0;34m.\u001b[0m\u001b[0m_container_strategy\u001b[0m\u001b[0;34m(\u001b[0m\u001b[0;34m)\u001b[0m\u001b[0;34m.\u001b[0m\u001b[0mscope\u001b[0m\u001b[0;34m(\u001b[0m\u001b[0;34m)\u001b[0m\u001b[0;34m:\u001b[0m\u001b[0;34m\u001b[0m\u001b[0;34m\u001b[0m\u001b[0m\n\u001b[0;32m-> 3013\u001b[0;31m         \u001b[0;32mreturn\u001b[0m \u001b[0mself\u001b[0m\u001b[0;34m.\u001b[0m\u001b[0m_update\u001b[0m\u001b[0;34m(\u001b[0m\u001b[0mvar\u001b[0m\u001b[0;34m,\u001b[0m \u001b[0mfn\u001b[0m\u001b[0;34m,\u001b[0m \u001b[0margs\u001b[0m\u001b[0;34m,\u001b[0m \u001b[0mkwargs\u001b[0m\u001b[0;34m,\u001b[0m \u001b[0mgroup\u001b[0m\u001b[0;34m)\u001b[0m\u001b[0;34m\u001b[0m\u001b[0;34m\u001b[0m\u001b[0m\n\u001b[0m\u001b[1;32m   3014\u001b[0m     \u001b[0;32melse\u001b[0m\u001b[0;34m:\u001b[0m\u001b[0;34m\u001b[0m\u001b[0;34m\u001b[0m\u001b[0m\n\u001b[1;32m   3015\u001b[0m       return self._replica_ctx_update(\n",
            "\u001b[0;32m/usr/local/lib/python3.10/dist-packages/tensorflow/python/distribute/distribute_lib.py\u001b[0m in \u001b[0;36m_update\u001b[0;34m(self, var, fn, args, kwargs, group)\u001b[0m\n\u001b[1;32m   4081\u001b[0m     \u001b[0;31m# The implementations of _update() and _update_non_slot() are identical\u001b[0m\u001b[0;34m\u001b[0m\u001b[0;34m\u001b[0m\u001b[0m\n\u001b[1;32m   4082\u001b[0m     \u001b[0;31m# except _update() passes `var` as the first argument to `fn()`.\u001b[0m\u001b[0;34m\u001b[0m\u001b[0;34m\u001b[0m\u001b[0m\n\u001b[0;32m-> 4083\u001b[0;31m     \u001b[0;32mreturn\u001b[0m \u001b[0mself\u001b[0m\u001b[0;34m.\u001b[0m\u001b[0m_update_non_slot\u001b[0m\u001b[0;34m(\u001b[0m\u001b[0mvar\u001b[0m\u001b[0;34m,\u001b[0m \u001b[0mfn\u001b[0m\u001b[0;34m,\u001b[0m \u001b[0;34m(\u001b[0m\u001b[0mvar\u001b[0m\u001b[0;34m,\u001b[0m\u001b[0;34m)\u001b[0m \u001b[0;34m+\u001b[0m \u001b[0mtuple\u001b[0m\u001b[0;34m(\u001b[0m\u001b[0margs\u001b[0m\u001b[0;34m)\u001b[0m\u001b[0;34m,\u001b[0m \u001b[0mkwargs\u001b[0m\u001b[0;34m,\u001b[0m \u001b[0mgroup\u001b[0m\u001b[0;34m)\u001b[0m\u001b[0;34m\u001b[0m\u001b[0;34m\u001b[0m\u001b[0m\n\u001b[0m\u001b[1;32m   4084\u001b[0m \u001b[0;34m\u001b[0m\u001b[0m\n\u001b[1;32m   4085\u001b[0m   \u001b[0;32mdef\u001b[0m \u001b[0m_update_non_slot\u001b[0m\u001b[0;34m(\u001b[0m\u001b[0mself\u001b[0m\u001b[0;34m,\u001b[0m \u001b[0mcolocate_with\u001b[0m\u001b[0;34m,\u001b[0m \u001b[0mfn\u001b[0m\u001b[0;34m,\u001b[0m \u001b[0margs\u001b[0m\u001b[0;34m,\u001b[0m \u001b[0mkwargs\u001b[0m\u001b[0;34m,\u001b[0m \u001b[0mshould_group\u001b[0m\u001b[0;34m)\u001b[0m\u001b[0;34m:\u001b[0m\u001b[0;34m\u001b[0m\u001b[0;34m\u001b[0m\u001b[0m\n",
            "\u001b[0;32m/usr/local/lib/python3.10/dist-packages/tensorflow/python/distribute/distribute_lib.py\u001b[0m in \u001b[0;36m_update_non_slot\u001b[0;34m(self, colocate_with, fn, args, kwargs, should_group)\u001b[0m\n\u001b[1;32m   4087\u001b[0m     \u001b[0;31m# once that value is used for something.\u001b[0m\u001b[0;34m\u001b[0m\u001b[0;34m\u001b[0m\u001b[0m\n\u001b[1;32m   4088\u001b[0m     \u001b[0;32mwith\u001b[0m \u001b[0mUpdateContext\u001b[0m\u001b[0;34m(\u001b[0m\u001b[0mcolocate_with\u001b[0m\u001b[0;34m)\u001b[0m\u001b[0;34m:\u001b[0m\u001b[0;34m\u001b[0m\u001b[0;34m\u001b[0m\u001b[0m\n\u001b[0;32m-> 4089\u001b[0;31m       \u001b[0mresult\u001b[0m \u001b[0;34m=\u001b[0m \u001b[0mfn\u001b[0m\u001b[0;34m(\u001b[0m\u001b[0;34m*\u001b[0m\u001b[0margs\u001b[0m\u001b[0;34m,\u001b[0m \u001b[0;34m**\u001b[0m\u001b[0mkwargs\u001b[0m\u001b[0;34m)\u001b[0m\u001b[0;34m\u001b[0m\u001b[0;34m\u001b[0m\u001b[0m\n\u001b[0m\u001b[1;32m   4090\u001b[0m       \u001b[0;32mif\u001b[0m \u001b[0mshould_group\u001b[0m\u001b[0;34m:\u001b[0m\u001b[0;34m\u001b[0m\u001b[0;34m\u001b[0m\u001b[0m\n\u001b[1;32m   4091\u001b[0m         \u001b[0;32mreturn\u001b[0m \u001b[0mresult\u001b[0m\u001b[0;34m\u001b[0m\u001b[0;34m\u001b[0m\u001b[0m\n",
            "\u001b[0;32m/usr/local/lib/python3.10/dist-packages/tensorflow/python/autograph/impl/api.py\u001b[0m in \u001b[0;36mwrapper\u001b[0;34m(*args, **kwargs)\u001b[0m\n\u001b[1;32m    688\u001b[0m       \u001b[0;32mtry\u001b[0m\u001b[0;34m:\u001b[0m\u001b[0;34m\u001b[0m\u001b[0;34m\u001b[0m\u001b[0m\n\u001b[1;32m    689\u001b[0m         \u001b[0;32mwith\u001b[0m \u001b[0mconversion_ctx\u001b[0m\u001b[0;34m:\u001b[0m\u001b[0;34m\u001b[0m\u001b[0;34m\u001b[0m\u001b[0m\n\u001b[0;32m--> 690\u001b[0;31m           \u001b[0;32mreturn\u001b[0m \u001b[0mconverted_call\u001b[0m\u001b[0;34m(\u001b[0m\u001b[0mf\u001b[0m\u001b[0;34m,\u001b[0m \u001b[0margs\u001b[0m\u001b[0;34m,\u001b[0m \u001b[0mkwargs\u001b[0m\u001b[0;34m,\u001b[0m \u001b[0moptions\u001b[0m\u001b[0;34m=\u001b[0m\u001b[0moptions\u001b[0m\u001b[0;34m)\u001b[0m\u001b[0;34m\u001b[0m\u001b[0;34m\u001b[0m\u001b[0m\n\u001b[0m\u001b[1;32m    691\u001b[0m       \u001b[0;32mexcept\u001b[0m \u001b[0mException\u001b[0m \u001b[0;32mas\u001b[0m \u001b[0me\u001b[0m\u001b[0;34m:\u001b[0m  \u001b[0;31m# pylint:disable=broad-except\u001b[0m\u001b[0;34m\u001b[0m\u001b[0;34m\u001b[0m\u001b[0m\n\u001b[1;32m    692\u001b[0m         \u001b[0;32mif\u001b[0m \u001b[0mhasattr\u001b[0m\u001b[0;34m(\u001b[0m\u001b[0me\u001b[0m\u001b[0;34m,\u001b[0m \u001b[0;34m'ag_error_metadata'\u001b[0m\u001b[0;34m)\u001b[0m\u001b[0;34m:\u001b[0m\u001b[0;34m\u001b[0m\u001b[0;34m\u001b[0m\u001b[0m\n",
            "\u001b[0;32m/usr/local/lib/python3.10/dist-packages/tensorflow/python/autograph/impl/api.py\u001b[0m in \u001b[0;36mconverted_call\u001b[0;34m(f, args, kwargs, caller_fn_scope, options)\u001b[0m\n\u001b[1;32m    329\u001b[0m   \u001b[0;32mif\u001b[0m \u001b[0mconversion\u001b[0m\u001b[0;34m.\u001b[0m\u001b[0mis_in_allowlist_cache\u001b[0m\u001b[0;34m(\u001b[0m\u001b[0mf\u001b[0m\u001b[0;34m,\u001b[0m \u001b[0moptions\u001b[0m\u001b[0;34m)\u001b[0m\u001b[0;34m:\u001b[0m\u001b[0;34m\u001b[0m\u001b[0;34m\u001b[0m\u001b[0m\n\u001b[1;32m    330\u001b[0m     \u001b[0mlogging\u001b[0m\u001b[0;34m.\u001b[0m\u001b[0mlog\u001b[0m\u001b[0;34m(\u001b[0m\u001b[0;36m2\u001b[0m\u001b[0;34m,\u001b[0m \u001b[0;34m'Allowlisted %s: from cache'\u001b[0m\u001b[0;34m,\u001b[0m \u001b[0mf\u001b[0m\u001b[0;34m)\u001b[0m\u001b[0;34m\u001b[0m\u001b[0;34m\u001b[0m\u001b[0m\n\u001b[0;32m--> 331\u001b[0;31m     \u001b[0;32mreturn\u001b[0m \u001b[0m_call_unconverted\u001b[0m\u001b[0;34m(\u001b[0m\u001b[0mf\u001b[0m\u001b[0;34m,\u001b[0m \u001b[0margs\u001b[0m\u001b[0;34m,\u001b[0m \u001b[0mkwargs\u001b[0m\u001b[0;34m,\u001b[0m \u001b[0moptions\u001b[0m\u001b[0;34m,\u001b[0m \u001b[0;32mFalse\u001b[0m\u001b[0;34m)\u001b[0m\u001b[0;34m\u001b[0m\u001b[0;34m\u001b[0m\u001b[0m\n\u001b[0m\u001b[1;32m    332\u001b[0m \u001b[0;34m\u001b[0m\u001b[0m\n\u001b[1;32m    333\u001b[0m   \u001b[0;32mif\u001b[0m \u001b[0mag_ctx\u001b[0m\u001b[0;34m.\u001b[0m\u001b[0mcontrol_status_ctx\u001b[0m\u001b[0;34m(\u001b[0m\u001b[0;34m)\u001b[0m\u001b[0;34m.\u001b[0m\u001b[0mstatus\u001b[0m \u001b[0;34m==\u001b[0m \u001b[0mag_ctx\u001b[0m\u001b[0;34m.\u001b[0m\u001b[0mStatus\u001b[0m\u001b[0;34m.\u001b[0m\u001b[0mDISABLED\u001b[0m\u001b[0;34m:\u001b[0m\u001b[0;34m\u001b[0m\u001b[0;34m\u001b[0m\u001b[0m\n",
            "\u001b[0;32m/usr/local/lib/python3.10/dist-packages/tensorflow/python/autograph/impl/api.py\u001b[0m in \u001b[0;36m_call_unconverted\u001b[0;34m(f, args, kwargs, options, update_cache)\u001b[0m\n\u001b[1;32m    457\u001b[0m \u001b[0;34m\u001b[0m\u001b[0m\n\u001b[1;32m    458\u001b[0m   \u001b[0;32mif\u001b[0m \u001b[0mkwargs\u001b[0m \u001b[0;32mis\u001b[0m \u001b[0;32mnot\u001b[0m \u001b[0;32mNone\u001b[0m\u001b[0;34m:\u001b[0m\u001b[0;34m\u001b[0m\u001b[0;34m\u001b[0m\u001b[0m\n\u001b[0;32m--> 459\u001b[0;31m     \u001b[0;32mreturn\u001b[0m \u001b[0mf\u001b[0m\u001b[0;34m(\u001b[0m\u001b[0;34m*\u001b[0m\u001b[0margs\u001b[0m\u001b[0;34m,\u001b[0m \u001b[0;34m**\u001b[0m\u001b[0mkwargs\u001b[0m\u001b[0;34m)\u001b[0m\u001b[0;34m\u001b[0m\u001b[0;34m\u001b[0m\u001b[0m\n\u001b[0m\u001b[1;32m    460\u001b[0m   \u001b[0;32mreturn\u001b[0m \u001b[0mf\u001b[0m\u001b[0;34m(\u001b[0m\u001b[0;34m*\u001b[0m\u001b[0margs\u001b[0m\u001b[0;34m)\u001b[0m\u001b[0;34m\u001b[0m\u001b[0;34m\u001b[0m\u001b[0m\n\u001b[1;32m    461\u001b[0m \u001b[0;34m\u001b[0m\u001b[0m\n",
            "\u001b[0;32m/usr/local/lib/python3.10/dist-packages/keras/src/optimizers/optimizer.py\u001b[0m in \u001b[0;36mapply_grad_to_update_var\u001b[0;34m(var, grad)\u001b[0m\n\u001b[1;32m   1340\u001b[0m                 \u001b[0;32mreturn\u001b[0m \u001b[0mself\u001b[0m\u001b[0;34m.\u001b[0m\u001b[0m_update_step_xla\u001b[0m\u001b[0;34m(\u001b[0m\u001b[0mgrad\u001b[0m\u001b[0;34m,\u001b[0m \u001b[0mvar\u001b[0m\u001b[0;34m,\u001b[0m \u001b[0mid\u001b[0m\u001b[0;34m(\u001b[0m\u001b[0mself\u001b[0m\u001b[0;34m.\u001b[0m\u001b[0m_var_key\u001b[0m\u001b[0;34m(\u001b[0m\u001b[0mvar\u001b[0m\u001b[0;34m)\u001b[0m\u001b[0;34m)\u001b[0m\u001b[0;34m)\u001b[0m\u001b[0;34m\u001b[0m\u001b[0;34m\u001b[0m\u001b[0m\n\u001b[1;32m   1341\u001b[0m             \u001b[0;32melse\u001b[0m\u001b[0;34m:\u001b[0m\u001b[0;34m\u001b[0m\u001b[0;34m\u001b[0m\u001b[0m\n\u001b[0;32m-> 1342\u001b[0;31m                 \u001b[0;32mreturn\u001b[0m \u001b[0mself\u001b[0m\u001b[0;34m.\u001b[0m\u001b[0m_update_step\u001b[0m\u001b[0;34m(\u001b[0m\u001b[0mgrad\u001b[0m\u001b[0;34m,\u001b[0m \u001b[0mvar\u001b[0m\u001b[0;34m)\u001b[0m\u001b[0;34m\u001b[0m\u001b[0;34m\u001b[0m\u001b[0m\n\u001b[0m\u001b[1;32m   1343\u001b[0m \u001b[0;34m\u001b[0m\u001b[0m\n\u001b[1;32m   1344\u001b[0m         \u001b[0;32mfor\u001b[0m \u001b[0mgrad\u001b[0m\u001b[0;34m,\u001b[0m \u001b[0mvar\u001b[0m \u001b[0;32min\u001b[0m \u001b[0mgrads_and_vars\u001b[0m\u001b[0;34m:\u001b[0m\u001b[0;34m\u001b[0m\u001b[0;34m\u001b[0m\u001b[0m\n",
            "\u001b[0;32m/usr/local/lib/python3.10/dist-packages/keras/src/optimizers/optimizer.py\u001b[0m in \u001b[0;36m_update_step\u001b[0;34m(self, gradient, variable)\u001b[0m\n\u001b[1;32m    239\u001b[0m                 \u001b[0;34mf\"`tf.keras.optimizers.legacy.{self.__class__.__name__}.\"\u001b[0m\u001b[0;34m\u001b[0m\u001b[0;34m\u001b[0m\u001b[0m\n\u001b[1;32m    240\u001b[0m             )\n\u001b[0;32m--> 241\u001b[0;31m         \u001b[0mself\u001b[0m\u001b[0;34m.\u001b[0m\u001b[0mupdate_step\u001b[0m\u001b[0;34m(\u001b[0m\u001b[0mgradient\u001b[0m\u001b[0;34m,\u001b[0m \u001b[0mvariable\u001b[0m\u001b[0;34m)\u001b[0m\u001b[0;34m\u001b[0m\u001b[0;34m\u001b[0m\u001b[0m\n\u001b[0m\u001b[1;32m    242\u001b[0m \u001b[0;34m\u001b[0m\u001b[0m\n\u001b[1;32m    243\u001b[0m     \u001b[0;32mdef\u001b[0m \u001b[0mcompute_gradients\u001b[0m\u001b[0;34m(\u001b[0m\u001b[0mself\u001b[0m\u001b[0;34m,\u001b[0m \u001b[0mloss\u001b[0m\u001b[0;34m,\u001b[0m \u001b[0mvar_list\u001b[0m\u001b[0;34m,\u001b[0m \u001b[0mtape\u001b[0m\u001b[0;34m=\u001b[0m\u001b[0;32mNone\u001b[0m\u001b[0;34m)\u001b[0m\u001b[0;34m:\u001b[0m\u001b[0;34m\u001b[0m\u001b[0;34m\u001b[0m\u001b[0m\n",
            "\u001b[0;32m/usr/local/lib/python3.10/dist-packages/keras/src/optimizers/adam.py\u001b[0m in \u001b[0;36mupdate_step\u001b[0;34m(self, gradient, variable)\u001b[0m\n\u001b[1;32m    164\u001b[0m         \u001b[0;34m\"\"\"Update step given gradient and the associated model variable.\"\"\"\u001b[0m\u001b[0;34m\u001b[0m\u001b[0;34m\u001b[0m\u001b[0m\n\u001b[1;32m    165\u001b[0m         \u001b[0mlr\u001b[0m \u001b[0;34m=\u001b[0m \u001b[0mtf\u001b[0m\u001b[0;34m.\u001b[0m\u001b[0mcast\u001b[0m\u001b[0;34m(\u001b[0m\u001b[0mself\u001b[0m\u001b[0;34m.\u001b[0m\u001b[0mlearning_rate\u001b[0m\u001b[0;34m,\u001b[0m \u001b[0mvariable\u001b[0m\u001b[0;34m.\u001b[0m\u001b[0mdtype\u001b[0m\u001b[0;34m)\u001b[0m\u001b[0;34m\u001b[0m\u001b[0;34m\u001b[0m\u001b[0m\n\u001b[0;32m--> 166\u001b[0;31m         \u001b[0mlocal_step\u001b[0m \u001b[0;34m=\u001b[0m \u001b[0mtf\u001b[0m\u001b[0;34m.\u001b[0m\u001b[0mcast\u001b[0m\u001b[0;34m(\u001b[0m\u001b[0mself\u001b[0m\u001b[0;34m.\u001b[0m\u001b[0miterations\u001b[0m \u001b[0;34m+\u001b[0m \u001b[0;36m1\u001b[0m\u001b[0;34m,\u001b[0m \u001b[0mvariable\u001b[0m\u001b[0;34m.\u001b[0m\u001b[0mdtype\u001b[0m\u001b[0;34m)\u001b[0m\u001b[0;34m\u001b[0m\u001b[0;34m\u001b[0m\u001b[0m\n\u001b[0m\u001b[1;32m    167\u001b[0m         \u001b[0mbeta_1_power\u001b[0m \u001b[0;34m=\u001b[0m \u001b[0mtf\u001b[0m\u001b[0;34m.\u001b[0m\u001b[0mpow\u001b[0m\u001b[0;34m(\u001b[0m\u001b[0mtf\u001b[0m\u001b[0;34m.\u001b[0m\u001b[0mcast\u001b[0m\u001b[0;34m(\u001b[0m\u001b[0mself\u001b[0m\u001b[0;34m.\u001b[0m\u001b[0mbeta_1\u001b[0m\u001b[0;34m,\u001b[0m \u001b[0mvariable\u001b[0m\u001b[0;34m.\u001b[0m\u001b[0mdtype\u001b[0m\u001b[0;34m)\u001b[0m\u001b[0;34m,\u001b[0m \u001b[0mlocal_step\u001b[0m\u001b[0;34m)\u001b[0m\u001b[0;34m\u001b[0m\u001b[0;34m\u001b[0m\u001b[0m\n\u001b[1;32m    168\u001b[0m         \u001b[0mbeta_2_power\u001b[0m \u001b[0;34m=\u001b[0m \u001b[0mtf\u001b[0m\u001b[0;34m.\u001b[0m\u001b[0mpow\u001b[0m\u001b[0;34m(\u001b[0m\u001b[0mtf\u001b[0m\u001b[0;34m.\u001b[0m\u001b[0mcast\u001b[0m\u001b[0;34m(\u001b[0m\u001b[0mself\u001b[0m\u001b[0;34m.\u001b[0m\u001b[0mbeta_2\u001b[0m\u001b[0;34m,\u001b[0m \u001b[0mvariable\u001b[0m\u001b[0;34m.\u001b[0m\u001b[0mdtype\u001b[0m\u001b[0;34m)\u001b[0m\u001b[0;34m,\u001b[0m \u001b[0mlocal_step\u001b[0m\u001b[0;34m)\u001b[0m\u001b[0;34m\u001b[0m\u001b[0;34m\u001b[0m\u001b[0m\n",
            "\u001b[0;32m/usr/local/lib/python3.10/dist-packages/tensorflow/python/util/traceback_utils.py\u001b[0m in \u001b[0;36merror_handler\u001b[0;34m(*args, **kwargs)\u001b[0m\n\u001b[1;32m    148\u001b[0m     \u001b[0mfiltered_tb\u001b[0m \u001b[0;34m=\u001b[0m \u001b[0;32mNone\u001b[0m\u001b[0;34m\u001b[0m\u001b[0;34m\u001b[0m\u001b[0m\n\u001b[1;32m    149\u001b[0m     \u001b[0;32mtry\u001b[0m\u001b[0;34m:\u001b[0m\u001b[0;34m\u001b[0m\u001b[0;34m\u001b[0m\u001b[0m\n\u001b[0;32m--> 150\u001b[0;31m       \u001b[0;32mreturn\u001b[0m \u001b[0mfn\u001b[0m\u001b[0;34m(\u001b[0m\u001b[0;34m*\u001b[0m\u001b[0margs\u001b[0m\u001b[0;34m,\u001b[0m \u001b[0;34m**\u001b[0m\u001b[0mkwargs\u001b[0m\u001b[0;34m)\u001b[0m\u001b[0;34m\u001b[0m\u001b[0;34m\u001b[0m\u001b[0m\n\u001b[0m\u001b[1;32m    151\u001b[0m     \u001b[0;32mexcept\u001b[0m \u001b[0mException\u001b[0m \u001b[0;32mas\u001b[0m \u001b[0me\u001b[0m\u001b[0;34m:\u001b[0m\u001b[0;34m\u001b[0m\u001b[0;34m\u001b[0m\u001b[0m\n\u001b[1;32m    152\u001b[0m       \u001b[0mfiltered_tb\u001b[0m \u001b[0;34m=\u001b[0m \u001b[0m_process_traceback_frames\u001b[0m\u001b[0;34m(\u001b[0m\u001b[0me\u001b[0m\u001b[0;34m.\u001b[0m\u001b[0m__traceback__\u001b[0m\u001b[0;34m)\u001b[0m\u001b[0;34m\u001b[0m\u001b[0;34m\u001b[0m\u001b[0m\n",
            "\u001b[0;32m/usr/local/lib/python3.10/dist-packages/tensorflow/python/util/dispatch.py\u001b[0m in \u001b[0;36mop_dispatch_handler\u001b[0;34m(*args, **kwargs)\u001b[0m\n\u001b[1;32m   1258\u001b[0m       \u001b[0;31m# Fallback dispatch system (dispatch v1):\u001b[0m\u001b[0;34m\u001b[0m\u001b[0;34m\u001b[0m\u001b[0m\n\u001b[1;32m   1259\u001b[0m       \u001b[0;32mtry\u001b[0m\u001b[0;34m:\u001b[0m\u001b[0;34m\u001b[0m\u001b[0;34m\u001b[0m\u001b[0m\n\u001b[0;32m-> 1260\u001b[0;31m         \u001b[0;32mreturn\u001b[0m \u001b[0mdispatch_target\u001b[0m\u001b[0;34m(\u001b[0m\u001b[0;34m*\u001b[0m\u001b[0margs\u001b[0m\u001b[0;34m,\u001b[0m \u001b[0;34m**\u001b[0m\u001b[0mkwargs\u001b[0m\u001b[0;34m)\u001b[0m\u001b[0;34m\u001b[0m\u001b[0;34m\u001b[0m\u001b[0m\n\u001b[0m\u001b[1;32m   1261\u001b[0m       \u001b[0;32mexcept\u001b[0m \u001b[0;34m(\u001b[0m\u001b[0mTypeError\u001b[0m\u001b[0;34m,\u001b[0m \u001b[0mValueError\u001b[0m\u001b[0;34m)\u001b[0m\u001b[0;34m:\u001b[0m\u001b[0;34m\u001b[0m\u001b[0;34m\u001b[0m\u001b[0m\n\u001b[1;32m   1262\u001b[0m         \u001b[0;31m# Note: convert_to_eager_tensor currently raises a ValueError, not a\u001b[0m\u001b[0;34m\u001b[0m\u001b[0;34m\u001b[0m\u001b[0m\n",
            "\u001b[0;32m/usr/local/lib/python3.10/dist-packages/tensorflow/python/ops/math_ops.py\u001b[0m in \u001b[0;36mcast\u001b[0;34m(x, dtype, name)\u001b[0m\n\u001b[1;32m   1022\u001b[0m         )\n\u001b[1;32m   1023\u001b[0m       \u001b[0;32mif\u001b[0m \u001b[0mx\u001b[0m\u001b[0;34m.\u001b[0m\u001b[0mdtype\u001b[0m \u001b[0;34m!=\u001b[0m \u001b[0mbase_type\u001b[0m\u001b[0;34m:\u001b[0m\u001b[0;34m\u001b[0m\u001b[0;34m\u001b[0m\u001b[0m\n\u001b[0;32m-> 1024\u001b[0;31m         \u001b[0mx\u001b[0m \u001b[0;34m=\u001b[0m \u001b[0mgen_math_ops\u001b[0m\u001b[0;34m.\u001b[0m\u001b[0mcast\u001b[0m\u001b[0;34m(\u001b[0m\u001b[0mx\u001b[0m\u001b[0;34m,\u001b[0m \u001b[0mbase_type\u001b[0m\u001b[0;34m,\u001b[0m \u001b[0mname\u001b[0m\u001b[0;34m=\u001b[0m\u001b[0mname\u001b[0m\u001b[0;34m)\u001b[0m\u001b[0;34m\u001b[0m\u001b[0;34m\u001b[0m\u001b[0m\n\u001b[0m\u001b[1;32m   1025\u001b[0m     \u001b[0;32mreturn\u001b[0m \u001b[0mx\u001b[0m\u001b[0;34m\u001b[0m\u001b[0;34m\u001b[0m\u001b[0m\n\u001b[1;32m   1026\u001b[0m \u001b[0;34m\u001b[0m\u001b[0m\n",
            "\u001b[0;32m/usr/local/lib/python3.10/dist-packages/tensorflow/python/ops/gen_math_ops.py\u001b[0m in \u001b[0;36mcast\u001b[0;34m(x, DstT, Truncate, name)\u001b[0m\n\u001b[1;32m   2071\u001b[0m     \u001b[0mTruncate\u001b[0m \u001b[0;34m=\u001b[0m \u001b[0;32mFalse\u001b[0m\u001b[0;34m\u001b[0m\u001b[0;34m\u001b[0m\u001b[0m\n\u001b[1;32m   2072\u001b[0m   \u001b[0mTruncate\u001b[0m \u001b[0;34m=\u001b[0m \u001b[0m_execute\u001b[0m\u001b[0;34m.\u001b[0m\u001b[0mmake_bool\u001b[0m\u001b[0;34m(\u001b[0m\u001b[0mTruncate\u001b[0m\u001b[0;34m,\u001b[0m \u001b[0;34m\"Truncate\"\u001b[0m\u001b[0;34m)\u001b[0m\u001b[0;34m\u001b[0m\u001b[0;34m\u001b[0m\u001b[0m\n\u001b[0;32m-> 2073\u001b[0;31m   _, _, _op, _outputs = _op_def_library._apply_op_helper(\n\u001b[0m\u001b[1;32m   2074\u001b[0m         \"Cast\", x=x, DstT=DstT, Truncate=Truncate, name=name)\n\u001b[1;32m   2075\u001b[0m   \u001b[0m_result\u001b[0m \u001b[0;34m=\u001b[0m \u001b[0m_outputs\u001b[0m\u001b[0;34m[\u001b[0m\u001b[0;34m:\u001b[0m\u001b[0;34m]\u001b[0m\u001b[0;34m\u001b[0m\u001b[0;34m\u001b[0m\u001b[0m\n",
            "\u001b[0;32m/usr/local/lib/python3.10/dist-packages/tensorflow/python/framework/op_def_library.py\u001b[0m in \u001b[0;36m_apply_op_helper\u001b[0;34m(op_type_name, name, **keywords)\u001b[0m\n\u001b[1;32m    794\u001b[0m       \u001b[0;31m# Add Op to graph\u001b[0m\u001b[0;34m\u001b[0m\u001b[0;34m\u001b[0m\u001b[0m\n\u001b[1;32m    795\u001b[0m       \u001b[0;31m# pylint: disable=protected-access\u001b[0m\u001b[0;34m\u001b[0m\u001b[0;34m\u001b[0m\u001b[0m\n\u001b[0;32m--> 796\u001b[0;31m       op = g._create_op_internal(op_type_name, inputs, dtypes=None,\n\u001b[0m\u001b[1;32m    797\u001b[0m                                  \u001b[0mname\u001b[0m\u001b[0;34m=\u001b[0m\u001b[0mscope\u001b[0m\u001b[0;34m,\u001b[0m \u001b[0minput_types\u001b[0m\u001b[0;34m=\u001b[0m\u001b[0minput_types\u001b[0m\u001b[0;34m,\u001b[0m\u001b[0;34m\u001b[0m\u001b[0;34m\u001b[0m\u001b[0m\n\u001b[1;32m    798\u001b[0m                                  attrs=attr_protos, op_def=op_def)\n",
            "\u001b[0;32m/usr/local/lib/python3.10/dist-packages/tensorflow/python/framework/func_graph.py\u001b[0m in \u001b[0;36m_create_op_internal\u001b[0;34m(self, op_type, inputs, dtypes, input_types, name, attrs, op_def, compute_device)\u001b[0m\n\u001b[1;32m    668\u001b[0m       \u001b[0minp\u001b[0m \u001b[0;34m=\u001b[0m \u001b[0mself\u001b[0m\u001b[0;34m.\u001b[0m\u001b[0mcapture\u001b[0m\u001b[0;34m(\u001b[0m\u001b[0minp\u001b[0m\u001b[0;34m)\u001b[0m\u001b[0;34m\u001b[0m\u001b[0;34m\u001b[0m\u001b[0m\n\u001b[1;32m    669\u001b[0m       \u001b[0mcaptured_inputs\u001b[0m\u001b[0;34m.\u001b[0m\u001b[0mappend\u001b[0m\u001b[0;34m(\u001b[0m\u001b[0minp\u001b[0m\u001b[0;34m)\u001b[0m\u001b[0;34m\u001b[0m\u001b[0;34m\u001b[0m\u001b[0m\n\u001b[0;32m--> 670\u001b[0;31m     return super()._create_op_internal(  # pylint: disable=protected-access\n\u001b[0m\u001b[1;32m    671\u001b[0m         \u001b[0mop_type\u001b[0m\u001b[0;34m,\u001b[0m \u001b[0mcaptured_inputs\u001b[0m\u001b[0;34m,\u001b[0m \u001b[0mdtypes\u001b[0m\u001b[0;34m,\u001b[0m \u001b[0minput_types\u001b[0m\u001b[0;34m,\u001b[0m \u001b[0mname\u001b[0m\u001b[0;34m,\u001b[0m \u001b[0mattrs\u001b[0m\u001b[0;34m,\u001b[0m \u001b[0mop_def\u001b[0m\u001b[0;34m,\u001b[0m\u001b[0;34m\u001b[0m\u001b[0;34m\u001b[0m\u001b[0m\n\u001b[1;32m    672\u001b[0m         compute_device)\n",
            "\u001b[0;32m/usr/local/lib/python3.10/dist-packages/tensorflow/python/framework/ops.py\u001b[0m in \u001b[0;36m_create_op_internal\u001b[0;34m(self, op_type, inputs, dtypes, input_types, name, attrs, op_def, compute_device)\u001b[0m\n\u001b[1;32m   2646\u001b[0m \u001b[0;34m\u001b[0m\u001b[0m\n\u001b[1;32m   2647\u001b[0m     \u001b[0minput_ops\u001b[0m \u001b[0;34m=\u001b[0m \u001b[0mset\u001b[0m\u001b[0;34m(\u001b[0m\u001b[0mt\u001b[0m\u001b[0;34m.\u001b[0m\u001b[0mop\u001b[0m \u001b[0;32mfor\u001b[0m \u001b[0mt\u001b[0m \u001b[0;32min\u001b[0m \u001b[0minputs\u001b[0m\u001b[0;34m)\u001b[0m\u001b[0;34m\u001b[0m\u001b[0;34m\u001b[0m\u001b[0m\n\u001b[0;32m-> 2648\u001b[0;31m     \u001b[0mcontrol_inputs\u001b[0m \u001b[0;34m=\u001b[0m \u001b[0mself\u001b[0m\u001b[0;34m.\u001b[0m\u001b[0m_control_dependencies_for_inputs\u001b[0m\u001b[0;34m(\u001b[0m\u001b[0minput_ops\u001b[0m\u001b[0;34m)\u001b[0m\u001b[0;34m\u001b[0m\u001b[0;34m\u001b[0m\u001b[0m\n\u001b[0m\u001b[1;32m   2649\u001b[0m     \u001b[0;31m# _create_op_helper mutates the new Operation. `_mutation_lock` ensures a\u001b[0m\u001b[0;34m\u001b[0m\u001b[0;34m\u001b[0m\u001b[0m\n\u001b[1;32m   2650\u001b[0m     \u001b[0;31m# Session.run call cannot occur between creating and mutating the op.\u001b[0m\u001b[0;34m\u001b[0m\u001b[0;34m\u001b[0m\u001b[0m\n",
            "\u001b[0;32m/usr/local/lib/python3.10/dist-packages/tensorflow/python/framework/ops.py\u001b[0m in \u001b[0;36m_control_dependencies_for_inputs\u001b[0;34m(self, input_ops)\u001b[0m\n\u001b[1;32m   3756\u001b[0m     \u001b[0;32mreturn\u001b[0m \u001b[0mret\u001b[0m\u001b[0;34m\u001b[0m\u001b[0;34m\u001b[0m\u001b[0m\n\u001b[1;32m   3757\u001b[0m \u001b[0;34m\u001b[0m\u001b[0m\n\u001b[0;32m-> 3758\u001b[0;31m   \u001b[0;32mdef\u001b[0m \u001b[0m_control_dependencies_for_inputs\u001b[0m\u001b[0;34m(\u001b[0m\u001b[0mself\u001b[0m\u001b[0;34m,\u001b[0m \u001b[0minput_ops\u001b[0m\u001b[0;34m)\u001b[0m\u001b[0;34m:\u001b[0m\u001b[0;34m\u001b[0m\u001b[0;34m\u001b[0m\u001b[0m\n\u001b[0m\u001b[1;32m   3759\u001b[0m     \"\"\"For an op that takes `input_ops` as inputs, compute control inputs.\n\u001b[1;32m   3760\u001b[0m \u001b[0;34m\u001b[0m\u001b[0m\n",
            "\u001b[0;31mKeyboardInterrupt\u001b[0m: "
          ]
        }
      ]
    },
    {
      "cell_type": "code",
      "source": [
        "# Fitness evaluation metric: classification accuracy\n",
        "def fitness_evaluation(model):\n",
        "  metrics = model.evaluate(x_val,[y_val_task1,y_val_task2])\n",
        "  return metrics[4]"
      ],
      "metadata": {
        "id": "dhIQbUoe-T91"
      },
      "execution_count": 70,
      "outputs": []
    },
    {
      "cell_type": "code",
      "source": [
        "round(0.2353,2)"
      ],
      "metadata": {
        "colab": {
          "base_uri": "https://localhost:8080/"
        },
        "id": "R_QIXhOUb4LR",
        "outputId": "3b6530a8-fc42-4735-8e2a-e280ddca1dde"
      },
      "execution_count": 76,
      "outputs": [
        {
          "output_type": "execute_result",
          "data": {
            "text/plain": [
              "0.24"
            ]
          },
          "metadata": {},
          "execution_count": 76
        }
      ]
    },
    {
      "cell_type": "code",
      "source": [
        "# # Roulette wheel selection method\n",
        "# def selection(population_fitness,popu_size):\n",
        "#   total = sum(population_fitness)\n",
        "#   probilities = [round(x/total,2) for x in population_fitness]\n",
        "#   multi_prob = [popu_size*prob for prob in probilities]\n",
        "\n",
        "#   selected_parents = []\n",
        "#   for index,prob in enumerate(multi_prob):\n",
        "#     if round(prob,1)>1:\n",
        "#       selected_parents[index] = prob\n",
        "#       selected_parents[popu_size-index] = prob\n",
        "#     elif round(prob,1)>=0:\n",
        "#       selected_parents[index] = prob\n",
        "#   return selected_parents\n"
      ],
      "metadata": {
        "id": "rBZuCdW4NiQA"
      },
      "execution_count": 82,
      "outputs": []
    },
    {
      "cell_type": "code",
      "source": [
        "def selection(population_fitness, popu_size):\n",
        "    total = sum(population_fitness)\n",
        "    probabilities = [round(x / total, 2) for x in population_fitness]\n",
        "    multi_prob = [int(popu_size * prob) for prob in probabilities]\n",
        "\n",
        "    selection_wheel = []\n",
        "    for index, count in enumerate(multi_prob):\n",
        "        selection_wheel.extend([index] * count)\n",
        "    parent1_ind = choice(selection_wheel)\n",
        "    parent2_ind = choice(selection_wheel)\n",
        "    return [parent1_ind, parent2_ind]"
      ],
      "metadata": {
        "id": "lB6_amDsj5sZ"
      },
      "execution_count": 119,
      "outputs": []
    },
    {
      "cell_type": "code",
      "source": [
        "# Roulette wheel selection method\n",
        "def selection(population_fitness):\n",
        "  total = sum(population_fitness)\n",
        "  percentage = [round((x/total) * 100) for x in population_fitness]\n",
        "  selection_wheel = []\n",
        "  for pop_index,num in enumerate(percentage):\n",
        "    selection_wheel.extend([pop_index]*num)\n",
        "  parent1_ind = choice(selection_wheel)\n",
        "  parent2_ind = choice(selection_wheel)\n",
        "  return [parent1_ind, parent2_ind]"
      ],
      "metadata": {
        "id": "rbpSqxOX03Zq"
      },
      "execution_count": 107,
      "outputs": []
    },
    {
      "cell_type": "code",
      "source": [
        "# fruits = [\"apple\", \"banana\", \"cherry\"]\n",
        "\n",
        "# # Iterate through the list using enumerate\n",
        "# for index, fruit in enumerate(fruits):\n",
        "#   print(f\"Fruit at index {index}: {fruit}\")\n"
      ],
      "metadata": {
        "id": "RNrA9mksXMBH"
      },
      "execution_count": 93,
      "outputs": []
    },
    {
      "cell_type": "code",
      "source": [
        "\n",
        "def crossover(parent1, parent2):\n",
        "  child1 = {}\n",
        "  child2 = {}\n",
        "\n",
        "  child1[\"u\"] = choice([parent1[\"u\"], parent2[\"u\"]])\n",
        "  child1[\"n1\"] = choice([parent1[\"n1\"], parent2[\"n1\"]])\n",
        "  child1[\"n2\"] = choice([parent1[\"n2\"], parent2[\"n2\"]])\n",
        "\n",
        "  child2[\"u\"] = choice([parent1[\"u\"], parent2[\"u\"]])\n",
        "  child2[\"n1\"] = choice([parent1[\"n1\"], parent2[\"n1\"]])\n",
        "  child2[\"n2\"] = choice([parent1[\"n2\"], parent2[\"n2\"]])\n",
        "\n",
        "  child1[\"a1\"] = parent1[\"a2\"]\n",
        "  child2[\"a1\"] = parent2[\"a2\"]\n",
        "\n",
        "  child1[\"a2\"] = parent2[\"a1\"]\n",
        "  child2[\"a2\"] = parent1[\"a1\"]\n",
        "\n",
        "  child1[\"op\"] = parent2[\"op\"]\n",
        "  child2[\"op\"] = parent1[\"op\"]\n",
        "\n",
        "  child1[\"lr\"] = parent1[\"lr\"]\n",
        "  child2[\"lr\"] = parent2[\"lr\"]\n",
        "  return [child1, child2]"
      ],
      "metadata": {
        "id": "nusc48N8XMpq"
      },
      "execution_count": 124,
      "outputs": []
    },
    {
      "cell_type": "code",
      "source": [
        "\n",
        "def mutation(chromosome):\n",
        "  flag = randint(0,40)\n",
        "  if flag <= 20:\n",
        "    chromosome[\"ep\"] += randint(0, 10)\n",
        "  return chromosome"
      ],
      "metadata": {
        "id": "MeEvLjXjxMos"
      },
      "execution_count": 125,
      "outputs": []
    },
    {
      "cell_type": "code",
      "source": [
        "generate_population(3)"
      ],
      "metadata": {
        "colab": {
          "base_uri": "https://localhost:8080/"
        },
        "id": "pgUwTd8Rzo08",
        "outputId": "86aa6a5d-d137-4d67-8b35-2ed554461612"
      },
      "execution_count": 103,
      "outputs": [
        {
          "output_type": "execute_result",
          "data": {
            "text/plain": [
              "[{'u': 32,\n",
              "  'n1': 128,\n",
              "  'n2': 64,\n",
              "  'a1': 'relu',\n",
              "  'a2': 'relu',\n",
              "  'op': 'adagrad',\n",
              "  'lr': 0.07},\n",
              " {'u': 16,\n",
              "  'n1': 64,\n",
              "  'n2': 32,\n",
              "  'a1': 'relu',\n",
              "  'a2': 'relu',\n",
              "  'op': 'adamax',\n",
              "  'lr': 0.04},\n",
              " {'u': 16,\n",
              "  'n1': 64,\n",
              "  'n2': 64,\n",
              "  'a1': 'relu',\n",
              "  'a2': 'selu',\n",
              "  'op': 'adagrad',\n",
              "  'lr': 0.08}]"
            ]
          },
          "metadata": {},
          "execution_count": 103
        }
      ]
    },
    {
      "cell_type": "code",
      "source": [
        "generations = 3\n",
        "threshold = 90\n",
        "num_pop = 10\n",
        "\n",
        "population = generate_population(num_pop)\n",
        "\n",
        "for generation in range(generations):\n",
        "\n",
        "  population_fitness = []\n",
        "  for chromosome in population:\n",
        "    u = chromosome[\"u\"]\n",
        "    n1 = chromosome[\"n1\"]\n",
        "    n2 = chromosome[\"n2\"]\n",
        "    a1 = chromosome[\"a1\"]\n",
        "    a2 = chromosome[\"a2\"]\n",
        "    op = chromosome[\"op\"]\n",
        "    lr = chromosome[\"lr\"]\n",
        "\n",
        "    try:\n",
        "      model = BIGRU_model(u,n1,n2,a1,a2,op,lr)\n",
        "      acc = fitness_evaluation(model)\n",
        "      print(\"Parameters: \", chromosome)\n",
        "      print(\"Accuracy: \", round(acc,3))\n",
        "    except:\n",
        "      acc=0\n",
        "      print(\"Parameters: \", chromosome)\n",
        "      print(\"Invalid parameters - Build fail\")\n",
        "\n",
        "    population_fitness.append(acc)\n",
        "\n",
        "  parents_ind = selection(population_fitness)\n",
        "  parent1 = population[parents_ind[0]]\n",
        "  parent2 = population[parents_ind[1]]\n",
        "\n",
        "  children = crossover(parent1, parent2)\n",
        "  child1 = mutation(children[0])\n",
        "  child2 = mutation(children[1])\n",
        "\n",
        "  population.append(child1)\n",
        "  population.append(child2)\n",
        "\n",
        "  print(\"Generation \", generation+1,\" Outcome: \")\n",
        "  if max(population_fitness) >= threshold:\n",
        "    print(\"Obtained desired accuracy: \", max(population_fitness))\n",
        "    break\n",
        "  else:\n",
        "    print(\"Maximum accuracy in generation {} : {}\".format(generation+1, max(population_fitness)))\n",
        "\n",
        "  first_min = min(population_fitness)\n",
        "  first_min_ind = population_fitness.index(first_min)\n",
        "  population.remove(population[first_min_ind])\n",
        "  second_min = min(population_fitness)\n",
        "  second_min_ind = population_fitness.index(second_min)\n",
        "  population.remove(population[second_min_ind])\n",
        ""
      ],
      "metadata": {
        "colab": {
          "base_uri": "https://localhost:8080/",
          "height": 1000
        },
        "id": "P6A-Tglsyg4c",
        "outputId": "7be31511-db07-436a-bd34-bb622cbfa836"
      },
      "execution_count": 126,
      "outputs": [
        {
          "output_type": "stream",
          "name": "stdout",
          "text": [
            "Epoch 1/8\n",
            "183/183 [==============================] - 15s 47ms/step - loss: 1.4666 - sarcasm_loss: 0.5429 - stress_loss: 0.9238 - sarcasm_accuracy: 0.9400 - stress_accuracy: 0.1593 - val_loss: 1.3925 - val_sarcasm_loss: 0.4983 - val_stress_loss: 0.8942 - val_sarcasm_accuracy: 0.9472 - val_stress_accuracy: 0.1550\n",
            "Epoch 2/8\n",
            "183/183 [==============================] - 6s 33ms/step - loss: 1.3179 - sarcasm_loss: 0.4641 - stress_loss: 0.8537 - sarcasm_accuracy: 0.9451 - stress_accuracy: 0.1595 - val_loss: 1.2497 - val_sarcasm_loss: 0.4262 - val_stress_loss: 0.8235 - val_sarcasm_accuracy: 0.9472 - val_stress_accuracy: 0.1557\n",
            "Epoch 3/8\n",
            "183/183 [==============================] - 8s 42ms/step - loss: 1.1855 - sarcasm_loss: 0.3995 - stress_loss: 0.7860 - sarcasm_accuracy: 0.9451 - stress_accuracy: 0.1696 - val_loss: 1.1247 - val_sarcasm_loss: 0.3681 - val_stress_loss: 0.7566 - val_sarcasm_accuracy: 0.9472 - val_stress_accuracy: 0.1975\n",
            "Epoch 4/8\n",
            "183/183 [==============================] - 6s 33ms/step - loss: 1.0717 - sarcasm_loss: 0.3485 - stress_loss: 0.7232 - sarcasm_accuracy: 0.9451 - stress_accuracy: 0.3174 - val_loss: 1.0197 - val_sarcasm_loss: 0.3234 - val_stress_loss: 0.6963 - val_sarcasm_accuracy: 0.9472 - val_stress_accuracy: 0.4973\n",
            "Epoch 5/8\n",
            "183/183 [==============================] - 8s 42ms/step - loss: 0.9776 - sarcasm_loss: 0.3097 - stress_loss: 0.6679 - sarcasm_accuracy: 0.9451 - stress_accuracy: 0.6822 - val_loss: 0.9335 - val_sarcasm_loss: 0.2893 - val_stress_loss: 0.6441 - val_sarcasm_accuracy: 0.9472 - val_stress_accuracy: 0.7757\n",
            "Epoch 6/8\n",
            "183/183 [==============================] - 6s 32ms/step - loss: 0.9016 - sarcasm_loss: 0.2805 - stress_loss: 0.6211 - sarcasm_accuracy: 0.9451 - stress_accuracy: 0.8222 - val_loss: 0.8651 - val_sarcasm_loss: 0.2642 - val_stress_loss: 0.6009 - val_sarcasm_accuracy: 0.9472 - val_stress_accuracy: 0.8374\n",
            "Epoch 7/8\n",
            "183/183 [==============================] - 8s 42ms/step - loss: 0.8423 - sarcasm_loss: 0.2593 - stress_loss: 0.5830 - sarcasm_accuracy: 0.9451 - stress_accuracy: 0.8386 - val_loss: 0.8121 - val_sarcasm_loss: 0.2462 - val_stress_loss: 0.5659 - val_sarcasm_accuracy: 0.9472 - val_stress_accuracy: 0.8443\n",
            "Epoch 8/8\n",
            "183/183 [==============================] - 6s 32ms/step - loss: 0.7968 - sarcasm_loss: 0.2444 - stress_loss: 0.5524 - sarcasm_accuracy: 0.9451 - stress_accuracy: 0.8407 - val_loss: 0.7714 - val_sarcasm_loss: 0.2336 - val_stress_loss: 0.5378 - val_sarcasm_accuracy: 0.9472 - val_stress_accuracy: 0.8450\n",
            "Parameters:  {'u': 64, 'n1': 64, 'n2': 32, 'a1': 'elu', 'a2': 'relu', 'op': 'adadelta', 'lr': 8}\n",
            "Invalid parameters - Build fail\n",
            "Epoch 1/9\n",
            "183/183 [==============================] - 11s 30ms/step - loss: 0.5255 - sarcasm_loss: 0.2105 - stress_loss: 0.3149 - sarcasm_accuracy: 0.9451 - stress_accuracy: 0.8698 - val_loss: 0.3487 - val_sarcasm_loss: 0.1944 - val_stress_loss: 0.1544 - val_sarcasm_accuracy: 0.9472 - val_stress_accuracy: 0.9458\n",
            "Epoch 2/9\n",
            "183/183 [==============================] - 6s 31ms/step - loss: 0.3174 - sarcasm_loss: 0.1883 - stress_loss: 0.1291 - sarcasm_accuracy: 0.9448 - stress_accuracy: 0.9571 - val_loss: 0.3043 - val_sarcasm_loss: 0.1926 - val_stress_loss: 0.1117 - val_sarcasm_accuracy: 0.9451 - val_stress_accuracy: 0.9609\n",
            "Epoch 3/9\n",
            "183/183 [==============================] - 4s 22ms/step - loss: 0.2569 - sarcasm_loss: 0.1724 - stress_loss: 0.0845 - sarcasm_accuracy: 0.9439 - stress_accuracy: 0.9748 - val_loss: 0.2512 - val_sarcasm_loss: 0.1731 - val_stress_loss: 0.0781 - val_sarcasm_accuracy: 0.9444 - val_stress_accuracy: 0.9733\n",
            "Epoch 4/9\n",
            "183/183 [==============================] - 4s 22ms/step - loss: 0.2098 - sarcasm_loss: 0.1538 - stress_loss: 0.0560 - sarcasm_accuracy: 0.9446 - stress_accuracy: 0.9823 - val_loss: 0.2268 - val_sarcasm_loss: 0.1754 - val_stress_loss: 0.0514 - val_sarcasm_accuracy: 0.9342 - val_stress_accuracy: 0.9822\n",
            "Epoch 5/9\n",
            "183/183 [==============================] - 6s 31ms/step - loss: 0.1825 - sarcasm_loss: 0.1416 - stress_loss: 0.0410 - sarcasm_accuracy: 0.9422 - stress_accuracy: 0.9868 - val_loss: 0.1995 - val_sarcasm_loss: 0.1625 - val_stress_loss: 0.0370 - val_sarcasm_accuracy: 0.9328 - val_stress_accuracy: 0.9904\n",
            "Epoch 6/9\n",
            "183/183 [==============================] - 4s 23ms/step - loss: 0.1660 - sarcasm_loss: 0.1358 - stress_loss: 0.0302 - sarcasm_accuracy: 0.9413 - stress_accuracy: 0.9901 - val_loss: 0.1905 - val_sarcasm_loss: 0.1513 - val_stress_loss: 0.0392 - val_sarcasm_accuracy: 0.9348 - val_stress_accuracy: 0.9890\n",
            "Epoch 7/9\n",
            "183/183 [==============================] - 4s 24ms/step - loss: 0.1494 - sarcasm_loss: 0.1230 - stress_loss: 0.0264 - sarcasm_accuracy: 0.9424 - stress_accuracy: 0.9911 - val_loss: 0.1922 - val_sarcasm_loss: 0.1564 - val_stress_loss: 0.0357 - val_sarcasm_accuracy: 0.9417 - val_stress_accuracy: 0.9842\n",
            "Epoch 8/9\n",
            "183/183 [==============================] - 5s 29ms/step - loss: 0.1371 - sarcasm_loss: 0.1166 - stress_loss: 0.0205 - sarcasm_accuracy: 0.9427 - stress_accuracy: 0.9925 - val_loss: 0.1752 - val_sarcasm_loss: 0.1494 - val_stress_loss: 0.0257 - val_sarcasm_accuracy: 0.9417 - val_stress_accuracy: 0.9883\n",
            "Epoch 9/9\n",
            "183/183 [==============================] - 4s 22ms/step - loss: 0.1282 - sarcasm_loss: 0.1110 - stress_loss: 0.0172 - sarcasm_accuracy: 0.9446 - stress_accuracy: 0.9923 - val_loss: 0.1869 - val_sarcasm_loss: 0.1455 - val_stress_loss: 0.0414 - val_sarcasm_accuracy: 0.9390 - val_stress_accuracy: 0.9883\n",
            "Parameters:  {'u': 16, 'n1': 64, 'n2': 32, 'a1': 'elu', 'a2': 'selu', 'op': 'adam', 'lr': 9}\n",
            "Invalid parameters - Build fail\n",
            "Epoch 1/7\n",
            "183/183 [==============================] - 13s 39ms/step - loss: 0.6821 - sarcasm_loss: 0.2581 - stress_loss: 0.4241 - sarcasm_accuracy: 0.9341 - stress_accuracy: 0.8407 - val_loss: 0.6179 - val_sarcasm_loss: 0.2108 - val_stress_loss: 0.4070 - val_sarcasm_accuracy: 0.9472 - val_stress_accuracy: 0.8450\n",
            "Epoch 2/7\n",
            "183/183 [==============================] - 7s 37ms/step - loss: 0.6198 - sarcasm_loss: 0.2166 - stress_loss: 0.4032 - sarcasm_accuracy: 0.9451 - stress_accuracy: 0.8407 - val_loss: 0.5993 - val_sarcasm_loss: 0.2095 - val_stress_loss: 0.3898 - val_sarcasm_accuracy: 0.9472 - val_stress_accuracy: 0.8450\n",
            "Epoch 3/7\n",
            "183/183 [==============================] - 6s 33ms/step - loss: 0.6005 - sarcasm_loss: 0.2154 - stress_loss: 0.3851 - sarcasm_accuracy: 0.9451 - stress_accuracy: 0.8407 - val_loss: 0.5797 - val_sarcasm_loss: 0.2087 - val_stress_loss: 0.3711 - val_sarcasm_accuracy: 0.9472 - val_stress_accuracy: 0.8450\n",
            "Epoch 4/7\n",
            "183/183 [==============================] - 6s 34ms/step - loss: 0.5800 - sarcasm_loss: 0.2143 - stress_loss: 0.3656 - sarcasm_accuracy: 0.9451 - stress_accuracy: 0.8407 - val_loss: 0.5591 - val_sarcasm_loss: 0.2078 - val_stress_loss: 0.3513 - val_sarcasm_accuracy: 0.9472 - val_stress_accuracy: 0.8450\n",
            "Epoch 5/7\n",
            "183/183 [==============================] - 7s 36ms/step - loss: 0.5581 - sarcasm_loss: 0.2134 - stress_loss: 0.3447 - sarcasm_accuracy: 0.9451 - stress_accuracy: 0.8407 - val_loss: 0.5378 - val_sarcasm_loss: 0.2071 - val_stress_loss: 0.3307 - val_sarcasm_accuracy: 0.9472 - val_stress_accuracy: 0.8450\n",
            "Epoch 6/7\n",
            "183/183 [==============================] - 6s 32ms/step - loss: 0.5351 - sarcasm_loss: 0.2123 - stress_loss: 0.3228 - sarcasm_accuracy: 0.9451 - stress_accuracy: 0.8455 - val_loss: 0.5157 - val_sarcasm_loss: 0.2063 - val_stress_loss: 0.3094 - val_sarcasm_accuracy: 0.9472 - val_stress_accuracy: 0.8512\n",
            "Epoch 7/7\n",
            "183/183 [==============================] - 7s 38ms/step - loss: 0.5116 - sarcasm_loss: 0.2113 - stress_loss: 0.3003 - sarcasm_accuracy: 0.9451 - stress_accuracy: 0.8585 - val_loss: 0.4938 - val_sarcasm_loss: 0.2057 - val_stress_loss: 0.2882 - val_sarcasm_accuracy: 0.9472 - val_stress_accuracy: 0.8690\n",
            "Parameters:  {'u': 64, 'n1': 32, 'n2': 64, 'a1': 'elu', 'a2': 'selu', 'op': 'adagrad', 'lr': 7}\n",
            "Invalid parameters - Build fail\n",
            "Epoch 1/17\n",
            "183/183 [==============================] - 12s 37ms/step - loss: 0.4989 - sarcasm_loss: 0.2146 - stress_loss: 0.2843 - sarcasm_accuracy: 0.9451 - stress_accuracy: 0.8902 - val_loss: 0.3556 - val_sarcasm_loss: 0.2001 - val_stress_loss: 0.1555 - val_sarcasm_accuracy: 0.9472 - val_stress_accuracy: 0.9444\n",
            "Epoch 2/17\n",
            "183/183 [==============================] - 4s 22ms/step - loss: 0.3258 - sarcasm_loss: 0.1975 - stress_loss: 0.1282 - sarcasm_accuracy: 0.9451 - stress_accuracy: 0.9516 - val_loss: 0.3166 - val_sarcasm_loss: 0.1859 - val_stress_loss: 0.1307 - val_sarcasm_accuracy: 0.9472 - val_stress_accuracy: 0.9527\n",
            "Epoch 3/17\n",
            "183/183 [==============================] - 4s 21ms/step - loss: 0.2785 - sarcasm_loss: 0.1847 - stress_loss: 0.0937 - sarcasm_accuracy: 0.9449 - stress_accuracy: 0.9707 - val_loss: 0.2780 - val_sarcasm_loss: 0.1796 - val_stress_loss: 0.0984 - val_sarcasm_accuracy: 0.9472 - val_stress_accuracy: 0.9691\n",
            "Epoch 4/17\n",
            "183/183 [==============================] - 6s 30ms/step - loss: 0.2323 - sarcasm_loss: 0.1650 - stress_loss: 0.0673 - sarcasm_accuracy: 0.9441 - stress_accuracy: 0.9794 - val_loss: 0.2448 - val_sarcasm_loss: 0.1589 - val_stress_loss: 0.0859 - val_sarcasm_accuracy: 0.9465 - val_stress_accuracy: 0.9739\n",
            "Epoch 5/17\n",
            "183/183 [==============================] - 4s 22ms/step - loss: 0.1945 - sarcasm_loss: 0.1469 - stress_loss: 0.0476 - sarcasm_accuracy: 0.9436 - stress_accuracy: 0.9870 - val_loss: 0.2184 - val_sarcasm_loss: 0.1641 - val_stress_loss: 0.0543 - val_sarcasm_accuracy: 0.9342 - val_stress_accuracy: 0.9822\n",
            "Epoch 6/17\n",
            "183/183 [==============================] - 4s 21ms/step - loss: 0.1759 - sarcasm_loss: 0.1357 - stress_loss: 0.0402 - sarcasm_accuracy: 0.9417 - stress_accuracy: 0.9875 - val_loss: 0.2277 - val_sarcasm_loss: 0.1811 - val_stress_loss: 0.0467 - val_sarcasm_accuracy: 0.9259 - val_stress_accuracy: 0.9829\n",
            "Epoch 7/17\n",
            "183/183 [==============================] - 6s 30ms/step - loss: 0.1545 - sarcasm_loss: 0.1267 - stress_loss: 0.0279 - sarcasm_accuracy: 0.9439 - stress_accuracy: 0.9913 - val_loss: 0.1912 - val_sarcasm_loss: 0.1473 - val_stress_loss: 0.0438 - val_sarcasm_accuracy: 0.9314 - val_stress_accuracy: 0.9842\n",
            "Epoch 8/17\n",
            "183/183 [==============================] - 4s 22ms/step - loss: 0.1431 - sarcasm_loss: 0.1211 - stress_loss: 0.0220 - sarcasm_accuracy: 0.9443 - stress_accuracy: 0.9926 - val_loss: 0.1761 - val_sarcasm_loss: 0.1469 - val_stress_loss: 0.0292 - val_sarcasm_accuracy: 0.9280 - val_stress_accuracy: 0.9870\n",
            "Epoch 9/17\n",
            "183/183 [==============================] - 4s 22ms/step - loss: 0.1317 - sarcasm_loss: 0.1119 - stress_loss: 0.0198 - sarcasm_accuracy: 0.9443 - stress_accuracy: 0.9930 - val_loss: 0.1724 - val_sarcasm_loss: 0.1479 - val_stress_loss: 0.0245 - val_sarcasm_accuracy: 0.9300 - val_stress_accuracy: 0.9883\n",
            "Epoch 10/17\n",
            "183/183 [==============================] - 6s 30ms/step - loss: 0.1270 - sarcasm_loss: 0.1106 - stress_loss: 0.0163 - sarcasm_accuracy: 0.9453 - stress_accuracy: 0.9938 - val_loss: 0.2043 - val_sarcasm_loss: 0.1781 - val_stress_loss: 0.0262 - val_sarcasm_accuracy: 0.9431 - val_stress_accuracy: 0.9890\n",
            "Epoch 11/17\n",
            "183/183 [==============================] - 4s 22ms/step - loss: 0.1241 - sarcasm_loss: 0.1077 - stress_loss: 0.0164 - sarcasm_accuracy: 0.9453 - stress_accuracy: 0.9930 - val_loss: 0.1762 - val_sarcasm_loss: 0.1515 - val_stress_loss: 0.0247 - val_sarcasm_accuracy: 0.9232 - val_stress_accuracy: 0.9897\n",
            "Epoch 12/17\n",
            "183/183 [==============================] - 4s 22ms/step - loss: 0.1194 - sarcasm_loss: 0.1042 - stress_loss: 0.0152 - sarcasm_accuracy: 0.9446 - stress_accuracy: 0.9942 - val_loss: 0.1714 - val_sarcasm_loss: 0.1443 - val_stress_loss: 0.0272 - val_sarcasm_accuracy: 0.9239 - val_stress_accuracy: 0.9904\n",
            "Epoch 13/17\n",
            "183/183 [==============================] - 5s 30ms/step - loss: 0.1137 - sarcasm_loss: 0.0986 - stress_loss: 0.0151 - sarcasm_accuracy: 0.9468 - stress_accuracy: 0.9949 - val_loss: 0.1686 - val_sarcasm_loss: 0.1528 - val_stress_loss: 0.0158 - val_sarcasm_accuracy: 0.9225 - val_stress_accuracy: 0.9918\n",
            "Epoch 14/17\n",
            "183/183 [==============================] - 4s 22ms/step - loss: 0.1153 - sarcasm_loss: 0.1000 - stress_loss: 0.0153 - sarcasm_accuracy: 0.9455 - stress_accuracy: 0.9945 - val_loss: 0.1766 - val_sarcasm_loss: 0.1544 - val_stress_loss: 0.0222 - val_sarcasm_accuracy: 0.9417 - val_stress_accuracy: 0.9911\n",
            "Epoch 15/17\n",
            "183/183 [==============================] - 4s 21ms/step - loss: 0.1166 - sarcasm_loss: 0.1000 - stress_loss: 0.0167 - sarcasm_accuracy: 0.9461 - stress_accuracy: 0.9930 - val_loss: 0.1734 - val_sarcasm_loss: 0.1546 - val_stress_loss: 0.0187 - val_sarcasm_accuracy: 0.9218 - val_stress_accuracy: 0.9890\n",
            "Epoch 16/17\n",
            "183/183 [==============================] - 5s 30ms/step - loss: 0.1114 - sarcasm_loss: 0.0969 - stress_loss: 0.0144 - sarcasm_accuracy: 0.9477 - stress_accuracy: 0.9933 - val_loss: 0.1627 - val_sarcasm_loss: 0.1438 - val_stress_loss: 0.0190 - val_sarcasm_accuracy: 0.9369 - val_stress_accuracy: 0.9897\n",
            "Epoch 17/17\n",
            "183/183 [==============================] - 4s 21ms/step - loss: 0.1115 - sarcasm_loss: 0.0970 - stress_loss: 0.0144 - sarcasm_accuracy: 0.9425 - stress_accuracy: 0.9938 - val_loss: 0.1609 - val_sarcasm_loss: 0.1377 - val_stress_loss: 0.0232 - val_sarcasm_accuracy: 0.9252 - val_stress_accuracy: 0.9904\n",
            "Parameters:  {'u': 16, 'n1': 32, 'n2': 32, 'a1': 'elu', 'a2': 'relu', 'op': 'adam', 'lr': 17}\n",
            "Invalid parameters - Build fail\n",
            "Epoch 1/6\n",
            "183/183 [==============================] - 12s 33ms/step - loss: 0.6173 - sarcasm_loss: 0.2231 - stress_loss: 0.3943 - sarcasm_accuracy: 0.9420 - stress_accuracy: 0.8300 - val_loss: 0.4663 - val_sarcasm_loss: 0.2057 - val_stress_loss: 0.2607 - val_sarcasm_accuracy: 0.9472 - val_stress_accuracy: 0.9005\n",
            "Epoch 2/6\n",
            "183/183 [==============================] - 6s 32ms/step - loss: 0.3937 - sarcasm_loss: 0.2068 - stress_loss: 0.1870 - sarcasm_accuracy: 0.9451 - stress_accuracy: 0.9371 - val_loss: 0.3592 - val_sarcasm_loss: 0.2015 - val_stress_loss: 0.1578 - val_sarcasm_accuracy: 0.9472 - val_stress_accuracy: 0.9390\n",
            "Epoch 3/6\n",
            "183/183 [==============================] - 6s 32ms/step - loss: 0.3413 - sarcasm_loss: 0.2013 - stress_loss: 0.1400 - sarcasm_accuracy: 0.9451 - stress_accuracy: 0.9503 - val_loss: 0.3323 - val_sarcasm_loss: 0.1976 - val_stress_loss: 0.1348 - val_sarcasm_accuracy: 0.9472 - val_stress_accuracy: 0.9431\n",
            "Epoch 4/6\n",
            "183/183 [==============================] - 5s 26ms/step - loss: 0.3148 - sarcasm_loss: 0.1950 - stress_loss: 0.1198 - sarcasm_accuracy: 0.9451 - stress_accuracy: 0.9554 - val_loss: 0.3180 - val_sarcasm_loss: 0.1967 - val_stress_loss: 0.1212 - val_sarcasm_accuracy: 0.9472 - val_stress_accuracy: 0.9540\n",
            "Epoch 5/6\n",
            "183/183 [==============================] - 6s 33ms/step - loss: 0.2934 - sarcasm_loss: 0.1898 - stress_loss: 0.1036 - sarcasm_accuracy: 0.9451 - stress_accuracy: 0.9624 - val_loss: 0.2969 - val_sarcasm_loss: 0.1891 - val_stress_loss: 0.1078 - val_sarcasm_accuracy: 0.9472 - val_stress_accuracy: 0.9575\n",
            "Epoch 6/6\n",
            "183/183 [==============================] - 4s 24ms/step - loss: 0.2721 - sarcasm_loss: 0.1844 - stress_loss: 0.0877 - sarcasm_accuracy: 0.9451 - stress_accuracy: 0.9674 - val_loss: 0.2818 - val_sarcasm_loss: 0.1836 - val_stress_loss: 0.0982 - val_sarcasm_accuracy: 0.9472 - val_stress_accuracy: 0.9636\n",
            "Parameters:  {'u': 16, 'n1': 128, 'n2': 128, 'a1': 'elu', 'a2': 'elu', 'op': 'adamax', 'lr': 6}\n",
            "Invalid parameters - Build fail\n",
            "Epoch 1/12\n",
            "183/183 [==============================] - 12s 39ms/step - loss: 0.7484 - sarcasm_loss: 0.3159 - stress_loss: 0.4325 - sarcasm_accuracy: 0.8875 - stress_accuracy: 0.8402 - val_loss: 0.6135 - val_sarcasm_loss: 0.2158 - val_stress_loss: 0.3977 - val_sarcasm_accuracy: 0.9472 - val_stress_accuracy: 0.8450\n",
            "Epoch 2/12\n",
            "183/183 [==============================] - 5s 26ms/step - loss: 0.6181 - sarcasm_loss: 0.2199 - stress_loss: 0.3983 - sarcasm_accuracy: 0.9451 - stress_accuracy: 0.8407 - val_loss: 0.5924 - val_sarcasm_loss: 0.2139 - val_stress_loss: 0.3785 - val_sarcasm_accuracy: 0.9472 - val_stress_accuracy: 0.8450\n",
            "Epoch 3/12\n",
            "183/183 [==============================] - 5s 27ms/step - loss: 0.5962 - sarcasm_loss: 0.2183 - stress_loss: 0.3778 - sarcasm_accuracy: 0.9451 - stress_accuracy: 0.8407 - val_loss: 0.5711 - val_sarcasm_loss: 0.2129 - val_stress_loss: 0.3582 - val_sarcasm_accuracy: 0.9472 - val_stress_accuracy: 0.8450\n",
            "Epoch 4/12\n",
            "183/183 [==============================] - 6s 32ms/step - loss: 0.5736 - sarcasm_loss: 0.2170 - stress_loss: 0.3566 - sarcasm_accuracy: 0.9451 - stress_accuracy: 0.8407 - val_loss: 0.5491 - val_sarcasm_loss: 0.2117 - val_stress_loss: 0.3374 - val_sarcasm_accuracy: 0.9472 - val_stress_accuracy: 0.8450\n",
            "Epoch 5/12\n",
            "183/183 [==============================] - 5s 26ms/step - loss: 0.5506 - sarcasm_loss: 0.2157 - stress_loss: 0.3349 - sarcasm_accuracy: 0.9451 - stress_accuracy: 0.8410 - val_loss: 0.5276 - val_sarcasm_loss: 0.2107 - val_stress_loss: 0.3169 - val_sarcasm_accuracy: 0.9472 - val_stress_accuracy: 0.8464\n",
            "Epoch 6/12\n",
            "183/183 [==============================] - 6s 35ms/step - loss: 0.5287 - sarcasm_loss: 0.2145 - stress_loss: 0.3141 - sarcasm_accuracy: 0.9451 - stress_accuracy: 0.8439 - val_loss: 0.5075 - val_sarcasm_loss: 0.2098 - val_stress_loss: 0.2977 - val_sarcasm_accuracy: 0.9472 - val_stress_accuracy: 0.8553\n",
            "Epoch 7/12\n",
            "183/183 [==============================] - 5s 26ms/step - loss: 0.5084 - sarcasm_loss: 0.2134 - stress_loss: 0.2950 - sarcasm_accuracy: 0.9451 - stress_accuracy: 0.8611 - val_loss: 0.4893 - val_sarcasm_loss: 0.2089 - val_stress_loss: 0.2804 - val_sarcasm_accuracy: 0.9472 - val_stress_accuracy: 0.8731\n",
            "Epoch 8/12\n",
            "183/183 [==============================] - 5s 26ms/step - loss: 0.4902 - sarcasm_loss: 0.2124 - stress_loss: 0.2778 - sarcasm_accuracy: 0.9451 - stress_accuracy: 0.8801 - val_loss: 0.4735 - val_sarcasm_loss: 0.2083 - val_stress_loss: 0.2652 - val_sarcasm_accuracy: 0.9472 - val_stress_accuracy: 0.8909\n",
            "Epoch 9/12\n",
            "183/183 [==============================] - 6s 33ms/step - loss: 0.4743 - sarcasm_loss: 0.2114 - stress_loss: 0.2628 - sarcasm_accuracy: 0.9451 - stress_accuracy: 0.8973 - val_loss: 0.4592 - val_sarcasm_loss: 0.2074 - val_stress_loss: 0.2518 - val_sarcasm_accuracy: 0.9472 - val_stress_accuracy: 0.9005\n",
            "Epoch 10/12\n",
            "183/183 [==============================] - 5s 27ms/step - loss: 0.4602 - sarcasm_loss: 0.2105 - stress_loss: 0.2497 - sarcasm_accuracy: 0.9451 - stress_accuracy: 0.9079 - val_loss: 0.4470 - val_sarcasm_loss: 0.2068 - val_stress_loss: 0.2402 - val_sarcasm_accuracy: 0.9472 - val_stress_accuracy: 0.9177\n",
            "Epoch 11/12\n",
            "183/183 [==============================] - 6s 34ms/step - loss: 0.4479 - sarcasm_loss: 0.2097 - stress_loss: 0.2382 - sarcasm_accuracy: 0.9451 - stress_accuracy: 0.9203 - val_loss: 0.4362 - val_sarcasm_loss: 0.2061 - val_stress_loss: 0.2301 - val_sarcasm_accuracy: 0.9472 - val_stress_accuracy: 0.9204\n",
            "Epoch 12/12\n",
            "183/183 [==============================] - 4s 25ms/step - loss: 0.4371 - sarcasm_loss: 0.2088 - stress_loss: 0.2283 - sarcasm_accuracy: 0.9451 - stress_accuracy: 0.9275 - val_loss: 0.4269 - val_sarcasm_loss: 0.2054 - val_stress_loss: 0.2215 - val_sarcasm_accuracy: 0.9472 - val_stress_accuracy: 0.9239\n",
            "Parameters:  {'u': 32, 'n1': 128, 'n2': 32, 'a1': 'selu', 'a2': 'elu', 'op': 'adagrad', 'lr': 12}\n",
            "Invalid parameters - Build fail\n",
            "Epoch 1/29\n",
            "183/183 [==============================] - 13s 38ms/step - loss: 1.3747 - sarcasm_loss: 0.8133 - stress_loss: 0.5614 - sarcasm_accuracy: 0.0616 - stress_accuracy: 0.8409 - val_loss: 1.3118 - val_sarcasm_loss: 0.7661 - val_stress_loss: 0.5457 - val_sarcasm_accuracy: 0.0850 - val_stress_accuracy: 0.8450\n",
            "Epoch 2/29\n",
            "183/183 [==============================] - 8s 42ms/step - loss: 1.2623 - sarcasm_loss: 0.7232 - stress_loss: 0.5391 - sarcasm_accuracy: 0.2831 - stress_accuracy: 0.8407 - val_loss: 1.2006 - val_sarcasm_loss: 0.6765 - val_stress_loss: 0.5241 - val_sarcasm_accuracy: 0.6646 - val_stress_accuracy: 0.8450\n",
            "Epoch 3/29\n",
            "183/183 [==============================] - 6s 33ms/step - loss: 1.1554 - sarcasm_loss: 0.6361 - stress_loss: 0.5193 - sarcasm_accuracy: 0.8645 - stress_accuracy: 0.8407 - val_loss: 1.0973 - val_sarcasm_loss: 0.5921 - val_stress_loss: 0.5053 - val_sarcasm_accuracy: 0.9465 - val_stress_accuracy: 0.8450\n",
            "Epoch 4/29\n",
            "183/183 [==============================] - 8s 42ms/step - loss: 1.0580 - sarcasm_loss: 0.5559 - stress_loss: 0.5021 - sarcasm_accuracy: 0.9443 - stress_accuracy: 0.8407 - val_loss: 1.0050 - val_sarcasm_loss: 0.5161 - val_stress_loss: 0.4889 - val_sarcasm_accuracy: 0.9472 - val_stress_accuracy: 0.8450\n",
            "Epoch 5/29\n",
            "183/183 [==============================] - 6s 33ms/step - loss: 0.9729 - sarcasm_loss: 0.4855 - stress_loss: 0.4875 - sarcasm_accuracy: 0.9451 - stress_accuracy: 0.8407 - val_loss: 0.9261 - val_sarcasm_loss: 0.4510 - val_stress_loss: 0.4751 - val_sarcasm_accuracy: 0.9472 - val_stress_accuracy: 0.8450\n",
            "Epoch 6/29\n",
            "183/183 [==============================] - 8s 43ms/step - loss: 0.9015 - sarcasm_loss: 0.4263 - stress_loss: 0.4752 - sarcasm_accuracy: 0.9451 - stress_accuracy: 0.8407 - val_loss: 0.8612 - val_sarcasm_loss: 0.3975 - val_stress_loss: 0.4637 - val_sarcasm_accuracy: 0.9472 - val_stress_accuracy: 0.8450\n",
            "Epoch 7/29\n",
            "183/183 [==============================] - 6s 33ms/step - loss: 0.8436 - sarcasm_loss: 0.3783 - stress_loss: 0.4653 - sarcasm_accuracy: 0.9451 - stress_accuracy: 0.8407 - val_loss: 0.8089 - val_sarcasm_loss: 0.3545 - val_stress_loss: 0.4544 - val_sarcasm_accuracy: 0.9472 - val_stress_accuracy: 0.8450\n",
            "Epoch 8/29\n",
            "183/183 [==============================] - 8s 43ms/step - loss: 0.7975 - sarcasm_loss: 0.3401 - stress_loss: 0.4573 - sarcasm_accuracy: 0.9451 - stress_accuracy: 0.8407 - val_loss: 0.7673 - val_sarcasm_loss: 0.3203 - val_stress_loss: 0.4470 - val_sarcasm_accuracy: 0.9472 - val_stress_accuracy: 0.8450\n",
            "Epoch 9/29\n",
            "183/183 [==============================] - 6s 33ms/step - loss: 0.7608 - sarcasm_loss: 0.3099 - stress_loss: 0.4509 - sarcasm_accuracy: 0.9451 - stress_accuracy: 0.8407 - val_loss: 0.7344 - val_sarcasm_loss: 0.2933 - val_stress_loss: 0.4411 - val_sarcasm_accuracy: 0.9472 - val_stress_accuracy: 0.8450\n",
            "Epoch 10/29\n",
            "183/183 [==============================] - 8s 41ms/step - loss: 0.7322 - sarcasm_loss: 0.2862 - stress_loss: 0.4461 - sarcasm_accuracy: 0.9451 - stress_accuracy: 0.8407 - val_loss: 0.7090 - val_sarcasm_loss: 0.2724 - val_stress_loss: 0.4365 - val_sarcasm_accuracy: 0.9472 - val_stress_accuracy: 0.8450\n",
            "Epoch 11/29\n",
            "183/183 [==============================] - 6s 32ms/step - loss: 0.7103 - sarcasm_loss: 0.2681 - stress_loss: 0.4423 - sarcasm_accuracy: 0.9451 - stress_accuracy: 0.8407 - val_loss: 0.6896 - val_sarcasm_loss: 0.2566 - val_stress_loss: 0.4331 - val_sarcasm_accuracy: 0.9472 - val_stress_accuracy: 0.8450\n",
            "Epoch 12/29\n",
            "183/183 [==============================] - 8s 41ms/step - loss: 0.6939 - sarcasm_loss: 0.2545 - stress_loss: 0.4394 - sarcasm_accuracy: 0.9451 - stress_accuracy: 0.8407 - val_loss: 0.6750 - val_sarcasm_loss: 0.2447 - val_stress_loss: 0.4303 - val_sarcasm_accuracy: 0.9472 - val_stress_accuracy: 0.8450\n",
            "Epoch 13/29\n",
            "183/183 [==============================] - 6s 34ms/step - loss: 0.6815 - sarcasm_loss: 0.2444 - stress_loss: 0.4371 - sarcasm_accuracy: 0.9451 - stress_accuracy: 0.8407 - val_loss: 0.6641 - val_sarcasm_loss: 0.2359 - val_stress_loss: 0.4282 - val_sarcasm_accuracy: 0.9472 - val_stress_accuracy: 0.8450\n",
            "Epoch 14/29\n",
            "183/183 [==============================] - 8s 42ms/step - loss: 0.6723 - sarcasm_loss: 0.2370 - stress_loss: 0.4353 - sarcasm_accuracy: 0.9451 - stress_accuracy: 0.8407 - val_loss: 0.6559 - val_sarcasm_loss: 0.2294 - val_stress_loss: 0.4265 - val_sarcasm_accuracy: 0.9472 - val_stress_accuracy: 0.8450\n",
            "Epoch 15/29\n",
            "183/183 [==============================] - 6s 34ms/step - loss: 0.6654 - sarcasm_loss: 0.2315 - stress_loss: 0.4339 - sarcasm_accuracy: 0.9451 - stress_accuracy: 0.8407 - val_loss: 0.6497 - val_sarcasm_loss: 0.2246 - val_stress_loss: 0.4251 - val_sarcasm_accuracy: 0.9472 - val_stress_accuracy: 0.8450\n",
            "Epoch 16/29\n",
            "183/183 [==============================] - 8s 42ms/step - loss: 0.6603 - sarcasm_loss: 0.2275 - stress_loss: 0.4327 - sarcasm_accuracy: 0.9451 - stress_accuracy: 0.8407 - val_loss: 0.6451 - val_sarcasm_loss: 0.2211 - val_stress_loss: 0.4240 - val_sarcasm_accuracy: 0.9472 - val_stress_accuracy: 0.8450\n",
            "Epoch 17/29\n",
            "183/183 [==============================] - 6s 34ms/step - loss: 0.6564 - sarcasm_loss: 0.2246 - stress_loss: 0.4318 - sarcasm_accuracy: 0.9451 - stress_accuracy: 0.8407 - val_loss: 0.6416 - val_sarcasm_loss: 0.2186 - val_stress_loss: 0.4230 - val_sarcasm_accuracy: 0.9472 - val_stress_accuracy: 0.8450\n",
            "Epoch 18/29\n",
            "183/183 [==============================] - 8s 44ms/step - loss: 0.6536 - sarcasm_loss: 0.2226 - stress_loss: 0.4309 - sarcasm_accuracy: 0.9451 - stress_accuracy: 0.8407 - val_loss: 0.6390 - val_sarcasm_loss: 0.2167 - val_stress_loss: 0.4222 - val_sarcasm_accuracy: 0.9472 - val_stress_accuracy: 0.8450\n",
            "Epoch 19/29\n",
            "183/183 [==============================] - 6s 33ms/step - loss: 0.6513 - sarcasm_loss: 0.2211 - stress_loss: 0.4302 - sarcasm_accuracy: 0.9451 - stress_accuracy: 0.8407 - val_loss: 0.6368 - val_sarcasm_loss: 0.2153 - val_stress_loss: 0.4215 - val_sarcasm_accuracy: 0.9472 - val_stress_accuracy: 0.8450\n",
            "Epoch 20/29\n",
            "183/183 [==============================] - 8s 43ms/step - loss: 0.6494 - sarcasm_loss: 0.2199 - stress_loss: 0.4295 - sarcasm_accuracy: 0.9451 - stress_accuracy: 0.8407 - val_loss: 0.6351 - val_sarcasm_loss: 0.2142 - val_stress_loss: 0.4208 - val_sarcasm_accuracy: 0.9472 - val_stress_accuracy: 0.8450\n",
            "Epoch 21/29\n",
            "183/183 [==============================] - 6s 32ms/step - loss: 0.6479 - sarcasm_loss: 0.2190 - stress_loss: 0.4289 - sarcasm_accuracy: 0.9451 - stress_accuracy: 0.8407 - val_loss: 0.6336 - val_sarcasm_loss: 0.2134 - val_stress_loss: 0.4202 - val_sarcasm_accuracy: 0.9472 - val_stress_accuracy: 0.8450\n",
            "Epoch 22/29\n",
            "183/183 [==============================] - 8s 41ms/step - loss: 0.6466 - sarcasm_loss: 0.2183 - stress_loss: 0.4283 - sarcasm_accuracy: 0.9451 - stress_accuracy: 0.8407 - val_loss: 0.6324 - val_sarcasm_loss: 0.2128 - val_stress_loss: 0.4196 - val_sarcasm_accuracy: 0.9472 - val_stress_accuracy: 0.8450\n",
            "Epoch 23/29\n",
            "183/183 [==============================] - 6s 32ms/step - loss: 0.6455 - sarcasm_loss: 0.2178 - stress_loss: 0.4277 - sarcasm_accuracy: 0.9451 - stress_accuracy: 0.8407 - val_loss: 0.6313 - val_sarcasm_loss: 0.2123 - val_stress_loss: 0.4190 - val_sarcasm_accuracy: 0.9472 - val_stress_accuracy: 0.8450\n",
            "Epoch 24/29\n",
            "183/183 [==============================] - 8s 43ms/step - loss: 0.6446 - sarcasm_loss: 0.2174 - stress_loss: 0.4271 - sarcasm_accuracy: 0.9451 - stress_accuracy: 0.8407 - val_loss: 0.6304 - val_sarcasm_loss: 0.2119 - val_stress_loss: 0.4184 - val_sarcasm_accuracy: 0.9472 - val_stress_accuracy: 0.8450\n",
            "Epoch 25/29\n",
            "183/183 [==============================] - 6s 32ms/step - loss: 0.6437 - sarcasm_loss: 0.2171 - stress_loss: 0.4266 - sarcasm_accuracy: 0.9451 - stress_accuracy: 0.8407 - val_loss: 0.6295 - val_sarcasm_loss: 0.2116 - val_stress_loss: 0.4179 - val_sarcasm_accuracy: 0.9472 - val_stress_accuracy: 0.8450\n",
            "Epoch 26/29\n",
            "183/183 [==============================] - 8s 43ms/step - loss: 0.6429 - sarcasm_loss: 0.2168 - stress_loss: 0.4261 - sarcasm_accuracy: 0.9451 - stress_accuracy: 0.8407 - val_loss: 0.6287 - val_sarcasm_loss: 0.2113 - val_stress_loss: 0.4174 - val_sarcasm_accuracy: 0.9472 - val_stress_accuracy: 0.8450\n",
            "Epoch 27/29\n",
            "183/183 [==============================] - 6s 33ms/step - loss: 0.6421 - sarcasm_loss: 0.2166 - stress_loss: 0.4255 - sarcasm_accuracy: 0.9451 - stress_accuracy: 0.8407 - val_loss: 0.6280 - val_sarcasm_loss: 0.2111 - val_stress_loss: 0.4169 - val_sarcasm_accuracy: 0.9472 - val_stress_accuracy: 0.8450\n",
            "Epoch 28/29\n",
            "183/183 [==============================] - 8s 43ms/step - loss: 0.6414 - sarcasm_loss: 0.2164 - stress_loss: 0.4250 - sarcasm_accuracy: 0.9451 - stress_accuracy: 0.8407 - val_loss: 0.6273 - val_sarcasm_loss: 0.2109 - val_stress_loss: 0.4164 - val_sarcasm_accuracy: 0.9472 - val_stress_accuracy: 0.8450\n",
            "Epoch 29/29\n",
            "183/183 [==============================] - 6s 33ms/step - loss: 0.6408 - sarcasm_loss: 0.2163 - stress_loss: 0.4245 - sarcasm_accuracy: 0.9451 - stress_accuracy: 0.8407 - val_loss: 0.6267 - val_sarcasm_loss: 0.2108 - val_stress_loss: 0.4159 - val_sarcasm_accuracy: 0.9472 - val_stress_accuracy: 0.8450\n",
            "Parameters:  {'u': 64, 'n1': 128, 'n2': 32, 'a1': 'relu', 'a2': 'relu', 'op': 'adadelta', 'lr': 29}\n",
            "Invalid parameters - Build fail\n",
            "Epoch 1/2\n",
            "183/183 [==============================] - 11s 30ms/step - loss: 0.7613 - sarcasm_loss: 0.3258 - stress_loss: 0.4355 - sarcasm_accuracy: 0.9132 - stress_accuracy: 0.8407 - val_loss: 0.6400 - val_sarcasm_loss: 0.2241 - val_stress_loss: 0.4159 - val_sarcasm_accuracy: 0.9472 - val_stress_accuracy: 0.8450\n",
            "Epoch 2/2\n",
            "183/183 [==============================] - 5s 26ms/step - loss: 0.6398 - sarcasm_loss: 0.2197 - stress_loss: 0.4202 - sarcasm_accuracy: 0.9451 - stress_accuracy: 0.8407 - val_loss: 0.6177 - val_sarcasm_loss: 0.2108 - val_stress_loss: 0.4069 - val_sarcasm_accuracy: 0.9472 - val_stress_accuracy: 0.8450\n",
            "Parameters:  {'u': 32, 'n1': 32, 'n2': 128, 'a1': 'elu', 'a2': 'elu', 'op': 'adagrad', 'lr': 2}\n",
            "Invalid parameters - Build fail\n",
            "Epoch 1/26\n",
            "183/183 [==============================] - 14s 40ms/step - loss: 0.4297 - sarcasm_loss: 0.2047 - stress_loss: 0.2250 - sarcasm_accuracy: 0.9451 - stress_accuracy: 0.9192 - val_loss: 0.2892 - val_sarcasm_loss: 0.1846 - val_stress_loss: 0.1045 - val_sarcasm_accuracy: 0.9472 - val_stress_accuracy: 0.9630\n",
            "Epoch 2/26\n",
            "183/183 [==============================] - 8s 43ms/step - loss: 0.2476 - sarcasm_loss: 0.1716 - stress_loss: 0.0760 - sarcasm_accuracy: 0.9444 - stress_accuracy: 0.9751 - val_loss: 0.2098 - val_sarcasm_loss: 0.1581 - val_stress_loss: 0.0517 - val_sarcasm_accuracy: 0.9472 - val_stress_accuracy: 0.9870\n",
            "Epoch 3/26\n",
            "183/183 [==============================] - 6s 34ms/step - loss: 0.1739 - sarcasm_loss: 0.1428 - stress_loss: 0.0311 - sarcasm_accuracy: 0.9425 - stress_accuracy: 0.9907 - val_loss: 0.1652 - val_sarcasm_loss: 0.1388 - val_stress_loss: 0.0264 - val_sarcasm_accuracy: 0.9451 - val_stress_accuracy: 0.9904\n",
            "Epoch 4/26\n",
            "183/183 [==============================] - 8s 43ms/step - loss: 0.1499 - sarcasm_loss: 0.1224 - stress_loss: 0.0274 - sarcasm_accuracy: 0.9439 - stress_accuracy: 0.9907 - val_loss: 0.1643 - val_sarcasm_loss: 0.1344 - val_stress_loss: 0.0299 - val_sarcasm_accuracy: 0.9458 - val_stress_accuracy: 0.9911\n",
            "Epoch 5/26\n",
            "183/183 [==============================] - 6s 34ms/step - loss: 0.1348 - sarcasm_loss: 0.1112 - stress_loss: 0.0236 - sarcasm_accuracy: 0.9449 - stress_accuracy: 0.9925 - val_loss: 0.1510 - val_sarcasm_loss: 0.1196 - val_stress_loss: 0.0314 - val_sarcasm_accuracy: 0.9294 - val_stress_accuracy: 0.9883\n",
            "Epoch 6/26\n",
            "183/183 [==============================] - 8s 44ms/step - loss: 0.1184 - sarcasm_loss: 0.0999 - stress_loss: 0.0185 - sarcasm_accuracy: 0.9451 - stress_accuracy: 0.9931 - val_loss: 0.1377 - val_sarcasm_loss: 0.1151 - val_stress_loss: 0.0226 - val_sarcasm_accuracy: 0.9307 - val_stress_accuracy: 0.9925\n",
            "Epoch 7/26\n",
            "183/183 [==============================] - 6s 34ms/step - loss: 0.1175 - sarcasm_loss: 0.0946 - stress_loss: 0.0229 - sarcasm_accuracy: 0.9461 - stress_accuracy: 0.9928 - val_loss: 0.1494 - val_sarcasm_loss: 0.1153 - val_stress_loss: 0.0342 - val_sarcasm_accuracy: 0.9239 - val_stress_accuracy: 0.9904\n",
            "Epoch 8/26\n",
            "183/183 [==============================] - 8s 42ms/step - loss: 0.1071 - sarcasm_loss: 0.0892 - stress_loss: 0.0179 - sarcasm_accuracy: 0.9467 - stress_accuracy: 0.9930 - val_loss: 0.1509 - val_sarcasm_loss: 0.1126 - val_stress_loss: 0.0383 - val_sarcasm_accuracy: 0.9259 - val_stress_accuracy: 0.9904\n",
            "Epoch 9/26\n",
            "183/183 [==============================] - 7s 38ms/step - loss: 0.1036 - sarcasm_loss: 0.0867 - stress_loss: 0.0169 - sarcasm_accuracy: 0.9461 - stress_accuracy: 0.9935 - val_loss: 0.1353 - val_sarcasm_loss: 0.1092 - val_stress_loss: 0.0261 - val_sarcasm_accuracy: 0.9287 - val_stress_accuracy: 0.9911\n",
            "Epoch 10/26\n",
            "183/183 [==============================] - 7s 38ms/step - loss: 0.1019 - sarcasm_loss: 0.0856 - stress_loss: 0.0162 - sarcasm_accuracy: 0.9451 - stress_accuracy: 0.9926 - val_loss: 0.1368 - val_sarcasm_loss: 0.1168 - val_stress_loss: 0.0200 - val_sarcasm_accuracy: 0.9335 - val_stress_accuracy: 0.9904\n",
            "Epoch 11/26\n",
            "183/183 [==============================] - 7s 37ms/step - loss: 0.0970 - sarcasm_loss: 0.0823 - stress_loss: 0.0147 - sarcasm_accuracy: 0.9474 - stress_accuracy: 0.9931 - val_loss: 0.1450 - val_sarcasm_loss: 0.1161 - val_stress_loss: 0.0289 - val_sarcasm_accuracy: 0.9211 - val_stress_accuracy: 0.9904\n",
            "Epoch 12/26\n",
            "183/183 [==============================] - 7s 38ms/step - loss: 0.0994 - sarcasm_loss: 0.0838 - stress_loss: 0.0156 - sarcasm_accuracy: 0.9448 - stress_accuracy: 0.9930 - val_loss: 0.1353 - val_sarcasm_loss: 0.1134 - val_stress_loss: 0.0219 - val_sarcasm_accuracy: 0.9232 - val_stress_accuracy: 0.9925\n",
            "Epoch 13/26\n",
            "183/183 [==============================] - 7s 39ms/step - loss: 0.0986 - sarcasm_loss: 0.0817 - stress_loss: 0.0169 - sarcasm_accuracy: 0.9479 - stress_accuracy: 0.9931 - val_loss: 0.1446 - val_sarcasm_loss: 0.1241 - val_stress_loss: 0.0205 - val_sarcasm_accuracy: 0.9287 - val_stress_accuracy: 0.9904\n",
            "Epoch 14/26\n",
            "183/183 [==============================] - 7s 38ms/step - loss: 0.0980 - sarcasm_loss: 0.0819 - stress_loss: 0.0161 - sarcasm_accuracy: 0.9506 - stress_accuracy: 0.9931 - val_loss: 0.1419 - val_sarcasm_loss: 0.1115 - val_stress_loss: 0.0303 - val_sarcasm_accuracy: 0.9246 - val_stress_accuracy: 0.9911\n",
            "Epoch 15/26\n",
            "183/183 [==============================] - 8s 42ms/step - loss: 0.0962 - sarcasm_loss: 0.0815 - stress_loss: 0.0147 - sarcasm_accuracy: 0.9479 - stress_accuracy: 0.9928 - val_loss: 0.1492 - val_sarcasm_loss: 0.1303 - val_stress_loss: 0.0189 - val_sarcasm_accuracy: 0.9232 - val_stress_accuracy: 0.9911\n",
            "Epoch 16/26\n",
            "183/183 [==============================] - 6s 33ms/step - loss: 0.0950 - sarcasm_loss: 0.0812 - stress_loss: 0.0138 - sarcasm_accuracy: 0.9480 - stress_accuracy: 0.9935 - val_loss: 0.1431 - val_sarcasm_loss: 0.1258 - val_stress_loss: 0.0173 - val_sarcasm_accuracy: 0.9259 - val_stress_accuracy: 0.9890\n",
            "Epoch 17/26\n",
            "183/183 [==============================] - 8s 45ms/step - loss: 0.0930 - sarcasm_loss: 0.0805 - stress_loss: 0.0125 - sarcasm_accuracy: 0.9501 - stress_accuracy: 0.9935 - val_loss: 0.1346 - val_sarcasm_loss: 0.1139 - val_stress_loss: 0.0207 - val_sarcasm_accuracy: 0.9225 - val_stress_accuracy: 0.9918\n",
            "Epoch 18/26\n",
            "183/183 [==============================] - 6s 33ms/step - loss: 0.0926 - sarcasm_loss: 0.0782 - stress_loss: 0.0144 - sarcasm_accuracy: 0.9518 - stress_accuracy: 0.9937 - val_loss: 0.1464 - val_sarcasm_loss: 0.1275 - val_stress_loss: 0.0189 - val_sarcasm_accuracy: 0.9252 - val_stress_accuracy: 0.9911\n",
            "Epoch 19/26\n",
            "183/183 [==============================] - 8s 43ms/step - loss: 0.0905 - sarcasm_loss: 0.0774 - stress_loss: 0.0131 - sarcasm_accuracy: 0.9520 - stress_accuracy: 0.9940 - val_loss: 0.1560 - val_sarcasm_loss: 0.1299 - val_stress_loss: 0.0262 - val_sarcasm_accuracy: 0.9252 - val_stress_accuracy: 0.9890\n",
            "Epoch 20/26\n",
            "183/183 [==============================] - 6s 34ms/step - loss: 0.0899 - sarcasm_loss: 0.0780 - stress_loss: 0.0119 - sarcasm_accuracy: 0.9508 - stress_accuracy: 0.9943 - val_loss: 0.1363 - val_sarcasm_loss: 0.1123 - val_stress_loss: 0.0240 - val_sarcasm_accuracy: 0.9177 - val_stress_accuracy: 0.9918\n",
            "Epoch 21/26\n",
            "183/183 [==============================] - 8s 43ms/step - loss: 0.0951 - sarcasm_loss: 0.0819 - stress_loss: 0.0132 - sarcasm_accuracy: 0.9486 - stress_accuracy: 0.9931 - val_loss: 0.1449 - val_sarcasm_loss: 0.1195 - val_stress_loss: 0.0254 - val_sarcasm_accuracy: 0.9204 - val_stress_accuracy: 0.9890\n",
            "Epoch 22/26\n",
            "183/183 [==============================] - 6s 34ms/step - loss: 0.0991 - sarcasm_loss: 0.0870 - stress_loss: 0.0121 - sarcasm_accuracy: 0.9499 - stress_accuracy: 0.9938 - val_loss: 0.1378 - val_sarcasm_loss: 0.1185 - val_stress_loss: 0.0193 - val_sarcasm_accuracy: 0.9246 - val_stress_accuracy: 0.9890\n",
            "Epoch 23/26\n",
            "183/183 [==============================] - 8s 44ms/step - loss: 0.0878 - sarcasm_loss: 0.0773 - stress_loss: 0.0104 - sarcasm_accuracy: 0.9492 - stress_accuracy: 0.9943 - val_loss: 0.1458 - val_sarcasm_loss: 0.1231 - val_stress_loss: 0.0227 - val_sarcasm_accuracy: 0.9239 - val_stress_accuracy: 0.9918\n",
            "Epoch 24/26\n",
            "183/183 [==============================] - 6s 34ms/step - loss: 0.0882 - sarcasm_loss: 0.0769 - stress_loss: 0.0113 - sarcasm_accuracy: 0.9513 - stress_accuracy: 0.9947 - val_loss: 0.1401 - val_sarcasm_loss: 0.1158 - val_stress_loss: 0.0243 - val_sarcasm_accuracy: 0.9211 - val_stress_accuracy: 0.9904\n",
            "Epoch 25/26\n",
            "183/183 [==============================] - 8s 43ms/step - loss: 0.0910 - sarcasm_loss: 0.0787 - stress_loss: 0.0123 - sarcasm_accuracy: 0.9511 - stress_accuracy: 0.9947 - val_loss: 0.1442 - val_sarcasm_loss: 0.1233 - val_stress_loss: 0.0209 - val_sarcasm_accuracy: 0.9266 - val_stress_accuracy: 0.9911\n",
            "Epoch 26/26\n",
            "183/183 [==============================] - 6s 35ms/step - loss: 0.0903 - sarcasm_loss: 0.0794 - stress_loss: 0.0109 - sarcasm_accuracy: 0.9501 - stress_accuracy: 0.9938 - val_loss: 0.1372 - val_sarcasm_loss: 0.1167 - val_stress_loss: 0.0205 - val_sarcasm_accuracy: 0.9307 - val_stress_accuracy: 0.9918\n",
            "Parameters:  {'u': 64, 'n1': 32, 'n2': 64, 'a1': 'relu', 'a2': 'selu', 'op': 'adam', 'lr': 26}\n",
            "Invalid parameters - Build fail\n",
            "Epoch 1/28\n",
            "183/183 [==============================] - 13s 40ms/step - loss: 1.4243 - sarcasm_loss: 0.7425 - stress_loss: 0.6817 - sarcasm_accuracy: 0.3499 - stress_accuracy: 0.5831 - val_loss: 1.3190 - val_sarcasm_loss: 0.6706 - val_stress_loss: 0.6484 - val_sarcasm_accuracy: 0.6317 - val_stress_accuracy: 0.7750\n",
            "Epoch 2/28\n",
            "183/183 [==============================] - 8s 44ms/step - loss: 1.2275 - sarcasm_loss: 0.6093 - stress_loss: 0.6181 - sarcasm_accuracy: 0.8054 - stress_accuracy: 0.8220 - val_loss: 1.1395 - val_sarcasm_loss: 0.5505 - val_stress_loss: 0.5890 - val_sarcasm_accuracy: 0.9129 - val_stress_accuracy: 0.8436\n",
            "Epoch 3/28\n",
            "183/183 [==============================] - 6s 35ms/step - loss: 1.0683 - sarcasm_loss: 0.5027 - stress_loss: 0.5656 - sarcasm_accuracy: 0.9357 - stress_accuracy: 0.8405 - val_loss: 0.9976 - val_sarcasm_loss: 0.4561 - val_stress_loss: 0.5415 - val_sarcasm_accuracy: 0.9444 - val_stress_accuracy: 0.8450\n",
            "Epoch 4/28\n",
            "183/183 [==============================] - 8s 44ms/step - loss: 0.9449 - sarcasm_loss: 0.4201 - stress_loss: 0.5248 - sarcasm_accuracy: 0.9448 - stress_accuracy: 0.8407 - val_loss: 0.8890 - val_sarcasm_loss: 0.3841 - val_stress_loss: 0.5049 - val_sarcasm_accuracy: 0.9472 - val_stress_accuracy: 0.8450\n",
            "Epoch 5/28\n",
            "183/183 [==============================] - 6s 35ms/step - loss: 0.8522 - sarcasm_loss: 0.3582 - stress_loss: 0.4940 - sarcasm_accuracy: 0.9451 - stress_accuracy: 0.8407 - val_loss: 0.8090 - val_sarcasm_loss: 0.3311 - val_stress_loss: 0.4779 - val_sarcasm_accuracy: 0.9472 - val_stress_accuracy: 0.8450\n",
            "Epoch 6/28\n",
            "183/183 [==============================] - 8s 43ms/step - loss: 0.7850 - sarcasm_loss: 0.3130 - stress_loss: 0.4720 - sarcasm_accuracy: 0.9451 - stress_accuracy: 0.8407 - val_loss: 0.7514 - val_sarcasm_loss: 0.2926 - val_stress_loss: 0.4588 - val_sarcasm_accuracy: 0.9472 - val_stress_accuracy: 0.8450\n",
            "Epoch 7/28\n",
            "183/183 [==============================] - 6s 35ms/step - loss: 0.7375 - sarcasm_loss: 0.2807 - stress_loss: 0.4568 - sarcasm_accuracy: 0.9451 - stress_accuracy: 0.8407 - val_loss: 0.7113 - val_sarcasm_loss: 0.2653 - val_stress_loss: 0.4459 - val_sarcasm_accuracy: 0.9472 - val_stress_accuracy: 0.8450\n",
            "Epoch 8/28\n",
            "183/183 [==============================] - 10s 55ms/step - loss: 0.7050 - sarcasm_loss: 0.2581 - stress_loss: 0.4468 - sarcasm_accuracy: 0.9451 - stress_accuracy: 0.8407 - val_loss: 0.6839 - val_sarcasm_loss: 0.2465 - val_stress_loss: 0.4374 - val_sarcasm_accuracy: 0.9472 - val_stress_accuracy: 0.8450\n",
            "Epoch 9/28\n",
            "183/183 [==============================] - 6s 35ms/step - loss: 0.6831 - sarcasm_loss: 0.2428 - stress_loss: 0.4404 - sarcasm_accuracy: 0.9451 - stress_accuracy: 0.8407 - val_loss: 0.6656 - val_sarcasm_loss: 0.2338 - val_stress_loss: 0.4319 - val_sarcasm_accuracy: 0.9472 - val_stress_accuracy: 0.8450\n",
            "Epoch 10/28\n",
            "183/183 [==============================] - 8s 44ms/step - loss: 0.6688 - sarcasm_loss: 0.2326 - stress_loss: 0.4362 - sarcasm_accuracy: 0.9451 - stress_accuracy: 0.8407 - val_loss: 0.6535 - val_sarcasm_loss: 0.2254 - val_stress_loss: 0.4281 - val_sarcasm_accuracy: 0.9472 - val_stress_accuracy: 0.8450\n",
            "Epoch 11/28\n",
            "183/183 [==============================] - 6s 35ms/step - loss: 0.6593 - sarcasm_loss: 0.2260 - stress_loss: 0.4333 - sarcasm_accuracy: 0.9451 - stress_accuracy: 0.8407 - val_loss: 0.6456 - val_sarcasm_loss: 0.2201 - val_stress_loss: 0.4255 - val_sarcasm_accuracy: 0.9472 - val_stress_accuracy: 0.8450\n",
            "Epoch 12/28\n",
            "183/183 [==============================] - 8s 44ms/step - loss: 0.6532 - sarcasm_loss: 0.2219 - stress_loss: 0.4313 - sarcasm_accuracy: 0.9451 - stress_accuracy: 0.8407 - val_loss: 0.6403 - val_sarcasm_loss: 0.2167 - val_stress_loss: 0.4236 - val_sarcasm_accuracy: 0.9472 - val_stress_accuracy: 0.8450\n",
            "Epoch 13/28\n",
            "183/183 [==============================] - 6s 35ms/step - loss: 0.6490 - sarcasm_loss: 0.2194 - stress_loss: 0.4297 - sarcasm_accuracy: 0.9451 - stress_accuracy: 0.8407 - val_loss: 0.6365 - val_sarcasm_loss: 0.2146 - val_stress_loss: 0.4220 - val_sarcasm_accuracy: 0.9472 - val_stress_accuracy: 0.8450\n",
            "Epoch 14/28\n",
            "183/183 [==============================] - 8s 44ms/step - loss: 0.6461 - sarcasm_loss: 0.2178 - stress_loss: 0.4283 - sarcasm_accuracy: 0.9451 - stress_accuracy: 0.8407 - val_loss: 0.6339 - val_sarcasm_loss: 0.2133 - val_stress_loss: 0.4206 - val_sarcasm_accuracy: 0.9472 - val_stress_accuracy: 0.8450\n",
            "Epoch 15/28\n",
            "183/183 [==============================] - 6s 35ms/step - loss: 0.6439 - sarcasm_loss: 0.2168 - stress_loss: 0.4271 - sarcasm_accuracy: 0.9451 - stress_accuracy: 0.8407 - val_loss: 0.6317 - val_sarcasm_loss: 0.2124 - val_stress_loss: 0.4193 - val_sarcasm_accuracy: 0.9472 - val_stress_accuracy: 0.8450\n",
            "Epoch 16/28\n",
            "183/183 [==============================] - 8s 44ms/step - loss: 0.6421 - sarcasm_loss: 0.2162 - stress_loss: 0.4259 - sarcasm_accuracy: 0.9451 - stress_accuracy: 0.8407 - val_loss: 0.6300 - val_sarcasm_loss: 0.2119 - val_stress_loss: 0.4181 - val_sarcasm_accuracy: 0.9472 - val_stress_accuracy: 0.8450\n",
            "Epoch 17/28\n",
            "183/183 [==============================] - 6s 34ms/step - loss: 0.6406 - sarcasm_loss: 0.2158 - stress_loss: 0.4248 - sarcasm_accuracy: 0.9451 - stress_accuracy: 0.8407 - val_loss: 0.6286 - val_sarcasm_loss: 0.2116 - val_stress_loss: 0.4170 - val_sarcasm_accuracy: 0.9472 - val_stress_accuracy: 0.8450\n",
            "Epoch 18/28\n",
            "183/183 [==============================] - 8s 44ms/step - loss: 0.6392 - sarcasm_loss: 0.2155 - stress_loss: 0.4237 - sarcasm_accuracy: 0.9451 - stress_accuracy: 0.8407 - val_loss: 0.6272 - val_sarcasm_loss: 0.2113 - val_stress_loss: 0.4159 - val_sarcasm_accuracy: 0.9472 - val_stress_accuracy: 0.8450\n",
            "Epoch 19/28\n",
            "183/183 [==============================] - 6s 34ms/step - loss: 0.6379 - sarcasm_loss: 0.2153 - stress_loss: 0.4226 - sarcasm_accuracy: 0.9451 - stress_accuracy: 0.8407 - val_loss: 0.6259 - val_sarcasm_loss: 0.2111 - val_stress_loss: 0.4148 - val_sarcasm_accuracy: 0.9472 - val_stress_accuracy: 0.8450\n",
            "Epoch 20/28\n",
            "183/183 [==============================] - 8s 44ms/step - loss: 0.6367 - sarcasm_loss: 0.2151 - stress_loss: 0.4216 - sarcasm_accuracy: 0.9451 - stress_accuracy: 0.8407 - val_loss: 0.6246 - val_sarcasm_loss: 0.2109 - val_stress_loss: 0.4137 - val_sarcasm_accuracy: 0.9472 - val_stress_accuracy: 0.8450\n",
            "Epoch 21/28\n",
            "183/183 [==============================] - 6s 34ms/step - loss: 0.6355 - sarcasm_loss: 0.2150 - stress_loss: 0.4205 - sarcasm_accuracy: 0.9451 - stress_accuracy: 0.8407 - val_loss: 0.6234 - val_sarcasm_loss: 0.2108 - val_stress_loss: 0.4126 - val_sarcasm_accuracy: 0.9472 - val_stress_accuracy: 0.8450\n",
            "Epoch 22/28\n",
            "183/183 [==============================] - 8s 45ms/step - loss: 0.6343 - sarcasm_loss: 0.2148 - stress_loss: 0.4194 - sarcasm_accuracy: 0.9451 - stress_accuracy: 0.8407 - val_loss: 0.6223 - val_sarcasm_loss: 0.2107 - val_stress_loss: 0.4116 - val_sarcasm_accuracy: 0.9472 - val_stress_accuracy: 0.8450\n",
            "Epoch 23/28\n",
            "183/183 [==============================] - 6s 35ms/step - loss: 0.6331 - sarcasm_loss: 0.2147 - stress_loss: 0.4184 - sarcasm_accuracy: 0.9451 - stress_accuracy: 0.8407 - val_loss: 0.6211 - val_sarcasm_loss: 0.2106 - val_stress_loss: 0.4106 - val_sarcasm_accuracy: 0.9472 - val_stress_accuracy: 0.8450\n",
            "Epoch 24/28\n",
            "183/183 [==============================] - 8s 44ms/step - loss: 0.6320 - sarcasm_loss: 0.2146 - stress_loss: 0.4174 - sarcasm_accuracy: 0.9451 - stress_accuracy: 0.8407 - val_loss: 0.6200 - val_sarcasm_loss: 0.2105 - val_stress_loss: 0.4095 - val_sarcasm_accuracy: 0.9472 - val_stress_accuracy: 0.8450\n",
            "Epoch 25/28\n",
            "183/183 [==============================] - 6s 35ms/step - loss: 0.6308 - sarcasm_loss: 0.2145 - stress_loss: 0.4163 - sarcasm_accuracy: 0.9451 - stress_accuracy: 0.8407 - val_loss: 0.6188 - val_sarcasm_loss: 0.2104 - val_stress_loss: 0.4085 - val_sarcasm_accuracy: 0.9472 - val_stress_accuracy: 0.8450\n",
            "Epoch 26/28\n",
            "183/183 [==============================] - 8s 44ms/step - loss: 0.6296 - sarcasm_loss: 0.2144 - stress_loss: 0.4152 - sarcasm_accuracy: 0.9451 - stress_accuracy: 0.8407 - val_loss: 0.6177 - val_sarcasm_loss: 0.2103 - val_stress_loss: 0.4074 - val_sarcasm_accuracy: 0.9472 - val_stress_accuracy: 0.8450\n",
            "Epoch 27/28\n",
            "183/183 [==============================] - 6s 34ms/step - loss: 0.6284 - sarcasm_loss: 0.2143 - stress_loss: 0.4141 - sarcasm_accuracy: 0.9451 - stress_accuracy: 0.8407 - val_loss: 0.6165 - val_sarcasm_loss: 0.2102 - val_stress_loss: 0.4063 - val_sarcasm_accuracy: 0.9472 - val_stress_accuracy: 0.8450\n",
            "Epoch 28/28\n",
            "183/183 [==============================] - 8s 44ms/step - loss: 0.6272 - sarcasm_loss: 0.2142 - stress_loss: 0.4131 - sarcasm_accuracy: 0.9451 - stress_accuracy: 0.8407 - val_loss: 0.6154 - val_sarcasm_loss: 0.2101 - val_stress_loss: 0.4052 - val_sarcasm_accuracy: 0.9472 - val_stress_accuracy: 0.8450\n",
            "Parameters:  {'u': 64, 'n1': 64, 'n2': 128, 'a1': 'elu', 'a2': 'relu', 'op': 'adadelta', 'lr': 28}\n",
            "Invalid parameters - Build fail\n"
          ]
        },
        {
          "output_type": "error",
          "ename": "TypeError",
          "evalue": "ignored",
          "traceback": [
            "\u001b[0;31m---------------------------------------------------------------------------\u001b[0m",
            "\u001b[0;31mTypeError\u001b[0m                                 Traceback (most recent call last)",
            "\u001b[0;32m<ipython-input-126-748fa750c711>\u001b[0m in \u001b[0;36m<cell line: 7>\u001b[0;34m()\u001b[0m\n\u001b[1;32m     29\u001b[0m     \u001b[0mpopulation_fitness\u001b[0m\u001b[0;34m.\u001b[0m\u001b[0mappend\u001b[0m\u001b[0;34m(\u001b[0m\u001b[0macc\u001b[0m\u001b[0;34m)\u001b[0m\u001b[0;34m\u001b[0m\u001b[0;34m\u001b[0m\u001b[0m\n\u001b[1;32m     30\u001b[0m \u001b[0;34m\u001b[0m\u001b[0m\n\u001b[0;32m---> 31\u001b[0;31m   \u001b[0mparents_ind\u001b[0m \u001b[0;34m=\u001b[0m \u001b[0mselection\u001b[0m\u001b[0;34m(\u001b[0m\u001b[0mpopulation_fitness\u001b[0m\u001b[0;34m)\u001b[0m\u001b[0;34m\u001b[0m\u001b[0;34m\u001b[0m\u001b[0m\n\u001b[0m\u001b[1;32m     32\u001b[0m   \u001b[0mparent1\u001b[0m \u001b[0;34m=\u001b[0m \u001b[0mpopulation\u001b[0m\u001b[0;34m[\u001b[0m\u001b[0mparents_ind\u001b[0m\u001b[0;34m[\u001b[0m\u001b[0;36m0\u001b[0m\u001b[0;34m]\u001b[0m\u001b[0;34m]\u001b[0m\u001b[0;34m\u001b[0m\u001b[0;34m\u001b[0m\u001b[0m\n\u001b[1;32m     33\u001b[0m   \u001b[0mparent2\u001b[0m \u001b[0;34m=\u001b[0m \u001b[0mpopulation\u001b[0m\u001b[0;34m[\u001b[0m\u001b[0mparents_ind\u001b[0m\u001b[0;34m[\u001b[0m\u001b[0;36m1\u001b[0m\u001b[0;34m]\u001b[0m\u001b[0;34m]\u001b[0m\u001b[0;34m\u001b[0m\u001b[0;34m\u001b[0m\u001b[0m\n",
            "\u001b[0;31mTypeError\u001b[0m: selection() missing 1 required positional argument: 'popu_size'"
          ]
        }
      ]
    },
    {
      "cell_type": "code",
      "source": [
        "print(population)"
      ],
      "metadata": {
        "colab": {
          "base_uri": "https://localhost:8080/"
        },
        "id": "CZruPQoLzINx",
        "outputId": "7f827bca-cc2e-4ce3-b409-302fe40a3989"
      },
      "execution_count": 96,
      "outputs": [
        {
          "output_type": "stream",
          "name": "stdout",
          "text": [
            "[None, None, None, None, None, None, None, None, None, None]\n"
          ]
        }
      ]
    },
    {
      "cell_type": "code",
      "source": [],
      "metadata": {
        "id": "NuGH3LDazSm6"
      },
      "execution_count": null,
      "outputs": []
    }
  ]
}